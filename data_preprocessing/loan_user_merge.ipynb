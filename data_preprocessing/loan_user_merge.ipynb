{
 "cells": [
  {
   "cell_type": "markdown",
   "id": "74d00141",
   "metadata": {},
   "source": [
    "## 사용한 패키지 버전\n",
    "pandas                        1.4.2\n",
    "numpy                         1.21.5"
   ]
  },
  {
   "cell_type": "code",
   "execution_count": 1,
   "id": "301dca78",
   "metadata": {},
   "outputs": [],
   "source": [
    "import pandas as pd\n",
    "import numpy as np\n",
    "data1=pd.read_csv('data/loan_user_merge_first.csv')\n",
    "data1=data1.drop(['Unnamed: 0'],axis=1)\n",
    "data=data1.copy()"
   ]
  },
  {
   "cell_type": "code",
   "execution_count": 5,
   "id": "01e9f3ab",
   "metadata": {},
   "outputs": [
    {
     "data": {
      "text/plain": [
       "application_id                               0\n",
       "loanapply_insert_time                        0\n",
       "bank_id                                      0\n",
       "product_id                                   0\n",
       "loan_limit                                   0\n",
       "loan_rate                                    0\n",
       "is_applied                             3255482\n",
       "user_id                                      0\n",
       "birth_year                              128038\n",
       "gender                                  128038\n",
       "insert_time                                  0\n",
       "credit_score                           1508618\n",
       "yearly_income                                6\n",
       "income_type                                  0\n",
       "company_enter_month                     399201\n",
       "employment_type                              0\n",
       "houseown_type                                0\n",
       "desired_amount                               0\n",
       "purpose                                      0\n",
       "personal_rehabilitation_yn             5885903\n",
       "personal_rehabilitation_complete_yn    5885903\n",
       "existing_loan_cnt                      2684722\n",
       "existing_loan_amt                      3888717\n",
       "dtype: int64"
      ]
     },
     "execution_count": 5,
     "metadata": {},
     "output_type": "execute_result"
    }
   ],
   "source": [
    "data.isnull().sum()"
   ]
  },
  {
   "cell_type": "markdown",
   "id": "311f0030",
   "metadata": {},
   "source": [
    "# 기대출수, 금액"
   ]
  },
  {
   "cell_type": "code",
   "execution_count": 9,
   "id": "9b54049e",
   "metadata": {},
   "outputs": [
    {
     "data": {
      "text/plain": [
       "count      1639101.00000\n",
       "mean      34238954.76850\n",
       "std       56344476.33118\n",
       "min              0.00000\n",
       "25%        7000000.00000\n",
       "50%       18000000.00000\n",
       "75%       36000000.00000\n",
       "max     1946000000.00000\n",
       "Name: existing_loan_amt, dtype: float64"
      ]
     },
     "execution_count": 9,
     "metadata": {},
     "output_type": "execute_result"
    }
   ],
   "source": [
    "# 기대출수 1일 때 평균값 확인 -->이상치가 많아서 중앙값이 좋을 듯!!! ㅠ\n",
    "pd.options.display.float_format='{:.5f}'.format\n",
    "data[data['existing_loan_cnt']==1]['existing_loan_amt'].describe()\n",
    "\n",
    "# 기대출수 1일 때 금액이 0원인거 있는데 일단 테스트셋에서도 있어서 놔두기로 함"
   ]
  },
  {
   "cell_type": "code",
   "execution_count": 10,
   "id": "e7d42e6b",
   "metadata": {},
   "outputs": [
    {
     "data": {
      "text/plain": [
       "18000000.0"
      ]
     },
     "execution_count": 10,
     "metadata": {},
     "output_type": "execute_result"
    }
   ],
   "source": [
    "data[data['existing_loan_cnt']==1]['existing_loan_amt'].median()"
   ]
  },
  {
   "cell_type": "code",
   "execution_count": 11,
   "id": "5cbad4e7",
   "metadata": {},
   "outputs": [],
   "source": [
    "# 기대출금액 null인 값 대체\n",
    "only_amtnull=data[(data['existing_loan_cnt'].notnull())&(data['existing_loan_amt'].isnull())]['existing_loan_amt'].index\n",
    "data.loc[only_amtnull,'existing_loan_amt']=round(18000000.0)"
   ]
  },
  {
   "cell_type": "code",
   "execution_count": 12,
   "id": "1b70a6a1",
   "metadata": {},
   "outputs": [],
   "source": [
    "\n",
    "# 각 중앙값으로 대체- 이상치 때문에 평균보다는 중앙값이 좋겠다!\n",
    "fill_mean_func = lambda g: g.fillna(g.median())\n",
    "data['existing_loan_cnt']=data['existing_loan_cnt'].groupby([data['income_type'],data['employment_type'],data['houseown_type']]).apply(fill_mean_func)\n",
    "data['existing_loan_amt']=data['existing_loan_amt'].groupby([data['income_type'],data['employment_type'],data['houseown_type']]).apply(fill_mean_func)"
   ]
  },
  {
   "cell_type": "code",
   "execution_count": 13,
   "id": "906cad27",
   "metadata": {},
   "outputs": [
    {
     "data": {
      "text/plain": [
       "application_id                               0\n",
       "loanapply_insert_time                        0\n",
       "bank_id                                      0\n",
       "product_id                                   0\n",
       "loan_limit                                   0\n",
       "loan_rate                                    0\n",
       "is_applied                             3255482\n",
       "user_id                                      0\n",
       "birth_year                              128038\n",
       "gender                                  128038\n",
       "insert_time                                  0\n",
       "credit_score                           1508618\n",
       "yearly_income                                6\n",
       "income_type                                  0\n",
       "company_enter_month                     399201\n",
       "employment_type                              0\n",
       "houseown_type                                0\n",
       "desired_amount                               0\n",
       "purpose                                      0\n",
       "personal_rehabilitation_yn             5885903\n",
       "personal_rehabilitation_complete_yn    5885903\n",
       "existing_loan_cnt                            0\n",
       "existing_loan_amt                            0\n",
       "dtype: int64"
      ]
     },
     "execution_count": 13,
     "metadata": {},
     "output_type": "execute_result"
    }
   ],
   "source": [
    "data.isnull().sum()"
   ]
  },
  {
   "cell_type": "code",
   "execution_count": 14,
   "id": "6053dcc6",
   "metadata": {},
   "outputs": [
    {
     "data": {
      "text/html": [
       "<div>\n",
       "<style scoped>\n",
       "    .dataframe tbody tr th:only-of-type {\n",
       "        vertical-align: middle;\n",
       "    }\n",
       "\n",
       "    .dataframe tbody tr th {\n",
       "        vertical-align: top;\n",
       "    }\n",
       "\n",
       "    .dataframe thead th {\n",
       "        text-align: right;\n",
       "    }\n",
       "</style>\n",
       "<table border=\"1\" class=\"dataframe\">\n",
       "  <thead>\n",
       "    <tr style=\"text-align: right;\">\n",
       "      <th></th>\n",
       "      <th>existing_loan_cnt</th>\n",
       "      <th>existing_loan_amt</th>\n",
       "    </tr>\n",
       "  </thead>\n",
       "  <tbody>\n",
       "    <tr>\n",
       "      <th>count</th>\n",
       "      <td>13519858.00000</td>\n",
       "      <td>13519858.00000</td>\n",
       "    </tr>\n",
       "    <tr>\n",
       "      <th>mean</th>\n",
       "      <td>3.48401</td>\n",
       "      <td>69326152.39006</td>\n",
       "    </tr>\n",
       "    <tr>\n",
       "      <th>std</th>\n",
       "      <td>2.82528</td>\n",
       "      <td>86258195.25872</td>\n",
       "    </tr>\n",
       "    <tr>\n",
       "      <th>min</th>\n",
       "      <td>1.00000</td>\n",
       "      <td>0.00000</td>\n",
       "    </tr>\n",
       "    <tr>\n",
       "      <th>25%</th>\n",
       "      <td>2.00000</td>\n",
       "      <td>22000000.00000</td>\n",
       "    </tr>\n",
       "    <tr>\n",
       "      <th>50%</th>\n",
       "      <td>3.00000</td>\n",
       "      <td>43000000.00000</td>\n",
       "    </tr>\n",
       "    <tr>\n",
       "      <th>75%</th>\n",
       "      <td>4.00000</td>\n",
       "      <td>84000000.00000</td>\n",
       "    </tr>\n",
       "    <tr>\n",
       "      <th>max</th>\n",
       "      <td>229.00000</td>\n",
       "      <td>7512000000.00000</td>\n",
       "    </tr>\n",
       "  </tbody>\n",
       "</table>\n",
       "</div>"
      ],
      "text/plain": [
       "       existing_loan_cnt  existing_loan_amt\n",
       "count     13519858.00000     13519858.00000\n",
       "mean             3.48401     69326152.39006\n",
       "std              2.82528     86258195.25872\n",
       "min              1.00000            0.00000\n",
       "25%              2.00000     22000000.00000\n",
       "50%              3.00000     43000000.00000\n",
       "75%              4.00000     84000000.00000\n",
       "max            229.00000   7512000000.00000"
      ]
     },
     "execution_count": 14,
     "metadata": {},
     "output_type": "execute_result"
    }
   ],
   "source": [
    "data[['existing_loan_cnt','existing_loan_amt']].describe()"
   ]
  },
  {
   "cell_type": "markdown",
   "id": "f29e7f6b",
   "metadata": {},
   "source": [
    "# credit_score"
   ]
  },
  {
   "cell_type": "code",
   "execution_count": 26,
   "id": "7f653b5a",
   "metadata": {},
   "outputs": [],
   "source": [
    "# credit_score\n",
    "#employment type, income type별로 결측치를 채워주는 방식\n",
    "\n",
    "pdf = pd.pivot_table(data,                # 피벗할 데이터프레임\n",
    "                     index = 'employment_type',    # 행 위치에 들어갈 열\n",
    "                     columns = 'income_type',    # 열 위치에 들어갈 열\n",
    "                     values = ['credit_score'],     # 데이터로 사용할 열\n",
    "                     aggfunc = ['median'])   # 중앙값 사용\n",
    "\n",
    "#multi column 제거\n",
    "pdf.columns = pdf.columns.get_level_values(2)\n",
    "\n",
    "\n",
    "data['credit_score'] = data.apply(\n",
    "    lambda row: pdf.loc[row['employment_type'], row['income_type']] if (pd.isnull(row['credit_score'])) and (pd.isnull(row['employment_type'])==False) and (pd.isnull(row['income_type'])==False) else row['credit_score'],\n",
    "    axis=1)"
   ]
  },
  {
   "cell_type": "code",
   "execution_count": 27,
   "id": "8f32896b",
   "metadata": {},
   "outputs": [
    {
     "data": {
      "text/plain": [
       "application_id                               0\n",
       "loanapply_insert_time                        0\n",
       "bank_id                                      0\n",
       "product_id                                   0\n",
       "loan_limit                                   0\n",
       "loan_rate                                    0\n",
       "is_applied                             3255482\n",
       "user_id                                      0\n",
       "birth_year                              128038\n",
       "gender                                       0\n",
       "insert_time                                  0\n",
       "credit_score                                 0\n",
       "yearly_income                                6\n",
       "income_type                                  0\n",
       "company_enter_month                     399201\n",
       "employment_type                              0\n",
       "houseown_type                                0\n",
       "desired_amount                               0\n",
       "purpose                                      0\n",
       "personal_rehabilitation_yn             5885903\n",
       "personal_rehabilitation_complete_yn    5885903\n",
       "existing_loan_cnt                            0\n",
       "existing_loan_amt                            0\n",
       "dtype: int64"
      ]
     },
     "execution_count": 27,
     "metadata": {},
     "output_type": "execute_result"
    }
   ],
   "source": [
    "data.isnull().sum()"
   ]
  },
  {
   "cell_type": "markdown",
   "id": "c864e104",
   "metadata": {},
   "source": [
    "# birth_year , gender"
   ]
  },
  {
   "cell_type": "code",
   "execution_count": 39,
   "id": "cf1da49b",
   "metadata": {},
   "outputs": [],
   "source": [
    "#birth_year \n",
    "# 유저 성별이 다른 신청서에는 있지만 결측치가 있는 유저들 처리\n",
    "gender_null=set(data[(data['user_id'].isin(set(data[data['gender'].isnull()]['user_id']))) & (data['gender'].notnull())]['user_id'])\n",
    "\n",
    "for i in gender_null:\n",
    "    data.loc[(data['user_id']==i) & (data['birth_year'].isnull()), 'birth_year']=data[data['user_id']==i]['birth_year'].dropna().unique().item()\n",
    "    data.loc[(data['user_id']==i) & (data['gender'].isnull()), 'gender']=data[data['user_id']==i]['gender'].dropna().unique().item()"
   ]
  },
  {
   "cell_type": "markdown",
   "id": "44389c1c",
   "metadata": {},
   "source": [
    "# company_month 이상치 처리"
   ]
  },
  {
   "cell_type": "code",
   "execution_count": 40,
   "id": "792f817e",
   "metadata": {},
   "outputs": [
    {
     "name": "stderr",
     "output_type": "stream",
     "text": [
      "C:\\Users\\jus68\\AppData\\Local\\Temp\\ipykernel_9108\\3994532240.py:12: SettingWithCopyWarning: \n",
      "A value is trying to be set on a copy of a slice from a DataFrame.\n",
      "Try using .loc[row_indexer,col_indexer] = value instead\n",
      "\n",
      "See the caveats in the documentation: https://pandas.pydata.org/pandas-docs/stable/user_guide/indexing.html#returning-a-view-versus-a-copy\n",
      "  loan_user_new_1['birth_year_new'] = loan_user_new_1['birth_year_new'].astype(str)\n",
      "C:\\Users\\jus68\\AppData\\Local\\Temp\\ipykernel_9108\\3994532240.py:13: SettingWithCopyWarning: \n",
      "A value is trying to be set on a copy of a slice from a DataFrame.\n",
      "Try using .loc[row_indexer,col_indexer] = value instead\n",
      "\n",
      "See the caveats in the documentation: https://pandas.pydata.org/pandas-docs/stable/user_guide/indexing.html#returning-a-view-versus-a-copy\n",
      "  loan_user_new_1['company_enter_month_new'] = loan_user_new_1['company_enter_month_new'].astype(str)\n",
      "C:\\Users\\jus68\\AppData\\Local\\Temp\\ipykernel_9108\\3994532240.py:16: SettingWithCopyWarning: \n",
      "A value is trying to be set on a copy of a slice from a DataFrame.\n",
      "Try using .loc[row_indexer,col_indexer] = value instead\n",
      "\n",
      "See the caveats in the documentation: https://pandas.pydata.org/pandas-docs/stable/user_guide/indexing.html#returning-a-view-versus-a-copy\n",
      "  loan_user_new_1['birth_year_new'] = loan_user_new_1['birth_year_new'].str[:4]\n",
      "C:\\Users\\jus68\\AppData\\Local\\Temp\\ipykernel_9108\\3994532240.py:17: SettingWithCopyWarning: \n",
      "A value is trying to be set on a copy of a slice from a DataFrame.\n",
      "Try using .loc[row_indexer,col_indexer] = value instead\n",
      "\n",
      "See the caveats in the documentation: https://pandas.pydata.org/pandas-docs/stable/user_guide/indexing.html#returning-a-view-versus-a-copy\n",
      "  loan_user_new_1['company_enter_month_new'] = loan_user_new_1['company_enter_month_new'].str[:4]\n",
      "C:\\Users\\jus68\\AppData\\Local\\Temp\\ipykernel_9108\\3994532240.py:20: SettingWithCopyWarning: \n",
      "A value is trying to be set on a copy of a slice from a DataFrame.\n",
      "Try using .loc[row_indexer,col_indexer] = value instead\n",
      "\n",
      "See the caveats in the documentation: https://pandas.pydata.org/pandas-docs/stable/user_guide/indexing.html#returning-a-view-versus-a-copy\n",
      "  loan_user_new_1['company_enter_month_new'] = loan_user_new_1['company_enter_month_new'].astype(int)\n",
      "C:\\Users\\jus68\\AppData\\Local\\Temp\\ipykernel_9108\\3994532240.py:21: SettingWithCopyWarning: \n",
      "A value is trying to be set on a copy of a slice from a DataFrame.\n",
      "Try using .loc[row_indexer,col_indexer] = value instead\n",
      "\n",
      "See the caveats in the documentation: https://pandas.pydata.org/pandas-docs/stable/user_guide/indexing.html#returning-a-view-versus-a-copy\n",
      "  loan_user_new_1['birth_year_new'] = loan_user_new_1['birth_year_new'].astype(int)\n",
      "C:\\Users\\jus68\\AppData\\Local\\Temp\\ipykernel_9108\\3994532240.py:24: SettingWithCopyWarning: \n",
      "A value is trying to be set on a copy of a slice from a DataFrame.\n",
      "Try using .loc[row_indexer,col_indexer] = value instead\n",
      "\n",
      "See the caveats in the documentation: https://pandas.pydata.org/pandas-docs/stable/user_guide/indexing.html#returning-a-view-versus-a-copy\n",
      "  loan_user_new_1['diff_year'] = loan_user_new_1['company_enter_month_new'] - loan_user_new_1['birth_year_new']\n"
     ]
    },
    {
     "name": "stdout",
     "output_type": "stream",
     "text": [
      "2016.0 2021.0 5.0\n"
     ]
    },
    {
     "name": "stderr",
     "output_type": "stream",
     "text": [
      "C:\\Users\\jus68\\AppData\\Local\\Temp\\ipykernel_9108\\3994532240.py:46: SettingWithCopyWarning: \n",
      "A value is trying to be set on a copy of a slice from a DataFrame.\n",
      "Try using .loc[row_indexer,col_indexer] = value instead\n",
      "\n",
      "See the caveats in the documentation: https://pandas.pydata.org/pandas-docs/stable/user_guide/indexing.html#returning-a-view-versus-a-copy\n",
      "  a_outlier['company_enter_month_new'] = a_outlier['birth_year'] + round(a_mod)\n"
     ]
    },
    {
     "name": "stdout",
     "output_type": "stream",
     "text": [
      "2020.0 2021.0 1.0\n"
     ]
    },
    {
     "name": "stderr",
     "output_type": "stream",
     "text": [
      "C:\\Users\\jus68\\AppData\\Local\\Temp\\ipykernel_9108\\3994532240.py:63: SettingWithCopyWarning: \n",
      "A value is trying to be set on a copy of a slice from a DataFrame.\n",
      "Try using .loc[row_indexer,col_indexer] = value instead\n",
      "\n",
      "See the caveats in the documentation: https://pandas.pydata.org/pandas-docs/stable/user_guide/indexing.html#returning-a-view-versus-a-copy\n",
      "  b_outlier['company_enter_month_new'] = b_outlier['birth_year'] + round(b_mod)\n",
      "C:\\Users\\jus68\\AppData\\Local\\Temp\\ipykernel_9108\\3994532240.py:80: SettingWithCopyWarning: \n",
      "A value is trying to be set on a copy of a slice from a DataFrame.\n",
      "Try using .loc[row_indexer,col_indexer] = value instead\n",
      "\n",
      "See the caveats in the documentation: https://pandas.pydata.org/pandas-docs/stable/user_guide/indexing.html#returning-a-view-versus-a-copy\n",
      "  c_outlier['company_enter_month_new'] = c_outlier['birth_year'] + round(c_mod)\n"
     ]
    },
    {
     "name": "stdout",
     "output_type": "stream",
     "text": [
      "2018.0 2021.0 3.0\n",
      "2021.0 2022.0 1.0\n"
     ]
    },
    {
     "name": "stderr",
     "output_type": "stream",
     "text": [
      "C:\\Users\\jus68\\AppData\\Local\\Temp\\ipykernel_9108\\3994532240.py:97: SettingWithCopyWarning: \n",
      "A value is trying to be set on a copy of a slice from a DataFrame.\n",
      "Try using .loc[row_indexer,col_indexer] = value instead\n",
      "\n",
      "See the caveats in the documentation: https://pandas.pydata.org/pandas-docs/stable/user_guide/indexing.html#returning-a-view-versus-a-copy\n",
      "  d_outlier['company_enter_month_new'] = d_outlier['birth_year'] + round(d_mod)\n"
     ]
    }
   ],
   "source": [
    "#company_month 처리\n",
    "# 이상치 처리\n",
    "loan_user_new_copy = data.copy()\n",
    "\n",
    "# company_enter_month 복사한 열 추가\n",
    "loan_user_new_copy['company_enter_month_new'] = loan_user_new_copy['company_enter_month']\n",
    "loan_user_new_copy['birth_year_new'] = loan_user_new_copy['birth_year']\n",
    "### loan_user_new_1 : 'company_enter_month_new' 결측치가 없는 df\n",
    "loan_user_new_1 = loan_user_new_copy[(loan_user_new_copy['birth_year_new'].notnull()) & (loan_user_new_copy['company_enter_month_new'].notnull())]\n",
    "\n",
    "# 'birth_year_new', 'company_enter_month_new' 열 str으로 변환\n",
    "loan_user_new_1['birth_year_new'] = loan_user_new_1['birth_year_new'].astype(str)\n",
    "loan_user_new_1['company_enter_month_new'] = loan_user_new_1['company_enter_month_new'].astype(str)\n",
    "\n",
    "# 'birth_year_new', 'company_enter_month_new' 열 연도만 남김(4자리)\n",
    "loan_user_new_1['birth_year_new'] = loan_user_new_1['birth_year_new'].str[:4]\n",
    "loan_user_new_1['company_enter_month_new'] = loan_user_new_1['company_enter_month_new'].str[:4]\n",
    "\n",
    "# 'birth_year_new', 'company_enter_month_new' 열 정수형으로 변환\n",
    "loan_user_new_1['company_enter_month_new'] = loan_user_new_1['company_enter_month_new'].astype(int)\n",
    "loan_user_new_1['birth_year_new'] = loan_user_new_1['birth_year_new'].astype(int)\n",
    "\n",
    "# <column 추가> 'diff_year' : 'birth_year_new', 'company_enter_month_new' 간의 차이를 계산한 column\n",
    "loan_user_new_1['diff_year'] = loan_user_new_1['company_enter_month_new'] - loan_user_new_1['birth_year_new']\n",
    "\n",
    "# a,b,c,d : 'employment_type'에 따라 df 분리\n",
    "a = loan_user_new_1[loan_user_new_1['employment_type']=='정규직']\n",
    "b = loan_user_new_1[loan_user_new_1['employment_type']=='계약직']\n",
    "c = loan_user_new_1[loan_user_new_1['employment_type']=='기타']\n",
    "d = loan_user_new_1[loan_user_new_1['employment_type']=='일용직']\n",
    "\n",
    "# a에 대한 q1,q3,iqr 정의 및 a_outlier, a_inner 두 개로 a를 분리\n",
    "a_q3 = a['company_enter_month_new'].quantile(0.75)\n",
    "a_q1 = a['company_enter_month_new'].quantile(0.25)\n",
    "a_iqr = a_q3 - a_q1\n",
    "print(a_q1,a_q3,a_iqr)\n",
    "\n",
    "a_outlier = a[(a['company_enter_month_new'] > (a_q3+1.5*a_iqr))|(a['company_enter_month_new'] < (a_q1-1.5*a_iqr))]\n",
    "a_inner = a[(a['company_enter_month_new'] <= (a_q3+1.5*a_iqr)) & (a['company_enter_month_new'] >= (a_q1-1.5*a_iqr))]\n",
    "\n",
    "# a_inner의 'diff_year' 평균값 도출\n",
    "a_mod = a_inner['diff_year'].mode()[0]\n",
    "a_mod\n",
    "\n",
    "# a_outlier에 대해 'company_enter_month_new'는 'birth_year' + a_avg의 반올림값\n",
    "a_outlier['company_enter_month_new'] = a_outlier['birth_year'] + round(a_mod)\n",
    "\n",
    "# b에 대한 q1,q3,iqr 정의 및 b_outlier, b_inner 두 개로 b를 분리\n",
    "b_q3 = b['company_enter_month_new'].quantile(0.75)\n",
    "b_q1 = b['company_enter_month_new'].quantile(0.25)\n",
    "\n",
    "b_iqr = b_q3 - b_q1\n",
    "print(b_q1,b_q3,b_iqr)\n",
    "\n",
    "b_outlier = b[(b['company_enter_month_new'] > (b_q3+1.5*b_iqr))|(b['company_enter_month_new'] < (b_q1-1.5*b_iqr))]\n",
    "b_inner = b[(b['company_enter_month_new'] <= (b_q3+1.5*b_iqr)) & (b['company_enter_month_new'] >= (b_q1-1.5*b_iqr))]\n",
    "\n",
    "# b_inner의 'diff_year' 평균값 도출\n",
    "b_mod = b_inner['diff_year'].mode()[0]\n",
    "b_mod\n",
    "\n",
    "# b_outlier에 대해 'company_enter_month_new'는 'birth_year_new' + b_avg의 반올림값\n",
    "b_outlier['company_enter_month_new'] = b_outlier['birth_year'] + round(b_mod)\n",
    "\n",
    "# c에 대한 q1,q3,iqr 정의 및 c_outlier, c_inner 두 개로 c를 분리\n",
    "c_q3 = c['company_enter_month_new'].quantile(0.75)\n",
    "c_q1 = c['company_enter_month_new'].quantile(0.25)\n",
    "\n",
    "c_iqr = c_q3 - c_q1\n",
    "print(c_q1,c_q3,c_iqr)\n",
    "\n",
    "c_outlier = c[(c['company_enter_month_new'] > (c_q3+1.5*c_iqr))|(c['company_enter_month_new'] < (c_q1-1.5*c_iqr))]\n",
    "c_inner = c[(c['company_enter_month_new'] <= (c_q3+1.5*c_iqr)) & (c['company_enter_month_new'] >= (c_q1-1.5*c_iqr))]\n",
    "\n",
    "# c_inner의 'diff_year' 평균값 도출\n",
    "c_mod = c_inner['diff_year'].mode()[0]\n",
    "c_mod\n",
    "\n",
    "# c_outlier에 대해 'company_enter_month_new'는 'birth_year_new' + c_avg의 반올림값\n",
    "c_outlier['company_enter_month_new'] = c_outlier['birth_year'] + round(c_mod)\n",
    "\n",
    "# d에 대한 q1,q3,iqr 정의 및 d_outlier, d_inner 두 개로 d를 분리\n",
    "d_q3 = d['company_enter_month_new'].quantile(0.75)\n",
    "d_q1 = d['company_enter_month_new'].quantile(0.25)\n",
    "\n",
    "d_iqr = d_q3 - d_q1\n",
    "print(d_q1,d_q3,d_iqr)\n",
    "\n",
    "d_outlier = d[(d['company_enter_month_new'] > (d_q3+1.5*d_iqr))|(d['company_enter_month_new'] < (d_q1-1.5*d_iqr))]\n",
    "d_inner = d[(d['company_enter_month_new'] <= (d_q3+1.5*d_iqr)) & (d['company_enter_month_new'] >= (d_q1-1.5*d_iqr))]\n",
    "\n",
    "# d_inner의 'diff_year' 평균값 도출\n",
    "d_mod = d_inner['diff_year'].mode()[0]\n",
    "d_mod\n",
    "\n",
    "# d_outlier에 대해 'company_enter_month_new'는 'birth_year_new' + d_avg의 반올림값\n",
    "d_outlier['company_enter_month_new'] = d_outlier['birth_year'] + round(d_mod)\n",
    "\n",
    "result1=pd.concat([a_outlier,a_inner,b_outlier,b_inner,c_outlier,c_inner,d_outlier,d_inner])\n",
    "result2 = loan_user_new_copy[(loan_user_new_copy['birth_year'].isnull()) & (loan_user_new_copy['company_enter_month_new'].isnull())]\n",
    "result3 = loan_user_new_copy[(loan_user_new_copy['birth_year'].isnull()) & (loan_user_new_copy['company_enter_month_new'].notnull())]\n",
    "result4 = loan_user_new_copy[(loan_user_new_copy['birth_year'].notnull()) & (loan_user_new_copy['company_enter_month_new'].isnull())]\n",
    "data5=pd.concat([result1, result2, result3, result4]) # company 이상치 처리된 원본 데이터\n",
    "data5=data5.sort_index()\n",
    "data['company_enter_month']=data5['company_enter_month_new']"
   ]
  },
  {
   "cell_type": "code",
   "execution_count": null,
   "id": "eca373a0",
   "metadata": {},
   "outputs": [],
   "source": [
    "# train, test set 분리하고 train에 있는 값 삭제\n",
    "# 최빈값은 평균/중앙값과 마찬가지로 변수 간 상관관계를 고려하지 않는다. 데이터에 편향성을 만들어낼 수 있다. 따라서 train에 있는 값 삭제\n",
    "\n",
    "ii=data[data.is_applied.isnull()].index\n",
    "train=data.drop(ii)\n",
    "test=data.loc[ii]\n",
    "birth_null=train[(train['birth_year'].isnull())&(train['gender'].isnull())].index\n",
    "loanuser=loanuser.drop(birth_null, axis=0)"
   ]
  },
  {
   "cell_type": "code",
   "execution_count": 62,
   "id": "623ad69b",
   "metadata": {},
   "outputs": [
    {
     "data": {
      "text/plain": [
       "0"
      ]
     },
     "execution_count": 62,
     "metadata": {},
     "output_type": "execute_result"
    }
   ],
   "source": [
    "# 남은 test에 있는 gender, birth_year 최빈값으로 채움\n",
    "gender_freq = data['gender'].mode()[0]\n",
    "data['gender'] = data['gender'].fillna(gender_freq)\n",
    "data['birth_year'] = data['birth_year'].fillna(data['birth_year'].mode()[0])\n",
    "data['gender'].isna().sum()"
   ]
  },
  {
   "cell_type": "markdown",
   "id": "de373d1e",
   "metadata": {},
   "source": [
    "# company_month 결측치 처리"
   ]
  },
  {
   "cell_type": "code",
   "execution_count": 49,
   "id": "c8cea9ec",
   "metadata": {},
   "outputs": [
    {
     "name": "stderr",
     "output_type": "stream",
     "text": [
      "C:\\Users\\jus68\\AppData\\Local\\Temp\\ipykernel_9108\\1236342310.py:5: SettingWithCopyWarning: \n",
      "A value is trying to be set on a copy of a slice from a DataFrame.\n",
      "Try using .loc[row_indexer,col_indexer] = value instead\n",
      "\n",
      "See the caveats in the documentation: https://pandas.pydata.org/pandas-docs/stable/user_guide/indexing.html#returning-a-view-versus-a-copy\n",
      "  loan_user_new_2['birth_year_new'] = loan_user_new_2['birth_year'].astype(str)\n",
      "C:\\Users\\jus68\\AppData\\Local\\Temp\\ipykernel_9108\\1236342310.py:6: SettingWithCopyWarning: \n",
      "A value is trying to be set on a copy of a slice from a DataFrame.\n",
      "Try using .loc[row_indexer,col_indexer] = value instead\n",
      "\n",
      "See the caveats in the documentation: https://pandas.pydata.org/pandas-docs/stable/user_guide/indexing.html#returning-a-view-versus-a-copy\n",
      "  loan_user_new_2['birth_year_new'] = loan_user_new_2['birth_year_new'].str[:4]\n",
      "C:\\Users\\jus68\\AppData\\Local\\Temp\\ipykernel_9108\\1236342310.py:7: SettingWithCopyWarning: \n",
      "A value is trying to be set on a copy of a slice from a DataFrame.\n",
      "Try using .loc[row_indexer,col_indexer] = value instead\n",
      "\n",
      "See the caveats in the documentation: https://pandas.pydata.org/pandas-docs/stable/user_guide/indexing.html#returning-a-view-versus-a-copy\n",
      "  loan_user_new_2['birth_year_new'] = loan_user_new_2['birth_year_new'].astype(int)\n",
      "C:\\Users\\jus68\\AppData\\Local\\Temp\\ipykernel_9108\\1236342310.py:16: SettingWithCopyWarning: \n",
      "A value is trying to be set on a copy of a slice from a DataFrame.\n",
      "Try using .loc[row_indexer,col_indexer] = value instead\n",
      "\n",
      "See the caveats in the documentation: https://pandas.pydata.org/pandas-docs/stable/user_guide/indexing.html#returning-a-view-versus-a-copy\n",
      "  a2['company_enter_month'] = a2['birth_year_new'] + round(a_mod)\n",
      "C:\\Users\\jus68\\AppData\\Local\\Temp\\ipykernel_9108\\1236342310.py:17: SettingWithCopyWarning: \n",
      "A value is trying to be set on a copy of a slice from a DataFrame.\n",
      "Try using .loc[row_indexer,col_indexer] = value instead\n",
      "\n",
      "See the caveats in the documentation: https://pandas.pydata.org/pandas-docs/stable/user_guide/indexing.html#returning-a-view-versus-a-copy\n",
      "  b2['company_enter_month'] = b2['birth_year_new'] + round(b_mod)\n",
      "C:\\Users\\jus68\\AppData\\Local\\Temp\\ipykernel_9108\\1236342310.py:18: SettingWithCopyWarning: \n",
      "A value is trying to be set on a copy of a slice from a DataFrame.\n",
      "Try using .loc[row_indexer,col_indexer] = value instead\n",
      "\n",
      "See the caveats in the documentation: https://pandas.pydata.org/pandas-docs/stable/user_guide/indexing.html#returning-a-view-versus-a-copy\n",
      "  c2['company_enter_month'] = c2['birth_year_new'] + round(c_mod)\n"
     ]
    }
   ],
   "source": [
    "#### loan_user_new_2 : 'company_enter_month_new' 결측치가 있는 df\n",
    "loan_user_new_2 = data[data['company_enter_month'].isnull()]\n",
    "\n",
    "# 'birth_year_new' null값이 없어야 실행 가능\n",
    "loan_user_new_2['birth_year_new'] = loan_user_new_2['birth_year'].astype(str)\n",
    "loan_user_new_2['birth_year_new'] = loan_user_new_2['birth_year_new'].str[:4]\n",
    "loan_user_new_2['birth_year_new'] = loan_user_new_2['birth_year_new'].astype(int)\n",
    "\n",
    "# a2,b2,c2,d2 : 'employment_type'에 따라 df 분리\n",
    "a2 = loan_user_new_2[loan_user_new_2['employment_type']=='정규직']\n",
    "b2 = loan_user_new_2[loan_user_new_2['employment_type']=='계약직']\n",
    "c2 = loan_user_new_2[loan_user_new_2['employment_type']=='기타']\n",
    "d2 = loan_user_new_2[loan_user_new_2['employment_type']=='일용직']\n",
    "\n",
    "# 'company_enter_month_new'에 각 카테고리별 diff_year의 avg 반올림값 더하기\n",
    "a2['company_enter_month'] = a2['birth_year_new'] + round(a_mod)\n",
    "b2['company_enter_month'] = b2['birth_year_new'] + round(b_mod)\n",
    "c2['company_enter_month'] = c2['birth_year_new'] + round(c_mod)\n",
    "d2['company_enter_month'] = d2['birth_year_new'] + round(d_mod)"
   ]
  },
  {
   "cell_type": "code",
   "execution_count": 56,
   "id": "5caac93e",
   "metadata": {},
   "outputs": [],
   "source": [
    "res=pd.concat([a2,b2,c2,d2],axis=0)\n",
    "# 인덱스 정렬\n",
    "res=res.sort_index()\n",
    "# company null 대체\n",
    "change_null=data[data['company_enter_month'].isnull()].index\n",
    "data.loc[change_null]=res"
   ]
  },
  {
   "cell_type": "code",
   "execution_count": 67,
   "id": "3842d22f",
   "metadata": {},
   "outputs": [
    {
     "data": {
      "text/plain": [
       "application_id                               0\n",
       "loanapply_insert_time                        0\n",
       "bank_id                                      0\n",
       "product_id                                   0\n",
       "loan_limit                                   0\n",
       "loan_rate                                    0\n",
       "is_applied                             3255482\n",
       "user_id                                      0\n",
       "birth_year                                   0\n",
       "insert_time                                  0\n",
       "credit_score                                 0\n",
       "yearly_income                                6\n",
       "income_type                                  0\n",
       "company_enter_month                          0\n",
       "employment_type                              0\n",
       "houseown_type                                0\n",
       "desired_amount                               0\n",
       "purpose                                      0\n",
       "personal_rehabilitation_yn             5840712\n",
       "personal_rehabilitation_complete_yn    5840712\n",
       "existing_loan_cnt                            0\n",
       "existing_loan_amt                            0\n",
       "gender                                       0\n",
       "dtype: int64"
      ]
     },
     "execution_count": 67,
     "metadata": {},
     "output_type": "execute_result"
    }
   ],
   "source": [
    "data.isnull().sum()"
   ]
  },
  {
   "cell_type": "markdown",
   "id": "d9d4c764",
   "metadata": {},
   "source": [
    "# 연소득"
   ]
  },
  {
   "cell_type": "code",
   "execution_count": 70,
   "id": "9bad1b91",
   "metadata": {},
   "outputs": [],
   "source": [
    "# 연소득\n",
    "# 동일 id의 다른 application에서 yearly_income이 0으로 입력되어있는 것을 확인 가능\n",
    "data[data['user_id']==670502.0]\n",
    "\n",
    "# 따라서 'yearly_income'의 null 값의 경우 0으로 대체\n",
    "data['yearly_income'] = data['yearly_income'].fillna(0)"
   ]
  },
  {
   "cell_type": "code",
   "execution_count": 69,
   "id": "a1771dad",
   "metadata": {},
   "outputs": [
    {
     "data": {
      "text/plain": [
       "4493087   0.00000\n",
       "4493088   0.00000\n",
       "4493089   0.00000\n",
       "4493090   0.00000\n",
       "4493091   0.00000\n",
       "4493092   0.00000\n",
       "4493093   0.00000\n",
       "4493094       NaN\n",
       "4493095   0.00000\n",
       "4493096       NaN\n",
       "4493097       NaN\n",
       "4493098       NaN\n",
       "4493099   0.00000\n",
       "4493100   0.00000\n",
       "4493101       NaN\n",
       "4493102   0.00000\n",
       "4493103       NaN\n",
       "Name: yearly_income, dtype: float64"
      ]
     },
     "execution_count": 69,
     "metadata": {},
     "output_type": "execute_result"
    }
   ],
   "source": [
    "data[data['user_id']==670502.0]['yearly_income']"
   ]
  },
  {
   "cell_type": "markdown",
   "id": "d8acef4a",
   "metadata": {},
   "source": [
    "# 개인회생자\n",
    "(A,B)라 했을 때\n",
    "A = 개인회생자여부 column data\n",
    "B = 개인회생자 납입 완료 여부 column data\n",
    "\n",
    "0 - 개인회생자 아닌 사람(0,0)\n",
    "1 - 개인회생자인데 납입중인사람(1,0)\n",
    "2 - 개인회생자인데 납입완료된사람(1,1) = 일반인 돌아갈 예정인 사람\n",
    "3 - 개인회생자였다가 일반인 된사람(0,1) \n",
    "-> 3번 이상치로 지우고 0,1,2 범주로 묶는다.\n"
   ]
  },
  {
   "cell_type": "code",
   "execution_count": 71,
   "id": "0b6e2310",
   "metadata": {},
   "outputs": [
    {
     "data": {
      "text/plain": [
       "application_id                               0\n",
       "loanapply_insert_time                        0\n",
       "bank_id                                      0\n",
       "product_id                                   0\n",
       "loan_limit                                   0\n",
       "loan_rate                                    0\n",
       "is_applied                             3255482\n",
       "user_id                                      0\n",
       "birth_year                                   0\n",
       "insert_time                                  0\n",
       "credit_score                                 0\n",
       "yearly_income                                0\n",
       "income_type                                  0\n",
       "company_enter_month                          0\n",
       "employment_type                              0\n",
       "houseown_type                                0\n",
       "desired_amount                               0\n",
       "purpose                                      0\n",
       "personal_rehabilitation_yn             5840712\n",
       "personal_rehabilitation_complete_yn    5840712\n",
       "existing_loan_cnt                            0\n",
       "existing_loan_amt                            0\n",
       "gender                                       0\n",
       "dtype: int64"
      ]
     },
     "execution_count": 71,
     "metadata": {},
     "output_type": "execute_result"
    }
   ],
   "source": [
    "data.isnull().sum()"
   ]
  },
  {
   "cell_type": "code",
   "execution_count": 88,
   "id": "6029c748",
   "metadata": {},
   "outputs": [],
   "source": [
    "# 이상치 제거\n",
    "data=data.drop(data[(data['personal_rehabilitation_yn']==0)&(data['personal_rehabilitation_complete_yn']==1)].index,axis=0)\n",
    "\n",
    "data['rehabilitation_yn']=3\n",
    "\n",
    "# 0번\n",
    "a_list=list(data[data['personal_rehabilitation_yn']==0].index)\n",
    "data.loc[a_list,'rehabilitation_yn']=0\n",
    "#1번\n",
    "b_list=list(data[(data['personal_rehabilitation_yn']==1)&(data['personal_rehabilitation_complete_yn']==0)].index)\n",
    "data.loc[b_list,'rehabilitation_yn']=1\n",
    "#2번\n",
    "c_list=list(data[(data['personal_rehabilitation_yn']==0)&(data['personal_rehabilitation_complete_yn']==1)].index)\n",
    "data.loc[c_list,'rehabilitation_yn']=2\n",
    "\n",
    "#3번- null\n"
   ]
  },
  {
   "cell_type": "code",
   "execution_count": 98,
   "id": "e92b9565",
   "metadata": {},
   "outputs": [
    {
     "data": {
      "text/plain": [
       "application_id                               0\n",
       "loanapply_insert_time                        0\n",
       "bank_id                                      0\n",
       "product_id                                   0\n",
       "loan_limit                                   0\n",
       "loan_rate                                    0\n",
       "is_applied                             3255482\n",
       "user_id                                      0\n",
       "birth_year                                   0\n",
       "insert_time                                  0\n",
       "credit_score                                 0\n",
       "yearly_income                                0\n",
       "income_type                                  0\n",
       "company_enter_month                          0\n",
       "employment_type                              0\n",
       "houseown_type                                0\n",
       "desired_amount                               0\n",
       "purpose                                      0\n",
       "existing_loan_cnt                            0\n",
       "existing_loan_amt                            0\n",
       "gender                                       0\n",
       "rehabilitation_yn                            0\n",
       "personal_rehabilitation_yn             5840712\n",
       "personal_rehabilitation_complete_yn    5840712\n",
       "dtype: int64"
      ]
     },
     "execution_count": 98,
     "metadata": {},
     "output_type": "execute_result"
    }
   ],
   "source": [
    "# 최종\n",
    "data.isnull().sum()"
   ]
  },
  {
   "cell_type": "code",
   "execution_count": 99,
   "id": "a99e5366",
   "metadata": {},
   "outputs": [],
   "source": [
    "data.to_csv('loan_user_merge.csv')"
   ]
  }
 ],
 "metadata": {
  "kernelspec": {
   "display_name": "Python 3 (ipykernel)",
   "language": "python",
   "name": "python3"
  },
  "language_info": {
   "codemirror_mode": {
    "name": "ipython",
    "version": 3
   },
   "file_extension": ".py",
   "mimetype": "text/x-python",
   "name": "python",
   "nbconvert_exporter": "python",
   "pygments_lexer": "ipython3",
   "version": "3.9.12"
  }
 },
 "nbformat": 4,
 "nbformat_minor": 5
}
