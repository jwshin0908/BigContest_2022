{
 "cells": [
  {
   "cell_type": "markdown",
   "id": "9e03d00d",
   "metadata": {},
   "source": [
    "## 사용한 패키지 버전\n",
    "pandas                        1.4.2\n",
    "numpy                         1.21.5"
   ]
  },
  {
   "cell_type": "code",
   "execution_count": null,
   "id": "48fa5ad1",
   "metadata": {},
   "outputs": [],
   "source": [
    "import numpy as np\n",
    "import pandas as pd\n",
    "\n",
    "loan=pd.read_csv('loan_result.csv')\n",
    "user=pd.read_csv('user_spec.csv')"
   ]
  },
  {
   "cell_type": "markdown",
   "id": "8c1702bc",
   "metadata": {},
   "source": [
    "## user_spec 전처리"
   ]
  },
  {
   "cell_type": "code",
   "execution_count": null,
   "id": "8cde7b73",
   "metadata": {},
   "outputs": [],
   "source": [
    "# 입사연월을 년+월로 바꾸기\n",
    "# 입사연월을 string으로 바꾸고\n",
    "user['company_enter_month'] = user['company_enter_month'].astype(str) \n",
    "print(user['company_enter_month'].dtypes)\n",
    "\n",
    "# 앞에서 6자리만 끊기 (년+월) 만\n",
    "user['company_enter_month'] = user['company_enter_month'].str[:6]\n",
    "\n",
    "# 다시 object를 숫자(int)형으로\n",
    "user['company_enter_month'] = user['company_enter_month'].apply(pd.to_numeric, errors = 'coerce')\n",
    "\n",
    "# purpose 한글로 통합\n",
    "user=user.replace({'purpose':'LIVING'},'생활비')\n",
    "user=user.replace({'purpose':'BUSINESS'},'사업자금')\n",
    "user=user.replace({'purpose':'BUYCAR'},'자동차구입')\n",
    "user=user.replace({'purpose':'BUYHOUSE'},'주택구입')\n",
    "user=user.replace({'purpose':'ETC'},'기타')\n",
    "user=user.replace({'purpose':'HOUSEDEPOSIT'},'전월세보증금')\n",
    "user=user.replace({'purpose':'INVEST'},'투자')\n",
    "user=user.replace({'purpose':'SWITCHLOAN'},'대환대출')"
   ]
  },
  {
   "cell_type": "code",
   "execution_count": null,
   "id": "c5b90e00",
   "metadata": {},
   "outputs": [],
   "source": [
    "user.loc[(user['personal_rehabilitation_yn']== 0) & (user['personal_rehabilitation_complete_yn']=='NaN'), 'personal_rehabilitation_complete_yn'] = 0"
   ]
  },
  {
   "cell_type": "code",
   "execution_count": null,
   "id": "d225dd56",
   "metadata": {},
   "outputs": [],
   "source": [
    "re=user[(user['personal_rehabilitation_yn']==0) & (user['personal_rehabilitation_complete_yn'].isnull())].index\n",
    "user['personal_rehabilitation_complete_yn'].loc[re]=0\n",
    "\n",
    "user['insert_time']=pd.to_datetime(user['insert_time'])"
   ]
  },
  {
   "cell_type": "markdown",
   "id": "9b671ad2",
   "metadata": {},
   "source": [
    "## loan_result 전처리"
   ]
  },
  {
   "cell_type": "code",
   "execution_count": null,
   "id": "f7181820",
   "metadata": {},
   "outputs": [],
   "source": [
    "# '한도조회 일시' 날짜 형식으로 변환\n",
    "loan['loanapply_insert_time']=pd.to_datetime(loan['loanapply_insert_time'])"
   ]
  },
  {
   "cell_type": "code",
   "execution_count": null,
   "id": "fbcc5a1a",
   "metadata": {},
   "outputs": [],
   "source": [
    "# 데이터의 중복성 확인\n",
    "loan.duplicated(keep=False).any()"
   ]
  },
  {
   "cell_type": "code",
   "execution_count": null,
   "id": "0978528c",
   "metadata": {},
   "outputs": [],
   "source": [
    "# 중복 행 df 크기 확인\n",
    "loan[loan.duplicated(keep = False)].shape"
   ]
  },
  {
   "cell_type": "code",
   "execution_count": null,
   "id": "80bb9c79",
   "metadata": {},
   "outputs": [],
   "source": [
    "# train data에 해당하는 중복행\n",
    "loan[(loan['is_applied'].notnull()) & (loan.duplicated(keep=False))]"
   ]
  },
  {
   "cell_type": "code",
   "execution_count": null,
   "id": "5e56d5a6",
   "metadata": {},
   "outputs": [],
   "source": [
    "# train data에 해당하는 중복행 제거\n",
    "du=loan[(loan.duplicated(keep=False)) & (loan['is_applied'].notnull())].drop_duplicates(keep='first').index\n",
    "loan=loan.drop(du, axis=0)\n"
   ]
  },
  {
   "cell_type": "markdown",
   "id": "bf1ef059",
   "metadata": {},
   "source": [
    "## 데이터 병합"
   ]
  },
  {
   "cell_type": "code",
   "execution_count": null,
   "id": "43dee7d8",
   "metadata": {},
   "outputs": [],
   "source": [
    "loan_user=pd.merge(loan, user, how='left', on='application_id')\n",
    "# loan_limit, loan_rate결측치 삭제\n",
    "loan_user.dropna(subset=['loan_limit','loan_rate'], inplace=True)"
   ]
  },
  {
   "cell_type": "code",
   "execution_count": null,
   "id": "5a915691",
   "metadata": {},
   "outputs": [],
   "source": [
    "loan_user.to_csv('loan_user_merge_first.csv')"
   ]
  }
 ],
 "metadata": {
  "kernelspec": {
   "display_name": "Python 3 (ipykernel)",
   "language": "python",
   "name": "python3"
  },
  "language_info": {
   "codemirror_mode": {
    "name": "ipython",
    "version": 3
   },
   "file_extension": ".py",
   "mimetype": "text/x-python",
   "name": "python",
   "nbconvert_exporter": "python",
   "pygments_lexer": "ipython3",
   "version": "3.9.12"
  }
 },
 "nbformat": 4,
 "nbformat_minor": 5
}
