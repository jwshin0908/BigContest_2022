{
 "cells": [
  {
   "cell_type": "code",
   "execution_count": 1,
   "id": "6ea66e8b-73a8-434f-a903-0ed8ebf00821",
   "metadata": {},
   "outputs": [
    {
     "name": "stdout",
     "output_type": "stream",
     "text": [
      "['Malgun Gothic']\n"
     ]
    }
   ],
   "source": [
    "import numpy as np\n",
    "import pandas as pd\n",
    "import matplotlib.pyplot as plt\n",
    "\n",
    "# matplotlib 폰트설정\n",
    "# plt.rc('font', family='NanumGothicOTF') # For MacOS\n",
    "plt.rc('font', family='Malgun Gothic') # For Windows\n",
    "print(plt.rcParams['font.family'])\n",
    "\n",
    "%matplotlib inline\n",
    "# 브라우저에서 바로 이미지를 그린다.v"
   ]
  },
  {
   "cell_type": "code",
   "execution_count": 2,
   "id": "aa5c82ad-901b-485f-a2e7-f9f6cd4c8c86",
   "metadata": {},
   "outputs": [],
   "source": [
    "# 지수표현 제거\n",
    "pd.options.display.float_format = '{:.5f}'.format"
   ]
  },
  {
   "cell_type": "markdown",
   "id": "465f4aaa-cb31-4b53-9a7c-6c70a564acd1",
   "metadata": {
    "tags": []
   },
   "source": [
    "# 1. cluster"
   ]
  },
  {
   "cell_type": "code",
   "execution_count": 3,
   "id": "ccd6f997-92f6-4065-ae11-15b65d3f9632",
   "metadata": {},
   "outputs": [
    {
     "data": {
      "text/html": [
       "<div>\n",
       "<style scoped>\n",
       "    .dataframe tbody tr th:only-of-type {\n",
       "        vertical-align: middle;\n",
       "    }\n",
       "\n",
       "    .dataframe tbody tr th {\n",
       "        vertical-align: top;\n",
       "    }\n",
       "\n",
       "    .dataframe thead th {\n",
       "        text-align: right;\n",
       "    }\n",
       "</style>\n",
       "<table border=\"1\" class=\"dataframe\">\n",
       "  <thead>\n",
       "    <tr style=\"text-align: right;\">\n",
       "      <th></th>\n",
       "      <th>user_id</th>\n",
       "      <th>date</th>\n",
       "      <th>time</th>\n",
       "      <th>cluster</th>\n",
       "    </tr>\n",
       "  </thead>\n",
       "  <tbody>\n",
       "    <tr>\n",
       "      <th>0</th>\n",
       "      <td>1</td>\n",
       "      <td>2022-05-03</td>\n",
       "      <td>7</td>\n",
       "      <td>1</td>\n",
       "    </tr>\n",
       "    <tr>\n",
       "      <th>1</th>\n",
       "      <td>1</td>\n",
       "      <td>2022-06-16</td>\n",
       "      <td>1</td>\n",
       "      <td>1</td>\n",
       "    </tr>\n",
       "    <tr>\n",
       "      <th>2</th>\n",
       "      <td>7</td>\n",
       "      <td>2022-05-22</td>\n",
       "      <td>0</td>\n",
       "      <td>1</td>\n",
       "    </tr>\n",
       "    <tr>\n",
       "      <th>3</th>\n",
       "      <td>9</td>\n",
       "      <td>2022-05-21</td>\n",
       "      <td>354</td>\n",
       "      <td>1</td>\n",
       "    </tr>\n",
       "    <tr>\n",
       "      <th>4</th>\n",
       "      <td>11</td>\n",
       "      <td>2022-03-24</td>\n",
       "      <td>692</td>\n",
       "      <td>1</td>\n",
       "    </tr>\n",
       "  </tbody>\n",
       "</table>\n",
       "</div>"
      ],
      "text/plain": [
       "   user_id        date  time  cluster\n",
       "0        1  2022-05-03     7        1\n",
       "1        1  2022-06-16     1        1\n",
       "2        7  2022-05-22     0        1\n",
       "3        9  2022-05-21   354        1\n",
       "4       11  2022-03-24   692        1"
      ]
     },
     "execution_count": 3,
     "metadata": {},
     "output_type": "execute_result"
    }
   ],
   "source": [
    "# 기존에 log데이터 전처리한거 로드\n",
    "log_cluster = pd.read_csv('data/new_log_event_cluster.csv')\n",
    "log_cluster.head()"
   ]
  },
  {
   "cell_type": "markdown",
   "id": "eb9fea8f-0184-4edd-af4a-2220256a33ca",
   "metadata": {
    "tags": []
   },
   "source": [
    "## 1.1. cluster 종류\n",
    "- 0. 기타\n",
    "- 1. 부가서비스(GetCreditInfo)\n",
    "- 2. start - end\n",
    "- 3. 회원가입\n",
    "- 4. login\n",
    "- 5. openapp"
   ]
  },
  {
   "cell_type": "markdown",
   "id": "1f4ea647-0f9c-4adb-9fff-449a4f626d7b",
   "metadata": {},
   "source": [
    "## 1.2 log데이터에서 user 통일\n",
    "- time : 누적합\n",
    "- cluster : 한 user가 여러 개의 cluster 가지고 있으면, 가장 많은 것 기준으로\n",
    "- count : user별 row 기준으로 count"
   ]
  },
  {
   "cell_type": "code",
   "execution_count": 4,
   "id": "617871f2-220e-4919-80f0-a7c0ce1dda8b",
   "metadata": {},
   "outputs": [
    {
     "data": {
      "text/plain": [
       "numpy.int64"
      ]
     },
     "execution_count": 4,
     "metadata": {},
     "output_type": "execute_result"
    }
   ],
   "source": [
    "type(log_cluster[log_cluster['user_id'] == 1]['time'].sum())"
   ]
  },
  {
   "cell_type": "code",
   "execution_count": 5,
   "id": "d82414bd-0009-45cd-b647-35ad0dea8b3a",
   "metadata": {},
   "outputs": [
    {
     "data": {
      "text/plain": [
       "2"
      ]
     },
     "execution_count": 5,
     "metadata": {},
     "output_type": "execute_result"
    }
   ],
   "source": [
    "len(log_cluster[log_cluster['user_id'] == 1])"
   ]
  },
  {
   "cell_type": "code",
   "execution_count": 6,
   "id": "7bb7b7e9-c0d7-4b59-a31c-a46b86267409",
   "metadata": {},
   "outputs": [
    {
     "name": "stdout",
     "output_type": "stream",
     "text": [
      "582133\n"
     ]
    }
   ],
   "source": [
    "# log데이터에서 user_id 몇개인지 추출\n",
    "user_id_list = log_cluster['user_id'].unique()\n",
    "print(len(user_id_list))"
   ]
  },
  {
   "cell_type": "code",
   "execution_count": 7,
   "id": "ff475efc-5efe-4de6-b60a-809ea160d47d",
   "metadata": {},
   "outputs": [],
   "source": [
    "from tqdm import tqdm"
   ]
  },
  {
   "cell_type": "code",
   "execution_count": 8,
   "id": "1148e610-b7ad-4d6e-bdf2-4d7400c295bd",
   "metadata": {},
   "outputs": [
    {
     "name": "stderr",
     "output_type": "stream",
     "text": [
      "100%|██████████| 582133/582133 [1:08:05<00:00, 142.49it/s]\n"
     ]
    }
   ],
   "source": [
    "date_list = []\n",
    "time_list = []\n",
    "cluster_list = []\n",
    "count_list = []\n",
    "\n",
    "for i in tqdm(user_id_list):\n",
    "    # 특정 user_id를 가진 user 추출\n",
    "    user_rows = log_cluster[log_cluster['user_id'] == i]\n",
    "    \n",
    "    # 시간은 user이 총 사용했던 시간 누적합\n",
    "    time = user_rows['time'].sum()\n",
    "    \n",
    "    # cluster은 가장 많은 cluster 기준으로 분류\n",
    "    cluster = user_rows['cluster'].value_counts().index[0]\n",
    "    \n",
    "    # 가장 마지막 날짜 기준으로\n",
    "    date = user_rows['date'].iloc[-1]\n",
    "    \n",
    "    \n",
    "    # 한 유저당 어플 사용 횟수(15분 기준)\n",
    "    count = len(user_rows)\n",
    "    \n",
    "    time_list.append(time)\n",
    "    cluster_list.append(cluster)\n",
    "    date_list.append(date)\n",
    "    count_list.append(count)\n",
    "    \n",
    "\n",
    "    \n",
    "        \n",
    "    "
   ]
  },
  {
   "cell_type": "code",
   "execution_count": 9,
   "id": "9a62988b-7efa-47e3-982a-f55cfac5b384",
   "metadata": {},
   "outputs": [
    {
     "data": {
      "text/html": [
       "<div>\n",
       "<style scoped>\n",
       "    .dataframe tbody tr th:only-of-type {\n",
       "        vertical-align: middle;\n",
       "    }\n",
       "\n",
       "    .dataframe tbody tr th {\n",
       "        vertical-align: top;\n",
       "    }\n",
       "\n",
       "    .dataframe thead th {\n",
       "        text-align: right;\n",
       "    }\n",
       "</style>\n",
       "<table border=\"1\" class=\"dataframe\">\n",
       "  <thead>\n",
       "    <tr style=\"text-align: right;\">\n",
       "      <th></th>\n",
       "      <th>user_id</th>\n",
       "      <th>date</th>\n",
       "      <th>time</th>\n",
       "      <th>cluster</th>\n",
       "      <th>count</th>\n",
       "    </tr>\n",
       "  </thead>\n",
       "  <tbody>\n",
       "    <tr>\n",
       "      <th>0</th>\n",
       "      <td>1</td>\n",
       "      <td>2022-06-16</td>\n",
       "      <td>8</td>\n",
       "      <td>1</td>\n",
       "      <td>2</td>\n",
       "    </tr>\n",
       "    <tr>\n",
       "      <th>1</th>\n",
       "      <td>7</td>\n",
       "      <td>2022-05-22</td>\n",
       "      <td>0</td>\n",
       "      <td>1</td>\n",
       "      <td>1</td>\n",
       "    </tr>\n",
       "    <tr>\n",
       "      <th>2</th>\n",
       "      <td>9</td>\n",
       "      <td>2022-05-21</td>\n",
       "      <td>354</td>\n",
       "      <td>1</td>\n",
       "      <td>1</td>\n",
       "    </tr>\n",
       "    <tr>\n",
       "      <th>3</th>\n",
       "      <td>11</td>\n",
       "      <td>2022-06-13</td>\n",
       "      <td>1687</td>\n",
       "      <td>1</td>\n",
       "      <td>5</td>\n",
       "    </tr>\n",
       "    <tr>\n",
       "      <th>4</th>\n",
       "      <td>12</td>\n",
       "      <td>2022-06-30</td>\n",
       "      <td>2744</td>\n",
       "      <td>2</td>\n",
       "      <td>15</td>\n",
       "    </tr>\n",
       "  </tbody>\n",
       "</table>\n",
       "</div>"
      ],
      "text/plain": [
       "   user_id        date  time  cluster  count\n",
       "0        1  2022-06-16     8        1      2\n",
       "1        7  2022-05-22     0        1      1\n",
       "2        9  2022-05-21   354        1      1\n",
       "3       11  2022-06-13  1687        1      5\n",
       "4       12  2022-06-30  2744        2     15"
      ]
     },
     "execution_count": 9,
     "metadata": {},
     "output_type": "execute_result"
    }
   ],
   "source": [
    "# 위에서 추출했던 데이터 가지고 새로운 데이터프레임 만들기\n",
    "log_cluster_final = pd.DataFrame({'user_id': user_id_list,\n",
    "              'date' : date_list,\n",
    "              'time' : time_list,\n",
    "              'cluster' : cluster_list,\n",
    "              'count': count_list\n",
    "             })\n",
    "log_cluster_final.head()"
   ]
  },
  {
   "cell_type": "code",
   "execution_count": 10,
   "id": "b2ad37b0-55b7-4ca2-aa3a-30941581e6e8",
   "metadata": {},
   "outputs": [],
   "source": [
    "# log_cluster_final.csv이라는 이름으로 최종 저장\n",
    "log_cluster_final.to_csv('data/log_cluster_final.csv', index=False)"
   ]
  },
  {
   "cell_type": "code",
   "execution_count": null,
   "id": "e2bdd347-0a84-4b38-9f7c-ea55439f7a04",
   "metadata": {},
   "outputs": [],
   "source": []
  }
 ],
 "metadata": {
  "kernelspec": {
   "display_name": "Python 3 (ipykernel)",
   "language": "python",
   "name": "python3"
  },
  "language_info": {
   "codemirror_mode": {
    "name": "ipython",
    "version": 3
   },
   "file_extension": ".py",
   "mimetype": "text/x-python",
   "name": "python",
   "nbconvert_exporter": "python",
   "pygments_lexer": "ipython3",
   "version": "3.7.13"
  }
 },
 "nbformat": 4,
 "nbformat_minor": 5
}
