{
 "cells": [
  {
   "cell_type": "code",
   "execution_count": 1,
   "id": "9fe72c13-7dde-4fab-b209-176748df85ce",
   "metadata": {},
   "outputs": [
    {
     "name": "stdout",
     "output_type": "stream",
     "text": [
      "['Malgun Gothic']\n"
     ]
    }
   ],
   "source": [
    "import numpy as np\n",
    "import pandas as pd\n",
    "import matplotlib.pyplot as plt\n",
    "\n",
    "\n",
    "plt.rc('font', family='Malgun Gothic') # For Windows\n",
    "print(plt.rcParams['font.family'])\n",
    "\n",
    "%matplotlib inline"
   ]
  },
  {
   "cell_type": "code",
   "execution_count": 2,
   "id": "9e034a25-90c9-4dfc-8f76-2001e9b7b2aa",
   "metadata": {},
   "outputs": [],
   "source": [
    "# 지수표현 제거\n",
    "pd.options.display.float_format = '{:.5f}'.format"
   ]
  },
  {
   "cell_type": "code",
   "execution_count": 3,
   "id": "d9a3af7c-94e4-4a3b-849c-62f0896474ae",
   "metadata": {},
   "outputs": [],
   "source": [
    "log_data = pd.read_csv('data/log_data.csv')"
   ]
  },
  {
   "cell_type": "markdown",
   "id": "7c627a15-b91a-4dda-ab26-822cb649ca04",
   "metadata": {},
   "source": [
    "# 1. 로그 데이터 전처리"
   ]
  },
  {
   "cell_type": "markdown",
   "id": "c164565a-eaa1-4a86-837b-6bbc7c2a951e",
   "metadata": {
    "tags": []
   },
   "source": [
    "## 1.1. log data 전처리\n",
    "- mp_os, mp_app_version 열 제거\n",
    "- timestamp에서 시간만 추출"
   ]
  },
  {
   "cell_type": "code",
   "execution_count": 4,
   "id": "0a6be396-a71f-4277-8717-9dcebdfb792b",
   "metadata": {},
   "outputs": [
    {
     "data": {
      "text/html": [
       "<div>\n",
       "<style scoped>\n",
       "    .dataframe tbody tr th:only-of-type {\n",
       "        vertical-align: middle;\n",
       "    }\n",
       "\n",
       "    .dataframe tbody tr th {\n",
       "        vertical-align: top;\n",
       "    }\n",
       "\n",
       "    .dataframe thead th {\n",
       "        text-align: right;\n",
       "    }\n",
       "</style>\n",
       "<table border=\"1\" class=\"dataframe\">\n",
       "  <thead>\n",
       "    <tr style=\"text-align: right;\">\n",
       "      <th></th>\n",
       "      <th>user_id</th>\n",
       "      <th>event</th>\n",
       "      <th>timestamp</th>\n",
       "      <th>mp_os</th>\n",
       "      <th>mp_app_version</th>\n",
       "      <th>date_cd</th>\n",
       "    </tr>\n",
       "  </thead>\n",
       "  <tbody>\n",
       "    <tr>\n",
       "      <th>0</th>\n",
       "      <td>576409</td>\n",
       "      <td>StartLoanApply</td>\n",
       "      <td>2022-03-25 11:12:09</td>\n",
       "      <td>Android</td>\n",
       "      <td>3.8.2</td>\n",
       "      <td>2022-03-25</td>\n",
       "    </tr>\n",
       "    <tr>\n",
       "      <th>1</th>\n",
       "      <td>576409</td>\n",
       "      <td>ViewLoanApplyIntro</td>\n",
       "      <td>2022-03-25 11:12:09</td>\n",
       "      <td>Android</td>\n",
       "      <td>3.8.2</td>\n",
       "      <td>2022-03-25</td>\n",
       "    </tr>\n",
       "    <tr>\n",
       "      <th>2</th>\n",
       "      <td>72878</td>\n",
       "      <td>EndLoanApply</td>\n",
       "      <td>2022-03-25 11:14:44</td>\n",
       "      <td>Android</td>\n",
       "      <td>3.8.4</td>\n",
       "      <td>2022-03-25</td>\n",
       "    </tr>\n",
       "    <tr>\n",
       "      <th>3</th>\n",
       "      <td>645317</td>\n",
       "      <td>OpenApp</td>\n",
       "      <td>2022-03-25 11:15:09</td>\n",
       "      <td>iOS</td>\n",
       "      <td>3.6.1</td>\n",
       "      <td>2022-03-25</td>\n",
       "    </tr>\n",
       "    <tr>\n",
       "      <th>4</th>\n",
       "      <td>645317</td>\n",
       "      <td>UseLoanManage</td>\n",
       "      <td>2022-03-25 11:15:11</td>\n",
       "      <td>iOS</td>\n",
       "      <td>3.6.1</td>\n",
       "      <td>2022-03-25</td>\n",
       "    </tr>\n",
       "  </tbody>\n",
       "</table>\n",
       "</div>"
      ],
      "text/plain": [
       "   user_id               event            timestamp    mp_os mp_app_version  \\\n",
       "0   576409      StartLoanApply  2022-03-25 11:12:09  Android          3.8.2   \n",
       "1   576409  ViewLoanApplyIntro  2022-03-25 11:12:09  Android          3.8.2   \n",
       "2    72878        EndLoanApply  2022-03-25 11:14:44  Android          3.8.4   \n",
       "3   645317             OpenApp  2022-03-25 11:15:09      iOS          3.6.1   \n",
       "4   645317       UseLoanManage  2022-03-25 11:15:11      iOS          3.6.1   \n",
       "\n",
       "      date_cd  \n",
       "0  2022-03-25  \n",
       "1  2022-03-25  \n",
       "2  2022-03-25  \n",
       "3  2022-03-25  \n",
       "4  2022-03-25  "
      ]
     },
     "execution_count": 4,
     "metadata": {},
     "output_type": "execute_result"
    }
   ],
   "source": [
    "log_data.head()"
   ]
  },
  {
   "cell_type": "code",
   "execution_count": 5,
   "id": "daf4d3e4-9aab-4fbb-a539-e006f330f603",
   "metadata": {},
   "outputs": [],
   "source": [
    "# 중복된 데이터 제거\n",
    "log_data = log_data.drop_duplicates().reset_index(drop=True)\n",
    "\n",
    "# mp_os, mp_app_version 제거\n",
    "log_data = log_data.drop(['mp_os', 'mp_app_version'], axis=1)"
   ]
  },
  {
   "cell_type": "code",
   "execution_count": 6,
   "id": "5f61376d-1d62-4855-9c11-08a95c32b508",
   "metadata": {},
   "outputs": [],
   "source": [
    "# user_id, 시간대별로 정렬해준다\n",
    "log_data_sort = log_data.sort_values(by=['user_id', 'timestamp']).reset_index(drop=True)\n"
   ]
  },
  {
   "cell_type": "code",
   "execution_count": 7,
   "id": "d3369b08-45dc-437f-9f81-a0fa5a48d7e1",
   "metadata": {},
   "outputs": [],
   "source": [
    "from tqdm import tqdm\n",
    "from datetime import datetime"
   ]
  },
  {
   "cell_type": "code",
   "execution_count": 8,
   "id": "617f38f9-e591-4e53-9138-27c8ae8256ec",
   "metadata": {},
   "outputs": [],
   "source": [
    "# 각 user_id별로 전체 로그 데이터를 검사하기 위해 user_id 찾아서 넣어준다\n",
    "log_data_users = log_data_sort['user_id'].unique()"
   ]
  },
  {
   "cell_type": "markdown",
   "id": "46af04c7-2734-4b0e-8995-356f4061c124",
   "metadata": {},
   "source": [
    "## 1.2. 군집용 log데이터 생성\n",
    "- 1. 각 이벤트들의 간격이 15분(900초) 이상이라면 다른 행동이라고 가정\n",
    "- 2. 따라서 15분 이내에 발생한 user의 이벤트(event)와 시간(timestamp)들을 하나의 user의 데이터로 합침"
   ]
  },
  {
   "cell_type": "code",
   "execution_count": 9,
   "id": "f1188ef1-08a3-4e1f-9b44-a892857e368c",
   "metadata": {},
   "outputs": [
    {
     "data": {
      "text/html": [
       "<div>\n",
       "<style scoped>\n",
       "    .dataframe tbody tr th:only-of-type {\n",
       "        vertical-align: middle;\n",
       "    }\n",
       "\n",
       "    .dataframe tbody tr th {\n",
       "        vertical-align: top;\n",
       "    }\n",
       "\n",
       "    .dataframe thead th {\n",
       "        text-align: right;\n",
       "    }\n",
       "</style>\n",
       "<table border=\"1\" class=\"dataframe\">\n",
       "  <thead>\n",
       "    <tr style=\"text-align: right;\">\n",
       "      <th></th>\n",
       "      <th>user_id</th>\n",
       "      <th>date</th>\n",
       "      <th>events</th>\n",
       "      <th>timestamp</th>\n",
       "    </tr>\n",
       "  </thead>\n",
       "  <tbody>\n",
       "  </tbody>\n",
       "</table>\n",
       "</div>"
      ],
      "text/plain": [
       "Empty DataFrame\n",
       "Columns: [user_id, date, events, timestamp]\n",
       "Index: []"
      ]
     },
     "execution_count": 9,
     "metadata": {},
     "output_type": "execute_result"
    }
   ],
   "source": [
    "# 군집용 데이터프레임 틀을 만들어준다\n",
    "user_activity_df = pd.DataFrame(columns=['user_id', 'date', 'events', 'timestamp'])\n",
    "user_activity_df"
   ]
  },
  {
   "cell_type": "code",
   "execution_count": 10,
   "id": "579c8428-635a-440b-9ae0-2c6fac1defaf",
   "metadata": {},
   "outputs": [
    {
     "name": "stderr",
     "output_type": "stream",
     "text": [
      "  1%|          | 3013/584636 [01:05<3:24:10, 47.48it/s]"
     ]
    },
    {
     "name": "stdout",
     "output_type": "stream",
     "text": [
      "log_events_1.csv completed!\n"
     ]
    },
    {
     "name": "stderr",
     "output_type": "stream",
     "text": [
      "  1%|          | 6012/584636 [02:08<2:52:28, 55.92it/s]"
     ]
    },
    {
     "name": "stdout",
     "output_type": "stream",
     "text": [
      "log_events_2.csv completed!\n"
     ]
    },
    {
     "name": "stderr",
     "output_type": "stream",
     "text": [
      "  2%|▏         | 9008/584636 [03:20<5:08:14, 31.12it/s] "
     ]
    },
    {
     "name": "stdout",
     "output_type": "stream",
     "text": [
      "log_events_3.csv completed!\n"
     ]
    },
    {
     "name": "stderr",
     "output_type": "stream",
     "text": [
      "  2%|▏         | 12007/584636 [04:51<6:39:54, 23.87it/s] "
     ]
    },
    {
     "name": "stdout",
     "output_type": "stream",
     "text": [
      "log_events_4.csv completed!\n"
     ]
    },
    {
     "name": "stderr",
     "output_type": "stream",
     "text": [
      "  3%|▎         | 15009/584636 [06:41<5:41:42, 27.78it/s] "
     ]
    },
    {
     "name": "stdout",
     "output_type": "stream",
     "text": [
      "log_events_5.csv completed!\n"
     ]
    },
    {
     "name": "stderr",
     "output_type": "stream",
     "text": [
      "  3%|▎         | 18000/584636 [08:20<6:37:43, 23.74it/s] "
     ]
    },
    {
     "name": "stdout",
     "output_type": "stream",
     "text": [
      "log_events_6.csv completed!\n"
     ]
    },
    {
     "name": "stderr",
     "output_type": "stream",
     "text": [
      "  4%|▎         | 21002/584636 [09:56<5:27:10, 28.71it/s] "
     ]
    },
    {
     "name": "stdout",
     "output_type": "stream",
     "text": [
      "log_events_7.csv completed!\n"
     ]
    },
    {
     "name": "stderr",
     "output_type": "stream",
     "text": [
      "  4%|▍         | 24005/584636 [11:25<10:25:02, 14.95it/s]"
     ]
    },
    {
     "name": "stdout",
     "output_type": "stream",
     "text": [
      "log_events_8.csv completed!\n"
     ]
    },
    {
     "name": "stderr",
     "output_type": "stream",
     "text": [
      "  5%|▍         | 27001/584636 [13:02<5:58:26, 25.93it/s] "
     ]
    },
    {
     "name": "stdout",
     "output_type": "stream",
     "text": [
      "log_events_9.csv completed!\n"
     ]
    },
    {
     "name": "stderr",
     "output_type": "stream",
     "text": [
      "  5%|▌         | 30009/584636 [14:36<6:23:37, 24.10it/s] "
     ]
    },
    {
     "name": "stdout",
     "output_type": "stream",
     "text": [
      "log_events_10.csv completed!\n"
     ]
    },
    {
     "name": "stderr",
     "output_type": "stream",
     "text": [
      "  6%|▌         | 33005/584636 [16:11<5:48:49, 26.36it/s] "
     ]
    },
    {
     "name": "stdout",
     "output_type": "stream",
     "text": [
      "log_events_11.csv completed!\n"
     ]
    },
    {
     "name": "stderr",
     "output_type": "stream",
     "text": [
      "  6%|▌         | 36013/584636 [17:44<5:04:17, 30.05it/s] "
     ]
    },
    {
     "name": "stdout",
     "output_type": "stream",
     "text": [
      "log_events_12.csv completed!\n"
     ]
    },
    {
     "name": "stderr",
     "output_type": "stream",
     "text": [
      "  7%|▋         | 39006/584636 [19:18<5:03:50, 29.93it/s] "
     ]
    },
    {
     "name": "stdout",
     "output_type": "stream",
     "text": [
      "log_events_13.csv completed!\n"
     ]
    },
    {
     "name": "stderr",
     "output_type": "stream",
     "text": [
      "  7%|▋         | 42009/584636 [20:52<6:05:32, 24.74it/s] "
     ]
    },
    {
     "name": "stdout",
     "output_type": "stream",
     "text": [
      "log_events_14.csv completed!\n"
     ]
    },
    {
     "name": "stderr",
     "output_type": "stream",
     "text": [
      "  8%|▊         | 45006/584636 [22:31<6:53:32, 21.75it/s] "
     ]
    },
    {
     "name": "stdout",
     "output_type": "stream",
     "text": [
      "log_events_15.csv completed!\n"
     ]
    },
    {
     "name": "stderr",
     "output_type": "stream",
     "text": [
      "  8%|▊         | 48013/584636 [23:56<3:32:05, 42.17it/s] "
     ]
    },
    {
     "name": "stdout",
     "output_type": "stream",
     "text": [
      "log_events_16.csv completed!\n"
     ]
    },
    {
     "name": "stderr",
     "output_type": "stream",
     "text": [
      "  9%|▊         | 51005/584636 [25:35<6:33:23, 22.61it/s] "
     ]
    },
    {
     "name": "stdout",
     "output_type": "stream",
     "text": [
      "log_events_17.csv completed!\n"
     ]
    },
    {
     "name": "stderr",
     "output_type": "stream",
     "text": [
      "  9%|▉         | 54014/584636 [27:06<4:17:30, 34.34it/s] "
     ]
    },
    {
     "name": "stdout",
     "output_type": "stream",
     "text": [
      "log_events_18.csv completed!\n"
     ]
    },
    {
     "name": "stderr",
     "output_type": "stream",
     "text": [
      " 10%|▉         | 57009/584636 [28:42<3:57:10, 37.08it/s] "
     ]
    },
    {
     "name": "stdout",
     "output_type": "stream",
     "text": [
      "log_events_19.csv completed!\n"
     ]
    },
    {
     "name": "stderr",
     "output_type": "stream",
     "text": [
      " 10%|█         | 60005/584636 [30:08<5:01:14, 29.03it/s] "
     ]
    },
    {
     "name": "stdout",
     "output_type": "stream",
     "text": [
      "log_events_20.csv completed!\n"
     ]
    },
    {
     "name": "stderr",
     "output_type": "stream",
     "text": [
      " 11%|█         | 63005/584636 [31:31<3:16:19, 44.28it/s]"
     ]
    },
    {
     "name": "stdout",
     "output_type": "stream",
     "text": [
      "log_events_21.csv completed!\n"
     ]
    },
    {
     "name": "stderr",
     "output_type": "stream",
     "text": [
      " 11%|█▏        | 66017/584636 [32:57<2:24:40, 59.74it/s] "
     ]
    },
    {
     "name": "stdout",
     "output_type": "stream",
     "text": [
      "log_events_22.csv completed!\n"
     ]
    },
    {
     "name": "stderr",
     "output_type": "stream",
     "text": [
      " 12%|█▏        | 69011/584636 [34:29<3:44:18, 38.31it/s] "
     ]
    },
    {
     "name": "stdout",
     "output_type": "stream",
     "text": [
      "log_events_23.csv completed!\n"
     ]
    },
    {
     "name": "stderr",
     "output_type": "stream",
     "text": [
      " 12%|█▏        | 72008/584636 [36:01<4:24:00, 32.36it/s] "
     ]
    },
    {
     "name": "stdout",
     "output_type": "stream",
     "text": [
      "log_events_24.csv completed!\n"
     ]
    },
    {
     "name": "stderr",
     "output_type": "stream",
     "text": [
      " 13%|█▎        | 75006/584636 [37:36<4:25:02, 32.05it/s] "
     ]
    },
    {
     "name": "stdout",
     "output_type": "stream",
     "text": [
      "log_events_25.csv completed!\n"
     ]
    },
    {
     "name": "stderr",
     "output_type": "stream",
     "text": [
      " 13%|█▎        | 78016/584636 [39:07<3:22:03, 41.79it/s] "
     ]
    },
    {
     "name": "stdout",
     "output_type": "stream",
     "text": [
      "log_events_26.csv completed!\n"
     ]
    },
    {
     "name": "stderr",
     "output_type": "stream",
     "text": [
      " 14%|█▍        | 81002/584636 [40:31<7:23:54, 18.91it/s] "
     ]
    },
    {
     "name": "stdout",
     "output_type": "stream",
     "text": [
      "log_events_27.csv completed!\n"
     ]
    },
    {
     "name": "stderr",
     "output_type": "stream",
     "text": [
      " 14%|█▍        | 84008/584636 [42:00<5:27:25, 25.48it/s] "
     ]
    },
    {
     "name": "stdout",
     "output_type": "stream",
     "text": [
      "log_events_28.csv completed!\n"
     ]
    },
    {
     "name": "stderr",
     "output_type": "stream",
     "text": [
      " 15%|█▍        | 86999/584636 [43:28<4:15:24, 32.47it/s] "
     ]
    },
    {
     "name": "stdout",
     "output_type": "stream",
     "text": [
      "log_events_29.csv completed!\n"
     ]
    },
    {
     "name": "stderr",
     "output_type": "stream",
     "text": [
      " 15%|█▌        | 90001/584636 [45:04<6:02:59, 22.71it/s] "
     ]
    },
    {
     "name": "stdout",
     "output_type": "stream",
     "text": [
      "log_events_30.csv completed!\n"
     ]
    },
    {
     "name": "stderr",
     "output_type": "stream",
     "text": [
      " 16%|█▌        | 93004/584636 [46:31<5:19:20, 25.66it/s] "
     ]
    },
    {
     "name": "stdout",
     "output_type": "stream",
     "text": [
      "log_events_31.csv completed!\n"
     ]
    },
    {
     "name": "stderr",
     "output_type": "stream",
     "text": [
      " 16%|█▋        | 96005/584636 [48:00<4:39:56, 29.09it/s] "
     ]
    },
    {
     "name": "stdout",
     "output_type": "stream",
     "text": [
      "log_events_32.csv completed!\n"
     ]
    },
    {
     "name": "stderr",
     "output_type": "stream",
     "text": [
      " 17%|█▋        | 99004/584636 [49:30<5:03:09, 26.70it/s]"
     ]
    },
    {
     "name": "stdout",
     "output_type": "stream",
     "text": [
      "log_events_33.csv completed!\n"
     ]
    },
    {
     "name": "stderr",
     "output_type": "stream",
     "text": [
      " 17%|█▋        | 102000/584636 [50:58<5:16:23, 25.42it/s] "
     ]
    },
    {
     "name": "stdout",
     "output_type": "stream",
     "text": [
      "log_events_34.csv completed!\n"
     ]
    },
    {
     "name": "stderr",
     "output_type": "stream",
     "text": [
      " 18%|█▊        | 105011/584636 [52:25<4:24:44, 30.19it/s] "
     ]
    },
    {
     "name": "stdout",
     "output_type": "stream",
     "text": [
      "log_events_35.csv completed!\n"
     ]
    },
    {
     "name": "stderr",
     "output_type": "stream",
     "text": [
      " 18%|█▊        | 108010/584636 [53:57<3:48:38, 34.74it/s] "
     ]
    },
    {
     "name": "stdout",
     "output_type": "stream",
     "text": [
      "log_events_36.csv completed!\n"
     ]
    },
    {
     "name": "stderr",
     "output_type": "stream",
     "text": [
      " 19%|█▉        | 111004/584636 [55:29<4:07:08, 31.94it/s] "
     ]
    },
    {
     "name": "stdout",
     "output_type": "stream",
     "text": [
      "log_events_37.csv completed!\n"
     ]
    },
    {
     "name": "stderr",
     "output_type": "stream",
     "text": [
      " 20%|█▉        | 114007/584636 [57:06<3:46:15, 34.67it/s] "
     ]
    },
    {
     "name": "stdout",
     "output_type": "stream",
     "text": [
      "log_events_38.csv completed!\n"
     ]
    },
    {
     "name": "stderr",
     "output_type": "stream",
     "text": [
      " 20%|██        | 117018/584636 [58:37<3:50:48, 33.77it/s] "
     ]
    },
    {
     "name": "stdout",
     "output_type": "stream",
     "text": [
      "log_events_39.csv completed!\n"
     ]
    },
    {
     "name": "stderr",
     "output_type": "stream",
     "text": [
      " 21%|██        | 120012/584636 [1:00:06<3:37:41, 35.57it/s]"
     ]
    },
    {
     "name": "stdout",
     "output_type": "stream",
     "text": [
      "log_events_40.csv completed!\n"
     ]
    },
    {
     "name": "stderr",
     "output_type": "stream",
     "text": [
      " 21%|██        | 123006/584636 [1:01:40<4:21:35, 29.41it/s] "
     ]
    },
    {
     "name": "stdout",
     "output_type": "stream",
     "text": [
      "log_events_41.csv completed!\n"
     ]
    },
    {
     "name": "stderr",
     "output_type": "stream",
     "text": [
      " 22%|██▏       | 126000/584636 [1:03:14<4:30:47, 28.23it/s] "
     ]
    },
    {
     "name": "stdout",
     "output_type": "stream",
     "text": [
      "log_events_42.csv completed!\n"
     ]
    },
    {
     "name": "stderr",
     "output_type": "stream",
     "text": [
      " 22%|██▏       | 129008/584636 [1:04:50<3:54:43, 32.35it/s] "
     ]
    },
    {
     "name": "stdout",
     "output_type": "stream",
     "text": [
      "log_events_43.csv completed!\n"
     ]
    },
    {
     "name": "stderr",
     "output_type": "stream",
     "text": [
      " 23%|██▎       | 132001/584636 [1:06:23<6:47:38, 18.51it/s] "
     ]
    },
    {
     "name": "stdout",
     "output_type": "stream",
     "text": [
      "log_events_44.csv completed!\n"
     ]
    },
    {
     "name": "stderr",
     "output_type": "stream",
     "text": [
      " 23%|██▎       | 135000/584636 [1:07:58<4:32:27, 27.50it/s] "
     ]
    },
    {
     "name": "stdout",
     "output_type": "stream",
     "text": [
      "log_events_45.csv completed!\n"
     ]
    },
    {
     "name": "stderr",
     "output_type": "stream",
     "text": [
      " 24%|██▎       | 138003/584636 [1:09:32<5:41:55, 21.77it/s] "
     ]
    },
    {
     "name": "stdout",
     "output_type": "stream",
     "text": [
      "log_events_46.csv completed!\n"
     ]
    },
    {
     "name": "stderr",
     "output_type": "stream",
     "text": [
      " 24%|██▍       | 141005/584636 [1:11:08<4:30:56, 27.29it/s] "
     ]
    },
    {
     "name": "stdout",
     "output_type": "stream",
     "text": [
      "log_events_47.csv completed!\n"
     ]
    },
    {
     "name": "stderr",
     "output_type": "stream",
     "text": [
      " 25%|██▍       | 144004/584636 [1:12:29<4:50:08, 25.31it/s]"
     ]
    },
    {
     "name": "stdout",
     "output_type": "stream",
     "text": [
      "log_events_48.csv completed!\n"
     ]
    },
    {
     "name": "stderr",
     "output_type": "stream",
     "text": [
      " 25%|██▌       | 147010/584636 [1:13:49<2:47:19, 43.59it/s]"
     ]
    },
    {
     "name": "stdout",
     "output_type": "stream",
     "text": [
      "log_events_49.csv completed!\n"
     ]
    },
    {
     "name": "stderr",
     "output_type": "stream",
     "text": [
      " 26%|██▌       | 150010/584636 [1:15:11<3:51:27, 31.30it/s]"
     ]
    },
    {
     "name": "stdout",
     "output_type": "stream",
     "text": [
      "log_events_50.csv completed!\n"
     ]
    },
    {
     "name": "stderr",
     "output_type": "stream",
     "text": [
      " 26%|██▌       | 153005/584636 [1:16:28<4:17:14, 27.97it/s] "
     ]
    },
    {
     "name": "stdout",
     "output_type": "stream",
     "text": [
      "log_events_51.csv completed!\n"
     ]
    },
    {
     "name": "stderr",
     "output_type": "stream",
     "text": [
      " 27%|██▋       | 156005/584636 [1:17:49<4:34:34, 26.02it/s] "
     ]
    },
    {
     "name": "stdout",
     "output_type": "stream",
     "text": [
      "log_events_52.csv completed!\n"
     ]
    },
    {
     "name": "stderr",
     "output_type": "stream",
     "text": [
      " 27%|██▋       | 159001/584636 [1:19:03<4:31:45, 26.10it/s]"
     ]
    },
    {
     "name": "stdout",
     "output_type": "stream",
     "text": [
      "log_events_53.csv completed!\n"
     ]
    },
    {
     "name": "stderr",
     "output_type": "stream",
     "text": [
      " 28%|██▊       | 162010/584636 [1:20:24<2:39:39, 44.12it/s]"
     ]
    },
    {
     "name": "stdout",
     "output_type": "stream",
     "text": [
      "log_events_54.csv completed!\n"
     ]
    },
    {
     "name": "stderr",
     "output_type": "stream",
     "text": [
      " 28%|██▊       | 165009/584636 [1:21:41<2:41:33, 43.29it/s]"
     ]
    },
    {
     "name": "stdout",
     "output_type": "stream",
     "text": [
      "log_events_55.csv completed!\n"
     ]
    },
    {
     "name": "stderr",
     "output_type": "stream",
     "text": [
      " 29%|██▊       | 168009/584636 [1:22:56<3:47:37, 30.51it/s]"
     ]
    },
    {
     "name": "stdout",
     "output_type": "stream",
     "text": [
      "log_events_56.csv completed!\n"
     ]
    },
    {
     "name": "stderr",
     "output_type": "stream",
     "text": [
      " 29%|██▉       | 171010/584636 [1:24:10<3:15:45, 35.22it/s]"
     ]
    },
    {
     "name": "stdout",
     "output_type": "stream",
     "text": [
      "log_events_57.csv completed!\n"
     ]
    },
    {
     "name": "stderr",
     "output_type": "stream",
     "text": [
      " 30%|██▉       | 174007/584636 [1:25:24<3:51:23, 29.58it/s]"
     ]
    },
    {
     "name": "stdout",
     "output_type": "stream",
     "text": [
      "log_events_58.csv completed!\n"
     ]
    },
    {
     "name": "stderr",
     "output_type": "stream",
     "text": [
      " 30%|███       | 177020/584636 [1:26:41<2:25:03, 46.83it/s]"
     ]
    },
    {
     "name": "stdout",
     "output_type": "stream",
     "text": [
      "log_events_59.csv completed!\n"
     ]
    },
    {
     "name": "stderr",
     "output_type": "stream",
     "text": [
      " 31%|███       | 180000/584636 [1:27:55<3:37:19, 31.03it/s]"
     ]
    },
    {
     "name": "stdout",
     "output_type": "stream",
     "text": [
      "log_events_60.csv completed!\n"
     ]
    },
    {
     "name": "stderr",
     "output_type": "stream",
     "text": [
      " 31%|███▏      | 183007/584636 [1:29:14<3:03:46, 36.42it/s]"
     ]
    },
    {
     "name": "stdout",
     "output_type": "stream",
     "text": [
      "log_events_61.csv completed!\n"
     ]
    },
    {
     "name": "stderr",
     "output_type": "stream",
     "text": [
      " 32%|███▏      | 186005/584636 [1:30:32<4:58:42, 22.24it/s] "
     ]
    },
    {
     "name": "stdout",
     "output_type": "stream",
     "text": [
      "log_events_62.csv completed!\n"
     ]
    },
    {
     "name": "stderr",
     "output_type": "stream",
     "text": [
      " 32%|███▏      | 189007/584636 [1:31:48<5:57:47, 18.43it/s]"
     ]
    },
    {
     "name": "stdout",
     "output_type": "stream",
     "text": [
      "log_events_63.csv completed!\n"
     ]
    },
    {
     "name": "stderr",
     "output_type": "stream",
     "text": [
      " 33%|███▎      | 192011/584636 [1:33:00<2:18:20, 47.30it/s]"
     ]
    },
    {
     "name": "stdout",
     "output_type": "stream",
     "text": [
      "log_events_64.csv completed!\n"
     ]
    },
    {
     "name": "stderr",
     "output_type": "stream",
     "text": [
      " 33%|███▎      | 195004/584636 [1:34:18<5:18:52, 20.37it/s]"
     ]
    },
    {
     "name": "stdout",
     "output_type": "stream",
     "text": [
      "log_events_65.csv completed!\n"
     ]
    },
    {
     "name": "stderr",
     "output_type": "stream",
     "text": [
      " 34%|███▍      | 198009/584636 [1:35:29<3:49:05, 28.13it/s]"
     ]
    },
    {
     "name": "stdout",
     "output_type": "stream",
     "text": [
      "log_events_66.csv completed!\n"
     ]
    },
    {
     "name": "stderr",
     "output_type": "stream",
     "text": [
      " 34%|███▍      | 201013/584636 [1:36:45<2:02:53, 52.03it/s]"
     ]
    },
    {
     "name": "stdout",
     "output_type": "stream",
     "text": [
      "log_events_67.csv completed!\n"
     ]
    },
    {
     "name": "stderr",
     "output_type": "stream",
     "text": [
      " 35%|███▍      | 204005/584636 [1:37:56<4:07:12, 25.66it/s]"
     ]
    },
    {
     "name": "stdout",
     "output_type": "stream",
     "text": [
      "log_events_68.csv completed!\n"
     ]
    },
    {
     "name": "stderr",
     "output_type": "stream",
     "text": [
      " 35%|███▌      | 207012/584636 [1:39:09<2:22:04, 44.30it/s]"
     ]
    },
    {
     "name": "stdout",
     "output_type": "stream",
     "text": [
      "log_events_69.csv completed!\n"
     ]
    },
    {
     "name": "stderr",
     "output_type": "stream",
     "text": [
      " 36%|███▌      | 210004/584636 [1:40:27<2:46:39, 37.46it/s]"
     ]
    },
    {
     "name": "stdout",
     "output_type": "stream",
     "text": [
      "log_events_70.csv completed!\n"
     ]
    },
    {
     "name": "stderr",
     "output_type": "stream",
     "text": [
      " 36%|███▋      | 213009/584636 [1:41:46<2:39:05, 38.93it/s]"
     ]
    },
    {
     "name": "stdout",
     "output_type": "stream",
     "text": [
      "log_events_71.csv completed!\n"
     ]
    },
    {
     "name": "stderr",
     "output_type": "stream",
     "text": [
      " 37%|███▋      | 216001/584636 [1:43:00<2:50:58, 35.93it/s]"
     ]
    },
    {
     "name": "stdout",
     "output_type": "stream",
     "text": [
      "log_events_72.csv completed!\n"
     ]
    },
    {
     "name": "stderr",
     "output_type": "stream",
     "text": [
      " 37%|███▋      | 219010/584636 [1:44:14<2:26:28, 41.60it/s]"
     ]
    },
    {
     "name": "stdout",
     "output_type": "stream",
     "text": [
      "log_events_73.csv completed!\n"
     ]
    },
    {
     "name": "stderr",
     "output_type": "stream",
     "text": [
      " 38%|███▊      | 222007/584636 [1:45:25<2:06:22, 47.82it/s]"
     ]
    },
    {
     "name": "stdout",
     "output_type": "stream",
     "text": [
      "log_events_74.csv completed!\n"
     ]
    },
    {
     "name": "stderr",
     "output_type": "stream",
     "text": [
      " 38%|███▊      | 225012/584636 [1:46:40<3:12:18, 31.17it/s]"
     ]
    },
    {
     "name": "stdout",
     "output_type": "stream",
     "text": [
      "log_events_75.csv completed!\n"
     ]
    },
    {
     "name": "stderr",
     "output_type": "stream",
     "text": [
      " 39%|███▉      | 228012/584636 [1:47:46<2:34:11, 38.55it/s]"
     ]
    },
    {
     "name": "stdout",
     "output_type": "stream",
     "text": [
      "log_events_76.csv completed!\n"
     ]
    },
    {
     "name": "stderr",
     "output_type": "stream",
     "text": [
      " 40%|███▉      | 231007/584636 [1:48:51<2:10:37, 45.12it/s]"
     ]
    },
    {
     "name": "stdout",
     "output_type": "stream",
     "text": [
      "log_events_77.csv completed!\n"
     ]
    },
    {
     "name": "stderr",
     "output_type": "stream",
     "text": [
      " 40%|████      | 234017/584636 [1:49:56<1:44:29, 55.93it/s]"
     ]
    },
    {
     "name": "stdout",
     "output_type": "stream",
     "text": [
      "log_events_78.csv completed!\n"
     ]
    },
    {
     "name": "stderr",
     "output_type": "stream",
     "text": [
      " 41%|████      | 237012/584636 [1:51:01<1:43:24, 56.03it/s]"
     ]
    },
    {
     "name": "stdout",
     "output_type": "stream",
     "text": [
      "log_events_79.csv completed!\n"
     ]
    },
    {
     "name": "stderr",
     "output_type": "stream",
     "text": [
      " 41%|████      | 240012/584636 [1:52:06<1:36:10, 59.72it/s]"
     ]
    },
    {
     "name": "stdout",
     "output_type": "stream",
     "text": [
      "log_events_80.csv completed!\n"
     ]
    },
    {
     "name": "stderr",
     "output_type": "stream",
     "text": [
      " 42%|████▏     | 243011/584636 [1:53:13<2:48:13, 33.84it/s]"
     ]
    },
    {
     "name": "stdout",
     "output_type": "stream",
     "text": [
      "log_events_81.csv completed!\n"
     ]
    },
    {
     "name": "stderr",
     "output_type": "stream",
     "text": [
      " 42%|████▏     | 246014/584636 [1:54:19<1:59:04, 47.40it/s]"
     ]
    },
    {
     "name": "stdout",
     "output_type": "stream",
     "text": [
      "log_events_82.csv completed!\n"
     ]
    },
    {
     "name": "stderr",
     "output_type": "stream",
     "text": [
      " 43%|████▎     | 249013/584636 [1:55:25<1:41:12, 55.27it/s]"
     ]
    },
    {
     "name": "stdout",
     "output_type": "stream",
     "text": [
      "log_events_83.csv completed!\n"
     ]
    },
    {
     "name": "stderr",
     "output_type": "stream",
     "text": [
      " 43%|████▎     | 252015/584636 [1:56:38<1:55:47, 47.88it/s] "
     ]
    },
    {
     "name": "stdout",
     "output_type": "stream",
     "text": [
      "log_events_84.csv completed!\n"
     ]
    },
    {
     "name": "stderr",
     "output_type": "stream",
     "text": [
      " 44%|████▎     | 255009/584636 [1:57:42<2:14:26, 40.86it/s]"
     ]
    },
    {
     "name": "stdout",
     "output_type": "stream",
     "text": [
      "log_events_85.csv completed!\n"
     ]
    },
    {
     "name": "stderr",
     "output_type": "stream",
     "text": [
      " 44%|████▍     | 258000/584636 [1:58:46<2:14:55, 40.35it/s]"
     ]
    },
    {
     "name": "stdout",
     "output_type": "stream",
     "text": [
      "log_events_86.csv completed!\n"
     ]
    },
    {
     "name": "stderr",
     "output_type": "stream",
     "text": [
      " 45%|████▍     | 261016/584636 [1:59:53<1:31:13, 59.12it/s]"
     ]
    },
    {
     "name": "stdout",
     "output_type": "stream",
     "text": [
      "log_events_87.csv completed!\n"
     ]
    },
    {
     "name": "stderr",
     "output_type": "stream",
     "text": [
      " 45%|████▌     | 264006/584636 [2:00:59<3:53:13, 22.91it/s]"
     ]
    },
    {
     "name": "stdout",
     "output_type": "stream",
     "text": [
      "log_events_88.csv completed!\n"
     ]
    },
    {
     "name": "stderr",
     "output_type": "stream",
     "text": [
      " 46%|████▌     | 267007/584636 [2:02:12<2:40:01, 33.08it/s]"
     ]
    },
    {
     "name": "stdout",
     "output_type": "stream",
     "text": [
      "log_events_89.csv completed!\n"
     ]
    },
    {
     "name": "stderr",
     "output_type": "stream",
     "text": [
      " 46%|████▌     | 270011/584636 [2:03:16<1:55:51, 45.26it/s]"
     ]
    },
    {
     "name": "stdout",
     "output_type": "stream",
     "text": [
      "log_events_90.csv completed!\n"
     ]
    },
    {
     "name": "stderr",
     "output_type": "stream",
     "text": [
      " 47%|████▋     | 273005/584636 [2:04:18<2:11:55, 39.37it/s]"
     ]
    },
    {
     "name": "stdout",
     "output_type": "stream",
     "text": [
      "log_events_91.csv completed!\n"
     ]
    },
    {
     "name": "stderr",
     "output_type": "stream",
     "text": [
      " 47%|████▋     | 276010/584636 [2:05:24<2:00:35, 42.65it/s]"
     ]
    },
    {
     "name": "stdout",
     "output_type": "stream",
     "text": [
      "log_events_92.csv completed!\n"
     ]
    },
    {
     "name": "stderr",
     "output_type": "stream",
     "text": [
      " 48%|████▊     | 279011/584636 [2:06:27<1:41:16, 50.29it/s]"
     ]
    },
    {
     "name": "stdout",
     "output_type": "stream",
     "text": [
      "log_events_93.csv completed!\n"
     ]
    },
    {
     "name": "stderr",
     "output_type": "stream",
     "text": [
      " 48%|████▊     | 282008/584636 [2:07:30<1:45:17, 47.91it/s]"
     ]
    },
    {
     "name": "stdout",
     "output_type": "stream",
     "text": [
      "log_events_94.csv completed!\n"
     ]
    },
    {
     "name": "stderr",
     "output_type": "stream",
     "text": [
      " 49%|████▊     | 285009/584636 [2:08:36<1:58:02, 42.30it/s] "
     ]
    },
    {
     "name": "stdout",
     "output_type": "stream",
     "text": [
      "log_events_95.csv completed!\n"
     ]
    },
    {
     "name": "stderr",
     "output_type": "stream",
     "text": [
      " 49%|████▉     | 288007/584636 [2:09:43<2:13:01, 37.17it/s]"
     ]
    },
    {
     "name": "stdout",
     "output_type": "stream",
     "text": [
      "log_events_96.csv completed!\n"
     ]
    },
    {
     "name": "stderr",
     "output_type": "stream",
     "text": [
      " 50%|████▉     | 291012/584636 [2:10:47<1:53:44, 43.03it/s]"
     ]
    },
    {
     "name": "stdout",
     "output_type": "stream",
     "text": [
      "log_events_97.csv completed!\n"
     ]
    },
    {
     "name": "stderr",
     "output_type": "stream",
     "text": [
      " 50%|█████     | 294006/584636 [2:11:54<1:48:59, 44.44it/s]"
     ]
    },
    {
     "name": "stdout",
     "output_type": "stream",
     "text": [
      "log_events_98.csv completed!\n"
     ]
    },
    {
     "name": "stderr",
     "output_type": "stream",
     "text": [
      " 51%|█████     | 297010/584636 [2:13:00<1:38:32, 48.65it/s]"
     ]
    },
    {
     "name": "stdout",
     "output_type": "stream",
     "text": [
      "log_events_99.csv completed!\n"
     ]
    },
    {
     "name": "stderr",
     "output_type": "stream",
     "text": [
      " 51%|█████▏    | 300000/584636 [2:14:08<2:12:00, 35.94it/s]"
     ]
    },
    {
     "name": "stdout",
     "output_type": "stream",
     "text": [
      "log_events_100.csv completed!\n"
     ]
    },
    {
     "name": "stderr",
     "output_type": "stream",
     "text": [
      " 52%|█████▏    | 303011/584636 [2:15:12<1:41:03, 46.44it/s]"
     ]
    },
    {
     "name": "stdout",
     "output_type": "stream",
     "text": [
      "log_events_101.csv completed!\n"
     ]
    },
    {
     "name": "stderr",
     "output_type": "stream",
     "text": [
      " 52%|█████▏    | 306001/584636 [2:16:15<1:49:14, 42.51it/s]"
     ]
    },
    {
     "name": "stdout",
     "output_type": "stream",
     "text": [
      "log_events_102.csv completed!\n"
     ]
    },
    {
     "name": "stderr",
     "output_type": "stream",
     "text": [
      " 53%|█████▎    | 309009/584636 [2:17:19<1:32:42, 49.55it/s]"
     ]
    },
    {
     "name": "stdout",
     "output_type": "stream",
     "text": [
      "log_events_103.csv completed!\n"
     ]
    },
    {
     "name": "stderr",
     "output_type": "stream",
     "text": [
      " 53%|█████▎    | 312004/584636 [2:18:20<1:56:17, 39.07it/s]"
     ]
    },
    {
     "name": "stdout",
     "output_type": "stream",
     "text": [
      "log_events_104.csv completed!\n"
     ]
    },
    {
     "name": "stderr",
     "output_type": "stream",
     "text": [
      " 54%|█████▍    | 315011/584636 [2:19:31<1:25:23, 52.62it/s]"
     ]
    },
    {
     "name": "stdout",
     "output_type": "stream",
     "text": [
      "log_events_105.csv completed!\n"
     ]
    },
    {
     "name": "stderr",
     "output_type": "stream",
     "text": [
      " 54%|█████▍    | 318015/584636 [2:20:33<1:10:41, 62.86it/s]"
     ]
    },
    {
     "name": "stdout",
     "output_type": "stream",
     "text": [
      "log_events_106.csv completed!\n"
     ]
    },
    {
     "name": "stderr",
     "output_type": "stream",
     "text": [
      " 55%|█████▍    | 321009/584636 [2:21:39<1:46:38, 41.20it/s]"
     ]
    },
    {
     "name": "stdout",
     "output_type": "stream",
     "text": [
      "log_events_107.csv completed!\n"
     ]
    },
    {
     "name": "stderr",
     "output_type": "stream",
     "text": [
      " 55%|█████▌    | 324009/584636 [2:22:42<1:35:11, 45.63it/s]"
     ]
    },
    {
     "name": "stdout",
     "output_type": "stream",
     "text": [
      "log_events_108.csv completed!\n"
     ]
    },
    {
     "name": "stderr",
     "output_type": "stream",
     "text": [
      " 56%|█████▌    | 327015/584636 [2:23:44<1:10:34, 60.83it/s]"
     ]
    },
    {
     "name": "stdout",
     "output_type": "stream",
     "text": [
      "log_events_109.csv completed!\n"
     ]
    },
    {
     "name": "stderr",
     "output_type": "stream",
     "text": [
      " 56%|█████▋    | 330007/584636 [2:24:55<1:26:04, 49.30it/s] "
     ]
    },
    {
     "name": "stdout",
     "output_type": "stream",
     "text": [
      "log_events_110.csv completed!\n"
     ]
    },
    {
     "name": "stderr",
     "output_type": "stream",
     "text": [
      " 57%|█████▋    | 333015/584636 [2:26:01<1:24:50, 49.43it/s]"
     ]
    },
    {
     "name": "stdout",
     "output_type": "stream",
     "text": [
      "log_events_111.csv completed!\n"
     ]
    },
    {
     "name": "stderr",
     "output_type": "stream",
     "text": [
      " 57%|█████▋    | 336012/584636 [2:27:08<1:40:09, 41.37it/s]"
     ]
    },
    {
     "name": "stdout",
     "output_type": "stream",
     "text": [
      "log_events_112.csv completed!\n"
     ]
    },
    {
     "name": "stderr",
     "output_type": "stream",
     "text": [
      " 58%|█████▊    | 339007/584636 [2:28:09<1:34:23, 43.37it/s]"
     ]
    },
    {
     "name": "stdout",
     "output_type": "stream",
     "text": [
      "log_events_113.csv completed!\n"
     ]
    },
    {
     "name": "stderr",
     "output_type": "stream",
     "text": [
      " 58%|█████▊    | 342010/584636 [2:29:17<1:37:26, 41.50it/s]"
     ]
    },
    {
     "name": "stdout",
     "output_type": "stream",
     "text": [
      "log_events_114.csv completed!\n"
     ]
    },
    {
     "name": "stderr",
     "output_type": "stream",
     "text": [
      " 59%|█████▉    | 345007/584636 [2:30:28<1:41:00, 39.54it/s]"
     ]
    },
    {
     "name": "stdout",
     "output_type": "stream",
     "text": [
      "log_events_115.csv completed!\n"
     ]
    },
    {
     "name": "stderr",
     "output_type": "stream",
     "text": [
      " 60%|█████▉    | 348009/584636 [2:31:31<1:41:36, 38.82it/s]"
     ]
    },
    {
     "name": "stdout",
     "output_type": "stream",
     "text": [
      "log_events_116.csv completed!\n"
     ]
    },
    {
     "name": "stderr",
     "output_type": "stream",
     "text": [
      " 60%|██████    | 351007/584636 [2:32:33<1:24:38, 46.01it/s]"
     ]
    },
    {
     "name": "stdout",
     "output_type": "stream",
     "text": [
      "log_events_117.csv completed!\n"
     ]
    },
    {
     "name": "stderr",
     "output_type": "stream",
     "text": [
      " 61%|██████    | 354014/584636 [2:33:37<1:09:44, 55.12it/s]"
     ]
    },
    {
     "name": "stdout",
     "output_type": "stream",
     "text": [
      "log_events_118.csv completed!\n"
     ]
    },
    {
     "name": "stderr",
     "output_type": "stream",
     "text": [
      " 61%|██████    | 357004/584636 [2:34:42<1:28:28, 42.88it/s]"
     ]
    },
    {
     "name": "stdout",
     "output_type": "stream",
     "text": [
      "log_events_119.csv completed!\n"
     ]
    },
    {
     "name": "stderr",
     "output_type": "stream",
     "text": [
      " 62%|██████▏   | 360008/584636 [2:35:45<1:03:04, 59.36it/s]"
     ]
    },
    {
     "name": "stdout",
     "output_type": "stream",
     "text": [
      "log_events_120.csv completed!\n"
     ]
    },
    {
     "name": "stderr",
     "output_type": "stream",
     "text": [
      " 62%|██████▏   | 363004/584636 [2:36:50<2:13:01, 27.77it/s]"
     ]
    },
    {
     "name": "stdout",
     "output_type": "stream",
     "text": [
      "log_events_121.csv completed!\n"
     ]
    },
    {
     "name": "stderr",
     "output_type": "stream",
     "text": [
      " 63%|██████▎   | 366008/584636 [2:37:58<1:21:44, 44.57it/s]"
     ]
    },
    {
     "name": "stdout",
     "output_type": "stream",
     "text": [
      "log_events_122.csv completed!\n"
     ]
    },
    {
     "name": "stderr",
     "output_type": "stream",
     "text": [
      " 63%|██████▎   | 369003/584636 [2:39:04<2:46:27, 21.59it/s]"
     ]
    },
    {
     "name": "stdout",
     "output_type": "stream",
     "text": [
      "log_events_123.csv completed!\n"
     ]
    },
    {
     "name": "stderr",
     "output_type": "stream",
     "text": [
      " 64%|██████▎   | 372008/584636 [2:40:05<1:39:54, 35.47it/s]"
     ]
    },
    {
     "name": "stdout",
     "output_type": "stream",
     "text": [
      "log_events_124.csv completed!\n"
     ]
    },
    {
     "name": "stderr",
     "output_type": "stream",
     "text": [
      " 64%|██████▍   | 375007/584636 [2:41:12<2:23:47, 24.30it/s]"
     ]
    },
    {
     "name": "stdout",
     "output_type": "stream",
     "text": [
      "log_events_125.csv completed!\n"
     ]
    },
    {
     "name": "stderr",
     "output_type": "stream",
     "text": [
      " 65%|██████▍   | 378007/584636 [2:42:18<1:34:20, 36.50it/s]"
     ]
    },
    {
     "name": "stdout",
     "output_type": "stream",
     "text": [
      "log_events_126.csv completed!\n"
     ]
    },
    {
     "name": "stderr",
     "output_type": "stream",
     "text": [
      " 65%|██████▌   | 381012/584636 [2:43:23<1:29:00, 38.13it/s]"
     ]
    },
    {
     "name": "stdout",
     "output_type": "stream",
     "text": [
      "log_events_127.csv completed!\n"
     ]
    },
    {
     "name": "stderr",
     "output_type": "stream",
     "text": [
      " 66%|██████▌   | 384000/584636 [2:44:26<2:10:06, 25.70it/s]"
     ]
    },
    {
     "name": "stdout",
     "output_type": "stream",
     "text": [
      "log_events_128.csv completed!\n"
     ]
    },
    {
     "name": "stderr",
     "output_type": "stream",
     "text": [
      " 66%|██████▌   | 387004/584636 [2:45:36<1:31:21, 36.06it/s]"
     ]
    },
    {
     "name": "stdout",
     "output_type": "stream",
     "text": [
      "log_events_129.csv completed!\n"
     ]
    },
    {
     "name": "stderr",
     "output_type": "stream",
     "text": [
      " 67%|██████▋   | 390023/584636 [2:46:40<47:50, 67.80it/s]  "
     ]
    },
    {
     "name": "stdout",
     "output_type": "stream",
     "text": [
      "log_events_130.csv completed!\n"
     ]
    },
    {
     "name": "stderr",
     "output_type": "stream",
     "text": [
      " 67%|██████▋   | 393019/584636 [2:47:44<54:25, 58.67it/s]  "
     ]
    },
    {
     "name": "stdout",
     "output_type": "stream",
     "text": [
      "log_events_131.csv completed!\n"
     ]
    },
    {
     "name": "stderr",
     "output_type": "stream",
     "text": [
      " 68%|██████▊   | 396006/584636 [2:48:45<1:28:21, 35.58it/s]"
     ]
    },
    {
     "name": "stdout",
     "output_type": "stream",
     "text": [
      "log_events_132.csv completed!\n"
     ]
    },
    {
     "name": "stderr",
     "output_type": "stream",
     "text": [
      " 68%|██████▊   | 399001/584636 [2:49:42<1:11:26, 43.31it/s]"
     ]
    },
    {
     "name": "stdout",
     "output_type": "stream",
     "text": [
      "log_events_133.csv completed!\n"
     ]
    },
    {
     "name": "stderr",
     "output_type": "stream",
     "text": [
      " 69%|██████▉   | 402014/584636 [2:50:50<1:03:59, 47.57it/s]"
     ]
    },
    {
     "name": "stdout",
     "output_type": "stream",
     "text": [
      "log_events_134.csv completed!\n"
     ]
    },
    {
     "name": "stderr",
     "output_type": "stream",
     "text": [
      " 69%|██████▉   | 405005/584636 [2:51:52<1:24:07, 35.59it/s]"
     ]
    },
    {
     "name": "stdout",
     "output_type": "stream",
     "text": [
      "log_events_135.csv completed!\n"
     ]
    },
    {
     "name": "stderr",
     "output_type": "stream",
     "text": [
      " 70%|██████▉   | 408007/584636 [2:52:58<58:08, 50.63it/s]  "
     ]
    },
    {
     "name": "stdout",
     "output_type": "stream",
     "text": [
      "log_events_136.csv completed!\n"
     ]
    },
    {
     "name": "stderr",
     "output_type": "stream",
     "text": [
      " 70%|███████   | 411012/584636 [2:54:01<53:38, 53.94it/s]  "
     ]
    },
    {
     "name": "stdout",
     "output_type": "stream",
     "text": [
      "log_events_137.csv completed!\n"
     ]
    },
    {
     "name": "stderr",
     "output_type": "stream",
     "text": [
      " 71%|███████   | 414015/584636 [2:55:07<57:47, 49.21it/s]  "
     ]
    },
    {
     "name": "stdout",
     "output_type": "stream",
     "text": [
      "log_events_138.csv completed!\n"
     ]
    },
    {
     "name": "stderr",
     "output_type": "stream",
     "text": [
      " 71%|███████▏  | 417013/584636 [2:56:08<57:11, 48.85it/s]  "
     ]
    },
    {
     "name": "stdout",
     "output_type": "stream",
     "text": [
      "log_events_139.csv completed!\n"
     ]
    },
    {
     "name": "stderr",
     "output_type": "stream",
     "text": [
      " 72%|███████▏  | 420011/584636 [2:57:14<55:52, 49.10it/s]  "
     ]
    },
    {
     "name": "stdout",
     "output_type": "stream",
     "text": [
      "log_events_140.csv completed!\n"
     ]
    },
    {
     "name": "stderr",
     "output_type": "stream",
     "text": [
      " 72%|███████▏  | 423014/584636 [2:58:15<45:30, 59.19it/s]  "
     ]
    },
    {
     "name": "stdout",
     "output_type": "stream",
     "text": [
      "log_events_141.csv completed!\n"
     ]
    },
    {
     "name": "stderr",
     "output_type": "stream",
     "text": [
      " 73%|███████▎  | 426007/584636 [2:59:16<53:05, 49.80it/s]  "
     ]
    },
    {
     "name": "stdout",
     "output_type": "stream",
     "text": [
      "log_events_142.csv completed!\n"
     ]
    },
    {
     "name": "stderr",
     "output_type": "stream",
     "text": [
      " 73%|███████▎  | 429010/584636 [3:00:17<1:00:58, 42.54it/s]"
     ]
    },
    {
     "name": "stdout",
     "output_type": "stream",
     "text": [
      "log_events_143.csv completed!\n"
     ]
    },
    {
     "name": "stderr",
     "output_type": "stream",
     "text": [
      " 74%|███████▍  | 432015/584636 [3:01:23<51:35, 49.31it/s]  "
     ]
    },
    {
     "name": "stdout",
     "output_type": "stream",
     "text": [
      "log_events_144.csv completed!\n"
     ]
    },
    {
     "name": "stderr",
     "output_type": "stream",
     "text": [
      " 74%|███████▍  | 435006/584636 [3:02:34<58:04, 42.94it/s]  "
     ]
    },
    {
     "name": "stdout",
     "output_type": "stream",
     "text": [
      "log_events_145.csv completed!\n"
     ]
    },
    {
     "name": "stderr",
     "output_type": "stream",
     "text": [
      " 75%|███████▍  | 438007/584636 [3:03:39<1:13:26, 33.27it/s]"
     ]
    },
    {
     "name": "stdout",
     "output_type": "stream",
     "text": [
      "log_events_146.csv completed!\n"
     ]
    },
    {
     "name": "stderr",
     "output_type": "stream",
     "text": [
      " 75%|███████▌  | 441009/584636 [3:04:44<1:07:49, 35.30it/s]"
     ]
    },
    {
     "name": "stdout",
     "output_type": "stream",
     "text": [
      "log_events_147.csv completed!\n"
     ]
    },
    {
     "name": "stderr",
     "output_type": "stream",
     "text": [
      " 76%|███████▌  | 444018/584636 [3:05:49<39:16, 59.66it/s]  "
     ]
    },
    {
     "name": "stdout",
     "output_type": "stream",
     "text": [
      "log_events_148.csv completed!\n"
     ]
    },
    {
     "name": "stderr",
     "output_type": "stream",
     "text": [
      " 76%|███████▋  | 447007/584636 [3:06:53<1:12:25, 31.67it/s]"
     ]
    },
    {
     "name": "stdout",
     "output_type": "stream",
     "text": [
      "log_events_149.csv completed!\n"
     ]
    },
    {
     "name": "stderr",
     "output_type": "stream",
     "text": [
      " 77%|███████▋  | 450003/584636 [3:07:59<1:10:59, 31.60it/s]"
     ]
    },
    {
     "name": "stdout",
     "output_type": "stream",
     "text": [
      "log_events_150.csv completed!\n"
     ]
    },
    {
     "name": "stderr",
     "output_type": "stream",
     "text": [
      " 77%|███████▋  | 453013/584636 [3:09:08<42:31, 51.59it/s]  "
     ]
    },
    {
     "name": "stdout",
     "output_type": "stream",
     "text": [
      "log_events_151.csv completed!\n"
     ]
    },
    {
     "name": "stderr",
     "output_type": "stream",
     "text": [
      " 78%|███████▊  | 456006/584636 [3:10:11<47:24, 45.21it/s]  "
     ]
    },
    {
     "name": "stdout",
     "output_type": "stream",
     "text": [
      "log_events_152.csv completed!\n"
     ]
    },
    {
     "name": "stderr",
     "output_type": "stream",
     "text": [
      " 79%|███████▊  | 459008/584636 [3:11:17<39:25, 53.10it/s]  "
     ]
    },
    {
     "name": "stdout",
     "output_type": "stream",
     "text": [
      "log_events_153.csv completed!\n"
     ]
    },
    {
     "name": "stderr",
     "output_type": "stream",
     "text": [
      " 79%|███████▉  | 462014/584636 [3:12:20<38:05, 53.66it/s]  "
     ]
    },
    {
     "name": "stdout",
     "output_type": "stream",
     "text": [
      "log_events_154.csv completed!\n"
     ]
    },
    {
     "name": "stderr",
     "output_type": "stream",
     "text": [
      " 80%|███████▉  | 465000/584636 [3:13:23<51:07, 39.00it/s]  "
     ]
    },
    {
     "name": "stdout",
     "output_type": "stream",
     "text": [
      "log_events_155.csv completed!\n"
     ]
    },
    {
     "name": "stderr",
     "output_type": "stream",
     "text": [
      " 80%|████████  | 468021/584636 [3:14:26<29:26, 66.00it/s]  "
     ]
    },
    {
     "name": "stdout",
     "output_type": "stream",
     "text": [
      "log_events_156.csv completed!\n"
     ]
    },
    {
     "name": "stderr",
     "output_type": "stream",
     "text": [
      " 81%|████████  | 471010/584636 [3:15:30<40:25, 46.84it/s]  "
     ]
    },
    {
     "name": "stdout",
     "output_type": "stream",
     "text": [
      "log_events_157.csv completed!\n"
     ]
    },
    {
     "name": "stderr",
     "output_type": "stream",
     "text": [
      " 81%|████████  | 474011/584636 [3:16:30<45:32, 40.48it/s]  "
     ]
    },
    {
     "name": "stdout",
     "output_type": "stream",
     "text": [
      "log_events_158.csv completed!\n"
     ]
    },
    {
     "name": "stderr",
     "output_type": "stream",
     "text": [
      " 82%|████████▏ | 477006/584636 [3:17:32<47:01, 38.14it/s]  "
     ]
    },
    {
     "name": "stdout",
     "output_type": "stream",
     "text": [
      "log_events_159.csv completed!\n"
     ]
    },
    {
     "name": "stderr",
     "output_type": "stream",
     "text": [
      " 82%|████████▏ | 480013/584636 [3:18:34<31:28, 55.40it/s]  "
     ]
    },
    {
     "name": "stdout",
     "output_type": "stream",
     "text": [
      "log_events_160.csv completed!\n"
     ]
    },
    {
     "name": "stderr",
     "output_type": "stream",
     "text": [
      " 83%|████████▎ | 483002/584636 [3:19:40<34:54, 48.52it/s]  "
     ]
    },
    {
     "name": "stdout",
     "output_type": "stream",
     "text": [
      "log_events_161.csv completed!\n"
     ]
    },
    {
     "name": "stderr",
     "output_type": "stream",
     "text": [
      " 83%|████████▎ | 486012/584636 [3:20:42<31:57, 51.42it/s]  "
     ]
    },
    {
     "name": "stdout",
     "output_type": "stream",
     "text": [
      "log_events_162.csv completed!\n"
     ]
    },
    {
     "name": "stderr",
     "output_type": "stream",
     "text": [
      " 84%|████████▎ | 489007/584636 [3:21:45<40:04, 39.76it/s]  "
     ]
    },
    {
     "name": "stdout",
     "output_type": "stream",
     "text": [
      "log_events_163.csv completed!\n"
     ]
    },
    {
     "name": "stderr",
     "output_type": "stream",
     "text": [
      " 84%|████████▍ | 492011/584636 [3:22:47<31:06, 49.63it/s]  "
     ]
    },
    {
     "name": "stdout",
     "output_type": "stream",
     "text": [
      "log_events_164.csv completed!\n"
     ]
    },
    {
     "name": "stderr",
     "output_type": "stream",
     "text": [
      " 85%|████████▍ | 495010/584636 [3:23:51<37:03, 40.32it/s]  "
     ]
    },
    {
     "name": "stdout",
     "output_type": "stream",
     "text": [
      "log_events_165.csv completed!\n"
     ]
    },
    {
     "name": "stderr",
     "output_type": "stream",
     "text": [
      " 85%|████████▌ | 498015/584636 [3:24:56<37:39, 38.34it/s]  "
     ]
    },
    {
     "name": "stdout",
     "output_type": "stream",
     "text": [
      "log_events_166.csv completed!\n"
     ]
    },
    {
     "name": "stderr",
     "output_type": "stream",
     "text": [
      " 86%|████████▌ | 501012/584636 [3:26:00<27:55, 49.92it/s]  "
     ]
    },
    {
     "name": "stdout",
     "output_type": "stream",
     "text": [
      "log_events_167.csv completed!\n"
     ]
    },
    {
     "name": "stderr",
     "output_type": "stream",
     "text": [
      " 86%|████████▌ | 504019/584636 [3:27:01<22:45, 59.04it/s]"
     ]
    },
    {
     "name": "stdout",
     "output_type": "stream",
     "text": [
      "log_events_168.csv completed!\n"
     ]
    },
    {
     "name": "stderr",
     "output_type": "stream",
     "text": [
      " 87%|████████▋ | 507007/584636 [3:28:08<37:53, 34.15it/s]  "
     ]
    },
    {
     "name": "stdout",
     "output_type": "stream",
     "text": [
      "log_events_169.csv completed!\n"
     ]
    },
    {
     "name": "stderr",
     "output_type": "stream",
     "text": [
      " 87%|████████▋ | 510015/584636 [3:29:17<21:22, 58.21it/s]  "
     ]
    },
    {
     "name": "stdout",
     "output_type": "stream",
     "text": [
      "log_events_170.csv completed!\n"
     ]
    },
    {
     "name": "stderr",
     "output_type": "stream",
     "text": [
      " 88%|████████▊ | 513019/584636 [3:30:19<19:26, 61.40it/s]  "
     ]
    },
    {
     "name": "stdout",
     "output_type": "stream",
     "text": [
      "log_events_171.csv completed!\n"
     ]
    },
    {
     "name": "stderr",
     "output_type": "stream",
     "text": [
      " 88%|████████▊ | 516005/584636 [3:31:25<25:18, 45.21it/s]"
     ]
    },
    {
     "name": "stdout",
     "output_type": "stream",
     "text": [
      "log_events_172.csv completed!\n"
     ]
    },
    {
     "name": "stderr",
     "output_type": "stream",
     "text": [
      " 89%|████████▉ | 519012/584636 [3:32:32<22:44, 48.09it/s]  "
     ]
    },
    {
     "name": "stdout",
     "output_type": "stream",
     "text": [
      "log_events_173.csv completed!\n"
     ]
    },
    {
     "name": "stderr",
     "output_type": "stream",
     "text": [
      " 89%|████████▉ | 522018/584636 [3:33:37<17:15, 60.44it/s]  "
     ]
    },
    {
     "name": "stdout",
     "output_type": "stream",
     "text": [
      "log_events_174.csv completed!\n"
     ]
    },
    {
     "name": "stderr",
     "output_type": "stream",
     "text": [
      " 90%|████████▉ | 525015/584636 [3:34:39<18:15, 54.41it/s]"
     ]
    },
    {
     "name": "stdout",
     "output_type": "stream",
     "text": [
      "log_events_175.csv completed!\n"
     ]
    },
    {
     "name": "stderr",
     "output_type": "stream",
     "text": [
      " 90%|█████████ | 528012/584636 [3:35:41<26:33, 35.54it/s]  "
     ]
    },
    {
     "name": "stdout",
     "output_type": "stream",
     "text": [
      "log_events_176.csv completed!\n"
     ]
    },
    {
     "name": "stderr",
     "output_type": "stream",
     "text": [
      " 91%|█████████ | 531000/584636 [3:36:42<21:20, 41.89it/s]"
     ]
    },
    {
     "name": "stdout",
     "output_type": "stream",
     "text": [
      "log_events_177.csv completed!\n"
     ]
    },
    {
     "name": "stderr",
     "output_type": "stream",
     "text": [
      " 91%|█████████▏| 534006/584636 [3:38:43<43:08, 19.56it/s]  "
     ]
    },
    {
     "name": "stdout",
     "output_type": "stream",
     "text": [
      "log_events_178.csv completed!\n"
     ]
    },
    {
     "name": "stderr",
     "output_type": "stream",
     "text": [
      " 92%|█████████▏| 537005/584636 [3:40:49<29:18, 27.09it/s]  "
     ]
    },
    {
     "name": "stdout",
     "output_type": "stream",
     "text": [
      "log_events_179.csv completed!\n"
     ]
    },
    {
     "name": "stderr",
     "output_type": "stream",
     "text": [
      " 92%|█████████▏| 540007/584636 [3:42:52<26:52, 27.67it/s]  "
     ]
    },
    {
     "name": "stdout",
     "output_type": "stream",
     "text": [
      "log_events_180.csv completed!\n"
     ]
    },
    {
     "name": "stderr",
     "output_type": "stream",
     "text": [
      " 93%|█████████▎| 543001/584636 [3:44:49<37:25, 18.54it/s]  "
     ]
    },
    {
     "name": "stdout",
     "output_type": "stream",
     "text": [
      "log_events_181.csv completed!\n"
     ]
    },
    {
     "name": "stderr",
     "output_type": "stream",
     "text": [
      " 93%|█████████▎| 546009/584636 [3:47:04<25:19, 25.43it/s]  "
     ]
    },
    {
     "name": "stdout",
     "output_type": "stream",
     "text": [
      "log_events_182.csv completed!\n"
     ]
    },
    {
     "name": "stderr",
     "output_type": "stream",
     "text": [
      " 94%|█████████▍| 549001/584636 [3:49:10<50:55, 11.66it/s]  "
     ]
    },
    {
     "name": "stdout",
     "output_type": "stream",
     "text": [
      "log_events_183.csv completed!\n"
     ]
    },
    {
     "name": "stderr",
     "output_type": "stream",
     "text": [
      " 94%|█████████▍| 552005/584636 [3:51:14<30:59, 17.54it/s]  "
     ]
    },
    {
     "name": "stdout",
     "output_type": "stream",
     "text": [
      "log_events_184.csv completed!\n"
     ]
    },
    {
     "name": "stderr",
     "output_type": "stream",
     "text": [
      " 95%|█████████▍| 555005/584636 [3:53:29<28:24, 17.38it/s]  "
     ]
    },
    {
     "name": "stdout",
     "output_type": "stream",
     "text": [
      "log_events_185.csv completed!\n"
     ]
    },
    {
     "name": "stderr",
     "output_type": "stream",
     "text": [
      " 95%|█████████▌| 558003/584636 [3:57:25<1:01:18,  7.24it/s]"
     ]
    },
    {
     "name": "stdout",
     "output_type": "stream",
     "text": [
      "log_events_186.csv completed!\n"
     ]
    },
    {
     "name": "stderr",
     "output_type": "stream",
     "text": [
      " 96%|█████████▌| 561002/584636 [4:01:09<41:28,  9.50it/s]  "
     ]
    },
    {
     "name": "stdout",
     "output_type": "stream",
     "text": [
      "log_events_187.csv completed!\n"
     ]
    },
    {
     "name": "stderr",
     "output_type": "stream",
     "text": [
      " 96%|█████████▋| 564001/584636 [4:04:59<53:39,  6.41it/s]  "
     ]
    },
    {
     "name": "stdout",
     "output_type": "stream",
     "text": [
      "log_events_188.csv completed!\n"
     ]
    },
    {
     "name": "stderr",
     "output_type": "stream",
     "text": [
      " 97%|█████████▋| 566999/584636 [4:07:55<12:20, 23.82it/s]"
     ]
    },
    {
     "name": "stdout",
     "output_type": "stream",
     "text": [
      "log_events_189.csv completed!\n"
     ]
    },
    {
     "name": "stderr",
     "output_type": "stream",
     "text": [
      " 97%|█████████▋| 570002/584636 [4:10:00<16:59, 14.36it/s]"
     ]
    },
    {
     "name": "stdout",
     "output_type": "stream",
     "text": [
      "log_events_190.csv completed!\n"
     ]
    },
    {
     "name": "stderr",
     "output_type": "stream",
     "text": [
      " 98%|█████████▊| 573000/584636 [4:12:03<08:18, 23.33it/s]"
     ]
    },
    {
     "name": "stdout",
     "output_type": "stream",
     "text": [
      "log_events_191.csv completed!\n"
     ]
    },
    {
     "name": "stderr",
     "output_type": "stream",
     "text": [
      " 99%|█████████▊| 576005/584636 [4:14:08<06:38, 21.66it/s]"
     ]
    },
    {
     "name": "stdout",
     "output_type": "stream",
     "text": [
      "log_events_192.csv completed!\n"
     ]
    },
    {
     "name": "stderr",
     "output_type": "stream",
     "text": [
      " 99%|█████████▉| 579005/584636 [4:16:11<04:38, 20.24it/s]"
     ]
    },
    {
     "name": "stdout",
     "output_type": "stream",
     "text": [
      "log_events_193.csv completed!\n"
     ]
    },
    {
     "name": "stderr",
     "output_type": "stream",
     "text": [
      "100%|█████████▉| 582012/584636 [4:18:10<01:27, 30.15it/s]"
     ]
    },
    {
     "name": "stdout",
     "output_type": "stream",
     "text": [
      "log_events_194.csv completed!\n"
     ]
    },
    {
     "name": "stderr",
     "output_type": "stream",
     "text": [
      "100%|██████████| 584636/584636 [4:19:58<00:00, 37.48it/s]\n"
     ]
    }
   ],
   "source": [
    "file_index = 1\n",
    "iteration = 0\n",
    "checkpoint_start = 0\n",
    "checkpoint_end = 0\n",
    "for user_id in tqdm(log_data_users):\n",
    "    \n",
    "    # log_data_sort의 row를 다 돌때까지\n",
    "    while checkpoint_end < len(log_data_sort):\n",
    "        # 이미 정렬해놓은 데이터프레임에서, 같은 user끼리의 임시 데이터프레임을 만들기 위함\n",
    "        if log_data_sort.loc[checkpoint_end, :]['user_id'] == user_id:\n",
    "            checkpoint_end += 1\n",
    "        else:\n",
    "            break\n",
    "            \n",
    "    # 임시 데이터프레임\n",
    "    tmp = log_data_sort.iloc[checkpoint_start:checkpoint_end+1, :].reset_index(drop=True)\n",
    "    \n",
    "    pivot = tmp.iloc[0, :]\n",
    "    event_save = pivot['event']\n",
    "    time_save = pivot['timestamp']\n",
    "    \n",
    "    \n",
    "    # 처음 df 초기화\n",
    "    tmp_df = pd.DataFrame( {'user_id': [user_id], 'date': [pivot['date_cd']], 'events': ['']} )\n",
    "    # 시간 check\n",
    "    for row_index in range(1, len(tmp)):\n",
    "        row = tmp.iloc[row_index, :]\n",
    "        dt1 = datetime.strptime(pivot['timestamp'], '%Y-%m-%d %H:%M:%S')\n",
    "        dt2 = datetime.strptime(row['timestamp'], '%Y-%m-%d %H:%M:%S')\n",
    "        \n",
    "        # 두 timestamp의 시간차가 15분이 되질 않는다면\n",
    "        if (dt2 - dt1).seconds < 900:\n",
    "            event_save += (\",\" + row['event'])\n",
    "            time_save += (\",\" + row['timestamp'])\n",
    "            \n",
    "        else:\n",
    "            # 이제까지 한 거 저장\n",
    "            tmp_df['events'] = event_save\n",
    "            tmp_df['timestamp'] = time_save\n",
    "            # 임시 데이터프레임과 기존 데이터프레임을 concat\n",
    "            user_activity_df = pd.concat([user_activity_df, tmp_df], ignore_index = True)\n",
    "            # 임시 데이터프레임 초기화\n",
    "            tmp_df = pd.DataFrame( {'user_id': [user_id], 'date': [row['date_cd']], 'events': ['']} )\n",
    "            event_save = row['event']\n",
    "            time_save = row['timestamp']\n",
    "        pivot = row\n",
    "        \n",
    "    # 다음 user_id를 선택하기 위해 checkpoint start 갱신\n",
    "    checkpoint_start = checkpoint_end\n",
    "    iteration += 1\n",
    "    \n",
    "    # 데이터프레임을 계속해서 concat해서 커지게 되면, concat할 때마다 overhead가 발생해서 processing 속도 느려짐\n",
    "    # 따라서 3000개의 user_id데이터를 처리할 때마다 임시파일로 저장해둔다\n",
    "    if iteration > 0 and iteration % 3000 == 0:\n",
    "        user_activity_df.to_csv(f'data/new_log/log_events_{file_index}.csv', index=False)\n",
    "        user_activity_df = pd.DataFrame(columns=['user_id', 'date', 'events', 'timestamp'])\n",
    "        print(f'log_events_{file_index}.csv completed!')\n",
    "        file_index += 1\n",
    "        \n",
    "user_activity_df.to_csv(f'data/new_log/log_events_{file_index}.csv', index=False)\n",
    "\n"
   ]
  },
  {
   "cell_type": "code",
   "execution_count": 12,
   "id": "d60707c2-bcc6-4bae-afdf-0777c89bb1f5",
   "metadata": {},
   "outputs": [],
   "source": [
    "# 임시파일을 다시 하나로 합쳐주는 작업을 한다\n",
    "log_event_df = pd.DataFrame(columns=['user_id', 'date', 'events', 'timestamp'])\n",
    "for i in range(1, 195+1):\n",
    "    tmp_df = pd.read_csv(f\"data/new_log/log_events_{i}.csv\")\n",
    "    log_event_df = pd.concat([log_event_df, tmp_df]).reset_index(drop=True)\n",
    "\n",
    "# 중간 저장\n",
    "log_event_df.to_csv('data/new_log_events.csv', index=False)\n",
    "    "
   ]
  },
  {
   "cell_type": "markdown",
   "id": "2ddaccd8-efc2-418b-bb9b-30f84a25bf67",
   "metadata": {},
   "source": [
    "## 1.3 군집을 위한 추가 전처리작업\n",
    "- OpenApp 제거(너무 당연한 로그라서(어플을 키는 것 자체가 OpenApp을 수반하기 때문) 일종의 불용어 처리\n",
    "- 각 row의 timestamp에서 event 지속시간 추출"
   ]
  },
  {
   "cell_type": "code",
   "execution_count": 13,
   "id": "ae1eb7f5-b80e-459c-acb7-9c7bf0bd3899",
   "metadata": {},
   "outputs": [
    {
     "data": {
      "text/html": [
       "<div>\n",
       "<style scoped>\n",
       "    .dataframe tbody tr th:only-of-type {\n",
       "        vertical-align: middle;\n",
       "    }\n",
       "\n",
       "    .dataframe tbody tr th {\n",
       "        vertical-align: top;\n",
       "    }\n",
       "\n",
       "    .dataframe thead th {\n",
       "        text-align: right;\n",
       "    }\n",
       "</style>\n",
       "<table border=\"1\" class=\"dataframe\">\n",
       "  <thead>\n",
       "    <tr style=\"text-align: right;\">\n",
       "      <th></th>\n",
       "      <th>user_id</th>\n",
       "      <th>date</th>\n",
       "      <th>events</th>\n",
       "      <th>timestamp</th>\n",
       "    </tr>\n",
       "  </thead>\n",
       "  <tbody>\n",
       "    <tr>\n",
       "      <th>0</th>\n",
       "      <td>1</td>\n",
       "      <td>2022-05-03</td>\n",
       "      <td>GetCreditInfo,GetCreditInfo</td>\n",
       "      <td>2022-05-03 14:52:28,2022-05-03 14:52:35</td>\n",
       "    </tr>\n",
       "    <tr>\n",
       "      <th>1</th>\n",
       "      <td>1</td>\n",
       "      <td>2022-06-16</td>\n",
       "      <td>UseLoanManage,Login,GetCreditInfo</td>\n",
       "      <td>2022-06-16 23:58:41,2022-06-16 23:58:41,2022-0...</td>\n",
       "    </tr>\n",
       "    <tr>\n",
       "      <th>2</th>\n",
       "      <td>7</td>\n",
       "      <td>2022-05-22</td>\n",
       "      <td>GetCreditInfo</td>\n",
       "      <td>2022-05-22 16:39:49</td>\n",
       "    </tr>\n",
       "    <tr>\n",
       "      <th>3</th>\n",
       "      <td>9</td>\n",
       "      <td>2022-05-21</td>\n",
       "      <td>GetCreditInfo,GetCreditInfo,GetCreditInfo</td>\n",
       "      <td>2022-05-21 23:37:58,2022-05-21 23:43:33,2022-0...</td>\n",
       "    </tr>\n",
       "    <tr>\n",
       "      <th>4</th>\n",
       "      <td>11</td>\n",
       "      <td>2022-03-24</td>\n",
       "      <td>OpenApp,GetCreditInfo,UseLoanManage,GetCreditI...</td>\n",
       "      <td>2022-03-24 10:53:59,2022-03-24 10:54:07,2022-0...</td>\n",
       "    </tr>\n",
       "    <tr>\n",
       "      <th>...</th>\n",
       "      <td>...</td>\n",
       "      <td>...</td>\n",
       "      <td>...</td>\n",
       "      <td>...</td>\n",
       "    </tr>\n",
       "    <tr>\n",
       "      <th>3608000</th>\n",
       "      <td>879693</td>\n",
       "      <td>2022-06-29</td>\n",
       "      <td>OpenApp</td>\n",
       "      <td>2022-06-29 17:20:45</td>\n",
       "    </tr>\n",
       "    <tr>\n",
       "      <th>3608001</th>\n",
       "      <td>879694</td>\n",
       "      <td>2022-03-31</td>\n",
       "      <td>StartLoanApply,ViewLoanApplyIntro,CompleteIDCe...</td>\n",
       "      <td>2022-03-31 20:07:23,2022-03-31 20:07:23,2022-0...</td>\n",
       "    </tr>\n",
       "    <tr>\n",
       "      <th>3608002</th>\n",
       "      <td>879695</td>\n",
       "      <td>2022-05-27</td>\n",
       "      <td>StartLoanApply,ViewLoanApplyIntro,CompleteIDCe...</td>\n",
       "      <td>2022-05-27 12:48:32,2022-05-27 12:48:32,2022-0...</td>\n",
       "    </tr>\n",
       "    <tr>\n",
       "      <th>3608003</th>\n",
       "      <td>879696</td>\n",
       "      <td>2022-03-14</td>\n",
       "      <td>Login,UseLoanManage,GetCreditInfo,GetCreditInf...</td>\n",
       "      <td>2022-03-14 05:35:34,2022-03-14 05:35:41,2022-0...</td>\n",
       "    </tr>\n",
       "    <tr>\n",
       "      <th>3608004</th>\n",
       "      <td>879698</td>\n",
       "      <td>2022-05-24</td>\n",
       "      <td>OpenApp,StartLoanApply,ViewLoanApplyIntro</td>\n",
       "      <td>2022-05-24 22:33:24,2022-05-24 22:33:32,2022-0...</td>\n",
       "    </tr>\n",
       "  </tbody>\n",
       "</table>\n",
       "<p>3608005 rows × 4 columns</p>\n",
       "</div>"
      ],
      "text/plain": [
       "         user_id        date  \\\n",
       "0              1  2022-05-03   \n",
       "1              1  2022-06-16   \n",
       "2              7  2022-05-22   \n",
       "3              9  2022-05-21   \n",
       "4             11  2022-03-24   \n",
       "...          ...         ...   \n",
       "3608000   879693  2022-06-29   \n",
       "3608001   879694  2022-03-31   \n",
       "3608002   879695  2022-05-27   \n",
       "3608003   879696  2022-03-14   \n",
       "3608004   879698  2022-05-24   \n",
       "\n",
       "                                                    events  \\\n",
       "0                              GetCreditInfo,GetCreditInfo   \n",
       "1                        UseLoanManage,Login,GetCreditInfo   \n",
       "2                                            GetCreditInfo   \n",
       "3                GetCreditInfo,GetCreditInfo,GetCreditInfo   \n",
       "4        OpenApp,GetCreditInfo,UseLoanManage,GetCreditI...   \n",
       "...                                                    ...   \n",
       "3608000                                            OpenApp   \n",
       "3608001  StartLoanApply,ViewLoanApplyIntro,CompleteIDCe...   \n",
       "3608002  StartLoanApply,ViewLoanApplyIntro,CompleteIDCe...   \n",
       "3608003  Login,UseLoanManage,GetCreditInfo,GetCreditInf...   \n",
       "3608004          OpenApp,StartLoanApply,ViewLoanApplyIntro   \n",
       "\n",
       "                                                 timestamp  \n",
       "0                  2022-05-03 14:52:28,2022-05-03 14:52:35  \n",
       "1        2022-06-16 23:58:41,2022-06-16 23:58:41,2022-0...  \n",
       "2                                      2022-05-22 16:39:49  \n",
       "3        2022-05-21 23:37:58,2022-05-21 23:43:33,2022-0...  \n",
       "4        2022-03-24 10:53:59,2022-03-24 10:54:07,2022-0...  \n",
       "...                                                    ...  \n",
       "3608000                                2022-06-29 17:20:45  \n",
       "3608001  2022-03-31 20:07:23,2022-03-31 20:07:23,2022-0...  \n",
       "3608002  2022-05-27 12:48:32,2022-05-27 12:48:32,2022-0...  \n",
       "3608003  2022-03-14 05:35:34,2022-03-14 05:35:41,2022-0...  \n",
       "3608004  2022-05-24 22:33:24,2022-05-24 22:33:32,2022-0...  \n",
       "\n",
       "[3608005 rows x 4 columns]"
      ]
     },
     "execution_count": 13,
     "metadata": {},
     "output_type": "execute_result"
    }
   ],
   "source": [
    "# 중간 저장 파일 로드\n",
    "log_event_df = pd.read_csv('data/new_log_events.csv')\n",
    "log_event_df"
   ]
  },
  {
   "cell_type": "code",
   "execution_count": 14,
   "id": "9d2491e9-5ab8-4d0e-8f5a-2ecb5d7b33f2",
   "metadata": {},
   "outputs": [],
   "source": [
    "# 시간 길이 측정하기\n",
    "from datetime import datetime\n",
    "\n",
    "def check_time_length(row):\n",
    "    time_list = row.split(',')\n",
    "    \n",
    "    # event가 1개인 경우일 때는 0초로 처리\n",
    "    if len(time_list) < 2:\n",
    "        return 0\n",
    "    else:\n",
    "        start_time = time_list[0]\n",
    "        end_time   = time_list[-1]\n",
    "        sec = ( datetime.strptime(end_time, '%Y-%m-%d %H:%M:%S') - datetime.strptime(start_time, '%Y-%m-%d %H:%M:%S') ).seconds\n",
    "        return sec"
   ]
  },
  {
   "cell_type": "code",
   "execution_count": 15,
   "id": "8fcb2b57-b86a-4781-a4f1-45891ff35cc0",
   "metadata": {},
   "outputs": [
    {
     "data": {
      "text/html": [
       "<div>\n",
       "<style scoped>\n",
       "    .dataframe tbody tr th:only-of-type {\n",
       "        vertical-align: middle;\n",
       "    }\n",
       "\n",
       "    .dataframe tbody tr th {\n",
       "        vertical-align: top;\n",
       "    }\n",
       "\n",
       "    .dataframe thead th {\n",
       "        text-align: right;\n",
       "    }\n",
       "</style>\n",
       "<table border=\"1\" class=\"dataframe\">\n",
       "  <thead>\n",
       "    <tr style=\"text-align: right;\">\n",
       "      <th></th>\n",
       "      <th>user_id</th>\n",
       "      <th>date</th>\n",
       "      <th>events</th>\n",
       "      <th>timestamp</th>\n",
       "      <th>time</th>\n",
       "    </tr>\n",
       "  </thead>\n",
       "  <tbody>\n",
       "    <tr>\n",
       "      <th>0</th>\n",
       "      <td>1</td>\n",
       "      <td>2022-05-03</td>\n",
       "      <td>GetCreditInfo,GetCreditInfo</td>\n",
       "      <td>2022-05-03 14:52:28,2022-05-03 14:52:35</td>\n",
       "      <td>7</td>\n",
       "    </tr>\n",
       "    <tr>\n",
       "      <th>1</th>\n",
       "      <td>1</td>\n",
       "      <td>2022-06-16</td>\n",
       "      <td>UseLoanManage,Login,GetCreditInfo</td>\n",
       "      <td>2022-06-16 23:58:41,2022-06-16 23:58:41,2022-0...</td>\n",
       "      <td>1</td>\n",
       "    </tr>\n",
       "    <tr>\n",
       "      <th>2</th>\n",
       "      <td>7</td>\n",
       "      <td>2022-05-22</td>\n",
       "      <td>GetCreditInfo</td>\n",
       "      <td>2022-05-22 16:39:49</td>\n",
       "      <td>0</td>\n",
       "    </tr>\n",
       "    <tr>\n",
       "      <th>3</th>\n",
       "      <td>9</td>\n",
       "      <td>2022-05-21</td>\n",
       "      <td>GetCreditInfo,GetCreditInfo,GetCreditInfo</td>\n",
       "      <td>2022-05-21 23:37:58,2022-05-21 23:43:33,2022-0...</td>\n",
       "      <td>354</td>\n",
       "    </tr>\n",
       "    <tr>\n",
       "      <th>4</th>\n",
       "      <td>11</td>\n",
       "      <td>2022-03-24</td>\n",
       "      <td>OpenApp,GetCreditInfo,UseLoanManage,GetCreditI...</td>\n",
       "      <td>2022-03-24 10:53:59,2022-03-24 10:54:07,2022-0...</td>\n",
       "      <td>692</td>\n",
       "    </tr>\n",
       "  </tbody>\n",
       "</table>\n",
       "</div>"
      ],
      "text/plain": [
       "   user_id        date                                             events  \\\n",
       "0        1  2022-05-03                        GetCreditInfo,GetCreditInfo   \n",
       "1        1  2022-06-16                  UseLoanManage,Login,GetCreditInfo   \n",
       "2        7  2022-05-22                                      GetCreditInfo   \n",
       "3        9  2022-05-21          GetCreditInfo,GetCreditInfo,GetCreditInfo   \n",
       "4       11  2022-03-24  OpenApp,GetCreditInfo,UseLoanManage,GetCreditI...   \n",
       "\n",
       "                                           timestamp  time  \n",
       "0            2022-05-03 14:52:28,2022-05-03 14:52:35     7  \n",
       "1  2022-06-16 23:58:41,2022-06-16 23:58:41,2022-0...     1  \n",
       "2                                2022-05-22 16:39:49     0  \n",
       "3  2022-05-21 23:37:58,2022-05-21 23:43:33,2022-0...   354  \n",
       "4  2022-03-24 10:53:59,2022-03-24 10:54:07,2022-0...   692  "
      ]
     },
     "execution_count": 15,
     "metadata": {},
     "output_type": "execute_result"
    }
   ],
   "source": [
    "# 각 행마다 이벤트 지속시간 측정(초단위)\n",
    "log_event_df['time'] = log_event_df['timestamp'].apply(lambda x: check_time_length(x))\n",
    "log_event_df.head()"
   ]
  },
  {
   "cell_type": "code",
   "execution_count": 16,
   "id": "f5dab90a-cb50-4140-ab1c-1dc274c142fc",
   "metadata": {},
   "outputs": [
    {
     "data": {
      "text/html": [
       "<div>\n",
       "<style scoped>\n",
       "    .dataframe tbody tr th:only-of-type {\n",
       "        vertical-align: middle;\n",
       "    }\n",
       "\n",
       "    .dataframe tbody tr th {\n",
       "        vertical-align: top;\n",
       "    }\n",
       "\n",
       "    .dataframe thead th {\n",
       "        text-align: right;\n",
       "    }\n",
       "</style>\n",
       "<table border=\"1\" class=\"dataframe\">\n",
       "  <thead>\n",
       "    <tr style=\"text-align: right;\">\n",
       "      <th></th>\n",
       "      <th>user_id</th>\n",
       "      <th>date</th>\n",
       "      <th>events</th>\n",
       "      <th>timestamp</th>\n",
       "      <th>time</th>\n",
       "    </tr>\n",
       "  </thead>\n",
       "  <tbody>\n",
       "    <tr>\n",
       "      <th>0</th>\n",
       "      <td>1</td>\n",
       "      <td>2022-05-03</td>\n",
       "      <td>GetCreditInfo,GetCreditInfo</td>\n",
       "      <td>2022-05-03 14:52:28,2022-05-03 14:52:35</td>\n",
       "      <td>7</td>\n",
       "    </tr>\n",
       "    <tr>\n",
       "      <th>1</th>\n",
       "      <td>1</td>\n",
       "      <td>2022-06-16</td>\n",
       "      <td>UseLoanManage,Login,GetCreditInfo</td>\n",
       "      <td>2022-06-16 23:58:41,2022-06-16 23:58:41,2022-0...</td>\n",
       "      <td>1</td>\n",
       "    </tr>\n",
       "    <tr>\n",
       "      <th>2</th>\n",
       "      <td>7</td>\n",
       "      <td>2022-05-22</td>\n",
       "      <td>GetCreditInfo</td>\n",
       "      <td>2022-05-22 16:39:49</td>\n",
       "      <td>0</td>\n",
       "    </tr>\n",
       "    <tr>\n",
       "      <th>3</th>\n",
       "      <td>9</td>\n",
       "      <td>2022-05-21</td>\n",
       "      <td>GetCreditInfo,GetCreditInfo,GetCreditInfo</td>\n",
       "      <td>2022-05-21 23:37:58,2022-05-21 23:43:33,2022-0...</td>\n",
       "      <td>354</td>\n",
       "    </tr>\n",
       "    <tr>\n",
       "      <th>4</th>\n",
       "      <td>11</td>\n",
       "      <td>2022-03-24</td>\n",
       "      <td>GetCreditInfo,UseLoanManage,GetCreditInfo,UseP...</td>\n",
       "      <td>2022-03-24 10:53:59,2022-03-24 10:54:07,2022-0...</td>\n",
       "      <td>692</td>\n",
       "    </tr>\n",
       "  </tbody>\n",
       "</table>\n",
       "</div>"
      ],
      "text/plain": [
       "   user_id        date                                             events  \\\n",
       "0        1  2022-05-03                        GetCreditInfo,GetCreditInfo   \n",
       "1        1  2022-06-16                  UseLoanManage,Login,GetCreditInfo   \n",
       "2        7  2022-05-22                                      GetCreditInfo   \n",
       "3        9  2022-05-21          GetCreditInfo,GetCreditInfo,GetCreditInfo   \n",
       "4       11  2022-03-24  GetCreditInfo,UseLoanManage,GetCreditInfo,UseP...   \n",
       "\n",
       "                                           timestamp  time  \n",
       "0            2022-05-03 14:52:28,2022-05-03 14:52:35     7  \n",
       "1  2022-06-16 23:58:41,2022-06-16 23:58:41,2022-0...     1  \n",
       "2                                2022-05-22 16:39:49     0  \n",
       "3  2022-05-21 23:37:58,2022-05-21 23:43:33,2022-0...   354  \n",
       "4  2022-03-24 10:53:59,2022-03-24 10:54:07,2022-0...   692  "
      ]
     },
     "execution_count": 16,
     "metadata": {},
     "output_type": "execute_result"
    }
   ],
   "source": [
    "# openapp을 events에서 제거\n",
    "log_event_df['events'] = log_event_df['events'].apply(lambda x: x.replace('OpenApp,', ''))\n",
    "log_event_df['events'] = log_event_df['events'].apply(lambda x: x.replace(',OpenApp', ''))\n",
    "log_event_df['events'] = log_event_df['events'].apply(lambda x: x.replace('OpenApp', ''))\n",
    "\n",
    "log_event_df.head()"
   ]
  },
  {
   "cell_type": "code",
   "execution_count": 17,
   "id": "e228c5b2-87e3-4966-82ba-f8e3ca932f38",
   "metadata": {},
   "outputs": [
    {
     "data": {
      "text/html": [
       "<div>\n",
       "<style scoped>\n",
       "    .dataframe tbody tr th:only-of-type {\n",
       "        vertical-align: middle;\n",
       "    }\n",
       "\n",
       "    .dataframe tbody tr th {\n",
       "        vertical-align: top;\n",
       "    }\n",
       "\n",
       "    .dataframe thead th {\n",
       "        text-align: right;\n",
       "    }\n",
       "</style>\n",
       "<table border=\"1\" class=\"dataframe\">\n",
       "  <thead>\n",
       "    <tr style=\"text-align: right;\">\n",
       "      <th></th>\n",
       "      <th>user_id</th>\n",
       "      <th>date</th>\n",
       "      <th>events</th>\n",
       "      <th>timestamp</th>\n",
       "      <th>time</th>\n",
       "    </tr>\n",
       "  </thead>\n",
       "  <tbody>\n",
       "    <tr>\n",
       "      <th>0</th>\n",
       "      <td>20</td>\n",
       "      <td>2022-03-15</td>\n",
       "      <td></td>\n",
       "      <td>2022-03-15 16:21:32</td>\n",
       "      <td>0</td>\n",
       "    </tr>\n",
       "    <tr>\n",
       "      <th>1</th>\n",
       "      <td>20</td>\n",
       "      <td>2022-03-15</td>\n",
       "      <td></td>\n",
       "      <td>2022-03-15 17:47:51</td>\n",
       "      <td>0</td>\n",
       "    </tr>\n",
       "    <tr>\n",
       "      <th>2</th>\n",
       "      <td>20</td>\n",
       "      <td>2022-03-17</td>\n",
       "      <td></td>\n",
       "      <td>2022-03-17 17:14:47</td>\n",
       "      <td>0</td>\n",
       "    </tr>\n",
       "    <tr>\n",
       "      <th>3</th>\n",
       "      <td>20</td>\n",
       "      <td>2022-04-21</td>\n",
       "      <td></td>\n",
       "      <td>2022-04-21 20:20:49</td>\n",
       "      <td>0</td>\n",
       "    </tr>\n",
       "    <tr>\n",
       "      <th>4</th>\n",
       "      <td>20</td>\n",
       "      <td>2022-05-05</td>\n",
       "      <td></td>\n",
       "      <td>2022-05-05 15:25:31</td>\n",
       "      <td>0</td>\n",
       "    </tr>\n",
       "  </tbody>\n",
       "</table>\n",
       "</div>"
      ],
      "text/plain": [
       "   user_id        date events            timestamp  time\n",
       "0       20  2022-03-15         2022-03-15 16:21:32     0\n",
       "1       20  2022-03-15         2022-03-15 17:47:51     0\n",
       "2       20  2022-03-17         2022-03-17 17:14:47     0\n",
       "3       20  2022-04-21         2022-04-21 20:20:49     0\n",
       "4       20  2022-05-05         2022-05-05 15:25:31     0"
      ]
     },
     "execution_count": 17,
     "metadata": {},
     "output_type": "execute_result"
    }
   ],
   "source": [
    "only_openapp = log_event_df[log_event_df['events'].apply(lambda x: len(x)) == 0].reset_index(drop=True)\n",
    "# openapp time은 0으로 통일\n",
    "only_openapp['time'] = 0\n",
    "only_openapp.head()"
   ]
  },
  {
   "cell_type": "code",
   "execution_count": 18,
   "id": "feb761e5-4e09-49f5-b1a2-ede24e9ddef2",
   "metadata": {},
   "outputs": [
    {
     "data": {
      "text/html": [
       "<div>\n",
       "<style scoped>\n",
       "    .dataframe tbody tr th:only-of-type {\n",
       "        vertical-align: middle;\n",
       "    }\n",
       "\n",
       "    .dataframe tbody tr th {\n",
       "        vertical-align: top;\n",
       "    }\n",
       "\n",
       "    .dataframe thead th {\n",
       "        text-align: right;\n",
       "    }\n",
       "</style>\n",
       "<table border=\"1\" class=\"dataframe\">\n",
       "  <thead>\n",
       "    <tr style=\"text-align: right;\">\n",
       "      <th></th>\n",
       "      <th>user_id</th>\n",
       "      <th>date</th>\n",
       "      <th>events</th>\n",
       "      <th>timestamp</th>\n",
       "      <th>time</th>\n",
       "    </tr>\n",
       "  </thead>\n",
       "  <tbody>\n",
       "    <tr>\n",
       "      <th>0</th>\n",
       "      <td>1</td>\n",
       "      <td>2022-05-03</td>\n",
       "      <td>GetCreditInfo,GetCreditInfo</td>\n",
       "      <td>2022-05-03 14:52:28,2022-05-03 14:52:35</td>\n",
       "      <td>7</td>\n",
       "    </tr>\n",
       "    <tr>\n",
       "      <th>1</th>\n",
       "      <td>1</td>\n",
       "      <td>2022-06-16</td>\n",
       "      <td>UseLoanManage,Login,GetCreditInfo</td>\n",
       "      <td>2022-06-16 23:58:41,2022-06-16 23:58:41,2022-0...</td>\n",
       "      <td>1</td>\n",
       "    </tr>\n",
       "    <tr>\n",
       "      <th>2</th>\n",
       "      <td>7</td>\n",
       "      <td>2022-05-22</td>\n",
       "      <td>GetCreditInfo</td>\n",
       "      <td>2022-05-22 16:39:49</td>\n",
       "      <td>0</td>\n",
       "    </tr>\n",
       "    <tr>\n",
       "      <th>3</th>\n",
       "      <td>9</td>\n",
       "      <td>2022-05-21</td>\n",
       "      <td>GetCreditInfo,GetCreditInfo,GetCreditInfo</td>\n",
       "      <td>2022-05-21 23:37:58,2022-05-21 23:43:33,2022-0...</td>\n",
       "      <td>354</td>\n",
       "    </tr>\n",
       "    <tr>\n",
       "      <th>4</th>\n",
       "      <td>11</td>\n",
       "      <td>2022-03-24</td>\n",
       "      <td>GetCreditInfo,UseLoanManage,GetCreditInfo,UseP...</td>\n",
       "      <td>2022-03-24 10:53:59,2022-03-24 10:54:07,2022-0...</td>\n",
       "      <td>692</td>\n",
       "    </tr>\n",
       "    <tr>\n",
       "      <th>...</th>\n",
       "      <td>...</td>\n",
       "      <td>...</td>\n",
       "      <td>...</td>\n",
       "      <td>...</td>\n",
       "      <td>...</td>\n",
       "    </tr>\n",
       "    <tr>\n",
       "      <th>3055454</th>\n",
       "      <td>879693</td>\n",
       "      <td>2022-06-27</td>\n",
       "      <td>StartLoanApply,ViewLoanApplyIntro,CompleteIDCe...</td>\n",
       "      <td>2022-06-27 10:13:48,2022-06-27 10:13:54,2022-0...</td>\n",
       "      <td>24</td>\n",
       "    </tr>\n",
       "    <tr>\n",
       "      <th>3055455</th>\n",
       "      <td>879694</td>\n",
       "      <td>2022-03-31</td>\n",
       "      <td>StartLoanApply,ViewLoanApplyIntro,CompleteIDCe...</td>\n",
       "      <td>2022-03-31 20:07:23,2022-03-31 20:07:23,2022-0...</td>\n",
       "      <td>655</td>\n",
       "    </tr>\n",
       "    <tr>\n",
       "      <th>3055456</th>\n",
       "      <td>879695</td>\n",
       "      <td>2022-05-27</td>\n",
       "      <td>StartLoanApply,ViewLoanApplyIntro,CompleteIDCe...</td>\n",
       "      <td>2022-05-27 12:48:32,2022-05-27 12:48:32,2022-0...</td>\n",
       "      <td>171</td>\n",
       "    </tr>\n",
       "    <tr>\n",
       "      <th>3055457</th>\n",
       "      <td>879696</td>\n",
       "      <td>2022-03-14</td>\n",
       "      <td>Login,UseLoanManage,GetCreditInfo,GetCreditInf...</td>\n",
       "      <td>2022-03-14 05:35:34,2022-03-14 05:35:41,2022-0...</td>\n",
       "      <td>400</td>\n",
       "    </tr>\n",
       "    <tr>\n",
       "      <th>3055458</th>\n",
       "      <td>879698</td>\n",
       "      <td>2022-05-24</td>\n",
       "      <td>StartLoanApply,ViewLoanApplyIntro</td>\n",
       "      <td>2022-05-24 22:33:24,2022-05-24 22:33:32,2022-0...</td>\n",
       "      <td>8</td>\n",
       "    </tr>\n",
       "  </tbody>\n",
       "</table>\n",
       "<p>3055459 rows × 5 columns</p>\n",
       "</div>"
      ],
      "text/plain": [
       "         user_id        date  \\\n",
       "0              1  2022-05-03   \n",
       "1              1  2022-06-16   \n",
       "2              7  2022-05-22   \n",
       "3              9  2022-05-21   \n",
       "4             11  2022-03-24   \n",
       "...          ...         ...   \n",
       "3055454   879693  2022-06-27   \n",
       "3055455   879694  2022-03-31   \n",
       "3055456   879695  2022-05-27   \n",
       "3055457   879696  2022-03-14   \n",
       "3055458   879698  2022-05-24   \n",
       "\n",
       "                                                    events  \\\n",
       "0                              GetCreditInfo,GetCreditInfo   \n",
       "1                        UseLoanManage,Login,GetCreditInfo   \n",
       "2                                            GetCreditInfo   \n",
       "3                GetCreditInfo,GetCreditInfo,GetCreditInfo   \n",
       "4        GetCreditInfo,UseLoanManage,GetCreditInfo,UseP...   \n",
       "...                                                    ...   \n",
       "3055454  StartLoanApply,ViewLoanApplyIntro,CompleteIDCe...   \n",
       "3055455  StartLoanApply,ViewLoanApplyIntro,CompleteIDCe...   \n",
       "3055456  StartLoanApply,ViewLoanApplyIntro,CompleteIDCe...   \n",
       "3055457  Login,UseLoanManage,GetCreditInfo,GetCreditInf...   \n",
       "3055458                  StartLoanApply,ViewLoanApplyIntro   \n",
       "\n",
       "                                                 timestamp  time  \n",
       "0                  2022-05-03 14:52:28,2022-05-03 14:52:35     7  \n",
       "1        2022-06-16 23:58:41,2022-06-16 23:58:41,2022-0...     1  \n",
       "2                                      2022-05-22 16:39:49     0  \n",
       "3        2022-05-21 23:37:58,2022-05-21 23:43:33,2022-0...   354  \n",
       "4        2022-03-24 10:53:59,2022-03-24 10:54:07,2022-0...   692  \n",
       "...                                                    ...   ...  \n",
       "3055454  2022-06-27 10:13:48,2022-06-27 10:13:54,2022-0...    24  \n",
       "3055455  2022-03-31 20:07:23,2022-03-31 20:07:23,2022-0...   655  \n",
       "3055456  2022-05-27 12:48:32,2022-05-27 12:48:32,2022-0...   171  \n",
       "3055457  2022-03-14 05:35:34,2022-03-14 05:35:41,2022-0...   400  \n",
       "3055458  2022-05-24 22:33:24,2022-05-24 22:33:32,2022-0...     8  \n",
       "\n",
       "[3055459 rows x 5 columns]"
      ]
     },
     "execution_count": 18,
     "metadata": {},
     "output_type": "execute_result"
    }
   ],
   "source": [
    "# 기존 데이터(log_event_df) OpenApp만 있는 경우의 수 제거!\n",
    "new_log_event_df = log_event_df.drop(log_event_df[log_event_df['events'].apply(lambda x: len(x)) == 0].index).reset_index(drop=True)\n",
    "new_log_event_df"
   ]
  },
  {
   "cell_type": "markdown",
   "id": "1e64361c-a535-4db7-b002-7ce179db91f8",
   "metadata": {},
   "source": [
    "## 1.4. Glove 활용\n",
    "- 카운트 기반과 예측 기반 모두 사용하는 방법론\n",
    "- events의 문자열은 10여개의 단어로만 구성된 문자열\n",
    "- events를 일일히 전처리하기 보다는, 임베딩 벡터를 활용\n",
    "- 2단계로 임베딩함 : 10여개의 단어 임베딩 -> 단어 임베딩을 바탕으로 문장(events)를 통채로 임베딩"
   ]
  },
  {
   "cell_type": "code",
   "execution_count": 19,
   "id": "18bd45fa-6f27-4370-9720-ad673a14ed48",
   "metadata": {},
   "outputs": [],
   "source": [
    "# # https://velog.io/@ann9902/Glove-%EC%84%A4%EC%B9%98-%EC%97%90%EB%9F%AC-%ED%95%B4%EA%B2%B0%EB%B2%95\n",
    "# ! pip install glove_python_binary"
   ]
  },
  {
   "cell_type": "code",
   "execution_count": 20,
   "id": "0bbef821-093b-47ac-9040-b3d4112ee795",
   "metadata": {},
   "outputs": [],
   "source": [
    "from glove import Corpus, Glove"
   ]
  },
  {
   "cell_type": "code",
   "execution_count": 21,
   "id": "e20f544f-d0d1-40a7-a7e5-5e0fc7f4fde1",
   "metadata": {},
   "outputs": [],
   "source": [
    "# 단어 단위 split\n",
    "result = [events.split(',') for events in new_log_event_df.loc[:, 'events']]\n",
    "\n",
    "corpus = Corpus()\n",
    "corpus.fit(result, window=5)"
   ]
  },
  {
   "cell_type": "code",
   "execution_count": null,
   "id": "4f998e9a-2c17-4c2c-b8f4-e8ca4d2fe4a0",
   "metadata": {},
   "outputs": [],
   "source": []
  },
  {
   "cell_type": "code",
   "execution_count": 22,
   "id": "6993dc63-8d17-45d3-bc9d-183a14ef89f1",
   "metadata": {},
   "outputs": [
    {
     "name": "stdout",
     "output_type": "stream",
     "text": [
      "Wall time: 24 ms\n"
     ]
    }
   ],
   "source": [
    "# 훈련\n",
    "## no_components는 임베딩 벡터 dimension\n",
    "glove = Glove(no_components=32, learning_rate=0.01)     # 0.05\n",
    "%time glove.fit(corpus.matrix, epochs=100, no_threads=4, verbose=False)    # Wall time: 8min 32s\n",
    "glove.add_dictionary(corpus.dictionary)\n",
    "\n",
    "\n"
   ]
  },
  {
   "cell_type": "code",
   "execution_count": 23,
   "id": "b1709513-d169-4b94-9081-96f33185aa8d",
   "metadata": {},
   "outputs": [],
   "source": [
    "# # model save\n",
    "# glove.save('glove_32_epoch100.model')"
   ]
  },
  {
   "cell_type": "code",
   "execution_count": 24,
   "id": "1b6e3bc6-f986-4947-8b77-4c305719f238",
   "metadata": {},
   "outputs": [],
   "source": [
    "#model load\n",
    "glove_model = Glove.load('glove_32_epoch100.model')"
   ]
  },
  {
   "cell_type": "code",
   "execution_count": 25,
   "id": "57834b53-877d-4b65-97d0-df34d7e49d75",
   "metadata": {},
   "outputs": [],
   "source": [
    "# word dict 생성"
   ]
  },
  {
   "cell_type": "code",
   "execution_count": 26,
   "id": "a0f83389-61fd-4d49-8d3d-431ad952b619",
   "metadata": {},
   "outputs": [
    {
     "name": "stdout",
     "output_type": "stream",
     "text": [
      "[Success !] Lengh of word dict... :  10\n"
     ]
    }
   ],
   "source": [
    "word_dict = {}\n",
    "for word in  glove_model.dictionary.keys():\n",
    "    word_dict[word] = glove_model.word_vectors[glove_model.dictionary[word]]\n",
    "print('[Success !] Lengh of word dict... : ', len(word_dict))"
   ]
  },
  {
   "cell_type": "code",
   "execution_count": 27,
   "id": "2dc1757f-b423-4728-af79-95194ab84cf8",
   "metadata": {},
   "outputs": [
    {
     "data": {
      "text/plain": [
       "{'GetCreditInfo': array([-0.51256538, -0.51179434, -0.49176959,  0.51354897, -0.51007658,\n",
       "         0.53767853,  0.5127457 ,  0.50309013,  0.50984219,  0.49872453,\n",
       "         0.50695612,  0.50368135, -0.52142305, -0.51020081,  0.52667964,\n",
       "         0.52412489,  0.50351871,  0.48969901,  0.52049258, -0.50656359,\n",
       "        -0.50241932, -0.53583172, -0.52180443, -0.50781765,  0.51770425,\n",
       "         0.50871608, -0.49971704, -0.50146263,  0.48732218, -0.51015109,\n",
       "         0.52351302, -0.5303776 ]),\n",
       " 'UseLoanManage': array([-0.49470323, -0.50163492, -0.491423  ,  0.50558585, -0.51842026,\n",
       "         0.50611289,  0.51407371,  0.48189495,  0.48874736,  0.5070971 ,\n",
       "         0.49648585,  0.50529098, -0.51998235, -0.50707956,  0.51682825,\n",
       "         0.50781484,  0.51227228,  0.47680176,  0.50457247, -0.51463778,\n",
       "        -0.50713232, -0.51849126, -0.51313478, -0.49172867,  0.52452718,\n",
       "         0.48606383, -0.49986497, -0.49087542,  0.47712826, -0.49803301,\n",
       "         0.51246036, -0.52210129]),\n",
       " 'Login': array([-0.52149047, -0.5381254 , -0.5123553 ,  0.50812218, -0.54091783,\n",
       "         0.52757885,  0.52313049,  0.50782683,  0.52721113,  0.51982451,\n",
       "         0.52210866,  0.51494048, -0.52745206, -0.53446307,  0.52968383,\n",
       "         0.51289852,  0.52095834,  0.51587901,  0.51823349, -0.52218427,\n",
       "        -0.51312749, -0.53138427, -0.53220315, -0.52722843,  0.53780696,\n",
       "         0.52429613, -0.51758714, -0.51088581,  0.50805904, -0.53563266,\n",
       "         0.5313584 , -0.52244273]),\n",
       " 'UsePrepayCalc': array([-0.39369717, -0.38843802, -0.3529604 ,  0.36811315, -0.36914779,\n",
       "         0.3990001 ,  0.36520066,  0.38225367,  0.37017822,  0.37085464,\n",
       "         0.37950719,  0.38505948, -0.38994386, -0.37287011,  0.38972981,\n",
       "         0.38133494,  0.38034646,  0.35943052,  0.36459246, -0.37483562,\n",
       "        -0.36637425, -0.38559877, -0.38591367, -0.36090257,  0.39370101,\n",
       "         0.37434782, -0.36477852, -0.37126283,  0.36404541, -0.37168885,\n",
       "         0.37612696, -0.39036852]),\n",
       " 'StartLoanApply': array([-0.53296331, -0.53726184, -0.50755553,  0.50328771, -0.53279593,\n",
       "         0.54571246,  0.52718155,  0.49769305,  0.51654703,  0.51853296,\n",
       "         0.52109443,  0.53138372, -0.52818547, -0.52882106,  0.51735902,\n",
       "         0.52124325,  0.52288799,  0.50925014,  0.5206751 , -0.53280978,\n",
       "        -0.50502017, -0.53054854, -0.54355571, -0.50881743,  0.52382894,\n",
       "         0.52899109, -0.5124138 , -0.51659441,  0.50571268, -0.52479502,\n",
       "         0.5223761 , -0.53528109]),\n",
       " 'ViewLoanApplyIntro': array([-0.52122394, -0.53870755, -0.50408432,  0.51495922, -0.53594435,\n",
       "         0.55417298,  0.52162914,  0.50796923,  0.51296667,  0.52804661,\n",
       "         0.52827989,  0.51780036, -0.52104899, -0.52445288,  0.53920417,\n",
       "         0.53359584,  0.51523792,  0.49937384,  0.51297328, -0.52530651,\n",
       "        -0.51821304, -0.52902677, -0.54452429, -0.51405913,  0.5428655 ,\n",
       "         0.52194264, -0.51944137, -0.531547  ,  0.50260563, -0.53763296,\n",
       "         0.52180368, -0.53376842]),\n",
       " 'CompleteIDCertification': array([-0.5237657 , -0.53013016, -0.49054158,  0.51787662, -0.52519561,\n",
       "         0.53008821,  0.50408619,  0.50175362,  0.51978242,  0.52195936,\n",
       "         0.53157603,  0.51892789, -0.5206418 , -0.52333145,  0.52648944,\n",
       "         0.52522633,  0.51298803,  0.49294111,  0.50050479, -0.51114433,\n",
       "        -0.52498061, -0.52666536, -0.5263971 , -0.49768909,  0.5243746 ,\n",
       "         0.52068862, -0.50420384, -0.51004927,  0.51032275, -0.52691621,\n",
       "         0.50648962, -0.51237554]),\n",
       " 'EndLoanApply': array([-0.52454597, -0.53859085, -0.49507274,  0.52791572, -0.53885392,\n",
       "         0.54724156,  0.53393115,  0.51756584,  0.51962498,  0.53650018,\n",
       "         0.5399064 ,  0.52676867, -0.5254665 , -0.52612132,  0.54231355,\n",
       "         0.51321758,  0.52797221,  0.49103277,  0.51837113, -0.53440954,\n",
       "        -0.52726084, -0.52436013, -0.5353352 , -0.50064417,  0.53509557,\n",
       "         0.51799673, -0.51335383, -0.52824122,  0.51618575, -0.53648911,\n",
       "         0.51133807, -0.53417084]),\n",
       " 'SignUp': array([-0.43533101, -0.46007272, -0.45015009,  0.43670141, -0.46300279,\n",
       "         0.46344486,  0.46343789,  0.43009108,  0.43960174,  0.4622592 ,\n",
       "         0.45961569,  0.4338665 , -0.45300941, -0.45977247,  0.4592794 ,\n",
       "         0.4358162 ,  0.45476   ,  0.4539397 ,  0.4542874 , -0.45408733,\n",
       "        -0.44572475, -0.44652425, -0.45586325, -0.45536919,  0.46357602,\n",
       "         0.43614818, -0.43235402, -0.45470562,  0.43314337, -0.44352594,\n",
       "         0.45755176, -0.44119143]),\n",
       " 'UseDSRCalc': array([-0.39248848, -0.3915267 , -0.35259162,  0.36839914, -0.38160457,\n",
       "         0.39167743,  0.36772043,  0.37523682,  0.37820994,  0.3643609 ,\n",
       "         0.3846033 ,  0.3785131 , -0.38032512, -0.38109705,  0.37963284,\n",
       "         0.38921911,  0.37848764,  0.36390697,  0.3771786 , -0.37462164,\n",
       "        -0.38140333, -0.38703058, -0.37690975, -0.37651272,  0.38634367,\n",
       "         0.36893625, -0.36803866, -0.38202003,  0.37205495, -0.37114969,\n",
       "         0.38827462, -0.37198323])}"
      ]
     },
     "execution_count": 27,
     "metadata": {},
     "output_type": "execute_result"
    }
   ],
   "source": [
    "# 훈련시킨 glove model의 단어 및 대응되는 임베딩 벡터 표시\n",
    "word_dict"
   ]
  },
  {
   "cell_type": "code",
   "execution_count": 28,
   "id": "0353fbfd-67cc-4460-aac6-483a276d1ff6",
   "metadata": {},
   "outputs": [],
   "source": [
    "def sent2vec_glove(tokens, embedding_dim=32):\n",
    "    '''문장 token 리스트를 받아서 임베딩 시킨다.'''\n",
    "  \n",
    "    size = len(tokens)\n",
    "    matrix = np.zeros((size, embedding_dim))\n",
    "    word_table = word_dict     # glove word_dict\n",
    "\n",
    "    for i, token in enumerate(tokens):\n",
    "        vector = np.array([\n",
    "            word_table[t] for t in token\n",
    "            if t in word_table\n",
    "        ])\n",
    "\n",
    "        if vector.size != 0:\n",
    "            final_vector = np.mean(vector, axis=0)\n",
    "            matrix[i] = final_vector\n",
    "\n",
    "    return matrix"
   ]
  },
  {
   "cell_type": "code",
   "execution_count": 29,
   "id": "ba87f145-a96c-4703-b7bd-546e0973b106",
   "metadata": {},
   "outputs": [
    {
     "data": {
      "text/plain": [
       "array([-0.51256538, -0.51179434, -0.49176959,  0.51354897, -0.51007658,\n",
       "        0.53767853,  0.5127457 ,  0.50309013,  0.50984219,  0.49872453,\n",
       "        0.50695612,  0.50368135, -0.52142305, -0.51020081,  0.52667964,\n",
       "        0.52412489,  0.50351871,  0.48969901,  0.52049258, -0.50656359,\n",
       "       -0.50241932, -0.53583172, -0.52180443, -0.50781765,  0.51770425,\n",
       "        0.50871608, -0.49971704, -0.50146263,  0.48732218, -0.51015109,\n",
       "        0.52351302, -0.5303776 ])"
      ]
     },
     "execution_count": 29,
     "metadata": {},
     "output_type": "execute_result"
    }
   ],
   "source": [
    "sentence_glove = sent2vec_glove(result)\n",
    "sentence_glove[0]"
   ]
  },
  {
   "cell_type": "markdown",
   "id": "4e90f875-4b38-4205-9b99-62bc523e8e1e",
   "metadata": {
    "tags": []
   },
   "source": [
    "# 2. k-means 군집화\n",
    "- 우선 events에서 32차원으로 임베딩벡터를 추출한 값을 토대로 k-means를 활용해 log데이터를 우선 군집분석\n",
    "- log데이터에서 유저의 행동양식을 분류하기 위함"
   ]
  },
  {
   "cell_type": "code",
   "execution_count": 30,
   "id": "66882ca2-fdff-4a0c-8757-fc5f35657509",
   "metadata": {},
   "outputs": [],
   "source": [
    "from sklearn.cluster import KMeans\n",
    "import matplotlib.pyplot as plt"
   ]
  },
  {
   "cell_type": "markdown",
   "id": "9c91fa1a-8023-420d-a778-7e749ddd58b7",
   "metadata": {
    "tags": []
   },
   "source": [
    "## 2.1 전체 데이터 군집화 (k=5)"
   ]
  },
  {
   "cell_type": "code",
   "execution_count": 31,
   "id": "6bd4c9f8-ec49-48ea-94d5-c0e197d65440",
   "metadata": {},
   "outputs": [],
   "source": [
    "# clustering\n",
    "# 전체 데이터\n",
    "\n",
    "k = 5\n",
    "kmeans = KMeans(n_clusters=k, random_state=2022, init = 'k-means++')\n",
    "y_pred = kmeans.fit_predict(sentence_glove)"
   ]
  },
  {
   "cell_type": "code",
   "execution_count": 32,
   "id": "5985d99e-0206-4572-aa39-39cf9164cbe4",
   "metadata": {},
   "outputs": [
    {
     "data": {
      "text/html": [
       "<div>\n",
       "<style scoped>\n",
       "    .dataframe tbody tr th:only-of-type {\n",
       "        vertical-align: middle;\n",
       "    }\n",
       "\n",
       "    .dataframe tbody tr th {\n",
       "        vertical-align: top;\n",
       "    }\n",
       "\n",
       "    .dataframe thead th {\n",
       "        text-align: right;\n",
       "    }\n",
       "</style>\n",
       "<table border=\"1\" class=\"dataframe\">\n",
       "  <thead>\n",
       "    <tr style=\"text-align: right;\">\n",
       "      <th></th>\n",
       "      <th>user_id</th>\n",
       "      <th>date</th>\n",
       "      <th>events</th>\n",
       "      <th>timestamp</th>\n",
       "      <th>time</th>\n",
       "      <th>cluster</th>\n",
       "    </tr>\n",
       "  </thead>\n",
       "  <tbody>\n",
       "    <tr>\n",
       "      <th>0</th>\n",
       "      <td>1</td>\n",
       "      <td>2022-05-03</td>\n",
       "      <td>GetCreditInfo,GetCreditInfo</td>\n",
       "      <td>2022-05-03 14:52:28,2022-05-03 14:52:35</td>\n",
       "      <td>7</td>\n",
       "      <td>1</td>\n",
       "    </tr>\n",
       "    <tr>\n",
       "      <th>1</th>\n",
       "      <td>1</td>\n",
       "      <td>2022-06-16</td>\n",
       "      <td>UseLoanManage,Login,GetCreditInfo</td>\n",
       "      <td>2022-06-16 23:58:41,2022-06-16 23:58:41,2022-0...</td>\n",
       "      <td>1</td>\n",
       "      <td>1</td>\n",
       "    </tr>\n",
       "    <tr>\n",
       "      <th>2</th>\n",
       "      <td>7</td>\n",
       "      <td>2022-05-22</td>\n",
       "      <td>GetCreditInfo</td>\n",
       "      <td>2022-05-22 16:39:49</td>\n",
       "      <td>0</td>\n",
       "      <td>1</td>\n",
       "    </tr>\n",
       "    <tr>\n",
       "      <th>3</th>\n",
       "      <td>9</td>\n",
       "      <td>2022-05-21</td>\n",
       "      <td>GetCreditInfo,GetCreditInfo,GetCreditInfo</td>\n",
       "      <td>2022-05-21 23:37:58,2022-05-21 23:43:33,2022-0...</td>\n",
       "      <td>354</td>\n",
       "      <td>1</td>\n",
       "    </tr>\n",
       "    <tr>\n",
       "      <th>4</th>\n",
       "      <td>11</td>\n",
       "      <td>2022-03-24</td>\n",
       "      <td>GetCreditInfo,UseLoanManage,GetCreditInfo,UseP...</td>\n",
       "      <td>2022-03-24 10:53:59,2022-03-24 10:54:07,2022-0...</td>\n",
       "      <td>692</td>\n",
       "      <td>1</td>\n",
       "    </tr>\n",
       "  </tbody>\n",
       "</table>\n",
       "</div>"
      ],
      "text/plain": [
       "   user_id        date                                             events  \\\n",
       "0        1  2022-05-03                        GetCreditInfo,GetCreditInfo   \n",
       "1        1  2022-06-16                  UseLoanManage,Login,GetCreditInfo   \n",
       "2        7  2022-05-22                                      GetCreditInfo   \n",
       "3        9  2022-05-21          GetCreditInfo,GetCreditInfo,GetCreditInfo   \n",
       "4       11  2022-03-24  GetCreditInfo,UseLoanManage,GetCreditInfo,UseP...   \n",
       "\n",
       "                                           timestamp  time  cluster  \n",
       "0            2022-05-03 14:52:28,2022-05-03 14:52:35     7        1  \n",
       "1  2022-06-16 23:58:41,2022-06-16 23:58:41,2022-0...     1        1  \n",
       "2                                2022-05-22 16:39:49     0        1  \n",
       "3  2022-05-21 23:37:58,2022-05-21 23:43:33,2022-0...   354        1  \n",
       "4  2022-03-24 10:53:59,2022-03-24 10:54:07,2022-0...   692        1  "
      ]
     },
     "execution_count": 32,
     "metadata": {},
     "output_type": "execute_result"
    }
   ],
   "source": [
    "new_log_event_df['cluster'] = y_pred\n",
    "new_log_event_df.head()"
   ]
  },
  {
   "cell_type": "code",
   "execution_count": 33,
   "id": "aed167a0-8808-47eb-8ede-ee35388954c0",
   "metadata": {},
   "outputs": [
    {
     "name": "stdout",
     "output_type": "stream",
     "text": [
      "731618\n"
     ]
    },
    {
     "data": {
      "text/plain": [
       "Login,GetCreditInfo                                                                                                       154574\n",
       "Login,GetCreditInfo,GetCreditInfo                                                                                          21562\n",
       "GetCreditInfo,Login                                                                                                        14160\n",
       "Login,UseLoanManage,GetCreditInfo,StartLoanApply,ViewLoanApplyIntro,CompleteIDCertification,EndLoanApply                   13336\n",
       "Login,GetCreditInfo,StartLoanApply,ViewLoanApplyIntro                                                                      11411\n",
       "Login,GetCreditInfo,UseLoanManage,StartLoanApply,ViewLoanApplyIntro,CompleteIDCertification,EndLoanApply                    7748\n",
       "Login,UseLoanManage,GetCreditInfo,ViewLoanApplyIntro                                                                        5745\n",
       "Login,UseLoanManage,GetCreditInfo,ViewLoanApplyIntro,CompleteIDCertification,EndLoanApply                                   5661\n",
       "GetCreditInfo,UseLoanManage,StartLoanApply,ViewLoanApplyIntro,CompleteIDCertification,EndLoanApply                          5530\n",
       "Login,ViewLoanApplyIntro,GetCreditInfo                                                                                      5422\n",
       "Login,GetCreditInfo,ViewLoanApplyIntro                                                                                      5303\n",
       "Login,GetCreditInfo,StartLoanApply,ViewLoanApplyIntro,CompleteIDCertification                                               5151\n",
       "UseLoanManage,GetCreditInfo,StartLoanApply,ViewLoanApplyIntro,CompleteIDCertification,EndLoanApply                          5073\n",
       "Login,UseLoanManage,StartLoanApply,ViewLoanApplyIntro,CompleteIDCertification,EndLoanApply                                  4966\n",
       "GetCreditInfo,Login,GetCreditInfo                                                                                           4526\n",
       "Login,StartLoanApply,ViewLoanApplyIntro,GetCreditInfo                                                                       4439\n",
       "Login,StartLoanApply,ViewLoanApplyIntro,CompleteIDCertification,EndLoanApply,UseLoanManage,GetCreditInfo                    3655\n",
       "Login,UseLoanManage,GetCreditInfo,StartLoanApply,ViewLoanApplyIntro                                                         3627\n",
       "Login,UseLoanManage,GetCreditInfo,GetCreditInfo,StartLoanApply,ViewLoanApplyIntro,CompleteIDCertification,EndLoanApply      3297\n",
       "Login,StartLoanApply,ViewLoanApplyIntro,GetCreditInfo,GetCreditInfo,CompleteIDCertification,EndLoanApply                    3232\n",
       "Login,GetCreditInfo,UseLoanManage,ViewLoanApplyIntro,CompleteIDCertification,EndLoanApply                                   3139\n",
       "Login,GetCreditInfo,UseLoanManage,GetCreditInfo,StartLoanApply,ViewLoanApplyIntro,CompleteIDCertification,EndLoanApply      3125\n",
       "Login,GetCreditInfo,UseLoanManage,ViewLoanApplyIntro                                                                        2865\n",
       "Login,GetCreditInfo,Login                                                                                                   2801\n",
       "Login,GetCreditInfo,Login,GetCreditInfo                                                                                     2780\n",
       "Login,UseLoanManage,GetCreditInfo,StartLoanApply,EndLoanApply                                                               2651\n",
       "StartLoanApply,ViewLoanApplyIntro,CompleteIDCertification,EndLoanApply,UseLoanManage,GetCreditInfo                          2545\n",
       "Login,Login,GetCreditInfo                                                                                                   2377\n",
       "Login,StartLoanApply,ViewLoanApplyIntro,UseLoanManage,GetCreditInfo                                                         2333\n",
       "Login,GetCreditInfo,UseLoanManage,StartLoanApply,ViewLoanApplyIntro                                                         2216\n",
       "Name: events, dtype: int64"
      ]
     },
     "execution_count": 33,
     "metadata": {},
     "output_type": "execute_result"
    }
   ],
   "source": [
    "# 0번 클러스터 : 기타\n",
    "print(len(new_log_event_df[new_log_event_df['cluster'] == 0]))\n",
    "new_log_event_df[new_log_event_df['cluster'] == 0]['events'].value_counts()[:30]"
   ]
  },
  {
   "cell_type": "code",
   "execution_count": 34,
   "id": "6c0d21f1-e37f-45c7-8610-c3d22ace6a9a",
   "metadata": {},
   "outputs": [
    {
     "name": "stdout",
     "output_type": "stream",
     "text": [
      "902713\n"
     ]
    },
    {
     "data": {
      "text/plain": [
       "GetCreditInfo                                                    179540\n",
       "Login,UseLoanManage,GetCreditInfo                                122819\n",
       "Login,GetCreditInfo,UseLoanManage                                 63477\n",
       "GetCreditInfo,GetCreditInfo                                       56647\n",
       "Login,UseLoanManage                                               53499\n",
       "GetCreditInfo,UseLoanManage                                       43560\n",
       "UseLoanManage,GetCreditInfo                                       36187\n",
       "Login,GetCreditInfo,UseLoanManage,GetCreditInfo                   30408\n",
       "Login,UseLoanManage,GetCreditInfo,GetCreditInfo                   25556\n",
       "UseLoanManage,Login,GetCreditInfo                                 16714\n",
       "GetCreditInfo,GetCreditInfo,GetCreditInfo                         16264\n",
       "GetCreditInfo,Login,UseLoanManage                                 12503\n",
       "Login,GetCreditInfo,GetCreditInfo,UseLoanManage                    9581\n",
       "UseLoanManage                                                      9162\n",
       "GetCreditInfo,UseLoanManage,GetCreditInfo                          8921\n",
       "Login,UseLoanManage,GetCreditInfo,UseLoanManage                    8492\n",
       "UseLoanManage,GetCreditInfo,GetCreditInfo                          6367\n",
       "UseLoanManage,Login                                                5893\n",
       "Login,GetCreditInfo,UseLoanManage,GetCreditInfo,GetCreditInfo      5490\n",
       "GetCreditInfo,UseLoanManage,Login                                  5221\n",
       "GetCreditInfo,GetCreditInfo,GetCreditInfo,GetCreditInfo            4644\n",
       "Login,GetCreditInfo,UseLoanManage,UseLoanManage                    4381\n",
       "Login,UseLoanManage,UseLoanManage                                  3945\n",
       "UseLoanManage,GetCreditInfo,UseLoanManage                          3686\n",
       "Login,UseLoanManage,GetCreditInfo,Login,UseLoanManage              3352\n",
       "Login,UseLoanManage,GetCreditInfo,GetCreditInfo,UseLoanManage      3186\n",
       "GetCreditInfo,UseLoanManage,GetCreditInfo,UseLoanManage            3081\n",
       "UseLoanManage,Login,GetCreditInfo,GetCreditInfo                    3056\n",
       "Login,UseLoanManage,GetCreditInfo,GetCreditInfo,GetCreditInfo      2976\n",
       "Login,GetCreditInfo,GetCreditInfo,UseLoanManage,GetCreditInfo      2865\n",
       "Name: events, dtype: int64"
      ]
     },
     "execution_count": 34,
     "metadata": {},
     "output_type": "execute_result"
    }
   ],
   "source": [
    "# 1번 클러스터 : 부가서비스(getcredit , useloan)\n",
    "print(len(new_log_event_df[new_log_event_df['cluster'] == 1]))\n",
    "new_log_event_df[new_log_event_df['cluster'] == 1]['events'].value_counts()[:30]"
   ]
  },
  {
   "cell_type": "code",
   "execution_count": 35,
   "id": "21e400a4-7701-47dc-a61c-580c98c3a371",
   "metadata": {},
   "outputs": [
    {
     "name": "stdout",
     "output_type": "stream",
     "text": [
      "1229283\n"
     ]
    },
    {
     "data": {
      "text/plain": [
       "Login,StartLoanApply,ViewLoanApplyIntro,CompleteIDCertification,EndLoanApply                                      217816\n",
       "StartLoanApply,ViewLoanApplyIntro,CompleteIDCertification,EndLoanApply                                            115784\n",
       "Login,StartLoanApply,EndLoanApply                                                                                  99071\n",
       "StartLoanApply,EndLoanApply                                                                                        45835\n",
       "Login,ViewLoanApplyIntro                                                                                           39653\n",
       "Login,GetCreditInfo,StartLoanApply,ViewLoanApplyIntro,CompleteIDCertification,EndLoanApply                         39375\n",
       "EndLoanApply                                                                                                       36063\n",
       "Login,StartLoanApply,ViewLoanApplyIntro                                                                            35850\n",
       "Login,StartLoanApply,ViewLoanApplyIntro,CompleteIDCertification,EndLoanApply,EndLoanApply                          31942\n",
       "Login,StartLoanApply,ViewLoanApplyIntro,CompleteIDCertification                                                    25123\n",
       "Login,ViewLoanApplyIntro,CompleteIDCertification,EndLoanApply                                                      16158\n",
       "StartLoanApply,ViewLoanApplyIntro                                                                                  15300\n",
       "StartLoanApply,ViewLoanApplyIntro,CompleteIDCertification                                                          14473\n",
       "Login,EndLoanApply                                                                                                 13378\n",
       "Login,GetCreditInfo,StartLoanApply,EndLoanApply                                                                    10635\n",
       "Login,StartLoanApply,EndLoanApply,Login,StartLoanApply,EndLoanApply                                                 9189\n",
       "Login,StartLoanApply,ViewLoanApplyIntro,CompleteIDCertification,EndLoanApply,StartLoanApply,EndLoanApply            8186\n",
       "ViewLoanApplyIntro,CompleteIDCertification,EndLoanApply                                                             7576\n",
       "ViewLoanApplyIntro                                                                                                  7553\n",
       "Login,StartLoanApply,ViewLoanApplyIntro,CompleteIDCertification,EndLoanApply,Login,StartLoanApply,EndLoanApply      7383\n",
       "Login,StartLoanApply,ViewLoanApplyIntro,GetCreditInfo,CompleteIDCertification,EndLoanApply                          6108\n",
       "Login,StartLoanApply,EndLoanApply,StartLoanApply,EndLoanApply                                                       6021\n",
       "GetCreditInfo,StartLoanApply,ViewLoanApplyIntro,CompleteIDCertification,EndLoanApply                                5875\n",
       "StartLoanApply,ViewLoanApplyIntro,StartLoanApply,ViewLoanApplyIntro,CompleteIDCertification,EndLoanApply            5795\n",
       "EndLoanApply,ViewLoanApplyIntro                                                                                     5788\n",
       "Login,StartLoanApply,ViewLoanApplyIntro,CompleteIDCertification,EndLoanApply,EndLoanApply,EndLoanApply              5768\n",
       "Login,GetCreditInfo,StartLoanApply,ViewLoanApplyIntro,CompleteIDCertification,EndLoanApply,EndLoanApply             5402\n",
       "GetCreditInfo,Login,StartLoanApply,ViewLoanApplyIntro,CompleteIDCertification,EndLoanApply                          5361\n",
       "Login,StartLoanApply,EndLoanApply,ViewLoanApplyIntro,CompleteIDCertification,EndLoanApply                           5222\n",
       "Login,StartLoanApply,ViewLoanApplyIntro,CompleteIDCertification,EndLoanApply,GetCreditInfo                          5097\n",
       "Name: events, dtype: int64"
      ]
     },
     "execution_count": 35,
     "metadata": {},
     "output_type": "execute_result"
    }
   ],
   "source": [
    "# 2번 클러스터 : start - endloan\n",
    "print(len(new_log_event_df[new_log_event_df['cluster'] == 2]))\n",
    "new_log_event_df[new_log_event_df['cluster'] == 2]['events'].value_counts()[:30]"
   ]
  },
  {
   "cell_type": "code",
   "execution_count": 36,
   "id": "722bcdce-8339-439e-ae92-4ada7166c061",
   "metadata": {},
   "outputs": [
    {
     "name": "stdout",
     "output_type": "stream",
     "text": [
      "18755\n"
     ]
    },
    {
     "data": {
      "text/plain": [
       "CompleteIDCertification,SignUp                                  7951\n",
       "GetCreditInfo,CompleteIDCertification,SignUp                    1191\n",
       "SignUp                                                          1035\n",
       "SignUp,GetCreditInfo                                             501\n",
       "SignUp,UseLoanManage                                             445\n",
       "GetCreditInfo,UseLoanManage,UsePrepayCalc                        426\n",
       "GetCreditInfo,UseLoanManage,UseDSRCalc                           412\n",
       "Login,SignUp                                                     252\n",
       "SignUp,UseLoanManage,GetCreditInfo                               233\n",
       "UseLoanManage,GetCreditInfo,CompleteIDCertification,SignUp       140\n",
       "SignUp,ViewLoanApplyIntro                                        140\n",
       "SignUp,GetCreditInfo,UseLoanManage                               138\n",
       "Login,SignUp,UseLoanManage                                       132\n",
       "GetCreditInfo,UseLoanManage,CompleteIDCertification,SignUp       124\n",
       "SignUp,GetCreditInfo,UseLoanManage,GetCreditInfo                 101\n",
       "UseLoanManage,GetCreditInfo,UsePrepayCalc                         99\n",
       "GetCreditInfo,UseLoanManage,GetCreditInfo,UseDSRCalc              96\n",
       "SignUp,UseLoanManage,UseLoanManage                                86\n",
       "SignUp,CompleteIDCertification                                    80\n",
       "SignUp,GetCreditInfo,GetCreditInfo                                73\n",
       "GetCreditInfo,UseLoanManage,UsePrepayCalc,UsePrepayCalc           71\n",
       "GetCreditInfo,UseLoanManage,GetCreditInfo,UsePrepayCalc           70\n",
       "GetCreditInfo,UseLoanManage,UsePrepayCalc,GetCreditInfo           64\n",
       "SignUp,UseLoanManage,GetCreditInfo,GetCreditInfo                  63\n",
       "GetCreditInfo,UseLoanManage,UseDSRCalc,GetCreditInfo              62\n",
       "Login,GetCreditInfo,SignUp                                        57\n",
       "GetCreditInfo,GetCreditInfo,UseLoanManage,UseDSRCalc              53\n",
       "UseLoanManage,GetCreditInfo,UseDSRCalc                            53\n",
       "SignUp,GetCreditInfo,GetCreditInfo,UseLoanManage                  52\n",
       "GetCreditInfo,UseLoanManage,ViewLoanApplyIntro,UsePrepayCalc      50\n",
       "Name: events, dtype: int64"
      ]
     },
     "execution_count": 36,
     "metadata": {},
     "output_type": "execute_result"
    }
   ],
   "source": [
    "# 3번 클러스터 : 신규회원가입\n",
    "print(len(new_log_event_df[new_log_event_df['cluster'] == 3]))\n",
    "new_log_event_df[new_log_event_df['cluster'] == 3]['events'].value_counts()[:30]"
   ]
  },
  {
   "cell_type": "code",
   "execution_count": 37,
   "id": "44b90212-5025-4b20-b0c1-96550b8af8d4",
   "metadata": {},
   "outputs": [
    {
     "name": "stdout",
     "output_type": "stream",
     "text": [
      "173090\n"
     ]
    },
    {
     "data": {
      "text/plain": [
       "Login                                                                159373\n",
       "Login,Login                                                            6286\n",
       "Login,Login,Login                                                      1221\n",
       "Login,Login,StartLoanApply,ViewLoanApplyIntro                           980\n",
       "Login,StartLoanApply,ViewLoanApplyIntro,Login                           624\n",
       "Login,Login,Login,Login                                                 564\n",
       "Login,ViewLoanApplyIntro,Login                                          369\n",
       "Login,Login,Login,Login,Login                                           348\n",
       "Login,GetCreditInfo,Login,Login                                         304\n",
       "Login,Login,ViewLoanApplyIntro                                          261\n",
       "Login,Login,Login,Login,Login,Login                                     246\n",
       "Login,Login,Login,Login,Login,Login,Login                               144\n",
       "Login,Login,Login,GetCreditInfo                                         128\n",
       "Login,Login,Login,Login,Login,Login,Login,Login                         114\n",
       "Login,Login,GetCreditInfo,Login                                          96\n",
       "Login,Login,EndLoanApply                                                 90\n",
       "Login,EndLoanApply,Login                                                 80\n",
       "Login,Login,Login,Login,Login,Login,Login,Login,Login                    78\n",
       "Login,Login,CompleteIDCertification                                      74\n",
       "Login,CompleteIDCertification,Login                                      74\n",
       "Login,Login,StartLoanApply,ViewLoanApplyIntro,Login                      70\n",
       "Login,Login,Login,Login,Login,Login,Login,Login,Login,Login              69\n",
       "Login,Login,Login,StartLoanApply,ViewLoanApplyIntro                      67\n",
       "GetCreditInfo,Login,Login,Login                                          62\n",
       "Login,StartLoanApply,EndLoanApply,Login,Login                            57\n",
       "Login,Login,Login,StartLoanApply,EndLoanApply                            57\n",
       "Login,GetCreditInfo,Login,Login,Login                                    50\n",
       "Login,StartLoanApply,ViewLoanApplyIntro,Login,Login                      46\n",
       "Login,ViewLoanApplyIntro,Login,Login                                     44\n",
       "Login,Login,Login,Login,Login,Login,Login,Login,Login,Login,Login        27\n",
       "Name: events, dtype: int64"
      ]
     },
     "execution_count": 37,
     "metadata": {},
     "output_type": "execute_result"
    }
   ],
   "source": [
    "# 4번클러스터 : 주로 login\n",
    "print(len(new_log_event_df[new_log_event_df['cluster'] == 4]))\n",
    "new_log_event_df[new_log_event_df['cluster'] == 4]['events'].value_counts()[:30]"
   ]
  },
  {
   "cell_type": "code",
   "execution_count": 38,
   "id": "264026a5-04c6-4e77-bd71-6a1304463f5f",
   "metadata": {},
   "outputs": [
    {
     "data": {
      "text/html": [
       "<div>\n",
       "<style scoped>\n",
       "    .dataframe tbody tr th:only-of-type {\n",
       "        vertical-align: middle;\n",
       "    }\n",
       "\n",
       "    .dataframe tbody tr th {\n",
       "        vertical-align: top;\n",
       "    }\n",
       "\n",
       "    .dataframe thead th {\n",
       "        text-align: right;\n",
       "    }\n",
       "</style>\n",
       "<table border=\"1\" class=\"dataframe\">\n",
       "  <thead>\n",
       "    <tr style=\"text-align: right;\">\n",
       "      <th></th>\n",
       "      <th>user_id</th>\n",
       "      <th>date</th>\n",
       "      <th>events</th>\n",
       "      <th>timestamp</th>\n",
       "      <th>time</th>\n",
       "      <th>cluster</th>\n",
       "    </tr>\n",
       "  </thead>\n",
       "  <tbody>\n",
       "    <tr>\n",
       "      <th>0</th>\n",
       "      <td>20</td>\n",
       "      <td>2022-03-15</td>\n",
       "      <td></td>\n",
       "      <td>2022-03-15 16:21:32</td>\n",
       "      <td>0</td>\n",
       "      <td>5</td>\n",
       "    </tr>\n",
       "    <tr>\n",
       "      <th>1</th>\n",
       "      <td>20</td>\n",
       "      <td>2022-03-15</td>\n",
       "      <td></td>\n",
       "      <td>2022-03-15 17:47:51</td>\n",
       "      <td>0</td>\n",
       "      <td>5</td>\n",
       "    </tr>\n",
       "    <tr>\n",
       "      <th>2</th>\n",
       "      <td>20</td>\n",
       "      <td>2022-03-17</td>\n",
       "      <td></td>\n",
       "      <td>2022-03-17 17:14:47</td>\n",
       "      <td>0</td>\n",
       "      <td>5</td>\n",
       "    </tr>\n",
       "    <tr>\n",
       "      <th>3</th>\n",
       "      <td>20</td>\n",
       "      <td>2022-04-21</td>\n",
       "      <td></td>\n",
       "      <td>2022-04-21 20:20:49</td>\n",
       "      <td>0</td>\n",
       "      <td>5</td>\n",
       "    </tr>\n",
       "    <tr>\n",
       "      <th>4</th>\n",
       "      <td>20</td>\n",
       "      <td>2022-05-05</td>\n",
       "      <td></td>\n",
       "      <td>2022-05-05 15:25:31</td>\n",
       "      <td>0</td>\n",
       "      <td>5</td>\n",
       "    </tr>\n",
       "  </tbody>\n",
       "</table>\n",
       "</div>"
      ],
      "text/plain": [
       "   user_id        date events            timestamp  time  cluster\n",
       "0       20  2022-03-15         2022-03-15 16:21:32     0        5\n",
       "1       20  2022-03-15         2022-03-15 17:47:51     0        5\n",
       "2       20  2022-03-17         2022-03-17 17:14:47     0        5\n",
       "3       20  2022-04-21         2022-04-21 20:20:49     0        5\n",
       "4       20  2022-05-05         2022-05-05 15:25:31     0        5"
      ]
     },
     "execution_count": 38,
     "metadata": {},
     "output_type": "execute_result"
    }
   ],
   "source": [
    "# 어플만 킨 경우(openapp) cluster = 5로 해주자\n",
    "only_openapp['cluster'] = 5\n",
    "only_openapp.head()"
   ]
  },
  {
   "cell_type": "code",
   "execution_count": 39,
   "id": "663ceb43-1571-411f-b18d-77bf95425865",
   "metadata": {},
   "outputs": [
    {
     "data": {
      "text/html": [
       "<div>\n",
       "<style scoped>\n",
       "    .dataframe tbody tr th:only-of-type {\n",
       "        vertical-align: middle;\n",
       "    }\n",
       "\n",
       "    .dataframe tbody tr th {\n",
       "        vertical-align: top;\n",
       "    }\n",
       "\n",
       "    .dataframe thead th {\n",
       "        text-align: right;\n",
       "    }\n",
       "</style>\n",
       "<table border=\"1\" class=\"dataframe\">\n",
       "  <thead>\n",
       "    <tr style=\"text-align: right;\">\n",
       "      <th></th>\n",
       "      <th>user_id</th>\n",
       "      <th>date</th>\n",
       "      <th>events</th>\n",
       "      <th>timestamp</th>\n",
       "      <th>time</th>\n",
       "      <th>cluster</th>\n",
       "    </tr>\n",
       "  </thead>\n",
       "  <tbody>\n",
       "    <tr>\n",
       "      <th>0</th>\n",
       "      <td>1</td>\n",
       "      <td>2022-05-03</td>\n",
       "      <td>GetCreditInfo,GetCreditInfo</td>\n",
       "      <td>2022-05-03 14:52:28,2022-05-03 14:52:35</td>\n",
       "      <td>7</td>\n",
       "      <td>1</td>\n",
       "    </tr>\n",
       "    <tr>\n",
       "      <th>1</th>\n",
       "      <td>1</td>\n",
       "      <td>2022-06-16</td>\n",
       "      <td>UseLoanManage,Login,GetCreditInfo</td>\n",
       "      <td>2022-06-16 23:58:41,2022-06-16 23:58:41,2022-0...</td>\n",
       "      <td>1</td>\n",
       "      <td>1</td>\n",
       "    </tr>\n",
       "    <tr>\n",
       "      <th>2</th>\n",
       "      <td>7</td>\n",
       "      <td>2022-05-22</td>\n",
       "      <td>GetCreditInfo</td>\n",
       "      <td>2022-05-22 16:39:49</td>\n",
       "      <td>0</td>\n",
       "      <td>1</td>\n",
       "    </tr>\n",
       "    <tr>\n",
       "      <th>3</th>\n",
       "      <td>9</td>\n",
       "      <td>2022-05-21</td>\n",
       "      <td>GetCreditInfo,GetCreditInfo,GetCreditInfo</td>\n",
       "      <td>2022-05-21 23:37:58,2022-05-21 23:43:33,2022-0...</td>\n",
       "      <td>354</td>\n",
       "      <td>1</td>\n",
       "    </tr>\n",
       "    <tr>\n",
       "      <th>4</th>\n",
       "      <td>11</td>\n",
       "      <td>2022-03-24</td>\n",
       "      <td>GetCreditInfo,UseLoanManage,GetCreditInfo,UseP...</td>\n",
       "      <td>2022-03-24 10:53:59,2022-03-24 10:54:07,2022-0...</td>\n",
       "      <td>692</td>\n",
       "      <td>1</td>\n",
       "    </tr>\n",
       "  </tbody>\n",
       "</table>\n",
       "</div>"
      ],
      "text/plain": [
       "   user_id        date                                             events  \\\n",
       "0        1  2022-05-03                        GetCreditInfo,GetCreditInfo   \n",
       "1        1  2022-06-16                  UseLoanManage,Login,GetCreditInfo   \n",
       "2        7  2022-05-22                                      GetCreditInfo   \n",
       "3        9  2022-05-21          GetCreditInfo,GetCreditInfo,GetCreditInfo   \n",
       "4       11  2022-03-24  GetCreditInfo,UseLoanManage,GetCreditInfo,UseP...   \n",
       "\n",
       "                                           timestamp  time  cluster  \n",
       "0            2022-05-03 14:52:28,2022-05-03 14:52:35     7        1  \n",
       "1  2022-06-16 23:58:41,2022-06-16 23:58:41,2022-0...     1        1  \n",
       "2                                2022-05-22 16:39:49     0        1  \n",
       "3  2022-05-21 23:37:58,2022-05-21 23:43:33,2022-0...   354        1  \n",
       "4  2022-03-24 10:53:59,2022-03-24 10:54:07,2022-0...   692        1  "
      ]
     },
     "execution_count": 39,
     "metadata": {},
     "output_type": "execute_result"
    }
   ],
   "source": [
    "# 기존 df와 openapp만 있는 df을 합쳐준다\n",
    "new_log_event_df_merge = pd.concat([new_log_event_df, only_openapp]).reset_index(drop=True)\n",
    "new_log_event_df_merge.head()"
   ]
  },
  {
   "cell_type": "code",
   "execution_count": 40,
   "id": "6b38cf2d-716a-4bf8-bbde-3fffb1999c0a",
   "metadata": {},
   "outputs": [
    {
     "data": {
      "text/html": [
       "<div>\n",
       "<style scoped>\n",
       "    .dataframe tbody tr th:only-of-type {\n",
       "        vertical-align: middle;\n",
       "    }\n",
       "\n",
       "    .dataframe tbody tr th {\n",
       "        vertical-align: top;\n",
       "    }\n",
       "\n",
       "    .dataframe thead th {\n",
       "        text-align: right;\n",
       "    }\n",
       "</style>\n",
       "<table border=\"1\" class=\"dataframe\">\n",
       "  <thead>\n",
       "    <tr style=\"text-align: right;\">\n",
       "      <th></th>\n",
       "      <th>user_id</th>\n",
       "      <th>date</th>\n",
       "      <th>events</th>\n",
       "      <th>timestamp</th>\n",
       "      <th>time</th>\n",
       "      <th>cluster</th>\n",
       "    </tr>\n",
       "  </thead>\n",
       "  <tbody>\n",
       "    <tr>\n",
       "      <th>0</th>\n",
       "      <td>1</td>\n",
       "      <td>2022-05-03</td>\n",
       "      <td>GetCreditInfo,GetCreditInfo</td>\n",
       "      <td>2022-05-03 14:52:28,2022-05-03 14:52:35</td>\n",
       "      <td>7</td>\n",
       "      <td>1</td>\n",
       "    </tr>\n",
       "    <tr>\n",
       "      <th>1</th>\n",
       "      <td>1</td>\n",
       "      <td>2022-06-16</td>\n",
       "      <td>UseLoanManage,Login,GetCreditInfo</td>\n",
       "      <td>2022-06-16 23:58:41,2022-06-16 23:58:41,2022-0...</td>\n",
       "      <td>1</td>\n",
       "      <td>1</td>\n",
       "    </tr>\n",
       "    <tr>\n",
       "      <th>2</th>\n",
       "      <td>7</td>\n",
       "      <td>2022-05-22</td>\n",
       "      <td>GetCreditInfo</td>\n",
       "      <td>2022-05-22 16:39:49</td>\n",
       "      <td>0</td>\n",
       "      <td>1</td>\n",
       "    </tr>\n",
       "    <tr>\n",
       "      <th>3</th>\n",
       "      <td>9</td>\n",
       "      <td>2022-05-21</td>\n",
       "      <td>GetCreditInfo,GetCreditInfo,GetCreditInfo</td>\n",
       "      <td>2022-05-21 23:37:58,2022-05-21 23:43:33,2022-0...</td>\n",
       "      <td>354</td>\n",
       "      <td>1</td>\n",
       "    </tr>\n",
       "    <tr>\n",
       "      <th>4</th>\n",
       "      <td>11</td>\n",
       "      <td>2022-03-24</td>\n",
       "      <td>GetCreditInfo,UseLoanManage,GetCreditInfo,UseP...</td>\n",
       "      <td>2022-03-24 10:53:59,2022-03-24 10:54:07,2022-0...</td>\n",
       "      <td>692</td>\n",
       "      <td>1</td>\n",
       "    </tr>\n",
       "  </tbody>\n",
       "</table>\n",
       "</div>"
      ],
      "text/plain": [
       "   user_id        date                                             events  \\\n",
       "0        1  2022-05-03                        GetCreditInfo,GetCreditInfo   \n",
       "1        1  2022-06-16                  UseLoanManage,Login,GetCreditInfo   \n",
       "2        7  2022-05-22                                      GetCreditInfo   \n",
       "3        9  2022-05-21          GetCreditInfo,GetCreditInfo,GetCreditInfo   \n",
       "4       11  2022-03-24  GetCreditInfo,UseLoanManage,GetCreditInfo,UseP...   \n",
       "\n",
       "                                           timestamp  time  cluster  \n",
       "0            2022-05-03 14:52:28,2022-05-03 14:52:35     7        1  \n",
       "1  2022-06-16 23:58:41,2022-06-16 23:58:41,2022-0...     1        1  \n",
       "2                                2022-05-22 16:39:49     0        1  \n",
       "3  2022-05-21 23:37:58,2022-05-21 23:43:33,2022-0...   354        1  \n",
       "4  2022-03-24 10:53:59,2022-03-24 10:54:07,2022-0...   692        1  "
      ]
     },
     "execution_count": 40,
     "metadata": {},
     "output_type": "execute_result"
    }
   ],
   "source": [
    "# user_id, date 기준으로 정렬해준다\n",
    "new_log_event_df_merge = new_log_event_df_merge.sort_values(by=['user_id', 'date']).reset_index(drop=True)\n",
    "new_log_event_df_merge.head()"
   ]
  },
  {
   "cell_type": "code",
   "execution_count": 41,
   "id": "43ed1b40-88e7-4c69-9d59-a35b59f45288",
   "metadata": {},
   "outputs": [],
   "source": [
    "# event, timestamp는 더이상 필요없으므로 삭제하기\n",
    "new_log_event_df_merge.drop(['events', 'timestamp'], axis=1, inplace=True)"
   ]
  },
  {
   "cell_type": "code",
   "execution_count": 42,
   "id": "a401dbe2-9cfd-49c0-8aae-17f6930d17f0",
   "metadata": {},
   "outputs": [
    {
     "data": {
      "text/html": [
       "<div>\n",
       "<style scoped>\n",
       "    .dataframe tbody tr th:only-of-type {\n",
       "        vertical-align: middle;\n",
       "    }\n",
       "\n",
       "    .dataframe tbody tr th {\n",
       "        vertical-align: top;\n",
       "    }\n",
       "\n",
       "    .dataframe thead th {\n",
       "        text-align: right;\n",
       "    }\n",
       "</style>\n",
       "<table border=\"1\" class=\"dataframe\">\n",
       "  <thead>\n",
       "    <tr style=\"text-align: right;\">\n",
       "      <th></th>\n",
       "      <th>user_id</th>\n",
       "      <th>date</th>\n",
       "      <th>time</th>\n",
       "      <th>cluster</th>\n",
       "    </tr>\n",
       "  </thead>\n",
       "  <tbody>\n",
       "    <tr>\n",
       "      <th>0</th>\n",
       "      <td>1</td>\n",
       "      <td>2022-05-03</td>\n",
       "      <td>7</td>\n",
       "      <td>1</td>\n",
       "    </tr>\n",
       "    <tr>\n",
       "      <th>1</th>\n",
       "      <td>1</td>\n",
       "      <td>2022-06-16</td>\n",
       "      <td>1</td>\n",
       "      <td>1</td>\n",
       "    </tr>\n",
       "    <tr>\n",
       "      <th>2</th>\n",
       "      <td>7</td>\n",
       "      <td>2022-05-22</td>\n",
       "      <td>0</td>\n",
       "      <td>1</td>\n",
       "    </tr>\n",
       "    <tr>\n",
       "      <th>3</th>\n",
       "      <td>9</td>\n",
       "      <td>2022-05-21</td>\n",
       "      <td>354</td>\n",
       "      <td>1</td>\n",
       "    </tr>\n",
       "    <tr>\n",
       "      <th>4</th>\n",
       "      <td>11</td>\n",
       "      <td>2022-03-24</td>\n",
       "      <td>692</td>\n",
       "      <td>1</td>\n",
       "    </tr>\n",
       "    <tr>\n",
       "      <th>...</th>\n",
       "      <td>...</td>\n",
       "      <td>...</td>\n",
       "      <td>...</td>\n",
       "      <td>...</td>\n",
       "    </tr>\n",
       "    <tr>\n",
       "      <th>3608000</th>\n",
       "      <td>879693</td>\n",
       "      <td>2022-06-29</td>\n",
       "      <td>0</td>\n",
       "      <td>5</td>\n",
       "    </tr>\n",
       "    <tr>\n",
       "      <th>3608001</th>\n",
       "      <td>879694</td>\n",
       "      <td>2022-03-31</td>\n",
       "      <td>655</td>\n",
       "      <td>2</td>\n",
       "    </tr>\n",
       "    <tr>\n",
       "      <th>3608002</th>\n",
       "      <td>879695</td>\n",
       "      <td>2022-05-27</td>\n",
       "      <td>171</td>\n",
       "      <td>2</td>\n",
       "    </tr>\n",
       "    <tr>\n",
       "      <th>3608003</th>\n",
       "      <td>879696</td>\n",
       "      <td>2022-03-14</td>\n",
       "      <td>400</td>\n",
       "      <td>0</td>\n",
       "    </tr>\n",
       "    <tr>\n",
       "      <th>3608004</th>\n",
       "      <td>879698</td>\n",
       "      <td>2022-05-24</td>\n",
       "      <td>8</td>\n",
       "      <td>2</td>\n",
       "    </tr>\n",
       "  </tbody>\n",
       "</table>\n",
       "<p>3608005 rows × 4 columns</p>\n",
       "</div>"
      ],
      "text/plain": [
       "         user_id        date  time  cluster\n",
       "0              1  2022-05-03     7        1\n",
       "1              1  2022-06-16     1        1\n",
       "2              7  2022-05-22     0        1\n",
       "3              9  2022-05-21   354        1\n",
       "4             11  2022-03-24   692        1\n",
       "...          ...         ...   ...      ...\n",
       "3608000   879693  2022-06-29     0        5\n",
       "3608001   879694  2022-03-31   655        2\n",
       "3608002   879695  2022-05-27   171        2\n",
       "3608003   879696  2022-03-14   400        0\n",
       "3608004   879698  2022-05-24     8        2\n",
       "\n",
       "[3608005 rows x 4 columns]"
      ]
     },
     "execution_count": 42,
     "metadata": {},
     "output_type": "execute_result"
    }
   ],
   "source": [
    "new_log_event_df_merge"
   ]
  },
  {
   "cell_type": "code",
   "execution_count": 43,
   "id": "81b38f92-5f27-463b-b399-fd42a4e7bbe6",
   "metadata": {},
   "outputs": [],
   "source": [
    "new_log_event_df_merge.to_csv('data/new_log_event_cluster.csv', index=False)"
   ]
  },
  {
   "cell_type": "code",
   "execution_count": null,
   "id": "9e7848d8-a28d-49b2-b9f3-d2ffcf2ef855",
   "metadata": {},
   "outputs": [],
   "source": []
  }
 ],
 "metadata": {
  "kernelspec": {
   "display_name": "Python 3 (ipykernel)",
   "language": "python",
   "name": "python3"
  },
  "language_info": {
   "codemirror_mode": {
    "name": "ipython",
    "version": 3
   },
   "file_extension": ".py",
   "mimetype": "text/x-python",
   "name": "python",
   "nbconvert_exporter": "python",
   "pygments_lexer": "ipython3",
   "version": "3.7.13"
  }
 },
 "nbformat": 4,
 "nbformat_minor": 5
}
