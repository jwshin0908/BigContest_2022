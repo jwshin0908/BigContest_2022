{
 "cells": [
  {
   "cell_type": "markdown",
   "id": "43b72e8e",
   "metadata": {
    "colab": {
     "base_uri": "https://localhost:8080/"
    },
    "id": "diqEYUhwgzg4",
    "outputId": "fb266fc5-1f9f-4fa8-de0c-1658c47460b1"
   },
   "source": [
    "pandas                        1.4.2\n",
    "numpy                         1.21.5\n",
    "matplotlib                    3.5.1\n",
    "matplotlib-inline             0.1.2\n",
    "scipy                         1.7.3\n",
    "seaborn                       0.11.2\n",
    "statsmodels                   0.13.2"
   ]
  },
  {
   "cell_type": "code",
   "execution_count": 5,
   "id": "96a88e74",
   "metadata": {
    "id": "96a88e74"
   },
   "outputs": [],
   "source": [
    "import numpy as np\n",
    "import pandas as pd\n",
    "import matplotlib.pyplot as plt\n",
    "data = pd.read_csv('cluster_df.csv')"
   ]
  },
  {
   "cell_type": "code",
   "execution_count": 6,
   "id": "14349e3c",
   "metadata": {
    "id": "14349e3c"
   },
   "outputs": [],
   "source": [
    "cluster_df=data.copy()"
   ]
  },
  {
   "cell_type": "code",
   "execution_count": 7,
   "id": "T2LJ6NPRjRaR",
   "metadata": {
    "id": "T2LJ6NPRjRaR"
   },
   "outputs": [],
   "source": [
    "data.drop(['Unnamed: 0'],axis=1,inplace=True)"
   ]
  },
  {
   "cell_type": "code",
   "execution_count": 8,
   "id": "qgCgD0FUlVqc",
   "metadata": {
    "colab": {
     "base_uri": "https://localhost:8080/"
    },
    "id": "qgCgD0FUlVqc",
    "outputId": "c33fab35-b081-4944-f46e-a983eda02d72"
   },
   "outputs": [
    {
     "name": "stdout",
     "output_type": "stream",
     "text": [
      "<class 'pandas.core.frame.DataFrame'>\n",
      "RangeIndex: 34084 entries, 0 to 34083\n",
      "Data columns (total 15 columns):\n",
      " #   Column                Non-Null Count  Dtype  \n",
      "---  ------                --------------  -----  \n",
      " 0   birth_year            34084 non-null  int64  \n",
      " 1   credit_score          34084 non-null  float64\n",
      " 2   yearly_income         34084 non-null  float64\n",
      " 3   income_type           34084 non-null  int64  \n",
      " 4   employment_type       34084 non-null  int64  \n",
      " 5   houseown_type         34084 non-null  int64  \n",
      " 6   desired_amount        34084 non-null  float64\n",
      " 7   purpose               34084 non-null  int64  \n",
      " 8   existing_loan_cnt     34084 non-null  float64\n",
      " 9   existing_loan_amt     34084 non-null  float64\n",
      " 10  gender                34084 non-null  float64\n",
      " 11  time                  34084 non-null  float64\n",
      " 12  cluster               34084 non-null  int64  \n",
      " 13  count                 34084 non-null  int64  \n",
      " 14  kmeans_minmax_label3  34084 non-null  int64  \n",
      "dtypes: float64(7), int64(8)\n",
      "memory usage: 3.9 MB\n"
     ]
    }
   ],
   "source": [
    "data.info()"
   ]
  },
  {
   "cell_type": "code",
   "execution_count": 9,
   "id": "tkLVt9KFlNR2",
   "metadata": {
    "id": "tkLVt9KFlNR2"
   },
   "outputs": [],
   "source": [
    "data1=data.copy()\n",
    "data1[['income_type','employment_type','houseown_type','purpose']]=data[['income_type','employment_type','houseown_type','purpose']].astype('category')\n",
    "data1[['birth_year','gender','kmeans_minmax_label3']]=data[['birth_year','gender','kmeans_minmax_label3']].astype('category')\n",
    "\n",
    "df=data1.copy()\n",
    "df['time']=np.sqrt(np.sqrt(data1['time']))\n",
    "df['desired_amount']=np.sqrt(data1['desired_amount'])\n",
    "df['yearly_income']=np.sqrt(np.sqrt(data1['yearly_income']))\n",
    "df['existing_loan_amt']=np.sqrt(data1['existing_loan_amt'])\n",
    "df['existing_loan_cnt']=np.sqrt(np.sqrt(np.sqrt(data1['existing_loan_cnt'])))\n",
    "\n",
    "from sklearn.preprocessing import MinMaxScaler\n",
    "X_features_scaled = MinMaxScaler().fit_transform(df)\n",
    "data_scaled=pd.DataFrame(X_features_scaled, columns=data.columns)"
   ]
  },
  {
   "cell_type": "code",
   "execution_count": 10,
   "id": "e2L76ZugmFZF",
   "metadata": {
    "colab": {
     "base_uri": "https://localhost:8080/"
    },
    "id": "e2L76ZugmFZF",
    "outputId": "b523f293-26fc-47ac-876d-b7f1555bda75"
   },
   "outputs": [
    {
     "data": {
      "text/plain": [
       "(34084, 15)"
      ]
     },
     "execution_count": 10,
     "metadata": {},
     "output_type": "execute_result"
    }
   ],
   "source": [
    "X_features_scaled.shape"
   ]
  },
  {
   "cell_type": "markdown",
   "id": "204ae647",
   "metadata": {
    "id": "204ae647"
   },
   "source": [
    "# 분산분석 : 여러 집단 간에 통계적으로 차이가 있는지\n",
    "확인해볼 값 \n",
    "* 신용점수는 같은 등급대라 비교할 필요 없을듯\n",
    "* 연소득이 각 그룹별로 차이가 있는지\n",
    "* 희망금액이 각 그룹별로 차이가 있는지\n",
    "* 기대출금액이 차이가 있는지\n"
   ]
  },
  {
   "cell_type": "markdown",
   "id": "144e1fad",
   "metadata": {
    "id": "144e1fad"
   },
   "source": [
    "정규성을 따른다는 의미는 통계량을 재해석하면 왜도와 첨도가 얼마나 0에 가깝냐라는 의미이다.\n",
    "정규분포의 왜도, 첨도가 0이기 때문에 이로부터 많이 벗어났는지에 대한 기준으로 표준오차를 사욜한다.\n",
    "근데 왜도, 첨도의 표준오차는 데이터 수에 의존적이기 때문에 수가 많아진다면 표준오차는 작아진다.\n",
    "표준오차가 작아지면, 동일한 왜도나 첨도 값일지라도 통계적으로 유의미하게 만들며 이는 데이터가 정규성이 아니다라는 주장을 지지하게 만든다.\n",
    "통계해례 98p, 203p"
   ]
  },
  {
   "cell_type": "markdown",
   "id": "f1e668da",
   "metadata": {
    "id": "f1e668da"
   },
   "source": [
    "* Pr(>F)가 p-value. 이 값이 유의수준 0.05하에서 귀무가설을 기각함. 따라서 세가지 종에따른 꽃받침 폭이 모두 동일하지는 않다고 결론내릴 수 있다. 즉, 종별 꽃받침 폭의 평균값들 중에서 적어도 어느 하나의 종은 통계적으로 유의한 차이가 있다."
   ]
  },
  {
   "cell_type": "markdown",
   "id": "05984b62",
   "metadata": {
    "id": "05984b62"
   },
   "source": [
    "* 분산분석가정 \n",
    "1. 정규성 : 각 그룹의 데이터는 정규분포 형태를 가진다. \n",
    "정의 : 모든 데이터는 정규분포를 따르는 모집단들로부터 추출됨\n",
    "* shapiro : 데이터 수가 5000개 이상일 때에는 p값의 의미가 없어진다. 군집분석하기 전에 왜도가 0에 근사하게 데이터를 지수변환, 로그변환 했기에 모집단은 정규분포를 따른다고 가정할 수 있다.\n",
    "\n",
    "\n",
    "2. 등분산 : 각 그룹의 분산은 서로 같은 분산이다. \n",
    "* 예외 ) 데이터의 수가 아주 많은 경우에는, 첫 번째 조건인 정규성을 가지지 않아도 된다. 만약 그룹간의 데이터 수가 비슷하고 어느 두 그룹 간의 분산의 비 ratio of any two variances 가 모두 4를 넘지 않는 경우에는, 두 번째 조건인 등분산을 가지지 않아도 된다.\n",
    "\n",
    "3. 독립성 : 각 그룹에 대해 관찰은 서로 독립적이며, 그룹간 서로 영향을 주지 않아야한다.\n",
    "\n",
    "\n",
    "\n",
    "** 중심극한정리 : 모집단 분포에 상관없이 큰 표본들의 표본평균 분포가 정규분포에 수렴한다는 점을 이용하여 z값을 구해 확률값을 구할 수 있고, 수학적 확률 추정이 가능하다."
   ]
  },
  {
   "cell_type": "markdown",
   "id": "o2U9401b2XtO",
   "metadata": {
    "id": "o2U9401b2XtO"
   },
   "source": [
    "### 군집별로 희망금액은 차이가 있다.\n",
    "반올림 해서 57045288, 81229684, 49544603"
   ]
  },
  {
   "cell_type": "code",
   "execution_count": 11,
   "id": "_eaoJ7O5zVPp",
   "metadata": {
    "colab": {
     "base_uri": "https://localhost:8080/",
     "height": 112
    },
    "id": "_eaoJ7O5zVPp",
    "outputId": "785e6aa1-426e-47e1-8d02-83841be3db74"
   },
   "outputs": [
    {
     "data": {
      "text/html": [
       "<div>\n",
       "<style scoped>\n",
       "    .dataframe tbody tr th:only-of-type {\n",
       "        vertical-align: middle;\n",
       "    }\n",
       "\n",
       "    .dataframe tbody tr th {\n",
       "        vertical-align: top;\n",
       "    }\n",
       "\n",
       "    .dataframe thead th {\n",
       "        text-align: right;\n",
       "    }\n",
       "</style>\n",
       "<table border=\"1\" class=\"dataframe\">\n",
       "  <thead>\n",
       "    <tr style=\"text-align: right;\">\n",
       "      <th></th>\n",
       "      <th>df</th>\n",
       "      <th>sum_sq</th>\n",
       "      <th>mean_sq</th>\n",
       "      <th>F</th>\n",
       "      <th>PR(&gt;F)</th>\n",
       "    </tr>\n",
       "  </thead>\n",
       "  <tbody>\n",
       "    <tr>\n",
       "      <th>C(kmeans_minmax_label3)</th>\n",
       "      <td>2.0</td>\n",
       "      <td>1.891264e+10</td>\n",
       "      <td>9.456320e+09</td>\n",
       "      <td>347.263753</td>\n",
       "      <td>5.028187e-150</td>\n",
       "    </tr>\n",
       "    <tr>\n",
       "      <th>Residual</th>\n",
       "      <td>34081.0</td>\n",
       "      <td>9.280578e+11</td>\n",
       "      <td>2.723094e+07</td>\n",
       "      <td>NaN</td>\n",
       "      <td>NaN</td>\n",
       "    </tr>\n",
       "  </tbody>\n",
       "</table>\n",
       "</div>"
      ],
      "text/plain": [
       "                              df        sum_sq       mean_sq           F  \\\n",
       "C(kmeans_minmax_label3)      2.0  1.891264e+10  9.456320e+09  347.263753   \n",
       "Residual                 34081.0  9.280578e+11  2.723094e+07         NaN   \n",
       "\n",
       "                                PR(>F)  \n",
       "C(kmeans_minmax_label3)  5.028187e-150  \n",
       "Residual                           NaN  "
      ]
     },
     "execution_count": 11,
     "metadata": {},
     "output_type": "execute_result"
    }
   ],
   "source": [
    "from statsmodels.formula.api import ols\n",
    "from statsmodels.stats.anova import anova_lm\n",
    "model = ols('desired_amount~ C(kmeans_minmax_label3)', cluster_df).fit()\n",
    "anova_lm(model)\n",
    "\n",
    "#귀무가설 : 집단별로 희망금액 평균은 모두 같다.\n",
    "#대립가설 : 적어도 하나의 집단에 대한 희망금액의 평균값에는 차이가 있다.\n",
    "# Pr(>F)가 p-value. 이 값이 유의수준 0.05하에서 귀무가설을 기각한다. 따라서 세 군집의 희망금액 평균이 모두 동일하지는 않다고 결론내릴 수 있다."
   ]
  },
  {
   "cell_type": "code",
   "execution_count": 12,
   "id": "zGkthgjL8IFJ",
   "metadata": {
    "colab": {
     "base_uri": "https://localhost:8080/",
     "height": 112
    },
    "id": "zGkthgjL8IFJ",
    "outputId": "64ae3d62-519f-4f20-d8ab-8780a3aad4f5"
   },
   "outputs": [
    {
     "data": {
      "text/html": [
       "<div>\n",
       "<style scoped>\n",
       "    .dataframe tbody tr th:only-of-type {\n",
       "        vertical-align: middle;\n",
       "    }\n",
       "\n",
       "    .dataframe tbody tr th {\n",
       "        vertical-align: top;\n",
       "    }\n",
       "\n",
       "    .dataframe thead th {\n",
       "        text-align: right;\n",
       "    }\n",
       "</style>\n",
       "<table border=\"1\" class=\"dataframe\">\n",
       "  <thead>\n",
       "    <tr style=\"text-align: right;\">\n",
       "      <th></th>\n",
       "      <th>df</th>\n",
       "      <th>sum_sq</th>\n",
       "      <th>mean_sq</th>\n",
       "      <th>F</th>\n",
       "      <th>PR(&gt;F)</th>\n",
       "    </tr>\n",
       "  </thead>\n",
       "  <tbody>\n",
       "    <tr>\n",
       "      <th>C(kmeans_minmax_label3)</th>\n",
       "      <td>2.0</td>\n",
       "      <td>1.142950e+06</td>\n",
       "      <td>571475.069482</td>\n",
       "      <td>1410.246053</td>\n",
       "      <td>0.0</td>\n",
       "    </tr>\n",
       "    <tr>\n",
       "      <th>Residual</th>\n",
       "      <td>34081.0</td>\n",
       "      <td>1.381067e+07</td>\n",
       "      <td>405.230753</td>\n",
       "      <td>NaN</td>\n",
       "      <td>NaN</td>\n",
       "    </tr>\n",
       "  </tbody>\n",
       "</table>\n",
       "</div>"
      ],
      "text/plain": [
       "                              df        sum_sq        mean_sq            F  \\\n",
       "C(kmeans_minmax_label3)      2.0  1.142950e+06  571475.069482  1410.246053   \n",
       "Residual                 34081.0  1.381067e+07     405.230753          NaN   \n",
       "\n",
       "                         PR(>F)  \n",
       "C(kmeans_minmax_label3)     0.0  \n",
       "Residual                    NaN  "
      ]
     },
     "execution_count": 12,
     "metadata": {},
     "output_type": "execute_result"
    }
   ],
   "source": [
    "model = ols('yearly_income~ C(kmeans_minmax_label3)', cluster_df).fit()\n",
    "anova_lm(model)\n",
    "\n",
    "#귀무가설 : 집단별로 연소득 평균은 모두 같다.\n",
    "#대립가설 : 적어도 하나의 집단에 대한 연소득 평균값에는 차이가 있다.\n",
    "# Pr(>F)가 p-value. 이 값이 유의수준 0.05하에서 귀무가설을 기각한다. 따라서 세 군집의 연소득 평균이 모두 동일하지는 않다고 결론내릴 수 있다.\n"
   ]
  },
  {
   "cell_type": "code",
   "execution_count": 13,
   "id": "wJZQWvEF8ICA",
   "metadata": {
    "id": "wJZQWvEF8ICA"
   },
   "outputs": [
    {
     "data": {
      "text/html": [
       "<div>\n",
       "<style scoped>\n",
       "    .dataframe tbody tr th:only-of-type {\n",
       "        vertical-align: middle;\n",
       "    }\n",
       "\n",
       "    .dataframe tbody tr th {\n",
       "        vertical-align: top;\n",
       "    }\n",
       "\n",
       "    .dataframe thead th {\n",
       "        text-align: right;\n",
       "    }\n",
       "</style>\n",
       "<table border=\"1\" class=\"dataframe\">\n",
       "  <thead>\n",
       "    <tr style=\"text-align: right;\">\n",
       "      <th></th>\n",
       "      <th>df</th>\n",
       "      <th>sum_sq</th>\n",
       "      <th>mean_sq</th>\n",
       "      <th>F</th>\n",
       "      <th>PR(&gt;F)</th>\n",
       "    </tr>\n",
       "  </thead>\n",
       "  <tbody>\n",
       "    <tr>\n",
       "      <th>C(purpose)</th>\n",
       "      <td>7.0</td>\n",
       "      <td>1.950619e+10</td>\n",
       "      <td>2.786598e+09</td>\n",
       "      <td>155.631150</td>\n",
       "      <td>2.668618e-227</td>\n",
       "    </tr>\n",
       "    <tr>\n",
       "      <th>C(gender)</th>\n",
       "      <td>1.0</td>\n",
       "      <td>7.192464e+09</td>\n",
       "      <td>7.192464e+09</td>\n",
       "      <td>401.698198</td>\n",
       "      <td>7.656834e-89</td>\n",
       "    </tr>\n",
       "    <tr>\n",
       "      <th>C(purpose):C(gender)</th>\n",
       "      <td>7.0</td>\n",
       "      <td>9.662879e+08</td>\n",
       "      <td>1.380411e+08</td>\n",
       "      <td>7.709580</td>\n",
       "      <td>2.429939e-09</td>\n",
       "    </tr>\n",
       "    <tr>\n",
       "      <th>Residual</th>\n",
       "      <td>34068.0</td>\n",
       "      <td>6.099924e+11</td>\n",
       "      <td>1.790514e+07</td>\n",
       "      <td>NaN</td>\n",
       "      <td>NaN</td>\n",
       "    </tr>\n",
       "  </tbody>\n",
       "</table>\n",
       "</div>"
      ],
      "text/plain": [
       "                           df        sum_sq       mean_sq           F  \\\n",
       "C(purpose)                7.0  1.950619e+10  2.786598e+09  155.631150   \n",
       "C(gender)                 1.0  7.192464e+09  7.192464e+09  401.698198   \n",
       "C(purpose):C(gender)      7.0  9.662879e+08  1.380411e+08    7.709580   \n",
       "Residual              34068.0  6.099924e+11  1.790514e+07         NaN   \n",
       "\n",
       "                             PR(>F)  \n",
       "C(purpose)            2.668618e-227  \n",
       "C(gender)              7.656834e-89  \n",
       "C(purpose):C(gender)   2.429939e-09  \n",
       "Residual                        NaN  "
      ]
     },
     "execution_count": 13,
     "metadata": {},
     "output_type": "execute_result"
    }
   ],
   "source": [
    "# 이원배치 \n",
    "##이건 cluster별로 해야겠는데 , 집단별로 표본 수가 동일할 때\n",
    "##예를 들면 기대출금액이 목적과 성별에 따라 평균 차이가 난다고 볼 수 있나.\n",
    "## 세번째 자료에서 상호작용 효과를 알 수 있음 \n",
    "\n",
    "\n",
    "from statsmodels.formula.api import ols\n",
    "from statsmodels.stats.anova import anova_lm\n",
    "model = ols('existing_loan_amt ~ C(purpose) * C(gender)', cluster_df).fit()\n",
    "anova_lm(model)\n"
   ]
  },
  {
   "cell_type": "code",
   "execution_count": 15,
   "id": "0d766486",
   "metadata": {},
   "outputs": [
    {
     "name": "stdout",
     "output_type": "stream",
     "text": [
      "Collecting pingouin\n",
      "  Downloading pingouin-0.5.2.tar.gz (185 kB)\n",
      "Requirement already satisfied: numpy>=1.19 in c:\\users\\jus68\\anaconda3\\lib\\site-packages (from pingouin) (1.21.5)\n",
      "Requirement already satisfied: scipy>=1.7 in c:\\users\\jus68\\anaconda3\\lib\\site-packages (from pingouin) (1.7.3)\n",
      "Requirement already satisfied: pandas>=1.0 in c:\\users\\jus68\\anaconda3\\lib\\site-packages (from pingouin) (1.4.2)\n",
      "Requirement already satisfied: matplotlib>=3.0.2 in c:\\users\\jus68\\anaconda3\\lib\\site-packages (from pingouin) (3.5.1)\n",
      "Requirement already satisfied: seaborn>=0.11 in c:\\users\\jus68\\anaconda3\\lib\\site-packages (from pingouin) (0.11.2)\n",
      "Requirement already satisfied: statsmodels>=0.13 in c:\\users\\jus68\\anaconda3\\lib\\site-packages (from pingouin) (0.13.2)\n",
      "Collecting scikit-learn<1.1.0\n",
      "  Downloading scikit_learn-1.0.2-cp39-cp39-win_amd64.whl (7.2 MB)\n",
      "Collecting pandas_flavor>=0.2.0\n",
      "  Downloading pandas_flavor-0.3.0-py3-none-any.whl (6.3 kB)\n",
      "Collecting outdated\n",
      "  Downloading outdated-0.2.1-py3-none-any.whl (7.5 kB)\n",
      "Requirement already satisfied: tabulate in c:\\users\\jus68\\anaconda3\\lib\\site-packages (from pingouin) (0.8.9)\n",
      "Requirement already satisfied: packaging>=20.0 in c:\\users\\jus68\\anaconda3\\lib\\site-packages (from matplotlib>=3.0.2->pingouin) (21.3)\n",
      "Requirement already satisfied: pyparsing>=2.2.1 in c:\\users\\jus68\\anaconda3\\lib\\site-packages (from matplotlib>=3.0.2->pingouin) (3.0.4)\n",
      "Requirement already satisfied: fonttools>=4.22.0 in c:\\users\\jus68\\anaconda3\\lib\\site-packages (from matplotlib>=3.0.2->pingouin) (4.25.0)\n",
      "Requirement already satisfied: pillow>=6.2.0 in c:\\users\\jus68\\anaconda3\\lib\\site-packages (from matplotlib>=3.0.2->pingouin) (9.0.1)\n",
      "Requirement already satisfied: python-dateutil>=2.7 in c:\\users\\jus68\\anaconda3\\lib\\site-packages (from matplotlib>=3.0.2->pingouin) (2.8.2)\n",
      "Requirement already satisfied: kiwisolver>=1.0.1 in c:\\users\\jus68\\anaconda3\\lib\\site-packages (from matplotlib>=3.0.2->pingouin) (1.3.2)\n",
      "Requirement already satisfied: cycler>=0.10 in c:\\users\\jus68\\anaconda3\\lib\\site-packages (from matplotlib>=3.0.2->pingouin) (0.11.0)\n",
      "Requirement already satisfied: pytz>=2020.1 in c:\\users\\jus68\\anaconda3\\lib\\site-packages (from pandas>=1.0->pingouin) (2021.3)\n",
      "Collecting lazy-loader==0.1rc2\n",
      "  Downloading lazy_loader-0.1rc2-py3-none-any.whl (5.1 kB)\n",
      "Requirement already satisfied: xarray in c:\\users\\jus68\\anaconda3\\lib\\site-packages (from pandas_flavor>=0.2.0->pingouin) (0.20.1)\n",
      "Requirement already satisfied: six>=1.5 in c:\\users\\jus68\\anaconda3\\lib\\site-packages (from python-dateutil>=2.7->matplotlib>=3.0.2->pingouin) (1.16.0)\n",
      "Requirement already satisfied: joblib>=0.11 in c:\\users\\jus68\\anaconda3\\lib\\site-packages (from scikit-learn<1.1.0->pingouin) (1.1.0)\n",
      "Requirement already satisfied: threadpoolctl>=2.0.0 in c:\\users\\jus68\\anaconda3\\lib\\site-packages (from scikit-learn<1.1.0->pingouin) (2.2.0)\n",
      "Requirement already satisfied: patsy>=0.5.2 in c:\\users\\jus68\\anaconda3\\lib\\site-packages (from statsmodels>=0.13->pingouin) (0.5.2)\n",
      "Requirement already satisfied: requests in c:\\users\\jus68\\anaconda3\\lib\\site-packages (from outdated->pingouin) (2.27.1)\n",
      "Collecting littleutils\n",
      "  Downloading littleutils-0.2.2.tar.gz (6.6 kB)\n",
      "Requirement already satisfied: certifi>=2017.4.17 in c:\\users\\jus68\\anaconda3\\lib\\site-packages (from requests->outdated->pingouin) (2021.10.8)\n",
      "Requirement already satisfied: charset-normalizer~=2.0.0 in c:\\users\\jus68\\anaconda3\\lib\\site-packages (from requests->outdated->pingouin) (2.0.4)\n",
      "Requirement already satisfied: urllib3<1.27,>=1.21.1 in c:\\users\\jus68\\anaconda3\\lib\\site-packages (from requests->outdated->pingouin) (1.26.9)\n",
      "Requirement already satisfied: idna<4,>=2.5 in c:\\users\\jus68\\anaconda3\\lib\\site-packages (from requests->outdated->pingouin) (3.3)\n",
      "Building wheels for collected packages: pingouin, littleutils\n",
      "  Building wheel for pingouin (setup.py): started\n",
      "  Building wheel for pingouin (setup.py): finished with status 'done'\n",
      "  Created wheel for pingouin: filename=pingouin-0.5.2-py3-none-any.whl size=196207 sha256=5aa73faf05b9edd632e10773629750f43ce269505b238b5d4b8048ad122ae3da\n",
      "  Stored in directory: c:\\users\\jus68\\appdata\\local\\pip\\cache\\wheels\\c0\\9f\\92\\4c574395e1e8e5e08cf73dcb76815a7eaa62921833b6b0f6ad\n",
      "  Building wheel for littleutils (setup.py): started\n",
      "  Building wheel for littleutils (setup.py): finished with status 'done'\n",
      "  Created wheel for littleutils: filename=littleutils-0.2.2-py3-none-any.whl size=7048 sha256=ee08dafd576876e59497ddce59b874bf0d9ad9bfe5e36dbf5ba295b6a9b56e07\n",
      "  Stored in directory: c:\\users\\jus68\\appdata\\local\\pip\\cache\\wheels\\04\\bb\\0d\\2d02ec45f29c48d6192476bfb59c5a0e64b605e7212374dd15\n",
      "Successfully built pingouin littleutils\n",
      "Installing collected packages: littleutils, lazy-loader, scikit-learn, pandas-flavor, outdated, pingouin\n",
      "  Attempting uninstall: scikit-learn\n",
      "    Found existing installation: scikit-learn 1.1.2\n",
      "    Uninstalling scikit-learn-1.1.2:\n",
      "      Successfully uninstalled scikit-learn-1.1.2\n"
     ]
    },
    {
     "name": "stderr",
     "output_type": "stream",
     "text": [
      "ERROR: Could not install packages due to an OSError: [WinError 5] 액세스가 거부되었습니다: 'C:\\\\Users\\\\jus68\\\\anaconda3\\\\Lib\\\\site-packages\\\\~klearn\\\\.libs\\\\vcomp140.dll'\n",
      "Consider using the `--user` option or check the permissions.\n",
      "\n"
     ]
    }
   ],
   "source": [
    "!pip install pingouin"
   ]
  },
  {
   "cell_type": "code",
   "execution_count": 16,
   "id": "Y95RTT5uFKqy",
   "metadata": {
    "colab": {
     "base_uri": "https://localhost:8080/",
     "height": 81
    },
    "id": "Y95RTT5uFKqy",
    "outputId": "87a054a3-2286-4665-9fee-8e435d9adac6"
   },
   "outputs": [
    {
     "ename": "ModuleNotFoundError",
     "evalue": "No module named 'pingouin'",
     "output_type": "error",
     "traceback": [
      "\u001b[1;31m---------------------------------------------------------------------------\u001b[0m",
      "\u001b[1;31mModuleNotFoundError\u001b[0m                       Traceback (most recent call last)",
      "Input \u001b[1;32mIn [16]\u001b[0m, in \u001b[0;36m<cell line: 2>\u001b[1;34m()\u001b[0m\n\u001b[0;32m      1\u001b[0m \u001b[38;5;66;03m# 등분산성을 만족하지 못할 때\u001b[39;00m\n\u001b[1;32m----> 2\u001b[0m \u001b[38;5;28;01mimport\u001b[39;00m \u001b[38;5;21;01mpingouin\u001b[39;00m \u001b[38;5;28;01mas\u001b[39;00m \u001b[38;5;21;01mpg\u001b[39;00m\n\u001b[0;32m      3\u001b[0m pg\u001b[38;5;241m.\u001b[39mwelch_anova(dv \u001b[38;5;241m=\u001b[39m \u001b[38;5;124m'\u001b[39m\u001b[38;5;124myearly_income\u001b[39m\u001b[38;5;124m'\u001b[39m, between \u001b[38;5;241m=\u001b[39m \u001b[38;5;124m'\u001b[39m\u001b[38;5;124mincome_type\u001b[39m\u001b[38;5;124m'\u001b[39m, data \u001b[38;5;241m=\u001b[39m cluster_df)\n",
      "\u001b[1;31mModuleNotFoundError\u001b[0m: No module named 'pingouin'"
     ]
    }
   ],
   "source": [
    "# 등분산성을 만족하지 못할 때\n",
    "import pingouin as pg\n",
    "pg.welch_anova(dv = 'yearly_income', between = 'income_type', data = cluster_df)\n",
    "\n",
    "# income type에 따라 연소득의 차이가 있다. "
   ]
  },
  {
   "cell_type": "code",
   "execution_count": null,
   "id": "BGmUjv2GFLNy",
   "metadata": {
    "colab": {
     "base_uri": "https://localhost:8080/",
     "height": 81
    },
    "id": "BGmUjv2GFLNy",
    "outputId": "92c06e9d-5a99-4f9a-d4a3-be60f5e91d7c"
   },
   "outputs": [],
   "source": [
    "pg.welch_anova(dv = 'employment_type', between = 'income_type', data = cluster_df)\n",
    "\n",
    "# 고용형태에 따라 연소득의 차이가 있다. "
   ]
  },
  {
   "cell_type": "code",
   "execution_count": null,
   "id": "3b0e5474",
   "metadata": {
    "colab": {
     "base_uri": "https://localhost:8080/",
     "height": 378
    },
    "id": "3b0e5474",
    "outputId": "2c5e25aa-d209-4aa1-fa1e-24839558c0e4"
   },
   "outputs": [],
   "source": [
    "## 이원배치 분산분석\n",
    "\n",
    "cluster_df.boxplot(column='yearly_income', by='kmeans_minmax_label3')"
   ]
  },
  {
   "cell_type": "code",
   "execution_count": null,
   "id": "86dda177",
   "metadata": {
    "colab": {
     "base_uri": "https://localhost:8080/",
     "height": 175
    },
    "id": "86dda177",
    "outputId": "df596fab-8117-4539-dd79-2aa5858185db"
   },
   "outputs": [],
   "source": [
    "# 이원배치 \n",
    "##집단별로 표본 수가 동일할 때 기대출금액이 목적과 성별에 따라 평균 차이가 난다고 볼 수 있다.\n",
    "# 둘의 상호작용 효과 또한 나타난 것을 알 수 있다.\n",
    "## 세번째 자료에서 상호작용 효과를 알 수 있음 \n",
    "\n",
    "\n",
    "from statsmodels.formula.api import ols\n",
    "from statsmodels.stats.anova import anova_lm\n",
    "model = ols('existing_loan_amt ~ C(purpose) * C(gender)', cluster_df).fit()\n",
    "anova_lm(model)\n"
   ]
  },
  {
   "cell_type": "markdown",
   "id": "c575132a",
   "metadata": {
    "id": "c575132a"
   },
   "source": [
    " 일원분산분석과 비교해서 상호작용효과를 검증/분석하는게 중요\n",
    "상호작용효과가 유의미한 경우, 단순효과분석 결과를 상세하게 첨부\n",
    "\n",
    "* 기대출금액에 대하여 성별과 목적를 요인으로 하는 이원분산분석을 실시한 결과, 목적 주효과는 유의미하였으며(F =155.63115, p < 0.05), 성별의 주효과 또한 유의미하고(F=401.69820, p < 0.05), 두 변수의 유의미한 상호작용효과 또한 발견할 수 있었다(F= \t138041127.25421, p < 0.05)."
   ]
  },
  {
   "cell_type": "code",
   "execution_count": null,
   "id": "af889833",
   "metadata": {
    "colab": {
     "base_uri": "https://localhost:8080/",
     "height": 264
    },
    "id": "af889833",
    "outputId": "f4aaf15f-3cce-4177-f219-795a63916dd3"
   },
   "outputs": [],
   "source": [
    "# 이원분산분석\n",
    "# 유의하지 않다.\n",
    "\n",
    "from statsmodels.formula.api import ols\n",
    "from statsmodels.stats.anova import anova_lm\n",
    "model = ols('existing_loan_amt ~ C(kmeans_minmax_label3) * C(gender)', cluster_df).fit()\n",
    "anova_lm(model,typ=3)\n",
    "\n",
    "# 다 유의하지 않다."
   ]
  },
  {
   "cell_type": "code",
   "execution_count": null,
   "id": "d0f7e3d9",
   "metadata": {
    "colab": {
     "base_uri": "https://localhost:8080/"
    },
    "id": "d0f7e3d9",
    "outputId": "ee7f07c4-4b3f-41a4-f906-dc4ebaae9487"
   },
   "outputs": [],
   "source": [
    "## 두 변수가 독립적인지 - 카이제곱 검증\n",
    "# 귀무 : 두 변수는 독립이다. 대립 : 두 변수는 독립아니다.\n",
    "import scipy.stats\n",
    "# 검정통계량, p값, 자유도\n",
    "chi2, pvalue, dof, expected = scipy.stats.chi2_contingency(cluster_df[['desired_amount','credit_score']])\n",
    "print(chi2, pvalue, dof)\n"
   ]
  },
  {
   "cell_type": "code",
   "execution_count": null,
   "id": "Zf77lzAjMBu7",
   "metadata": {
    "id": "Zf77lzAjMBu7"
   },
   "outputs": [],
   "source": []
  },
  {
   "cell_type": "code",
   "execution_count": null,
   "id": "XA2xpI_jMBxJ",
   "metadata": {
    "id": "XA2xpI_jMBxJ"
   },
   "outputs": [],
   "source": []
  }
 ],
 "metadata": {
  "colab": {
   "collapsed_sections": [],
   "provenance": []
  },
  "kernelspec": {
   "display_name": "Python 3 (ipykernel)",
   "language": "python",
   "name": "python3"
  },
  "language_info": {
   "codemirror_mode": {
    "name": "ipython",
    "version": 3
   },
   "file_extension": ".py",
   "mimetype": "text/x-python",
   "name": "python",
   "nbconvert_exporter": "python",
   "pygments_lexer": "ipython3",
   "version": "3.9.12"
  }
 },
 "nbformat": 4,
 "nbformat_minor": 5
}
