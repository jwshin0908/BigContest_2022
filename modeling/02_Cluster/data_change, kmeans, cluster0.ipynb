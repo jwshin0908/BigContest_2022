{
 "cells": [
  {
   "cell_type": "code",
   "execution_count": 51,
   "id": "de3405f7",
   "metadata": {},
   "outputs": [],
   "source": [
    "import numpy as np\n",
    "import pandas as pd\n",
    "import matplotlib as mpl\n",
    "import matplotlib.pyplot as plt\n",
    "import matplotlib.font_manager as fm"
   ]
  },
  {
   "cell_type": "code",
   "execution_count": 52,
   "id": "a8f1a639",
   "metadata": {},
   "outputs": [
    {
     "name": "stdout",
     "output_type": "stream",
     "text": [
      "['Malgun Gothic']\n"
     ]
    }
   ],
   "source": [
    "# matplotlib 폰트설정\n",
    "# plt.rc('font', family='NanumGothicOTF') # For MacOS\n",
    "plt.rc('font', family='Malgun Gothic') # For Windows\n",
    "print(plt.rcParams['font.family'])\n",
    "\n",
    "%matplotlib inline\n",
    "# 브라우저에서 바로 이미지를 그린다.v"
   ]
  },
  {
   "cell_type": "code",
   "execution_count": 53,
   "id": "99abf8ac",
   "metadata": {},
   "outputs": [],
   "source": [
    "# 지수표현 제거\n",
    "pd.options.display.float_format = '{:.5f}'.format"
   ]
  },
  {
   "cell_type": "code",
   "execution_count": 54,
   "id": "46b97957",
   "metadata": {},
   "outputs": [],
   "source": [
    "log_cluster=pd.read_csv('log_cluster_final.csv')\n",
    "user_cluster=pd.read_csv('user_cluster_final.csv')"
   ]
  },
  {
   "cell_type": "code",
   "execution_count": 55,
   "id": "78a327fe",
   "metadata": {},
   "outputs": [
    {
     "data": {
      "text/html": [
       "<div>\n",
       "<style scoped>\n",
       "    .dataframe tbody tr th:only-of-type {\n",
       "        vertical-align: middle;\n",
       "    }\n",
       "\n",
       "    .dataframe tbody tr th {\n",
       "        vertical-align: top;\n",
       "    }\n",
       "\n",
       "    .dataframe thead th {\n",
       "        text-align: right;\n",
       "    }\n",
       "</style>\n",
       "<table border=\"1\" class=\"dataframe\">\n",
       "  <thead>\n",
       "    <tr style=\"text-align: right;\">\n",
       "      <th></th>\n",
       "      <th>user_id</th>\n",
       "      <th>date</th>\n",
       "      <th>time</th>\n",
       "      <th>cluster</th>\n",
       "      <th>count</th>\n",
       "    </tr>\n",
       "  </thead>\n",
       "  <tbody>\n",
       "    <tr>\n",
       "      <th>0</th>\n",
       "      <td>1</td>\n",
       "      <td>2022-06-16</td>\n",
       "      <td>8</td>\n",
       "      <td>1</td>\n",
       "      <td>2</td>\n",
       "    </tr>\n",
       "    <tr>\n",
       "      <th>1</th>\n",
       "      <td>7</td>\n",
       "      <td>2022-05-22</td>\n",
       "      <td>0</td>\n",
       "      <td>1</td>\n",
       "      <td>1</td>\n",
       "    </tr>\n",
       "    <tr>\n",
       "      <th>2</th>\n",
       "      <td>9</td>\n",
       "      <td>2022-05-21</td>\n",
       "      <td>354</td>\n",
       "      <td>1</td>\n",
       "      <td>1</td>\n",
       "    </tr>\n",
       "    <tr>\n",
       "      <th>3</th>\n",
       "      <td>11</td>\n",
       "      <td>2022-06-13</td>\n",
       "      <td>1687</td>\n",
       "      <td>1</td>\n",
       "      <td>5</td>\n",
       "    </tr>\n",
       "    <tr>\n",
       "      <th>4</th>\n",
       "      <td>12</td>\n",
       "      <td>2022-06-30</td>\n",
       "      <td>2744</td>\n",
       "      <td>2</td>\n",
       "      <td>15</td>\n",
       "    </tr>\n",
       "  </tbody>\n",
       "</table>\n",
       "</div>"
      ],
      "text/plain": [
       "   user_id        date  time  cluster  count\n",
       "0        1  2022-06-16     8        1      2\n",
       "1        7  2022-05-22     0        1      1\n",
       "2        9  2022-05-21   354        1      1\n",
       "3       11  2022-06-13  1687        1      5\n",
       "4       12  2022-06-30  2744        2     15"
      ]
     },
     "execution_count": 55,
     "metadata": {},
     "output_type": "execute_result"
    }
   ],
   "source": [
    "log_cluster.head()"
   ]
  },
  {
   "cell_type": "code",
   "execution_count": 56,
   "id": "c8641251",
   "metadata": {
    "scrolled": true
   },
   "outputs": [
    {
     "data": {
      "text/html": [
       "<div>\n",
       "<style scoped>\n",
       "    .dataframe tbody tr th:only-of-type {\n",
       "        vertical-align: middle;\n",
       "    }\n",
       "\n",
       "    .dataframe tbody tr th {\n",
       "        vertical-align: top;\n",
       "    }\n",
       "\n",
       "    .dataframe thead th {\n",
       "        text-align: right;\n",
       "    }\n",
       "</style>\n",
       "<table border=\"1\" class=\"dataframe\">\n",
       "  <thead>\n",
       "    <tr style=\"text-align: right;\">\n",
       "      <th></th>\n",
       "      <th>user_id</th>\n",
       "      <th>loanapply_insert_time</th>\n",
       "      <th>birth_year</th>\n",
       "      <th>credit_score</th>\n",
       "      <th>yearly_income</th>\n",
       "      <th>income_type</th>\n",
       "      <th>employment_type</th>\n",
       "      <th>houseown_type</th>\n",
       "      <th>desired_amount</th>\n",
       "      <th>purpose</th>\n",
       "      <th>existing_loan_cnt</th>\n",
       "      <th>existing_loan_amt</th>\n",
       "      <th>gender</th>\n",
       "    </tr>\n",
       "  </thead>\n",
       "  <tbody>\n",
       "    <tr>\n",
       "      <th>0</th>\n",
       "      <td>430982</td>\n",
       "      <td>2022-05-16</td>\n",
       "      <td>20</td>\n",
       "      <td>620.00000</td>\n",
       "      <td>2000000.00000</td>\n",
       "      <td>EARNEDINCOME</td>\n",
       "      <td>정규직</td>\n",
       "      <td>자가</td>\n",
       "      <td>35000000.00000</td>\n",
       "      <td>대환대출</td>\n",
       "      <td>2.00000</td>\n",
       "      <td>15000000.00000</td>\n",
       "      <td>1.00000</td>\n",
       "    </tr>\n",
       "    <tr>\n",
       "      <th>1</th>\n",
       "      <td>345273</td>\n",
       "      <td>2022-05-21</td>\n",
       "      <td>40</td>\n",
       "      <td>700.00000</td>\n",
       "      <td>60000000.00000</td>\n",
       "      <td>EARNEDINCOME</td>\n",
       "      <td>정규직</td>\n",
       "      <td>자가</td>\n",
       "      <td>50000000.00000</td>\n",
       "      <td>생활비</td>\n",
       "      <td>3.00000</td>\n",
       "      <td>86000000.00000</td>\n",
       "      <td>1.00000</td>\n",
       "    </tr>\n",
       "    <tr>\n",
       "      <th>2</th>\n",
       "      <td>3058</td>\n",
       "      <td>2022-06-03</td>\n",
       "      <td>30</td>\n",
       "      <td>910.00000</td>\n",
       "      <td>44000000.00000</td>\n",
       "      <td>FREELANCER</td>\n",
       "      <td>기타</td>\n",
       "      <td>전월세</td>\n",
       "      <td>22000000.00000</td>\n",
       "      <td>생활비</td>\n",
       "      <td>3.00000</td>\n",
       "      <td>23000000.00000</td>\n",
       "      <td>1.00000</td>\n",
       "    </tr>\n",
       "    <tr>\n",
       "      <th>3</th>\n",
       "      <td>181137</td>\n",
       "      <td>2022-06-04</td>\n",
       "      <td>20</td>\n",
       "      <td>740.00000</td>\n",
       "      <td>30000000.00000</td>\n",
       "      <td>EARNEDINCOME</td>\n",
       "      <td>정규직</td>\n",
       "      <td>전월세</td>\n",
       "      <td>10000000.00000</td>\n",
       "      <td>전월세보증금</td>\n",
       "      <td>3.00000</td>\n",
       "      <td>43000000.00000</td>\n",
       "      <td>1.00000</td>\n",
       "    </tr>\n",
       "    <tr>\n",
       "      <th>4</th>\n",
       "      <td>197454</td>\n",
       "      <td>2022-06-07</td>\n",
       "      <td>30</td>\n",
       "      <td>550.00000</td>\n",
       "      <td>41000000.00000</td>\n",
       "      <td>EARNEDINCOME</td>\n",
       "      <td>계약직</td>\n",
       "      <td>전월세</td>\n",
       "      <td>5000000.00000</td>\n",
       "      <td>전월세보증금</td>\n",
       "      <td>2.00000</td>\n",
       "      <td>42000000.00000</td>\n",
       "      <td>1.00000</td>\n",
       "    </tr>\n",
       "  </tbody>\n",
       "</table>\n",
       "</div>"
      ],
      "text/plain": [
       "   user_id loanapply_insert_time  birth_year  credit_score  yearly_income  \\\n",
       "0   430982            2022-05-16          20     620.00000  2000000.00000   \n",
       "1   345273            2022-05-21          40     700.00000 60000000.00000   \n",
       "2     3058            2022-06-03          30     910.00000 44000000.00000   \n",
       "3   181137            2022-06-04          20     740.00000 30000000.00000   \n",
       "4   197454            2022-06-07          30     550.00000 41000000.00000   \n",
       "\n",
       "    income_type employment_type houseown_type  desired_amount purpose  \\\n",
       "0  EARNEDINCOME             정규직            자가  35000000.00000    대환대출   \n",
       "1  EARNEDINCOME             정규직            자가  50000000.00000     생활비   \n",
       "2    FREELANCER              기타           전월세  22000000.00000     생활비   \n",
       "3  EARNEDINCOME             정규직           전월세  10000000.00000  전월세보증금   \n",
       "4  EARNEDINCOME             계약직           전월세   5000000.00000  전월세보증금   \n",
       "\n",
       "   existing_loan_cnt  existing_loan_amt  gender  \n",
       "0            2.00000     15000000.00000 1.00000  \n",
       "1            3.00000     86000000.00000 1.00000  \n",
       "2            3.00000     23000000.00000 1.00000  \n",
       "3            3.00000     43000000.00000 1.00000  \n",
       "4            2.00000     42000000.00000 1.00000  "
      ]
     },
     "execution_count": 56,
     "metadata": {},
     "output_type": "execute_result"
    }
   ],
   "source": [
    "user_cluster.head()"
   ]
  },
  {
   "cell_type": "code",
   "execution_count": 9,
   "id": "5ee23fca",
   "metadata": {},
   "outputs": [
    {
     "data": {
      "text/plain": [
       "(314147, 13)"
      ]
     },
     "execution_count": 9,
     "metadata": {},
     "output_type": "execute_result"
    }
   ],
   "source": [
    "user_cluster.shape"
   ]
  },
  {
   "cell_type": "code",
   "execution_count": 25,
   "id": "00fad075",
   "metadata": {},
   "outputs": [
    {
     "data": {
      "text/html": [
       "<div>\n",
       "<style scoped>\n",
       "    .dataframe tbody tr th:only-of-type {\n",
       "        vertical-align: middle;\n",
       "    }\n",
       "\n",
       "    .dataframe tbody tr th {\n",
       "        vertical-align: top;\n",
       "    }\n",
       "\n",
       "    .dataframe thead th {\n",
       "        text-align: right;\n",
       "    }\n",
       "</style>\n",
       "<table border=\"1\" class=\"dataframe\">\n",
       "  <thead>\n",
       "    <tr style=\"text-align: right;\">\n",
       "      <th></th>\n",
       "      <th>user_id</th>\n",
       "      <th>loanapply_insert_time</th>\n",
       "      <th>birth_year</th>\n",
       "      <th>credit_score</th>\n",
       "      <th>yearly_income</th>\n",
       "      <th>income_type</th>\n",
       "      <th>employment_type</th>\n",
       "      <th>houseown_type</th>\n",
       "      <th>desired_amount</th>\n",
       "      <th>purpose</th>\n",
       "      <th>existing_loan_cnt</th>\n",
       "      <th>existing_loan_amt</th>\n",
       "      <th>gender</th>\n",
       "      <th>date</th>\n",
       "      <th>time</th>\n",
       "      <th>cluster</th>\n",
       "      <th>count</th>\n",
       "    </tr>\n",
       "  </thead>\n",
       "  <tbody>\n",
       "    <tr>\n",
       "      <th>0</th>\n",
       "      <td>197454</td>\n",
       "      <td>2022-06-07</td>\n",
       "      <td>30</td>\n",
       "      <td>550.00000</td>\n",
       "      <td>41000000.00000</td>\n",
       "      <td>EARNEDINCOME</td>\n",
       "      <td>계약직</td>\n",
       "      <td>전월세</td>\n",
       "      <td>5000000.00000</td>\n",
       "      <td>전월세보증금</td>\n",
       "      <td>2.00000</td>\n",
       "      <td>42000000.00000</td>\n",
       "      <td>1.00000</td>\n",
       "      <td>2022-06-07</td>\n",
       "      <td>386</td>\n",
       "      <td>0</td>\n",
       "      <td>1</td>\n",
       "    </tr>\n",
       "    <tr>\n",
       "      <th>1</th>\n",
       "      <td>82141</td>\n",
       "      <td>2022-06-07</td>\n",
       "      <td>30</td>\n",
       "      <td>980.00000</td>\n",
       "      <td>30000000.00000</td>\n",
       "      <td>EARNEDINCOME</td>\n",
       "      <td>정규직</td>\n",
       "      <td>전월세</td>\n",
       "      <td>10000000.00000</td>\n",
       "      <td>생활비</td>\n",
       "      <td>1.00000</td>\n",
       "      <td>30000000.00000</td>\n",
       "      <td>1.00000</td>\n",
       "      <td>2022-06-07</td>\n",
       "      <td>33</td>\n",
       "      <td>0</td>\n",
       "      <td>1</td>\n",
       "    </tr>\n",
       "    <tr>\n",
       "      <th>2</th>\n",
       "      <td>158340</td>\n",
       "      <td>2022-06-07</td>\n",
       "      <td>50</td>\n",
       "      <td>740.00000</td>\n",
       "      <td>26000000.00000</td>\n",
       "      <td>EARNEDINCOME</td>\n",
       "      <td>정규직</td>\n",
       "      <td>전월세</td>\n",
       "      <td>5000000.00000</td>\n",
       "      <td>생활비</td>\n",
       "      <td>3.00000</td>\n",
       "      <td>43000000.00000</td>\n",
       "      <td>1.00000</td>\n",
       "      <td>2022-06-07</td>\n",
       "      <td>184</td>\n",
       "      <td>2</td>\n",
       "      <td>1</td>\n",
       "    </tr>\n",
       "    <tr>\n",
       "      <th>3</th>\n",
       "      <td>685041</td>\n",
       "      <td>2022-06-07</td>\n",
       "      <td>40</td>\n",
       "      <td>830.00000</td>\n",
       "      <td>250000000.00000</td>\n",
       "      <td>PRIVATEBUSINESS</td>\n",
       "      <td>정규직</td>\n",
       "      <td>전월세</td>\n",
       "      <td>600000000.00000</td>\n",
       "      <td>전월세보증금</td>\n",
       "      <td>4.00000</td>\n",
       "      <td>255000000.00000</td>\n",
       "      <td>0.00000</td>\n",
       "      <td>2022-06-07</td>\n",
       "      <td>215</td>\n",
       "      <td>0</td>\n",
       "      <td>1</td>\n",
       "    </tr>\n",
       "    <tr>\n",
       "      <th>4</th>\n",
       "      <td>751992</td>\n",
       "      <td>2022-06-07</td>\n",
       "      <td>40</td>\n",
       "      <td>660.00000</td>\n",
       "      <td>36000000.00000</td>\n",
       "      <td>OTHERINCOME</td>\n",
       "      <td>기타</td>\n",
       "      <td>자가</td>\n",
       "      <td>30000000.00000</td>\n",
       "      <td>대환대출</td>\n",
       "      <td>5.00000</td>\n",
       "      <td>27000000.00000</td>\n",
       "      <td>1.00000</td>\n",
       "      <td>2022-06-07</td>\n",
       "      <td>579</td>\n",
       "      <td>5</td>\n",
       "      <td>5</td>\n",
       "    </tr>\n",
       "  </tbody>\n",
       "</table>\n",
       "</div>"
      ],
      "text/plain": [
       "   user_id loanapply_insert_time  birth_year  credit_score   yearly_income  \\\n",
       "0   197454            2022-06-07          30     550.00000  41000000.00000   \n",
       "1    82141            2022-06-07          30     980.00000  30000000.00000   \n",
       "2   158340            2022-06-07          50     740.00000  26000000.00000   \n",
       "3   685041            2022-06-07          40     830.00000 250000000.00000   \n",
       "4   751992            2022-06-07          40     660.00000  36000000.00000   \n",
       "\n",
       "       income_type employment_type houseown_type  desired_amount purpose  \\\n",
       "0     EARNEDINCOME             계약직           전월세   5000000.00000  전월세보증금   \n",
       "1     EARNEDINCOME             정규직           전월세  10000000.00000     생활비   \n",
       "2     EARNEDINCOME             정규직           전월세   5000000.00000     생활비   \n",
       "3  PRIVATEBUSINESS             정규직           전월세 600000000.00000  전월세보증금   \n",
       "4      OTHERINCOME              기타            자가  30000000.00000    대환대출   \n",
       "\n",
       "   existing_loan_cnt  existing_loan_amt  gender        date  time  cluster  \\\n",
       "0            2.00000     42000000.00000 1.00000  2022-06-07   386        0   \n",
       "1            1.00000     30000000.00000 1.00000  2022-06-07    33        0   \n",
       "2            3.00000     43000000.00000 1.00000  2022-06-07   184        2   \n",
       "3            4.00000    255000000.00000 0.00000  2022-06-07   215        0   \n",
       "4            5.00000     27000000.00000 1.00000  2022-06-07   579        5   \n",
       "\n",
       "   count  \n",
       "0      1  \n",
       "1      1  \n",
       "2      1  \n",
       "3      1  \n",
       "4      5  "
      ]
     },
     "execution_count": 25,
     "metadata": {},
     "output_type": "execute_result"
    }
   ],
   "source": [
    "user_log_merge = pd.merge(left=user_cluster, right=log_cluster,\n",
    "         left_on=['user_id', 'loanapply_insert_time'], right_on=['user_id', 'date'],\n",
    "         how='inner')\n",
    "user_log_merge.head()"
   ]
  },
  {
   "cell_type": "code",
   "execution_count": 26,
   "id": "2356e254",
   "metadata": {},
   "outputs": [],
   "source": [
    "# 필요 없는 변수 제거\n",
    "user_log_merge.drop(['user_id', 'loanapply_insert_time', 'date'], axis=1, inplace=True)"
   ]
  },
  {
   "cell_type": "code",
   "execution_count": 27,
   "id": "1cf68a03",
   "metadata": {},
   "outputs": [
    {
     "data": {
      "text/plain": [
       "(16502, 14)"
      ]
     },
     "execution_count": 27,
     "metadata": {},
     "output_type": "execute_result"
    }
   ],
   "source": [
    "# cluster==0인 것\n",
    "# data로 모델돌리기\n",
    "data=user_log_merge[user_log_merge['cluster']==0]\n",
    "data.shape   # 1만 6502개"
   ]
  },
  {
   "cell_type": "markdown",
   "id": "253f90e7",
   "metadata": {},
   "source": [
    "## 데이터 분포 변환"
   ]
  },
  {
   "cell_type": "code",
   "execution_count": 14,
   "id": "d06a997f",
   "metadata": {
    "scrolled": true
   },
   "outputs": [
    {
     "data": {
      "text/plain": [
       "array([[<AxesSubplot:title={'center':'birth_year'}>,\n",
       "        <AxesSubplot:title={'center':'credit_score'}>,\n",
       "        <AxesSubplot:title={'center':'yearly_income'}>],\n",
       "       [<AxesSubplot:title={'center':'desired_amount'}>,\n",
       "        <AxesSubplot:title={'center':'existing_loan_cnt'}>,\n",
       "        <AxesSubplot:title={'center':'existing_loan_amt'}>],\n",
       "       [<AxesSubplot:title={'center':'gender'}>,\n",
       "        <AxesSubplot:title={'center':'time'}>,\n",
       "        <AxesSubplot:title={'center':'cluster'}>],\n",
       "       [<AxesSubplot:title={'center':'count'}>, <AxesSubplot:>,\n",
       "        <AxesSubplot:>]], dtype=object)"
      ]
     },
     "execution_count": 14,
     "metadata": {},
     "output_type": "execute_result"
    },
    {
     "name": "stderr",
     "output_type": "stream",
     "text": [
      "C:\\Users\\rladp\\anaconda3\\lib\\site-packages\\matplotlib\\backends\\backend_agg.py:240: RuntimeWarning: Glyph 8722 missing from current font.\n",
      "  font.set_text(s, 0.0, flags=flags)\n",
      "C:\\Users\\rladp\\anaconda3\\lib\\site-packages\\matplotlib\\backends\\backend_agg.py:203: RuntimeWarning: Glyph 8722 missing from current font.\n",
      "  font.set_text(s, 0, flags=flags)\n"
     ]
    },
    {
     "data": {
      "image/png": "[encoded data removed]",
      "text/plain": [
       "<Figure size 720x720 with 12 Axes>"
      ]
     },
     "metadata": {
      "needs_background": "light"
     },
     "output_type": "display_data"
    }
   ],
   "source": [
    "# 데이터 분포 확인\n",
    "data.hist(figsize=(10,10))"
   ]
  },
  {
   "cell_type": "code",
   "execution_count": 28,
   "id": "45711e37",
   "metadata": {},
   "outputs": [
    {
     "name": "stdout",
     "output_type": "stream",
     "text": [
      "<class 'pandas.core.frame.DataFrame'>\n",
      "Int64Index: 16502 entries, 0 to 96915\n",
      "Data columns (total 14 columns):\n",
      " #   Column             Non-Null Count  Dtype  \n",
      "---  ------             --------------  -----  \n",
      " 0   birth_year         16502 non-null  int64  \n",
      " 1   credit_score       16502 non-null  float64\n",
      " 2   yearly_income      16502 non-null  float64\n",
      " 3   income_type        16502 non-null  object \n",
      " 4   employment_type    16502 non-null  object \n",
      " 5   houseown_type      16502 non-null  object \n",
      " 6   desired_amount     16502 non-null  float64\n",
      " 7   purpose            16502 non-null  object \n",
      " 8   existing_loan_cnt  16502 non-null  float64\n",
      " 9   existing_loan_amt  16502 non-null  float64\n",
      " 10  gender             16502 non-null  float64\n",
      " 11  time               16502 non-null  int64  \n",
      " 12  cluster            16502 non-null  int64  \n",
      " 13  count              16502 non-null  int64  \n",
      "dtypes: float64(6), int64(4), object(4)\n",
      "memory usage: 1.9+ MB\n"
     ]
    }
   ],
   "source": [
    "data.info()"
   ]
  },
  {
   "cell_type": "code",
   "execution_count": 29,
   "id": "dc9e1d4c",
   "metadata": {},
   "outputs": [
    {
     "data": {
      "text/plain": [
       "KstestResult(statistic=0.9922116931988407, pvalue=0.0)"
      ]
     },
     "execution_count": 29,
     "metadata": {},
     "output_type": "execute_result"
    }
   ],
   "source": [
    "# 정규성 확인\n",
    "import scipy.stats as stats\n",
    "\n",
    "stats.kstest(data.iloc[:,11],'norm')"
   ]
  },
  {
   "cell_type": "markdown",
   "id": "a80a143a",
   "metadata": {},
   "source": [
    "##  yearly_income, desired_amount,  existing_loan_amt, existing_loan_cnt, time 변환 필요"
   ]
  },
  {
   "cell_type": "code",
   "execution_count": 34,
   "id": "b245c2a3",
   "metadata": {},
   "outputs": [
    {
     "name": "stderr",
     "output_type": "stream",
     "text": [
      "C:\\Users\\rladp\\AppData\\Local\\Temp/ipykernel_17928/970768978.py:2: SettingWithCopyWarning: \n",
      "A value is trying to be set on a copy of a slice from a DataFrame.\n",
      "Try using .loc[row_indexer,col_indexer] = value instead\n",
      "\n",
      "See the caveats in the documentation: https://pandas.pydata.org/pandas-docs/stable/user_guide/indexing.html#returning-a-view-versus-a-copy\n",
      "  data['yearly_income']=np.log1p(data['yearly_income'])\n"
     ]
    },
    {
     "data": {
      "text/plain": [
       "<AxesSubplot:>"
      ]
     },
     "execution_count": 34,
     "metadata": {},
     "output_type": "execute_result"
    },
    {
     "data": {
      "image/png": "[encoded data removed]",
      "text/plain": [
       "<Figure size 432x288 with 1 Axes>"
      ]
     },
     "metadata": {
      "needs_background": "light"
     },
     "output_type": "display_data"
    }
   ],
   "source": [
    "# yearly_imcome : 0값이 있으므로 log1p변환\n",
    "data['yearly_income']=np.log1p(data['yearly_income'])\n",
    "data['yearly_income'].hist()"
   ]
  },
  {
   "cell_type": "code",
   "execution_count": 35,
   "id": "dd36a388",
   "metadata": {},
   "outputs": [
    {
     "name": "stderr",
     "output_type": "stream",
     "text": [
      "C:\\Users\\rladp\\AppData\\Local\\Temp/ipykernel_17928/3401114761.py:2: SettingWithCopyWarning: \n",
      "A value is trying to be set on a copy of a slice from a DataFrame.\n",
      "Try using .loc[row_indexer,col_indexer] = value instead\n",
      "\n",
      "See the caveats in the documentation: https://pandas.pydata.org/pandas-docs/stable/user_guide/indexing.html#returning-a-view-versus-a-copy\n",
      "  data['desired_amount']=np.log1p(data['desired_amount'])\n"
     ]
    },
    {
     "data": {
      "text/plain": [
       "<AxesSubplot:>"
      ]
     },
     "execution_count": 35,
     "metadata": {},
     "output_type": "execute_result"
    },
    {
     "data": {
      "image/png": "[encoded data removed]",
      "text/plain": [
       "<Figure size 432x288 with 1 Axes>"
      ]
     },
     "metadata": {
      "needs_background": "light"
     },
     "output_type": "display_data"
    }
   ],
   "source": [
    "# desired_amount : 0값이 있으므로 log1p변환\n",
    "data['desired_amount']=np.log1p(data['desired_amount'])\n",
    "data['desired_amount'].hist()"
   ]
  },
  {
   "cell_type": "code",
   "execution_count": 36,
   "id": "d29a0f54",
   "metadata": {},
   "outputs": [
    {
     "name": "stderr",
     "output_type": "stream",
     "text": [
      "C:\\Users\\rladp\\AppData\\Local\\Temp/ipykernel_17928/1554881444.py:2: SettingWithCopyWarning: \n",
      "A value is trying to be set on a copy of a slice from a DataFrame.\n",
      "Try using .loc[row_indexer,col_indexer] = value instead\n",
      "\n",
      "See the caveats in the documentation: https://pandas.pydata.org/pandas-docs/stable/user_guide/indexing.html#returning-a-view-versus-a-copy\n",
      "  data['existing_loan_cnt']=np.log1p(data['existing_loan_cnt'])\n"
     ]
    },
    {
     "data": {
      "text/plain": [
       "<AxesSubplot:>"
      ]
     },
     "execution_count": 36,
     "metadata": {},
     "output_type": "execute_result"
    },
    {
     "data": {
      "image/png": "[encoded data removed]",
      "text/plain": [
       "<Figure size 432x288 with 1 Axes>"
      ]
     },
     "metadata": {
      "needs_background": "light"
     },
     "output_type": "display_data"
    }
   ],
   "source": [
    "# 'existing_loan_cnt' : 0값이 없으므로 log1p변환\n",
    "data['existing_loan_cnt']=np.log1p(data['existing_loan_cnt'])\n",
    "data['existing_loan_cnt'].hist()"
   ]
  },
  {
   "cell_type": "code",
   "execution_count": 37,
   "id": "05ea8779",
   "metadata": {},
   "outputs": [
    {
     "name": "stderr",
     "output_type": "stream",
     "text": [
      "C:\\Users\\rladp\\AppData\\Local\\Temp/ipykernel_17928/1840677009.py:2: SettingWithCopyWarning: \n",
      "A value is trying to be set on a copy of a slice from a DataFrame.\n",
      "Try using .loc[row_indexer,col_indexer] = value instead\n",
      "\n",
      "See the caveats in the documentation: https://pandas.pydata.org/pandas-docs/stable/user_guide/indexing.html#returning-a-view-versus-a-copy\n",
      "  data['existing_loan_amt']=np.log1p(data['existing_loan_amt'])\n"
     ]
    },
    {
     "data": {
      "text/plain": [
       "<AxesSubplot:>"
      ]
     },
     "execution_count": 37,
     "metadata": {},
     "output_type": "execute_result"
    },
    {
     "data": {
      "image/png": "[encoded data removed]",
      "text/plain": [
       "<Figure size 432x288 with 1 Axes>"
      ]
     },
     "metadata": {
      "needs_background": "light"
     },
     "output_type": "display_data"
    }
   ],
   "source": [
    "# dexisting_loan_amt : 0값이 있으므로 log1p변환\n",
    "data['existing_loan_amt']=np.log1p(data['existing_loan_amt'])\n",
    "data['existing_loan_amt'].hist()"
   ]
  },
  {
   "cell_type": "code",
   "execution_count": 38,
   "id": "487b351a",
   "metadata": {},
   "outputs": [
    {
     "data": {
      "text/plain": [
       "<AxesSubplot:>"
      ]
     },
     "execution_count": 38,
     "metadata": {},
     "output_type": "execute_result"
    },
    {
     "data": {
      "image/png": "[encoded data removed]",
      "text/plain": [
       "<Figure size 432x288 with 1 Axes>"
      ]
     },
     "metadata": {
      "needs_background": "light"
     },
     "output_type": "display_data"
    }
   ],
   "source": [
    "data['time'].hist()"
   ]
  },
  {
   "cell_type": "code",
   "execution_count": 39,
   "id": "6f7eabd4",
   "metadata": {},
   "outputs": [
    {
     "name": "stderr",
     "output_type": "stream",
     "text": [
      "C:\\Users\\rladp\\AppData\\Local\\Temp/ipykernel_17928/1712194946.py:2: SettingWithCopyWarning: \n",
      "A value is trying to be set on a copy of a slice from a DataFrame.\n",
      "Try using .loc[row_indexer,col_indexer] = value instead\n",
      "\n",
      "See the caveats in the documentation: https://pandas.pydata.org/pandas-docs/stable/user_guide/indexing.html#returning-a-view-versus-a-copy\n",
      "  data['time']=np.log1p(data['time'])\n"
     ]
    },
    {
     "data": {
      "text/plain": [
       "<AxesSubplot:>"
      ]
     },
     "execution_count": 39,
     "metadata": {},
     "output_type": "execute_result"
    },
    {
     "data": {
      "image/png": "[encoded data removed]",
      "text/plain": [
       "<Figure size 432x288 with 1 Axes>"
      ]
     },
     "metadata": {
      "needs_background": "light"
     },
     "output_type": "display_data"
    }
   ],
   "source": [
    "# time : 0값이 있으므로 log1p변환\n",
    "data['time']=np.log1p(data['time'])\n",
    "data['time'].hist()"
   ]
  },
  {
   "cell_type": "code",
   "execution_count": 40,
   "id": "58fa63c2",
   "metadata": {},
   "outputs": [],
   "source": [
    "# 분포변환한 데이터 카피\n",
    "data_change=data.copy()"
   ]
  },
  {
   "cell_type": "code",
   "execution_count": 41,
   "id": "f6e81404",
   "metadata": {},
   "outputs": [
    {
     "data": {
      "text/html": [
       "<div>\n",
       "<style scoped>\n",
       "    .dataframe tbody tr th:only-of-type {\n",
       "        vertical-align: middle;\n",
       "    }\n",
       "\n",
       "    .dataframe tbody tr th {\n",
       "        vertical-align: top;\n",
       "    }\n",
       "\n",
       "    .dataframe thead th {\n",
       "        text-align: right;\n",
       "    }\n",
       "</style>\n",
       "<table border=\"1\" class=\"dataframe\">\n",
       "  <thead>\n",
       "    <tr style=\"text-align: right;\">\n",
       "      <th></th>\n",
       "      <th>birth_year</th>\n",
       "      <th>credit_score</th>\n",
       "      <th>yearly_income</th>\n",
       "      <th>income_type</th>\n",
       "      <th>employment_type</th>\n",
       "      <th>houseown_type</th>\n",
       "      <th>desired_amount</th>\n",
       "      <th>purpose</th>\n",
       "      <th>existing_loan_cnt</th>\n",
       "      <th>existing_loan_amt</th>\n",
       "      <th>gender</th>\n",
       "      <th>time</th>\n",
       "      <th>cluster</th>\n",
       "      <th>count</th>\n",
       "    </tr>\n",
       "  </thead>\n",
       "  <tbody>\n",
       "    <tr>\n",
       "      <th>0</th>\n",
       "      <td>30</td>\n",
       "      <td>550.00000</td>\n",
       "      <td>17.52908</td>\n",
       "      <td>EARNEDINCOME</td>\n",
       "      <td>계약직</td>\n",
       "      <td>전월세</td>\n",
       "      <td>15.42495</td>\n",
       "      <td>전월세보증금</td>\n",
       "      <td>1.09861</td>\n",
       "      <td>2.92064</td>\n",
       "      <td>1.00000</td>\n",
       "      <td>1.93995</td>\n",
       "      <td>0</td>\n",
       "      <td>1</td>\n",
       "    </tr>\n",
       "    <tr>\n",
       "      <th>1</th>\n",
       "      <td>30</td>\n",
       "      <td>980.00000</td>\n",
       "      <td>17.21671</td>\n",
       "      <td>EARNEDINCOME</td>\n",
       "      <td>정규직</td>\n",
       "      <td>전월세</td>\n",
       "      <td>16.11810</td>\n",
       "      <td>생활비</td>\n",
       "      <td>0.69315</td>\n",
       "      <td>2.90234</td>\n",
       "      <td>1.00000</td>\n",
       "      <td>1.50992</td>\n",
       "      <td>0</td>\n",
       "      <td>1</td>\n",
       "    </tr>\n",
       "    <tr>\n",
       "      <th>3</th>\n",
       "      <td>40</td>\n",
       "      <td>830.00000</td>\n",
       "      <td>19.33697</td>\n",
       "      <td>PRIVATEBUSINESS</td>\n",
       "      <td>정규직</td>\n",
       "      <td>전월세</td>\n",
       "      <td>20.21244</td>\n",
       "      <td>전월세보증금</td>\n",
       "      <td>1.60944</td>\n",
       "      <td>3.01341</td>\n",
       "      <td>0.00000</td>\n",
       "      <td>1.85243</td>\n",
       "      <td>0</td>\n",
       "      <td>1</td>\n",
       "    </tr>\n",
       "    <tr>\n",
       "      <th>9</th>\n",
       "      <td>20</td>\n",
       "      <td>880.00000</td>\n",
       "      <td>17.78580</td>\n",
       "      <td>PRACTITIONER</td>\n",
       "      <td>정규직</td>\n",
       "      <td>전월세</td>\n",
       "      <td>18.68305</td>\n",
       "      <td>전월세보증금</td>\n",
       "      <td>1.09861</td>\n",
       "      <td>2.97857</td>\n",
       "      <td>0.00000</td>\n",
       "      <td>1.94891</td>\n",
       "      <td>0</td>\n",
       "      <td>1</td>\n",
       "    </tr>\n",
       "    <tr>\n",
       "      <th>10</th>\n",
       "      <td>40</td>\n",
       "      <td>620.00000</td>\n",
       "      <td>17.55318</td>\n",
       "      <td>EARNEDINCOME</td>\n",
       "      <td>정규직</td>\n",
       "      <td>전월세</td>\n",
       "      <td>15.42495</td>\n",
       "      <td>생활비</td>\n",
       "      <td>1.09861</td>\n",
       "      <td>2.87983</td>\n",
       "      <td>1.00000</td>\n",
       "      <td>2.07084</td>\n",
       "      <td>0</td>\n",
       "      <td>1</td>\n",
       "    </tr>\n",
       "  </tbody>\n",
       "</table>\n",
       "</div>"
      ],
      "text/plain": [
       "    birth_year  credit_score  yearly_income      income_type employment_type  \\\n",
       "0           30     550.00000       17.52908     EARNEDINCOME             계약직   \n",
       "1           30     980.00000       17.21671     EARNEDINCOME             정규직   \n",
       "3           40     830.00000       19.33697  PRIVATEBUSINESS             정규직   \n",
       "9           20     880.00000       17.78580     PRACTITIONER             정규직   \n",
       "10          40     620.00000       17.55318     EARNEDINCOME             정규직   \n",
       "\n",
       "   houseown_type  desired_amount purpose  existing_loan_cnt  \\\n",
       "0            전월세        15.42495  전월세보증금            1.09861   \n",
       "1            전월세        16.11810     생활비            0.69315   \n",
       "3            전월세        20.21244  전월세보증금            1.60944   \n",
       "9            전월세        18.68305  전월세보증금            1.09861   \n",
       "10           전월세        15.42495     생활비            1.09861   \n",
       "\n",
       "    existing_loan_amt  gender    time  cluster  count  \n",
       "0             2.92064 1.00000 1.93995        0      1  \n",
       "1             2.90234 1.00000 1.50992        0      1  \n",
       "3             3.01341 0.00000 1.85243        0      1  \n",
       "9             2.97857 0.00000 1.94891        0      1  \n",
       "10            2.87983 1.00000 2.07084        0      1  "
      ]
     },
     "execution_count": 41,
     "metadata": {},
     "output_type": "execute_result"
    }
   ],
   "source": [
    "data_change.head()"
   ]
  },
  {
   "cell_type": "code",
   "execution_count": null,
   "id": "32c50dbb",
   "metadata": {},
   "outputs": [],
   "source": []
  },
  {
   "cell_type": "markdown",
   "id": "16cdf67c",
   "metadata": {},
   "source": [
    "## 실루엣 계수 함수 정의"
   ]
  },
  {
   "cell_type": "code",
   "execution_count": 42,
   "id": "e3b828ad",
   "metadata": {},
   "outputs": [],
   "source": [
    "### 여러개의 클러스터링 갯수를 List로 입력 받아 각각의 실루엣 계수를 면적으로 시각화한 함수 작성  \n",
    "def visualize_silhouette(cluster_lists, X_features): \n",
    "    \n",
    "    from sklearn.datasets import make_blobs\n",
    "    from sklearn.cluster import KMeans\n",
    "    from sklearn.metrics import silhouette_samples, silhouette_score\n",
    "\n",
    "    import matplotlib.pyplot as plt\n",
    "    import matplotlib.cm as cm\n",
    "    import math\n",
    "    \n",
    "    # 입력값으로 클러스터링 갯수들을 리스트로 받아서, 각 갯수별로 클러스터링을 적용하고 실루엣 개수를 구함\n",
    "    n_cols = len(cluster_lists)\n",
    "    \n",
    "    # plt.subplots()으로 리스트에 기재된 클러스터링 만큼의 sub figures를 가지는 axs 생성 \n",
    "    fig, axs = plt.subplots(figsize=(4*n_cols, 4), nrows=1, ncols=n_cols)\n",
    "    \n",
    "    # 리스트에 기재된 클러스터링 갯수들을 차례로 iteration 수행하면서 실루엣 개수 시각화\n",
    "    for ind, n_cluster in enumerate(cluster_lists):\n",
    "        \n",
    "        # KMeans 클러스터링 수행하고, 실루엣 스코어와 개별 데이터의 실루엣 값 계산. \n",
    "        clusterer = KMeans(n_clusters = n_cluster, max_iter=500, random_state=42)\n",
    "        cluster_labels = clusterer.fit_predict(X_features)\n",
    "        \n",
    "        sil_avg = silhouette_score(X_features, cluster_labels)\n",
    "        sil_values = silhouette_samples(X_features, cluster_labels)\n",
    "        \n",
    "        y_lower = 10\n",
    "        axs[ind].set_title('Number of Cluster : '+ str(n_cluster)+'\\n' \\\n",
    "                          'Silhouette Score :' + str(round(sil_avg,3)) )\n",
    "        axs[ind].set_xlabel(\"The silhouette coefficient values\")\n",
    "        axs[ind].set_ylabel(\"Cluster label\")\n",
    "        axs[ind].set_xlim([-0.1, 1])\n",
    "        axs[ind].set_ylim([0, len(X_features) + (n_cluster + 1) * 10])\n",
    "        axs[ind].set_yticks([])  # Clear the yaxis labels / ticks\n",
    "        axs[ind].set_xticks([0, 0.2, 0.4, 0.6, 0.8, 1])\n",
    "        \n",
    "        # 클러스터링 갯수별로 fill_betweenx( )형태의 막대 그래프 표현. \n",
    "        for i in range(n_cluster):\n",
    "            ith_cluster_sil_values = sil_values[cluster_labels==i]\n",
    "            ith_cluster_sil_values.sort()\n",
    "            \n",
    "            size_cluster_i = ith_cluster_sil_values.shape[0]\n",
    "            y_upper = y_lower + size_cluster_i\n",
    "            \n",
    "            color = cm.nipy_spectral(float(i) / n_cluster)\n",
    "            axs[ind].fill_betweenx(np.arange(y_lower, y_upper), 0, ith_cluster_sil_values, \\\n",
    "                                facecolor=color, edgecolor=color, alpha=0.7)\n",
    "            axs[ind].text(-0.05, y_lower + 0.5 * size_cluster_i, str(i))\n",
    "            y_lower = y_upper + 10\n",
    "            \n",
    "        axs[ind].axvline(x=sil_avg, color=\"red\", linestyle=\"--\")"
   ]
  },
  {
   "cell_type": "code",
   "execution_count": 43,
   "id": "df7b80f0",
   "metadata": {},
   "outputs": [],
   "source": [
    "### 여러개의 클러스터링 갯수를 List로 입력 받아 각각의 클러스터링 결과를 시각화 \n",
    "def visualize_kmeans_plot_multi(cluster_lists, X_features):\n",
    "    \n",
    "    from sklearn.cluster import KMeans\n",
    "    from sklearn.decomposition import PCA\n",
    "    import pandas as pd\n",
    "    import numpy as np\n",
    "    \n",
    "    # plt.subplots()으로 리스트에 기재된 클러스터링 만큼의 sub figures를 가지는 axs 생성 \n",
    "    n_cols = len(cluster_lists)\n",
    "    fig, axs = plt.subplots(figsize=(4*n_cols, 4), nrows=1, ncols=n_cols)\n",
    "    \n",
    "    # 입력 데이터의 FEATURE가 여러개일 경우 2차원 데이터 시각화가 어려우므로 PCA 변환하여 2차원 시각화\n",
    "    pca = PCA(n_components=2)\n",
    "    pca_transformed = pca.fit_transform(X_features)\n",
    "    dataframe = pd.DataFrame(pca_transformed, columns=['PCA1','PCA2'])\n",
    "    \n",
    "     # 리스트에 기재된 클러스터링 갯수들을 차례로 iteration 수행하면서 KMeans 클러스터링 수행하고 시각화\n",
    "    for ind, n_cluster in enumerate(cluster_lists):\n",
    "        \n",
    "        # KMeans 클러스터링으로 클러스터링 결과를 dataframe에 저장. \n",
    "        clusterer = KMeans(n_clusters = n_cluster, max_iter=500, random_state=42)\n",
    "        cluster_labels = clusterer.fit_predict(pca_transformed)\n",
    "        dataframe['cluster']=cluster_labels\n",
    "        \n",
    "        unique_labels = np.unique(clusterer.labels_)\n",
    "        markers=['o', 's', '^', 'x', '*']\n",
    "       \n",
    "        # 클러스터링 결과값 별로 scatter plot 으로 시각화\n",
    "        for label in unique_labels:\n",
    "            label_df = dataframe[dataframe['cluster']==label]\n",
    "            if label == -1:\n",
    "                cluster_legend = 'Noise'\n",
    "            else :\n",
    "                cluster_legend = 'Cluster '+str(label)           \n",
    "            axs[ind].scatter(x=label_df['PCA1'], y=label_df['PCA2'], s=70,\\\n",
    "                        edgecolor='k', marker=markers[label], label=cluster_legend)\n",
    "\n",
    "        axs[ind].set_title('Number of Cluster : '+ str(n_cluster))    \n",
    "        axs[ind].legend(loc='upper right')\n",
    "    \n",
    "    plt.show()"
   ]
  },
  {
   "cell_type": "code",
   "execution_count": 44,
   "id": "6c2e4afb",
   "metadata": {},
   "outputs": [],
   "source": [
    "# 카테고리로 데이터 타입 변경\n",
    "data_change[['birth_year','income_type','employment_type','houseown_type','purpose', 'gender']]=data_change[['birth_year', 'income_type','employment_type','houseown_type','purpose', 'gender']].astype('category')\n",
    "data_change=pd.get_dummies(data_change)"
   ]
  },
  {
   "cell_type": "markdown",
   "id": "61dc30a1",
   "metadata": {},
   "source": [
    "## MinMaxScaler & KMeans"
   ]
  },
  {
   "cell_type": "code",
   "execution_count": 45,
   "id": "365d30f3",
   "metadata": {},
   "outputs": [],
   "source": [
    "# MinMax Scaler\n",
    "\n",
    "from sklearn.preprocessing import MinMaxScaler\n",
    "from sklearn.cluster import KMeans\n",
    "from sklearn.metrics import silhouette_score, silhouette_samples\n",
    "\n",
    "\n",
    "X_features_scaled2 = MinMaxScaler().fit_transform(data_change)"
   ]
  },
  {
   "cell_type": "code",
   "execution_count": 46,
   "id": "0a7008db",
   "metadata": {},
   "outputs": [
    {
     "name": "stderr",
     "output_type": "stream",
     "text": [
      "C:\\Users\\rladp\\AppData\\Local\\Temp/ipykernel_17928/3470730150.py:36: UserWarning: You passed a edgecolor/edgecolors ('k') for an unfilled marker ('x').  Matplotlib is ignoring the edgecolor in favor of the facecolor.  This behavior may change in the future.\n",
      "  axs[ind].scatter(x=label_df['PCA1'], y=label_df['PCA2'], s=70,\\\n",
      "C:\\Users\\rladp\\AppData\\Local\\Temp/ipykernel_17928/3470730150.py:36: UserWarning: You passed a edgecolor/edgecolors ('k') for an unfilled marker ('x').  Matplotlib is ignoring the edgecolor in favor of the facecolor.  This behavior may change in the future.\n",
      "  axs[ind].scatter(x=label_df['PCA1'], y=label_df['PCA2'], s=70,\\\n"
     ]
    },
    {
     "data": {
      "image/png": "[encoded data removed]",
      "text/plain": [
       "<Figure size 1152x288 with 4 Axes>"
      ]
     },
     "metadata": {
      "needs_background": "light"
     },
     "output_type": "display_data"
    },
    {
     "name": "stderr",
     "output_type": "stream",
     "text": [
      "C:\\Users\\rladp\\anaconda3\\lib\\site-packages\\matplotlib\\backends\\backend_agg.py:240: RuntimeWarning: Glyph 8722 missing from current font.\n",
      "  font.set_text(s, 0.0, flags=flags)\n",
      "C:\\Users\\rladp\\anaconda3\\lib\\site-packages\\matplotlib\\backends\\backend_agg.py:203: RuntimeWarning: Glyph 8722 missing from current font.\n",
      "  font.set_text(s, 0, flags=flags)\n"
     ]
    },
    {
     "data": {
      "image/png": "[encoded data removed]",
      "text/plain": [
       "<Figure size 1152x288 with 4 Axes>"
      ]
     },
     "metadata": {
      "needs_background": "light"
     },
     "output_type": "display_data"
    }
   ],
   "source": [
    "# minmax scaler & kmeans & 시각화\n",
    "# 이게 제일 좋음!!!!!\n",
    "# n_clusters=4로 하기 \n",
    "visualize_silhouette([2,3,4,5],X_features_scaled2)\n",
    "visualize_kmeans_plot_multi([2,3,4,5],X_features_scaled2)  "
   ]
  },
  {
   "cell_type": "code",
   "execution_count": 48,
   "id": "2cab85ea",
   "metadata": {},
   "outputs": [],
   "source": [
    "X_features_scaled = MinMaxScaler().fit_transform(data_change)\n",
    "kmeans = KMeans(n_clusters=4, random_state=42)\n",
    "kmeans_label = kmeans.fit_predict(X_features_scaled)"
   ]
  },
  {
   "cell_type": "code",
   "execution_count": 49,
   "id": "06b466f7",
   "metadata": {},
   "outputs": [
    {
     "name": "stderr",
     "output_type": "stream",
     "text": [
      "C:\\Users\\rladp\\AppData\\Local\\Temp/ipykernel_17928/4200363707.py:2: SettingWithCopyWarning: \n",
      "A value is trying to be set on a copy of a slice from a DataFrame.\n",
      "Try using .loc[row_indexer,col_indexer] = value instead\n",
      "\n",
      "See the caveats in the documentation: https://pandas.pydata.org/pandas-docs/stable/user_guide/indexing.html#returning-a-view-versus-a-copy\n",
      "  cluster_df['kmeans_minmax']=kmeans_label\n"
     ]
    }
   ],
   "source": [
    "cluster_df=user_log_merge[user_log_merge['cluster']==0]\n",
    "cluster_df['kmeans_minmax']=kmeans_label"
   ]
  },
  {
   "cell_type": "code",
   "execution_count": 50,
   "id": "02ae4602",
   "metadata": {
    "scrolled": true
   },
   "outputs": [
    {
     "data": {
      "text/html": [
       "<div>\n",
       "<style scoped>\n",
       "    .dataframe tbody tr th:only-of-type {\n",
       "        vertical-align: middle;\n",
       "    }\n",
       "\n",
       "    .dataframe tbody tr th {\n",
       "        vertical-align: top;\n",
       "    }\n",
       "\n",
       "    .dataframe thead th {\n",
       "        text-align: right;\n",
       "    }\n",
       "</style>\n",
       "<table border=\"1\" class=\"dataframe\">\n",
       "  <thead>\n",
       "    <tr style=\"text-align: right;\">\n",
       "      <th></th>\n",
       "      <th>birth_year</th>\n",
       "      <th>credit_score</th>\n",
       "      <th>yearly_income</th>\n",
       "      <th>income_type</th>\n",
       "      <th>employment_type</th>\n",
       "      <th>houseown_type</th>\n",
       "      <th>desired_amount</th>\n",
       "      <th>purpose</th>\n",
       "      <th>existing_loan_cnt</th>\n",
       "      <th>existing_loan_amt</th>\n",
       "      <th>gender</th>\n",
       "      <th>time</th>\n",
       "      <th>cluster</th>\n",
       "      <th>count</th>\n",
       "      <th>kmeans_minmax</th>\n",
       "    </tr>\n",
       "  </thead>\n",
       "  <tbody>\n",
       "    <tr>\n",
       "      <th>0</th>\n",
       "      <td>30</td>\n",
       "      <td>550.00000</td>\n",
       "      <td>41000000.00000</td>\n",
       "      <td>EARNEDINCOME</td>\n",
       "      <td>계약직</td>\n",
       "      <td>전월세</td>\n",
       "      <td>5000000.00000</td>\n",
       "      <td>전월세보증금</td>\n",
       "      <td>2.00000</td>\n",
       "      <td>42000000.00000</td>\n",
       "      <td>1.00000</td>\n",
       "      <td>386</td>\n",
       "      <td>0</td>\n",
       "      <td>1</td>\n",
       "      <td>0</td>\n",
       "    </tr>\n",
       "    <tr>\n",
       "      <th>1</th>\n",
       "      <td>30</td>\n",
       "      <td>980.00000</td>\n",
       "      <td>30000000.00000</td>\n",
       "      <td>EARNEDINCOME</td>\n",
       "      <td>정규직</td>\n",
       "      <td>전월세</td>\n",
       "      <td>10000000.00000</td>\n",
       "      <td>생활비</td>\n",
       "      <td>1.00000</td>\n",
       "      <td>30000000.00000</td>\n",
       "      <td>1.00000</td>\n",
       "      <td>33</td>\n",
       "      <td>0</td>\n",
       "      <td>1</td>\n",
       "      <td>2</td>\n",
       "    </tr>\n",
       "    <tr>\n",
       "      <th>3</th>\n",
       "      <td>40</td>\n",
       "      <td>830.00000</td>\n",
       "      <td>250000000.00000</td>\n",
       "      <td>PRIVATEBUSINESS</td>\n",
       "      <td>정규직</td>\n",
       "      <td>전월세</td>\n",
       "      <td>600000000.00000</td>\n",
       "      <td>전월세보증금</td>\n",
       "      <td>4.00000</td>\n",
       "      <td>255000000.00000</td>\n",
       "      <td>0.00000</td>\n",
       "      <td>215</td>\n",
       "      <td>0</td>\n",
       "      <td>1</td>\n",
       "      <td>1</td>\n",
       "    </tr>\n",
       "    <tr>\n",
       "      <th>9</th>\n",
       "      <td>20</td>\n",
       "      <td>880.00000</td>\n",
       "      <td>53000000.00000</td>\n",
       "      <td>PRACTITIONER</td>\n",
       "      <td>정규직</td>\n",
       "      <td>전월세</td>\n",
       "      <td>130000000.00000</td>\n",
       "      <td>전월세보증금</td>\n",
       "      <td>2.00000</td>\n",
       "      <td>127000000.00000</td>\n",
       "      <td>0.00000</td>\n",
       "      <td>411</td>\n",
       "      <td>0</td>\n",
       "      <td>1</td>\n",
       "      <td>1</td>\n",
       "    </tr>\n",
       "    <tr>\n",
       "      <th>10</th>\n",
       "      <td>40</td>\n",
       "      <td>620.00000</td>\n",
       "      <td>42000000.00000</td>\n",
       "      <td>EARNEDINCOME</td>\n",
       "      <td>정규직</td>\n",
       "      <td>전월세</td>\n",
       "      <td>5000000.00000</td>\n",
       "      <td>생활비</td>\n",
       "      <td>2.00000</td>\n",
       "      <td>20000000.00000</td>\n",
       "      <td>1.00000</td>\n",
       "      <td>1023</td>\n",
       "      <td>0</td>\n",
       "      <td>1</td>\n",
       "      <td>2</td>\n",
       "    </tr>\n",
       "  </tbody>\n",
       "</table>\n",
       "</div>"
      ],
      "text/plain": [
       "    birth_year  credit_score   yearly_income      income_type employment_type  \\\n",
       "0           30     550.00000  41000000.00000     EARNEDINCOME             계약직   \n",
       "1           30     980.00000  30000000.00000     EARNEDINCOME             정규직   \n",
       "3           40     830.00000 250000000.00000  PRIVATEBUSINESS             정규직   \n",
       "9           20     880.00000  53000000.00000     PRACTITIONER             정규직   \n",
       "10          40     620.00000  42000000.00000     EARNEDINCOME             정규직   \n",
       "\n",
       "   houseown_type  desired_amount purpose  existing_loan_cnt  \\\n",
       "0            전월세   5000000.00000  전월세보증금            2.00000   \n",
       "1            전월세  10000000.00000     생활비            1.00000   \n",
       "3            전월세 600000000.00000  전월세보증금            4.00000   \n",
       "9            전월세 130000000.00000  전월세보증금            2.00000   \n",
       "10           전월세   5000000.00000     생활비            2.00000   \n",
       "\n",
       "    existing_loan_amt  gender  time  cluster  count  kmeans_minmax  \n",
       "0      42000000.00000 1.00000   386        0      1              0  \n",
       "1      30000000.00000 1.00000    33        0      1              2  \n",
       "3     255000000.00000 0.00000   215        0      1              1  \n",
       "9     127000000.00000 0.00000   411        0      1              1  \n",
       "10     20000000.00000 1.00000  1023        0      1              2  "
      ]
     },
     "execution_count": 50,
     "metadata": {},
     "output_type": "execute_result"
    }
   ],
   "source": [
    "cluster_df.head()"
   ]
  },
  {
   "cell_type": "code",
   "execution_count": 66,
   "id": "b36a1bf4",
   "metadata": {},
   "outputs": [],
   "source": [
    "cluster_df.to_csv('cluster0.csv')"
   ]
  },
  {
   "cell_type": "code",
   "execution_count": null,
   "id": "75427cb8",
   "metadata": {},
   "outputs": [],
   "source": []
  },
  {
   "cell_type": "code",
   "execution_count": null,
   "id": "6ea38448",
   "metadata": {},
   "outputs": [],
   "source": []
  },
  {
   "cell_type": "code",
   "execution_count": null,
   "id": "75c9ecfc",
   "metadata": {},
   "outputs": [],
   "source": []
  },
  {
   "cell_type": "code",
   "execution_count": null,
   "id": "4518169f",
   "metadata": {},
   "outputs": [],
   "source": []
  },
  {
   "cell_type": "code",
   "execution_count": null,
   "id": "79c97fa4",
   "metadata": {},
   "outputs": [],
   "source": []
  }
 ],
 "metadata": {
  "kernelspec": {
   "display_name": "Python 3 (ipykernel)",
   "language": "python",
   "name": "python3"
  },
  "language_info": {
   "codemirror_mode": {
    "name": "ipython",
    "version": 3
   },
   "file_extension": ".py",
   "mimetype": "text/x-python",
   "name": "python",
   "nbconvert_exporter": "python",
   "pygments_lexer": "ipython3",
   "version": "3.9.7"
  }
 },
 "nbformat": 4,
 "nbformat_minor": 5
}
