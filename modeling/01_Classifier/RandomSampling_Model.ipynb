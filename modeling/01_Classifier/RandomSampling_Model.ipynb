{
 "cells": [
  {
   "cell_type": "code",
   "execution_count": 1,
   "id": "2KZFRc26EsYp",
   "metadata": {
    "id": "2KZFRc26EsYp"
   },
   "outputs": [],
   "source": [
    "from sklearn.metrics import classification_report, confusion_matrix\n",
    "from sklearn.metrics import precision_recall_curve \n",
    "from sklearn.metrics import roc_curve\n",
    "from sklearn import metrics\n",
    "from sklearn.metrics import r2_score, mean_squared_error, accuracy_score, f1_score, precision_score, recall_score, roc_auc_score"
   ]
  },
  {
   "cell_type": "code",
   "execution_count": 2,
   "id": "72ee558c",
   "metadata": {},
   "outputs": [
    {
     "data": {
      "text/html": [
       "<div>\n",
       "<style scoped>\n",
       "    .dataframe tbody tr th:only-of-type {\n",
       "        vertical-align: middle;\n",
       "    }\n",
       "\n",
       "    .dataframe tbody tr th {\n",
       "        vertical-align: top;\n",
       "    }\n",
       "\n",
       "    .dataframe thead th {\n",
       "        text-align: right;\n",
       "    }\n",
       "</style>\n",
       "<table border=\"1\" class=\"dataframe\">\n",
       "  <thead>\n",
       "    <tr style=\"text-align: right;\">\n",
       "      <th></th>\n",
       "      <th>Unnamed: 0</th>\n",
       "      <th>콜금리(%)</th>\n",
       "      <th>loanapply_month</th>\n",
       "      <th>loanapply_day</th>\n",
       "      <th>application_id</th>\n",
       "      <th>bank_id</th>\n",
       "      <th>product_id</th>\n",
       "      <th>loan_limit</th>\n",
       "      <th>loan_rate</th>\n",
       "      <th>is_applied</th>\n",
       "      <th>...</th>\n",
       "      <th>loanapply_week</th>\n",
       "      <th>loanapply_time</th>\n",
       "      <th>time_at_work</th>\n",
       "      <th>기준금리</th>\n",
       "      <th>생활물가지수</th>\n",
       "      <th>소비자심리지수</th>\n",
       "      <th>나이대</th>\n",
       "      <th>핀다</th>\n",
       "      <th>대출</th>\n",
       "      <th>금리</th>\n",
       "    </tr>\n",
       "  </thead>\n",
       "  <tbody>\n",
       "    <tr>\n",
       "      <th>0</th>\n",
       "      <td>0</td>\n",
       "      <td>1.39000</td>\n",
       "      <td>3</td>\n",
       "      <td>1</td>\n",
       "      <td>475785</td>\n",
       "      <td>25</td>\n",
       "      <td>169</td>\n",
       "      <td>23000000.00000</td>\n",
       "      <td>16.90000</td>\n",
       "      <td>0.00000</td>\n",
       "      <td>...</td>\n",
       "      <td>Tuesday</td>\n",
       "      <td>13:59:32</td>\n",
       "      <td>0.00000</td>\n",
       "      <td>1.25000</td>\n",
       "      <td>1.20000</td>\n",
       "      <td>103.20000</td>\n",
       "      <td>20</td>\n",
       "      <td>23.00000</td>\n",
       "      <td>58.00000</td>\n",
       "      <td>20.00000</td>\n",
       "    </tr>\n",
       "    <tr>\n",
       "      <th>1</th>\n",
       "      <td>1</td>\n",
       "      <td>1.39000</td>\n",
       "      <td>3</td>\n",
       "      <td>1</td>\n",
       "      <td>475785</td>\n",
       "      <td>29</td>\n",
       "      <td>265</td>\n",
       "      <td>28000000.00000</td>\n",
       "      <td>5.90000</td>\n",
       "      <td>0.00000</td>\n",
       "      <td>...</td>\n",
       "      <td>Tuesday</td>\n",
       "      <td>13:59:31</td>\n",
       "      <td>0.00000</td>\n",
       "      <td>1.25000</td>\n",
       "      <td>1.20000</td>\n",
       "      <td>103.20000</td>\n",
       "      <td>20</td>\n",
       "      <td>23.00000</td>\n",
       "      <td>58.00000</td>\n",
       "      <td>20.00000</td>\n",
       "    </tr>\n",
       "    <tr>\n",
       "      <th>2</th>\n",
       "      <td>2</td>\n",
       "      <td>1.39000</td>\n",
       "      <td>3</td>\n",
       "      <td>1</td>\n",
       "      <td>475785</td>\n",
       "      <td>64</td>\n",
       "      <td>254</td>\n",
       "      <td>22000000.00000</td>\n",
       "      <td>13.20000</td>\n",
       "      <td>0.00000</td>\n",
       "      <td>...</td>\n",
       "      <td>Tuesday</td>\n",
       "      <td>13:59:32</td>\n",
       "      <td>0.00000</td>\n",
       "      <td>1.25000</td>\n",
       "      <td>1.20000</td>\n",
       "      <td>103.20000</td>\n",
       "      <td>20</td>\n",
       "      <td>23.00000</td>\n",
       "      <td>58.00000</td>\n",
       "      <td>20.00000</td>\n",
       "    </tr>\n",
       "    <tr>\n",
       "      <th>3</th>\n",
       "      <td>3</td>\n",
       "      <td>1.39000</td>\n",
       "      <td>3</td>\n",
       "      <td>1</td>\n",
       "      <td>475785</td>\n",
       "      <td>18</td>\n",
       "      <td>188</td>\n",
       "      <td>6000000.00000</td>\n",
       "      <td>5.30000</td>\n",
       "      <td>0.00000</td>\n",
       "      <td>...</td>\n",
       "      <td>Tuesday</td>\n",
       "      <td>13:59:31</td>\n",
       "      <td>0.00000</td>\n",
       "      <td>1.25000</td>\n",
       "      <td>1.20000</td>\n",
       "      <td>103.20000</td>\n",
       "      <td>20</td>\n",
       "      <td>23.00000</td>\n",
       "      <td>58.00000</td>\n",
       "      <td>20.00000</td>\n",
       "    </tr>\n",
       "    <tr>\n",
       "      <th>4</th>\n",
       "      <td>4</td>\n",
       "      <td>1.39000</td>\n",
       "      <td>3</td>\n",
       "      <td>1</td>\n",
       "      <td>475785</td>\n",
       "      <td>1</td>\n",
       "      <td>61</td>\n",
       "      <td>11000000.00000</td>\n",
       "      <td>12.90000</td>\n",
       "      <td>0.00000</td>\n",
       "      <td>...</td>\n",
       "      <td>Tuesday</td>\n",
       "      <td>13:59:32</td>\n",
       "      <td>0.00000</td>\n",
       "      <td>1.25000</td>\n",
       "      <td>1.20000</td>\n",
       "      <td>103.20000</td>\n",
       "      <td>20</td>\n",
       "      <td>23.00000</td>\n",
       "      <td>58.00000</td>\n",
       "      <td>20.00000</td>\n",
       "    </tr>\n",
       "  </tbody>\n",
       "</table>\n",
       "<p>5 rows × 33 columns</p>\n",
       "</div>"
      ],
      "text/plain": [
       "   Unnamed: 0  콜금리(%)  loanapply_month  loanapply_day  application_id  \\\n",
       "0           0 1.39000                3              1          475785   \n",
       "1           1 1.39000                3              1          475785   \n",
       "2           2 1.39000                3              1          475785   \n",
       "3           3 1.39000                3              1          475785   \n",
       "4           4 1.39000                3              1          475785   \n",
       "\n",
       "   bank_id  product_id     loan_limit  loan_rate  is_applied  ...  \\\n",
       "0       25         169 23000000.00000   16.90000     0.00000  ...   \n",
       "1       29         265 28000000.00000    5.90000     0.00000  ...   \n",
       "2       64         254 22000000.00000   13.20000     0.00000  ...   \n",
       "3       18         188  6000000.00000    5.30000     0.00000  ...   \n",
       "4        1          61 11000000.00000   12.90000     0.00000  ...   \n",
       "\n",
       "   loanapply_week  loanapply_time  time_at_work    기준금리  생활물가지수   소비자심리지수 나이대  \\\n",
       "0         Tuesday        13:59:32       0.00000 1.25000 1.20000 103.20000  20   \n",
       "1         Tuesday        13:59:31       0.00000 1.25000 1.20000 103.20000  20   \n",
       "2         Tuesday        13:59:32       0.00000 1.25000 1.20000 103.20000  20   \n",
       "3         Tuesday        13:59:31       0.00000 1.25000 1.20000 103.20000  20   \n",
       "4         Tuesday        13:59:32       0.00000 1.25000 1.20000 103.20000  20   \n",
       "\n",
       "        핀다       대출       금리  \n",
       "0 23.00000 58.00000 20.00000  \n",
       "1 23.00000 58.00000 20.00000  \n",
       "2 23.00000 58.00000 20.00000  \n",
       "3 23.00000 58.00000 20.00000  \n",
       "4 23.00000 58.00000 20.00000  \n",
       "\n",
       "[5 rows x 33 columns]"
      ]
     },
     "execution_count": 2,
     "metadata": {},
     "output_type": "execute_result"
    }
   ],
   "source": [
    "import pandas as pd\n",
    "import numpy as np\n",
    "import matplotlib.pyplot as plt\n",
    "plt.rc('font', family='Malgun Gothic')\n",
    "import seaborn as sns\n",
    "import warnings\n",
    "warnings.filterwarnings(action='ignore')\n",
    "from sklearn.preprocessing import LabelEncoder\n",
    "from sklearn.preprocessing import MinMaxScaler\n",
    "from sklearn.model_selection import train_test_split\n",
    "from sklearn.linear_model import LogisticRegression\n",
    "from sklearn.model_selection import GridSearchCV\n",
    "pd.options.display.float_format=\"{:.5f}\".format\n",
    "data=pd.read_csv('data/include_all_merge.csv')\n",
    "data.head()"
   ]
  },
  {
   "cell_type": "markdown",
   "id": "66517ecf",
   "metadata": {
    "id": "66517ecf"
   },
   "source": [
    "## 시각화한 데이터 분포보고 정규화한 데이터로 변경"
   ]
  },
  {
   "cell_type": "markdown",
   "id": "d0d66aec",
   "metadata": {
    "id": "d0d66aec"
   },
   "source": [
    "### 기대출수, 금액"
   ]
  },
  {
   "cell_type": "code",
   "execution_count": null,
   "id": "8b4544e9",
   "metadata": {
    "id": "8b4544e9",
    "outputId": "8cb59935-998a-4a58-ea7c-da9466ddcf1a"
   },
   "outputs": [
    {
     "data": {
      "text/plain": [
       "<AxesSubplot:>"
      ]
     },
     "execution_count": 3,
     "metadata": {},
     "output_type": "execute_result"
    },
    {
     "data": {
      "image/png": "[encoded data removed]",
      "text/plain": [
       "<Figure size 432x288 with 1 Axes>"
      ]
     },
     "metadata": {
      "needs_background": "light"
     },
     "output_type": "display_data"
    }
   ],
   "source": [
    "data['existing_loan_cnt'].hist()"
   ]
  },
  {
   "cell_type": "code",
   "execution_count": null,
   "id": "ed0e5f8f",
   "metadata": {
    "id": "ed0e5f8f",
    "outputId": "1f414aa2-d514-4356-9618-e3468dec1d67"
   },
   "outputs": [
    {
     "data": {
      "text/plain": [
       "<AxesSubplot:>"
      ]
     },
     "execution_count": 10,
     "metadata": {},
     "output_type": "execute_result"
    },
    {
     "data": {
      "image/png": "[encoded data removed]",
      "text/plain": [
       "<Figure size 432x288 with 1 Axes>"
      ]
     },
     "metadata": {
      "needs_background": "light"
     },
     "output_type": "display_data"
    }
   ],
   "source": [
    "np.log1p(np.log1p(data['existing_loan_cnt'])).hist()"
   ]
  },
  {
   "cell_type": "code",
   "execution_count": null,
   "id": "4cbf50fc",
   "metadata": {
    "id": "4cbf50fc",
    "outputId": "57f9c099-830e-4334-884f-8c127ec20205"
   },
   "outputs": [
    {
     "data": {
      "text/plain": [
       "-0.03944412792095079"
      ]
     },
     "execution_count": 17,
     "metadata": {},
     "output_type": "execute_result"
    }
   ],
   "source": [
    "#K정규분포 = 왜도 0\n",
    "from scipy.stats import skew\n",
    "skew(np.log1p(np.log1p(data['existing_loan_cnt'])))"
   ]
  },
  {
   "cell_type": "code",
   "execution_count": null,
   "id": "d663ce53",
   "metadata": {
    "id": "d663ce53",
    "outputId": "d449efa8-eb15-4bbe-d2d1-6ea198fc84ce"
   },
   "outputs": [
    {
     "data": {
      "text/plain": [
       "<AxesSubplot:>"
      ]
     },
     "execution_count": 9,
     "metadata": {},
     "output_type": "execute_result"
    },
    {
     "data": {
      "image/png": "[encoded data removed]",
      "text/plain": [
       "<Figure size 432x288 with 1 Axes>"
      ]
     },
     "metadata": {
      "needs_background": "light"
     },
     "output_type": "display_data"
    }
   ],
   "source": [
    "np.sqrt(np.sqrt(data['existing_loan_amt'])).hist() "
   ]
  },
  {
   "cell_type": "code",
   "execution_count": null,
   "id": "b58d3309",
   "metadata": {
    "id": "b58d3309",
    "outputId": "46371270-ac48-4ffb-bd44-9af305a711a7"
   },
   "outputs": [
    {
     "data": {
      "text/plain": [
       "0.3847168133509145"
      ]
     },
     "execution_count": 14,
     "metadata": {},
     "output_type": "execute_result"
    }
   ],
   "source": [
    "skew(np.sqrt(np.sqrt(data['existing_loan_amt'])))"
   ]
  },
  {
   "cell_type": "markdown",
   "id": "b5744972",
   "metadata": {
    "id": "b5744972"
   },
   "source": [
    "### 금리"
   ]
  },
  {
   "cell_type": "code",
   "execution_count": null,
   "id": "c2776987",
   "metadata": {
    "id": "c2776987",
    "outputId": "5d38c9d2-5a8c-48ce-cbbf-2cfad47724b9"
   },
   "outputs": [
    {
     "data": {
      "text/plain": [
       "<AxesSubplot:>"
      ]
     },
     "execution_count": 18,
     "metadata": {},
     "output_type": "execute_result"
    },
    {
     "data": {
      "image/png": "[encoded data removed]",
      "text/plain": [
       "<Figure size 432x288 with 1 Axes>"
      ]
     },
     "metadata": {
      "needs_background": "light"
     },
     "output_type": "display_data"
    }
   ],
   "source": [
    "data['금리'].hist()"
   ]
  },
  {
   "cell_type": "code",
   "execution_count": null,
   "id": "68dd38d8",
   "metadata": {
    "id": "68dd38d8",
    "outputId": "b80e2628-fa14-4858-991f-3db1cdec8773"
   },
   "outputs": [
    {
     "data": {
      "text/plain": [
       "<AxesSubplot:>"
      ]
     },
     "execution_count": 19,
     "metadata": {},
     "output_type": "execute_result"
    },
    {
     "data": {
      "image/png": "[encoded data removed]",
      "text/plain": [
       "<Figure size 432x288 with 1 Axes>"
      ]
     },
     "metadata": {
      "needs_background": "light"
     },
     "output_type": "display_data"
    }
   ],
   "source": [
    "np.log1p(data['금리']).hist()"
   ]
  },
  {
   "cell_type": "code",
   "execution_count": null,
   "id": "dbacf5dd",
   "metadata": {
    "id": "dbacf5dd",
    "outputId": "7cc0e028-4027-4f72-a7dd-e5f6d59bcad3"
   },
   "outputs": [
    {
     "data": {
      "text/plain": [
       "0.8672971971479673"
      ]
     },
     "execution_count": 20,
     "metadata": {},
     "output_type": "execute_result"
    }
   ],
   "source": [
    "skew(np.log1p(data['금리']))"
   ]
  },
  {
   "cell_type": "markdown",
   "id": "7d6bc4f2",
   "metadata": {
    "id": "7d6bc4f2"
   },
   "source": [
    "### 대출, 금리"
   ]
  },
  {
   "cell_type": "code",
   "execution_count": null,
   "id": "f9800309",
   "metadata": {
    "id": "f9800309",
    "outputId": "7547a810-67d9-42a8-e55e-31bf5ce119e0"
   },
   "outputs": [
    {
     "data": {
      "text/plain": [
       "<AxesSubplot:>"
      ]
     },
     "execution_count": 21,
     "metadata": {},
     "output_type": "execute_result"
    },
    {
     "data": {
      "image/png": "[encoded data removed]",
      "text/plain": [
       "<Figure size 432x288 with 1 Axes>"
      ]
     },
     "metadata": {
      "needs_background": "light"
     },
     "output_type": "display_data"
    }
   ],
   "source": [
    "data['대출'].hist()"
   ]
  },
  {
   "cell_type": "code",
   "execution_count": null,
   "id": "694c0ef9",
   "metadata": {
    "id": "694c0ef9",
    "outputId": "f5348ad1-5d24-477e-b7eb-7f19dd59846d"
   },
   "outputs": [
    {
     "data": {
      "text/plain": [
       "0.8672971971479673"
      ]
     },
     "execution_count": 22,
     "metadata": {},
     "output_type": "execute_result"
    }
   ],
   "source": [
    "skew(np.log1p(data['금리']))"
   ]
  },
  {
   "cell_type": "markdown",
   "id": "68036487",
   "metadata": {
    "id": "68036487"
   },
   "source": [
    "### 핀다"
   ]
  },
  {
   "cell_type": "code",
   "execution_count": null,
   "id": "672dec27",
   "metadata": {
    "id": "672dec27",
    "outputId": "77bf8c95-0416-4b96-8d17-1625f78f7798"
   },
   "outputs": [
    {
     "data": {
      "text/plain": [
       "0.016282508771206496"
      ]
     },
     "execution_count": 23,
     "metadata": {},
     "output_type": "execute_result"
    }
   ],
   "source": [
    "skew(data['핀다'])"
   ]
  },
  {
   "cell_type": "markdown",
   "id": "e1b3cbdb",
   "metadata": {
    "id": "e1b3cbdb"
   },
   "source": [
    "### loan_limit"
   ]
  },
  {
   "cell_type": "code",
   "execution_count": null,
   "id": "cd005e59",
   "metadata": {
    "id": "cd005e59",
    "outputId": "28eeff23-ce23-44ba-cfc2-2d9353ce0050"
   },
   "outputs": [
    {
     "data": {
      "text/plain": [
       "<AxesSubplot:>"
      ]
     },
     "execution_count": 25,
     "metadata": {},
     "output_type": "execute_result"
    },
    {
     "data": {
      "image/png": "[encoded data removed]",
      "text/plain": [
       "<Figure size 432x288 with 1 Axes>"
      ]
     },
     "metadata": {
      "needs_background": "light"
     },
     "output_type": "display_data"
    }
   ],
   "source": [
    "np.sqrt(data['loan_limit']).hist()"
   ]
  },
  {
   "cell_type": "code",
   "execution_count": null,
   "id": "26992dd7",
   "metadata": {
    "id": "26992dd7",
    "outputId": "4a0fd878-44df-4096-af4a-d1eb5446ec93"
   },
   "outputs": [
    {
     "data": {
      "text/plain": [
       "2636.2163606700765"
      ]
     },
     "execution_count": 33,
     "metadata": {},
     "output_type": "execute_result"
    }
   ],
   "source": [
    "skew(data['loan_limit'])"
   ]
  },
  {
   "cell_type": "code",
   "execution_count": null,
   "id": "05410984",
   "metadata": {
    "id": "05410984",
    "outputId": "bd76e645-985c-4c93-f602-c4c89d1c4fb6"
   },
   "outputs": [
    {
     "data": {
      "text/plain": [
       "-2.415476180830011"
      ]
     },
     "execution_count": 35,
     "metadata": {},
     "output_type": "execute_result"
    }
   ],
   "source": [
    "skew(np.sqrt(np.sqrt(np.sqrt(np.sqrt(data['loan_limit'])))))"
   ]
  },
  {
   "cell_type": "code",
   "execution_count": null,
   "id": "f1710029",
   "metadata": {
    "id": "f1710029",
    "outputId": "5c340fc4-3373-464d-d417-8a8bd7948ba5"
   },
   "outputs": [
    {
     "data": {
      "text/plain": [
       "<AxesSubplot:>"
      ]
     },
     "execution_count": 37,
     "metadata": {},
     "output_type": "execute_result"
    },
    {
     "data": {
      "image/png": "[encoded data removed]",
      "text/plain": [
       "<Figure size 432x288 with 1 Axes>"
      ]
     },
     "metadata": {
      "needs_background": "light"
     },
     "output_type": "display_data"
    }
   ],
   "source": [
    "np.sqrt(np.sqrt(np.sqrt(np.sqrt(data['loan_limit'])))).hist() "
   ]
  },
  {
   "cell_type": "markdown",
   "id": "da1271db",
   "metadata": {
    "id": "da1271db"
   },
   "source": [
    "### desired_amount, yearly_income"
   ]
  },
  {
   "cell_type": "code",
   "execution_count": null,
   "id": "68baa0b3",
   "metadata": {
    "id": "68baa0b3"
   },
   "outputs": [],
   "source": [
    "# skew(np.sqrt(np.sqrt(np.sqrt(data['desired_amount']))))"
   ]
  },
  {
   "cell_type": "code",
   "execution_count": 3,
   "id": "ce599f6a",
   "metadata": {
    "colab": {
     "base_uri": "https://localhost:8080/",
     "height": 293
    },
    "id": "ce599f6a",
    "outputId": "52087a53-83d0-4c8a-d49c-2474469e001d"
   },
   "outputs": [
    {
     "data": {
      "text/plain": [
       "<matplotlib.axes._subplots.AxesSubplot at 0x7f74e761a0d0>"
      ]
     },
     "execution_count": 3,
     "metadata": {},
     "output_type": "execute_result"
    },
    {
     "data": {
      "image/png": "[encoded data removed]",
      "text/plain": [
       "<Figure size 432x288 with 1 Axes>"
      ]
     },
     "metadata": {
      "needs_background": "light"
     },
     "output_type": "display_data"
    }
   ],
   "source": [
    "np.sqrt(np.sqrt(np.sqrt(data['desired_amount']))).hist()"
   ]
  },
  {
   "cell_type": "code",
   "execution_count": null,
   "id": "246248ba",
   "metadata": {
    "id": "246248ba",
    "outputId": "c3ab696f-1ac3-4aef-c644-c64c69cd934e"
   },
   "outputs": [
    {
     "data": {
      "text/plain": [
       "1.5722023148864823"
      ]
     },
     "execution_count": 47,
     "metadata": {},
     "output_type": "execute_result"
    }
   ],
   "source": [
    "# skew(np.sqrt(np.sqrt(data['yearly_income'])))"
   ]
  },
  {
   "cell_type": "code",
   "execution_count": 4,
   "id": "2fec6b7c",
   "metadata": {
    "colab": {
     "base_uri": "https://localhost:8080/",
     "height": 293
    },
    "id": "2fec6b7c",
    "outputId": "a1a5195b-b95c-4717-c22f-ada0bfc91351"
   },
   "outputs": [
    {
     "data": {
      "text/plain": [
       "<matplotlib.axes._subplots.AxesSubplot at 0x7f74f0b66550>"
      ]
     },
     "execution_count": 4,
     "metadata": {},
     "output_type": "execute_result"
    },
    {
     "data": {
      "image/png": "[encoded data removed]",
      "text/plain": [
       "<Figure size 432x288 with 1 Axes>"
      ]
     },
     "metadata": {
      "needs_background": "light"
     },
     "output_type": "display_data"
    }
   ],
   "source": [
    "np.sqrt(np.sqrt(data['yearly_income'])).hist()"
   ]
  },
  {
   "cell_type": "markdown",
   "id": "9f0177f0",
   "metadata": {
    "id": "9f0177f0"
   },
   "source": [
    "## 정규분포화 로그,제곱근 변환"
   ]
  },
  {
   "cell_type": "code",
   "execution_count": 3,
   "id": "b27588f8",
   "metadata": {
    "id": "b27588f8"
   },
   "outputs": [],
   "source": [
    "# 정규분포화 로그,제곱근 변환\n",
    "data1=data.drop(['Unnamed: 0','loanapply_month','rehabilitation_yn','기준금리', '나이대','loanapply_time'],axis=1)\n",
    "data1['existing_loan_cnt']=np.log1p(data['existing_loan_cnt'])\n",
    "data1['existing_loan_amt']=np.sqrt(np.sqrt(data['existing_loan_amt']))\n",
    "data1['금리']=np.log1p(data['금리'])\n",
    "data1['loan_limit']=np.sqrt(np.sqrt(np.sqrt(np.sqrt(data['loan_limit']))))\n",
    "data1['desired_amount']=np.sqrt(np.sqrt(np.sqrt(data['desired_amount'])))\n",
    "data1['yearly_income']=np.sqrt(np.sqrt(data['yearly_income']))"
   ]
  },
  {
   "cell_type": "code",
   "execution_count": 6,
   "id": "78cead81",
   "metadata": {
    "colab": {
     "base_uri": "https://localhost:8080/"
    },
    "id": "78cead81",
    "outputId": "0ba0a257-8e30-4e6e-a9d0-14d26fcd7879",
    "scrolled": true
   },
   "outputs": [
    {
     "name": "stdout",
     "output_type": "stream",
     "text": [
      "<class 'pandas.core.frame.DataFrame'>\n",
      "RangeIndex: 13442614 entries, 0 to 13442613\n",
      "Data columns (total 27 columns):\n",
      " #   Column             Dtype  \n",
      "---  ------             -----  \n",
      " 0   콜금리(%)             float64\n",
      " 1   loanapply_day      int64  \n",
      " 2   application_id     int64  \n",
      " 3   bank_id            int64  \n",
      " 4   product_id         int64  \n",
      " 5   loan_limit         float64\n",
      " 6   loan_rate          float64\n",
      " 7   is_applied         float64\n",
      " 8   user_id            float64\n",
      " 9   birth_year         float64\n",
      " 10  credit_score       float64\n",
      " 11  yearly_income      float64\n",
      " 12  income_type        object \n",
      " 13  employment_type    object \n",
      " 14  houseown_type      object \n",
      " 15  desired_amount     float64\n",
      " 16  purpose            object \n",
      " 17  existing_loan_cnt  float64\n",
      " 18  existing_loan_amt  float64\n",
      " 19  gender             float64\n",
      " 20  loanapply_week     object \n",
      " 21  time_at_work       float64\n",
      " 22  생활물가지수             float64\n",
      " 23  소비자심리지수            float64\n",
      " 24  핀다                 float64\n",
      " 25  대출                 float64\n",
      " 26  금리                 float64\n",
      "dtypes: float64(18), int64(4), object(5)\n",
      "memory usage: 2.7+ GB\n"
     ]
    }
   ],
   "source": [
    "data1.info()"
   ]
  },
  {
   "cell_type": "code",
   "execution_count": 134,
   "id": "358b2734",
   "metadata": {
    "id": "358b2734"
   },
   "outputs": [],
   "source": [
    "# 더미화\n",
    "data_dum = pd.get_dummies(data1, columns = ['income_type','employment_type','houseown_type','purpose','loanapply_week'])\n",
    "\n",
    "# 라벨 지정\n",
    "from sklearn.preprocessing import LabelEncoder\n",
    "le = LabelEncoder()\n",
    "data_dum['application_id']=le.fit_transform(data_dum['application_id'])\n",
    "data_dum['bank_id']=le.fit_transform(data_dum['bank_id'])\n",
    "data_dum['product_id']=le.fit_transform(data_dum['product_id'])\n",
    "data_dum['user_id']=le.fit_transform(data_dum['user_id'])\n",
    "\n",
    "# 데이터 분리\n",
    "ii=data_dum[data_dum.is_applied.isnull()].index\n",
    "train=data_dum.drop(ii) # 3,4,5월 \n",
    "test=data_dum.loc[ii] # 6월(실제 예측해야할 값)\n",
    "\n",
    "# train/test로 나누기(1과 0이 train과 test에 각각 7:3으로 올바르게 들어가게 하기 위해)\n",
    "# train_1 : 라벨 1인 데이터, train_0 : 라벨 0인 데이터\n",
    "train_1 = data_dum[data_dum['is_applied']==1]\n",
    "train_1_X = train_1.drop('is_applied',axis=1)\n",
    "train_1_y = train_1['is_applied']\n",
    "\n",
    "train_0 = data_dum[data_dum['is_applied']==0]\n",
    "train_0_X = train_0.drop('is_applied',axis=1)\n",
    "train_0_y = train_0['is_applied']\n",
    "\n",
    "from sklearn.model_selection import train_test_split\n",
    "\n",
    "X_train_1, X_test_1, y_train_1, y_test_1 = train_test_split(train_1_X, train_1_y, test_size=0.3, random_state=42)\n",
    "X_train_0, X_test_0, y_train_0, y_test_0 = train_test_split(train_0_X, train_0_y, test_size=0.3, random_state=42)\n",
    "\n",
    "X_train = pd.concat([X_train_1, X_train_0])\n",
    "y_train = pd.concat([y_train_1, y_train_0])\n",
    "\n",
    "X_test = pd.concat([X_test_1, X_test_0])\n",
    "y_test = pd.concat([y_test_1, y_test_0])"
   ]
  },
  {
   "cell_type": "code",
   "execution_count": 4,
   "id": "9e940ffa",
   "metadata": {},
   "outputs": [],
   "source": [
    "ii=data[data.is_applied.isnull()].index\n",
    "train=data.drop(ii) # 3,4,5월 \n",
    "test=data.loc[ii] # 6월(실제 예측해야할 값)"
   ]
  },
  {
   "cell_type": "code",
   "execution_count": 7,
   "id": "43aa6b27",
   "metadata": {
    "scrolled": false
   },
   "outputs": [
    {
     "data": {
      "text/html": [
       "<div>\n",
       "<style scoped>\n",
       "    .dataframe tbody tr th:only-of-type {\n",
       "        vertical-align: middle;\n",
       "    }\n",
       "\n",
       "    .dataframe tbody tr th {\n",
       "        vertical-align: top;\n",
       "    }\n",
       "\n",
       "    .dataframe thead th {\n",
       "        text-align: right;\n",
       "    }\n",
       "</style>\n",
       "<table border=\"1\" class=\"dataframe\">\n",
       "  <thead>\n",
       "    <tr style=\"text-align: right;\">\n",
       "      <th></th>\n",
       "      <th>Unnamed: 0</th>\n",
       "      <th>콜금리(%)</th>\n",
       "      <th>loanapply_month</th>\n",
       "      <th>loanapply_day</th>\n",
       "      <th>application_id</th>\n",
       "      <th>bank_id</th>\n",
       "      <th>product_id</th>\n",
       "      <th>loan_limit</th>\n",
       "      <th>loan_rate</th>\n",
       "      <th>is_applied</th>\n",
       "      <th>user_id</th>\n",
       "      <th>birth_year</th>\n",
       "      <th>credit_score</th>\n",
       "      <th>yearly_income</th>\n",
       "      <th>income_type</th>\n",
       "      <th>employment_type</th>\n",
       "      <th>houseown_type</th>\n",
       "      <th>desired_amount</th>\n",
       "      <th>purpose</th>\n",
       "      <th>existing_loan_cnt</th>\n",
       "      <th>existing_loan_amt</th>\n",
       "      <th>gender</th>\n",
       "      <th>rehabilitation_yn</th>\n",
       "      <th>loanapply_week</th>\n",
       "      <th>loanapply_time</th>\n",
       "      <th>time_at_work</th>\n",
       "      <th>기준금리</th>\n",
       "      <th>생활물가지수</th>\n",
       "      <th>소비자심리지수</th>\n",
       "      <th>나이대</th>\n",
       "      <th>핀다</th>\n",
       "      <th>대출</th>\n",
       "      <th>금리</th>\n",
       "    </tr>\n",
       "  </thead>\n",
       "  <tbody>\n",
       "    <tr>\n",
       "      <th>10187132</th>\n",
       "      <td>10187132</td>\n",
       "      <td>1.86000</td>\n",
       "      <td>6</td>\n",
       "      <td>1</td>\n",
       "      <td>2111151</td>\n",
       "      <td>50</td>\n",
       "      <td>142</td>\n",
       "      <td>44000000.00000</td>\n",
       "      <td>18.10000</td>\n",
       "      <td>NaN</td>\n",
       "      <td>731924.00000</td>\n",
       "      <td>1997.00000</td>\n",
       "      <td>660.00000</td>\n",
       "      <td>36000000.00000</td>\n",
       "      <td>EARNEDINCOME</td>\n",
       "      <td>일용직</td>\n",
       "      <td>전월세</td>\n",
       "      <td>50000000.00000</td>\n",
       "      <td>주택구입</td>\n",
       "      <td>3.00000</td>\n",
       "      <td>12000000.00000</td>\n",
       "      <td>0.00000</td>\n",
       "      <td>0</td>\n",
       "      <td>Wednesday</td>\n",
       "      <td>16:01:48</td>\n",
       "      <td>1.00000</td>\n",
       "      <td>1.75000</td>\n",
       "      <td>0.80000</td>\n",
       "      <td>96.40000</td>\n",
       "      <td>20</td>\n",
       "      <td>27.00000</td>\n",
       "      <td>51.00000</td>\n",
       "      <td>15.00000</td>\n",
       "    </tr>\n",
       "    <tr>\n",
       "      <th>10187133</th>\n",
       "      <td>10187133</td>\n",
       "      <td>1.86000</td>\n",
       "      <td>6</td>\n",
       "      <td>1</td>\n",
       "      <td>2111151</td>\n",
       "      <td>37</td>\n",
       "      <td>206</td>\n",
       "      <td>10000000.00000</td>\n",
       "      <td>19.90000</td>\n",
       "      <td>NaN</td>\n",
       "      <td>731924.00000</td>\n",
       "      <td>1997.00000</td>\n",
       "      <td>660.00000</td>\n",
       "      <td>36000000.00000</td>\n",
       "      <td>EARNEDINCOME</td>\n",
       "      <td>일용직</td>\n",
       "      <td>전월세</td>\n",
       "      <td>50000000.00000</td>\n",
       "      <td>주택구입</td>\n",
       "      <td>3.00000</td>\n",
       "      <td>12000000.00000</td>\n",
       "      <td>0.00000</td>\n",
       "      <td>0</td>\n",
       "      <td>Wednesday</td>\n",
       "      <td>16:01:50</td>\n",
       "      <td>1.00000</td>\n",
       "      <td>1.75000</td>\n",
       "      <td>0.80000</td>\n",
       "      <td>96.40000</td>\n",
       "      <td>20</td>\n",
       "      <td>27.00000</td>\n",
       "      <td>51.00000</td>\n",
       "      <td>15.00000</td>\n",
       "    </tr>\n",
       "    <tr>\n",
       "      <th>10187134</th>\n",
       "      <td>10187134</td>\n",
       "      <td>1.86000</td>\n",
       "      <td>6</td>\n",
       "      <td>1</td>\n",
       "      <td>2111151</td>\n",
       "      <td>33</td>\n",
       "      <td>110</td>\n",
       "      <td>18000000.00000</td>\n",
       "      <td>13.50000</td>\n",
       "      <td>NaN</td>\n",
       "      <td>731924.00000</td>\n",
       "      <td>1997.00000</td>\n",
       "      <td>660.00000</td>\n",
       "      <td>36000000.00000</td>\n",
       "      <td>EARNEDINCOME</td>\n",
       "      <td>일용직</td>\n",
       "      <td>전월세</td>\n",
       "      <td>50000000.00000</td>\n",
       "      <td>주택구입</td>\n",
       "      <td>3.00000</td>\n",
       "      <td>12000000.00000</td>\n",
       "      <td>0.00000</td>\n",
       "      <td>0</td>\n",
       "      <td>Wednesday</td>\n",
       "      <td>16:01:49</td>\n",
       "      <td>1.00000</td>\n",
       "      <td>1.75000</td>\n",
       "      <td>0.80000</td>\n",
       "      <td>96.40000</td>\n",
       "      <td>20</td>\n",
       "      <td>27.00000</td>\n",
       "      <td>51.00000</td>\n",
       "      <td>15.00000</td>\n",
       "    </tr>\n",
       "    <tr>\n",
       "      <th>10187135</th>\n",
       "      <td>10187135</td>\n",
       "      <td>1.86000</td>\n",
       "      <td>6</td>\n",
       "      <td>1</td>\n",
       "      <td>2111151</td>\n",
       "      <td>46</td>\n",
       "      <td>49</td>\n",
       "      <td>28000000.00000</td>\n",
       "      <td>13.50000</td>\n",
       "      <td>NaN</td>\n",
       "      <td>731924.00000</td>\n",
       "      <td>1997.00000</td>\n",
       "      <td>660.00000</td>\n",
       "      <td>36000000.00000</td>\n",
       "      <td>EARNEDINCOME</td>\n",
       "      <td>일용직</td>\n",
       "      <td>전월세</td>\n",
       "      <td>50000000.00000</td>\n",
       "      <td>주택구입</td>\n",
       "      <td>3.00000</td>\n",
       "      <td>12000000.00000</td>\n",
       "      <td>0.00000</td>\n",
       "      <td>0</td>\n",
       "      <td>Wednesday</td>\n",
       "      <td>16:01:50</td>\n",
       "      <td>1.00000</td>\n",
       "      <td>1.75000</td>\n",
       "      <td>0.80000</td>\n",
       "      <td>96.40000</td>\n",
       "      <td>20</td>\n",
       "      <td>27.00000</td>\n",
       "      <td>51.00000</td>\n",
       "      <td>15.00000</td>\n",
       "    </tr>\n",
       "    <tr>\n",
       "      <th>10187136</th>\n",
       "      <td>10187136</td>\n",
       "      <td>1.86000</td>\n",
       "      <td>6</td>\n",
       "      <td>1</td>\n",
       "      <td>2111151</td>\n",
       "      <td>24</td>\n",
       "      <td>229</td>\n",
       "      <td>15000000.00000</td>\n",
       "      <td>9.50000</td>\n",
       "      <td>NaN</td>\n",
       "      <td>731924.00000</td>\n",
       "      <td>1997.00000</td>\n",
       "      <td>660.00000</td>\n",
       "      <td>36000000.00000</td>\n",
       "      <td>EARNEDINCOME</td>\n",
       "      <td>일용직</td>\n",
       "      <td>전월세</td>\n",
       "      <td>50000000.00000</td>\n",
       "      <td>주택구입</td>\n",
       "      <td>3.00000</td>\n",
       "      <td>12000000.00000</td>\n",
       "      <td>0.00000</td>\n",
       "      <td>0</td>\n",
       "      <td>Wednesday</td>\n",
       "      <td>16:01:48</td>\n",
       "      <td>1.00000</td>\n",
       "      <td>1.75000</td>\n",
       "      <td>0.80000</td>\n",
       "      <td>96.40000</td>\n",
       "      <td>20</td>\n",
       "      <td>27.00000</td>\n",
       "      <td>51.00000</td>\n",
       "      <td>15.00000</td>\n",
       "    </tr>\n",
       "  </tbody>\n",
       "</table>\n",
       "</div>"
      ],
      "text/plain": [
       "          Unnamed: 0  콜금리(%)  loanapply_month  loanapply_day  application_id  \\\n",
       "10187132    10187132 1.86000                6              1         2111151   \n",
       "10187133    10187133 1.86000                6              1         2111151   \n",
       "10187134    10187134 1.86000                6              1         2111151   \n",
       "10187135    10187135 1.86000                6              1         2111151   \n",
       "10187136    10187136 1.86000                6              1         2111151   \n",
       "\n",
       "          bank_id  product_id     loan_limit  loan_rate  is_applied  \\\n",
       "10187132       50         142 44000000.00000   18.10000         NaN   \n",
       "10187133       37         206 10000000.00000   19.90000         NaN   \n",
       "10187134       33         110 18000000.00000   13.50000         NaN   \n",
       "10187135       46          49 28000000.00000   13.50000         NaN   \n",
       "10187136       24         229 15000000.00000    9.50000         NaN   \n",
       "\n",
       "              user_id  birth_year  credit_score  yearly_income   income_type  \\\n",
       "10187132 731924.00000  1997.00000     660.00000 36000000.00000  EARNEDINCOME   \n",
       "10187133 731924.00000  1997.00000     660.00000 36000000.00000  EARNEDINCOME   \n",
       "10187134 731924.00000  1997.00000     660.00000 36000000.00000  EARNEDINCOME   \n",
       "10187135 731924.00000  1997.00000     660.00000 36000000.00000  EARNEDINCOME   \n",
       "10187136 731924.00000  1997.00000     660.00000 36000000.00000  EARNEDINCOME   \n",
       "\n",
       "         employment_type houseown_type  desired_amount purpose  \\\n",
       "10187132             일용직           전월세  50000000.00000    주택구입   \n",
       "10187133             일용직           전월세  50000000.00000    주택구입   \n",
       "10187134             일용직           전월세  50000000.00000    주택구입   \n",
       "10187135             일용직           전월세  50000000.00000    주택구입   \n",
       "10187136             일용직           전월세  50000000.00000    주택구입   \n",
       "\n",
       "          existing_loan_cnt  existing_loan_amt  gender  rehabilitation_yn  \\\n",
       "10187132            3.00000     12000000.00000 0.00000                  0   \n",
       "10187133            3.00000     12000000.00000 0.00000                  0   \n",
       "10187134            3.00000     12000000.00000 0.00000                  0   \n",
       "10187135            3.00000     12000000.00000 0.00000                  0   \n",
       "10187136            3.00000     12000000.00000 0.00000                  0   \n",
       "\n",
       "         loanapply_week loanapply_time  time_at_work    기준금리  생활물가지수  소비자심리지수  \\\n",
       "10187132      Wednesday       16:01:48       1.00000 1.75000 0.80000 96.40000   \n",
       "10187133      Wednesday       16:01:50       1.00000 1.75000 0.80000 96.40000   \n",
       "10187134      Wednesday       16:01:49       1.00000 1.75000 0.80000 96.40000   \n",
       "10187135      Wednesday       16:01:50       1.00000 1.75000 0.80000 96.40000   \n",
       "10187136      Wednesday       16:01:48       1.00000 1.75000 0.80000 96.40000   \n",
       "\n",
       "         나이대       핀다       대출       금리  \n",
       "10187132  20 27.00000 51.00000 15.00000  \n",
       "10187133  20 27.00000 51.00000 15.00000  \n",
       "10187134  20 27.00000 51.00000 15.00000  \n",
       "10187135  20 27.00000 51.00000 15.00000  \n",
       "10187136  20 27.00000 51.00000 15.00000  "
      ]
     },
     "execution_count": 7,
     "metadata": {},
     "output_type": "execute_result"
    }
   ],
   "source": [
    "test.head()"
   ]
  },
  {
   "cell_type": "code",
   "execution_count": 8,
   "id": "8bb4ab4e",
   "metadata": {},
   "outputs": [
    {
     "data": {
      "text/plain": [
       "(3255482, 33)"
      ]
     },
     "execution_count": 8,
     "metadata": {},
     "output_type": "execute_result"
    }
   ],
   "source": [
    "test.shape"
   ]
  },
  {
   "cell_type": "code",
   "execution_count": 9,
   "id": "0d18ebcf",
   "metadata": {},
   "outputs": [],
   "source": [
    "# 예측에 사용될 6월 데이터(더미화 전에 저장하기)\n",
    "test_f = test.drop('is_applied',axis = 1)"
   ]
  },
  {
   "cell_type": "code",
   "execution_count": 10,
   "id": "efc7552f",
   "metadata": {},
   "outputs": [],
   "source": [
    "# X_test_df.csv 에 따로 저장(더미화 전에 저장하기)\n",
    "test_f.to_csv('custom_pred/X_test_df.csv', index=False)"
   ]
  },
  {
   "cell_type": "code",
   "execution_count": null,
   "id": "990d0268",
   "metadata": {},
   "outputs": [],
   "source": []
  },
  {
   "cell_type": "code",
   "execution_count": 6,
   "id": "6fc2e578",
   "metadata": {},
   "outputs": [],
   "source": [
    "pd.set_option('display.max_columns', None) ## 모든 열을 출력한다."
   ]
  },
  {
   "cell_type": "code",
   "execution_count": 135,
   "id": "nCXdUZyAT0wN",
   "metadata": {
    "id": "nCXdUZyAT0wN"
   },
   "outputs": [],
   "source": [
    "del train_1_X\n",
    "del train_1_y\n",
    "del train_0_X\n",
    "del train_0_y\n",
    "del X_train_1\n",
    "del X_train_0\n",
    "del X_test_1\n",
    "del X_test_0\n",
    "del y_train_1\n",
    "del y_train_0\n",
    "del y_test_1\n",
    "del y_test_0\n",
    "del ii\n",
    "del data_dum\n",
    "del data1\n",
    "del data"
   ]
  },
  {
   "cell_type": "code",
   "execution_count": 136,
   "id": "0ae94792",
   "metadata": {
    "colab": {
     "base_uri": "https://localhost:8080/"
    },
    "id": "0ae94792",
    "outputId": "01b8be1e-2958-4839-fe3c-c9a8e768188b"
   },
   "outputs": [
    {
     "data": {
      "text/plain": [
       "(7130991,)"
      ]
     },
     "execution_count": 136,
     "metadata": {},
     "output_type": "execute_result"
    }
   ],
   "source": [
    "train_all=X_train.copy()\n",
    "train_all['is_applied']=y_train\n",
    "y_train.shape"
   ]
  },
  {
   "cell_type": "code",
   "execution_count": 137,
   "id": "2972a490",
   "metadata": {
    "colab": {
     "base_uri": "https://localhost:8080/"
    },
    "id": "2972a490",
    "outputId": "10fad606-af9f-49f4-d01a-544368f12959",
    "scrolled": true
   },
   "outputs": [
    {
     "data": {
      "text/plain": [
       "0.00000    6745316\n",
       "1.00000     385675\n",
       "Name: is_applied, dtype: int64"
      ]
     },
     "execution_count": 137,
     "metadata": {},
     "output_type": "execute_result"
    }
   ],
   "source": [
    "y_train.value_counts()"
   ]
  },
  {
   "cell_type": "code",
   "execution_count": 138,
   "id": "HCezGxSeZYO9",
   "metadata": {
    "colab": {
     "base_uri": "https://localhost:8080/"
    },
    "id": "HCezGxSeZYO9",
    "outputId": "103a7e2a-0c17-427d-c07f-209935721b65"
   },
   "outputs": [
    {
     "data": {
      "text/plain": [
       "0.00000    2890851\n",
       "1.00000     165290\n",
       "Name: is_applied, dtype: int64"
      ]
     },
     "execution_count": 138,
     "metadata": {},
     "output_type": "execute_result"
    }
   ],
   "source": [
    "y_test.value_counts()"
   ]
  },
  {
   "cell_type": "code",
   "execution_count": 140,
   "id": "f1L3LcVEal22",
   "metadata": {
    "id": "f1L3LcVEal22"
   },
   "outputs": [],
   "source": [
    "# 1인 행 0인 행 나누기\n",
    "train_all_1 = train_all[train_all['is_applied']==1]\n",
    "train_all_0 = train_all[train_all['is_applied']==0]"
   ]
  },
  {
   "cell_type": "code",
   "execution_count": 141,
   "id": "mSAEgd4Lal8w",
   "metadata": {
    "colab": {
     "base_uri": "https://localhost:8080/"
    },
    "id": "mSAEgd4Lal8w",
    "outputId": "cde5db6a-e071-4886-fca8-3070e1428571",
    "scrolled": false
   },
   "outputs": [
    {
     "name": "stdout",
     "output_type": "stream",
     "text": [
      "(385675, 51)\n",
      "(6745316, 51)\n"
     ]
    }
   ],
   "source": [
    "print(train_all_1.shape)\n",
    "print(train_all_0.shape)"
   ]
  },
  {
   "cell_type": "markdown",
   "id": "b24f1bb0",
   "metadata": {},
   "source": [
    "## RandomSampling\n",
    "+ y_train에서 is_applied가 1인 개수가 385675개이므로 6745316개의 0인 data 중에서 randomsampling 진행\n",
    "+ 크기는 is_applied가 1인 개수와 동일한 만큼으로 구성\n",
    "+ 5번의 검정 절차를 위해 385675 x 5만큼 먼저 뽑고, 랜덤으로 구성된 데이터이기에 indexing으로 데이터 잘라줌 "
   ]
  },
  {
   "cell_type": "code",
   "execution_count": 144,
   "id": "bk1PL6gobb9V",
   "metadata": {
    "id": "bk1PL6gobb9V"
   },
   "outputs": [],
   "source": [
    "# 0인 행 192만개 생성 후 5등분 해서 38만개씩 만들기\n",
    "train_all_0_192 = train_all_0.sample(n=1928375, random_state=42).reset_index(drop=True)"
   ]
  },
  {
   "cell_type": "code",
   "execution_count": 145,
   "id": "wY4sh-UIcrBM",
   "metadata": {
    "id": "wY4sh-UIcrBM"
   },
   "outputs": [],
   "source": [
    "train_all_0_192_1 = train_all_0_192.iloc[:385675]\n",
    "train_all_0_192_2 = train_all_0_192.iloc[385675:385675*2]\n",
    "train_all_0_192_3 = train_all_0_192.iloc[385675*2:385675*3]\n",
    "train_all_0_192_4 = train_all_0_192.iloc[385675*3:385675*4]\n",
    "train_all_0_192_5 = train_all_0_192.iloc[385675*4:]"
   ]
  },
  {
   "cell_type": "code",
   "execution_count": 146,
   "id": "_w8ZuxiJdVb_",
   "metadata": {
    "colab": {
     "base_uri": "https://localhost:8080/"
    },
    "id": "_w8ZuxiJdVb_",
    "outputId": "687c17d1-7bd1-486c-bb5c-8fb037325d12"
   },
   "outputs": [
    {
     "name": "stdout",
     "output_type": "stream",
     "text": [
      "(1928375, 51)\n",
      "(385675, 51)\n",
      "(385675, 51)\n",
      "(385675, 51)\n",
      "(385675, 51)\n",
      "(385675, 51)\n"
     ]
    }
   ],
   "source": [
    "# 확인용 print\n",
    "print(train_all_0_192.shape)\n",
    "\n",
    "print(train_all_0_192_1.shape)\n",
    "print(train_all_0_192_2.shape)\n",
    "print(train_all_0_192_3.shape)\n",
    "print(train_all_0_192_4.shape)\n",
    "print(train_all_0_192_5.shape)"
   ]
  },
  {
   "cell_type": "code",
   "execution_count": 147,
   "id": "iBNcjsiobtX-",
   "metadata": {
    "id": "iBNcjsiobtX-"
   },
   "outputs": [],
   "source": [
    "#1인 행 38만개 \n",
    "train_all_1_38 = train_all_1.sample(n=385675, random_state=42).reset_index(drop=True)"
   ]
  },
  {
   "cell_type": "code",
   "execution_count": 148,
   "id": "fulXFeIBbtZ8",
   "metadata": {
    "colab": {
     "base_uri": "https://localhost:8080/"
    },
    "id": "fulXFeIBbtZ8",
    "outputId": "310e41bf-83d8-4f6f-e82b-96d3b6e38e52",
    "scrolled": true
   },
   "outputs": [
    {
     "name": "stdout",
     "output_type": "stream",
     "text": [
      "(385675, 51)\n"
     ]
    }
   ],
   "source": [
    "print(train_all_1_38.shape)"
   ]
  },
  {
   "cell_type": "code",
   "execution_count": null,
   "id": "Pn8aT9jKbtgv",
   "metadata": {
    "id": "Pn8aT9jKbtgv"
   },
   "outputs": [],
   "source": [
    "'''\n",
    "여기까지 정리하면\n",
    "train_all_0_192_1 ~ 5 + train_all_1_38: train\n",
    "\n",
    "'''"
   ]
  },
  {
   "cell_type": "code",
   "execution_count": 149,
   "id": "X6yEZLibjK-u",
   "metadata": {
    "id": "X6yEZLibjK-u"
   },
   "outputs": [],
   "source": [
    "train_38_1 = pd.concat([train_all_0_192_1,train_all_1_38])\n",
    "train_38_2 = pd.concat([train_all_0_192_2,train_all_1_38])\n",
    "train_38_3 = pd.concat([train_all_0_192_3,train_all_1_38])\n",
    "train_38_4 = pd.concat([train_all_0_192_4,train_all_1_38])\n",
    "train_38_5 = pd.concat([train_all_0_192_5,train_all_1_38])"
   ]
  },
  {
   "cell_type": "code",
   "execution_count": 150,
   "id": "kfBgbwMIjyFM",
   "metadata": {
    "colab": {
     "base_uri": "https://localhost:8080/"
    },
    "id": "kfBgbwMIjyFM",
    "outputId": "ad3b81d8-0662-4e72-9ce8-b2db16d8bf90"
   },
   "outputs": [
    {
     "data": {
      "text/plain": [
       "(771350, 51)"
      ]
     },
     "execution_count": 150,
     "metadata": {},
     "output_type": "execute_result"
    }
   ],
   "source": [
    "train_38_1.shape"
   ]
  },
  {
   "cell_type": "code",
   "execution_count": 151,
   "id": "96fd12aa",
   "metadata": {
    "id": "96fd12aa"
   },
   "outputs": [],
   "source": [
    "# 평가 지표\n",
    "from sklearn.metrics import recall_score, precision_score, accuracy_score, confusion_matrix, f1_score, roc_auc_score\n",
    "\n",
    "def display_eval(test_y, pred):\n",
    "    confusion = confusion_matrix(test_y, pred)\n",
    "    accuracy = accuracy_score(test_y, pred)\n",
    "    precision = precision_score(test_y, pred)\n",
    "    recall = recall_score(test_y, pred)\n",
    "    f1 = f1_score(test_y, pred)\n",
    "    roc_score = roc_auc_score(test_y, pred)\n",
    "    print(confusion)\n",
    "    print('*'*50)\n",
    "    print()\n",
    "    print('정확도 : {0:.2f}, 정밀도 : {1:.2f}, 재현율 : {2:.2f}'.format(accuracy, precision, recall))\n",
    "    print('f1-score : {0:.2f}, auc : {1:.2f}'.format(f1, roc_score))"
   ]
  },
  {
   "cell_type": "code",
   "execution_count": 153,
   "id": "3sBN8FjMWDmm",
   "metadata": {
    "colab": {
     "base_uri": "https://localhost:8080/"
    },
    "id": "3sBN8FjMWDmm",
    "outputId": "ea45eb7d-5fd0-4d94-fc8e-7f68d1c0cb15",
    "scrolled": false
   },
   "outputs": [
    {
     "data": {
      "text/plain": [
       "0.00000    385675\n",
       "1.00000    385675\n",
       "Name: is_applied, dtype: int64"
      ]
     },
     "execution_count": 153,
     "metadata": {},
     "output_type": "execute_result"
    }
   ],
   "source": [
    "train_38_2['is_applied'].value_counts()"
   ]
  },
  {
   "cell_type": "code",
   "execution_count": 154,
   "id": "9pAR_VYSVFbG",
   "metadata": {
    "colab": {
     "base_uri": "https://localhost:8080/"
    },
    "id": "9pAR_VYSVFbG",
    "outputId": "5cca21e2-41d4-4cc2-97d1-17b8f29afa7f"
   },
   "outputs": [
    {
     "data": {
      "text/plain": [
       "0.00000    6745316\n",
       "1.00000     385675\n",
       "Name: is_applied, dtype: int64"
      ]
     },
     "execution_count": 154,
     "metadata": {},
     "output_type": "execute_result"
    }
   ],
   "source": [
    "y_train.value_counts()"
   ]
  },
  {
   "cell_type": "code",
   "execution_count": 155,
   "id": "A82NFj2OkXaL",
   "metadata": {
    "id": "A82NFj2OkXaL"
   },
   "outputs": [],
   "source": [
    "real_train_x1 = train_38_1.drop('is_applied',axis = 1)\n",
    "real_train_y1 = train_38_1['is_applied']\n",
    "\n",
    "real_train_x2 = train_38_2.drop('is_applied',axis = 1)\n",
    "real_train_y2 = train_38_2['is_applied']\n",
    "\n",
    "real_train_x3 = train_38_3.drop('is_applied',axis = 1)\n",
    "real_train_y3 = train_38_3['is_applied']\n",
    "\n",
    "real_train_x4 = train_38_4.drop('is_applied',axis = 1)\n",
    "real_train_y4 = train_38_4['is_applied']\n",
    "\n",
    "real_train_x5 = train_38_5.drop('is_applied',axis = 1)\n",
    "real_train_y5 = train_38_5['is_applied']"
   ]
  },
  {
   "cell_type": "code",
   "execution_count": null,
   "id": "3jL3bQLPkXm_",
   "metadata": {
    "id": "3jL3bQLPkXm_"
   },
   "outputs": [],
   "source": [
    "'''\n",
    "여기까지 정리\n",
    "real_train_x1~ 5, real_train_y1~5 : train\n",
    "X_test, y_test : test\n",
    "'''"
   ]
  },
  {
   "cell_type": "code",
   "execution_count": 156,
   "id": "i-xQvnQjXMrO",
   "metadata": {
    "id": "i-xQvnQjXMrO"
   },
   "outputs": [],
   "source": [
    "del train_38_1\n",
    "del train_38_2\n",
    "del train_38_3\n",
    "del train_38_4\n",
    "del train_38_5\n",
    "del train_all_0_192\n",
    "del train_all_0_192_1\n",
    "del train_all_0_192_2\n",
    "del train_all_0_192_3\n",
    "del train_all_0_192_4\n",
    "del train_all_0_192_5"
   ]
  },
  {
   "cell_type": "markdown",
   "id": "e381bab6",
   "metadata": {},
   "source": [
    "### test(6월 데이터) 처리"
   ]
  },
  {
   "cell_type": "code",
   "execution_count": 157,
   "id": "7ac265f5",
   "metadata": {
    "scrolled": false
   },
   "outputs": [
    {
     "data": {
      "text/html": [
       "<div>\n",
       "<style scoped>\n",
       "    .dataframe tbody tr th:only-of-type {\n",
       "        vertical-align: middle;\n",
       "    }\n",
       "\n",
       "    .dataframe tbody tr th {\n",
       "        vertical-align: top;\n",
       "    }\n",
       "\n",
       "    .dataframe thead th {\n",
       "        text-align: right;\n",
       "    }\n",
       "</style>\n",
       "<table border=\"1\" class=\"dataframe\">\n",
       "  <thead>\n",
       "    <tr style=\"text-align: right;\">\n",
       "      <th></th>\n",
       "      <th>콜금리(%)</th>\n",
       "      <th>loanapply_day</th>\n",
       "      <th>application_id</th>\n",
       "      <th>bank_id</th>\n",
       "      <th>product_id</th>\n",
       "      <th>loan_limit</th>\n",
       "      <th>loan_rate</th>\n",
       "      <th>is_applied</th>\n",
       "      <th>user_id</th>\n",
       "      <th>birth_year</th>\n",
       "      <th>...</th>\n",
       "      <th>purpose_전월세보증금</th>\n",
       "      <th>purpose_주택구입</th>\n",
       "      <th>purpose_투자</th>\n",
       "      <th>loanapply_week_Friday</th>\n",
       "      <th>loanapply_week_Monday</th>\n",
       "      <th>loanapply_week_Saturday</th>\n",
       "      <th>loanapply_week_Sunday</th>\n",
       "      <th>loanapply_week_Thursday</th>\n",
       "      <th>loanapply_week_Tuesday</th>\n",
       "      <th>loanapply_week_Wednesday</th>\n",
       "    </tr>\n",
       "  </thead>\n",
       "  <tbody>\n",
       "    <tr>\n",
       "      <th>10187132</th>\n",
       "      <td>1.86000</td>\n",
       "      <td>1</td>\n",
       "      <td>938648</td>\n",
       "      <td>49</td>\n",
       "      <td>84</td>\n",
       "      <td>3.00411</td>\n",
       "      <td>18.10000</td>\n",
       "      <td>NaN</td>\n",
       "      <td>261503</td>\n",
       "      <td>1997.00000</td>\n",
       "      <td>...</td>\n",
       "      <td>0</td>\n",
       "      <td>1</td>\n",
       "      <td>0</td>\n",
       "      <td>0</td>\n",
       "      <td>0</td>\n",
       "      <td>0</td>\n",
       "      <td>0</td>\n",
       "      <td>0</td>\n",
       "      <td>0</td>\n",
       "      <td>1</td>\n",
       "    </tr>\n",
       "    <tr>\n",
       "      <th>10187133</th>\n",
       "      <td>1.86000</td>\n",
       "      <td>1</td>\n",
       "      <td>938648</td>\n",
       "      <td>36</td>\n",
       "      <td>125</td>\n",
       "      <td>2.73842</td>\n",
       "      <td>19.90000</td>\n",
       "      <td>NaN</td>\n",
       "      <td>261503</td>\n",
       "      <td>1997.00000</td>\n",
       "      <td>...</td>\n",
       "      <td>0</td>\n",
       "      <td>1</td>\n",
       "      <td>0</td>\n",
       "      <td>0</td>\n",
       "      <td>0</td>\n",
       "      <td>0</td>\n",
       "      <td>0</td>\n",
       "      <td>0</td>\n",
       "      <td>0</td>\n",
       "      <td>1</td>\n",
       "    </tr>\n",
       "    <tr>\n",
       "      <th>10187134</th>\n",
       "      <td>1.86000</td>\n",
       "      <td>1</td>\n",
       "      <td>938648</td>\n",
       "      <td>32</td>\n",
       "      <td>63</td>\n",
       "      <td>2.84089</td>\n",
       "      <td>13.50000</td>\n",
       "      <td>NaN</td>\n",
       "      <td>261503</td>\n",
       "      <td>1997.00000</td>\n",
       "      <td>...</td>\n",
       "      <td>0</td>\n",
       "      <td>1</td>\n",
       "      <td>0</td>\n",
       "      <td>0</td>\n",
       "      <td>0</td>\n",
       "      <td>0</td>\n",
       "      <td>0</td>\n",
       "      <td>0</td>\n",
       "      <td>0</td>\n",
       "      <td>1</td>\n",
       "    </tr>\n",
       "    <tr>\n",
       "      <th>10187135</th>\n",
       "      <td>1.86000</td>\n",
       "      <td>1</td>\n",
       "      <td>938648</td>\n",
       "      <td>45</td>\n",
       "      <td>26</td>\n",
       "      <td>2.92043</td>\n",
       "      <td>13.50000</td>\n",
       "      <td>NaN</td>\n",
       "      <td>261503</td>\n",
       "      <td>1997.00000</td>\n",
       "      <td>...</td>\n",
       "      <td>0</td>\n",
       "      <td>1</td>\n",
       "      <td>0</td>\n",
       "      <td>0</td>\n",
       "      <td>0</td>\n",
       "      <td>0</td>\n",
       "      <td>0</td>\n",
       "      <td>0</td>\n",
       "      <td>0</td>\n",
       "      <td>1</td>\n",
       "    </tr>\n",
       "    <tr>\n",
       "      <th>10187136</th>\n",
       "      <td>1.86000</td>\n",
       "      <td>1</td>\n",
       "      <td>938648</td>\n",
       "      <td>23</td>\n",
       "      <td>138</td>\n",
       "      <td>2.80870</td>\n",
       "      <td>9.50000</td>\n",
       "      <td>NaN</td>\n",
       "      <td>261503</td>\n",
       "      <td>1997.00000</td>\n",
       "      <td>...</td>\n",
       "      <td>0</td>\n",
       "      <td>1</td>\n",
       "      <td>0</td>\n",
       "      <td>0</td>\n",
       "      <td>0</td>\n",
       "      <td>0</td>\n",
       "      <td>0</td>\n",
       "      <td>0</td>\n",
       "      <td>0</td>\n",
       "      <td>1</td>\n",
       "    </tr>\n",
       "  </tbody>\n",
       "</table>\n",
       "<p>5 rows × 51 columns</p>\n",
       "</div>"
      ],
      "text/plain": [
       "          콜금리(%)  loanapply_day  application_id  bank_id  product_id  \\\n",
       "10187132 1.86000              1          938648       49          84   \n",
       "10187133 1.86000              1          938648       36         125   \n",
       "10187134 1.86000              1          938648       32          63   \n",
       "10187135 1.86000              1          938648       45          26   \n",
       "10187136 1.86000              1          938648       23         138   \n",
       "\n",
       "          loan_limit  loan_rate  is_applied  user_id  birth_year  ...  \\\n",
       "10187132     3.00411   18.10000         NaN   261503  1997.00000  ...   \n",
       "10187133     2.73842   19.90000         NaN   261503  1997.00000  ...   \n",
       "10187134     2.84089   13.50000         NaN   261503  1997.00000  ...   \n",
       "10187135     2.92043   13.50000         NaN   261503  1997.00000  ...   \n",
       "10187136     2.80870    9.50000         NaN   261503  1997.00000  ...   \n",
       "\n",
       "          purpose_전월세보증금  purpose_주택구입  purpose_투자  loanapply_week_Friday  \\\n",
       "10187132               0             1           0                      0   \n",
       "10187133               0             1           0                      0   \n",
       "10187134               0             1           0                      0   \n",
       "10187135               0             1           0                      0   \n",
       "10187136               0             1           0                      0   \n",
       "\n",
       "          loanapply_week_Monday  loanapply_week_Saturday  \\\n",
       "10187132                      0                        0   \n",
       "10187133                      0                        0   \n",
       "10187134                      0                        0   \n",
       "10187135                      0                        0   \n",
       "10187136                      0                        0   \n",
       "\n",
       "          loanapply_week_Sunday  loanapply_week_Thursday  \\\n",
       "10187132                      0                        0   \n",
       "10187133                      0                        0   \n",
       "10187134                      0                        0   \n",
       "10187135                      0                        0   \n",
       "10187136                      0                        0   \n",
       "\n",
       "          loanapply_week_Tuesday  loanapply_week_Wednesday  \n",
       "10187132                       0                         1  \n",
       "10187133                       0                         1  \n",
       "10187134                       0                         1  \n",
       "10187135                       0                         1  \n",
       "10187136                       0                         1  \n",
       "\n",
       "[5 rows x 51 columns]"
      ]
     },
     "execution_count": 157,
     "metadata": {},
     "output_type": "execute_result"
    }
   ],
   "source": [
    "test.head()"
   ]
  },
  {
   "cell_type": "code",
   "execution_count": 158,
   "id": "40a416b8",
   "metadata": {
    "scrolled": true
   },
   "outputs": [
    {
     "data": {
      "text/plain": [
       "(3255482, 51)"
      ]
     },
     "execution_count": 158,
     "metadata": {},
     "output_type": "execute_result"
    }
   ],
   "source": [
    "test.shape"
   ]
  },
  {
   "cell_type": "code",
   "execution_count": 159,
   "id": "70a9f313",
   "metadata": {},
   "outputs": [],
   "source": [
    "# 예측에 사용될 6월 데이터(라벨 인코딩 후)\n",
    "test_f = test.drop('is_applied',axis = 1)"
   ]
  },
  {
   "cell_type": "markdown",
   "id": "f5RgecRACRAN",
   "metadata": {
    "id": "f5RgecRACRAN"
   },
   "source": [
    "### 스케일링\n",
    "345월 중에 0.3 비율로 뽑은 X_test 테스트 셋과 6월 데이터인 test_f 모두 StandardScaler을 활용하여 정규화"
   ]
  },
  {
   "cell_type": "code",
   "execution_count": 160,
   "id": "1420e156",
   "metadata": {
    "id": "1420e156"
   },
   "outputs": [],
   "source": [
    "# 데이터 정규화하기\n",
    "from sklearn.preprocessing import StandardScaler\n",
    "sd=StandardScaler()\n",
    "\n",
    "sd.fit(real_train_x1)\n",
    "real_train_x1_scaled=sd.transform(real_train_x1)\n",
    "X_test_1_scaled=sd.transform(X_test)\n",
    "test_f_scaled_1=sd.transform(test_f)\n",
    "\n",
    "sd.fit(real_train_x2)\n",
    "real_train_x2_scaled=sd.transform(real_train_x2)\n",
    "X_test_2_scaled=sd.transform(X_test)\n",
    "test_f_scaled_2 =sd.transform(test_f)\n",
    "\n",
    "\n",
    "sd.fit(real_train_x3)\n",
    "real_train_x3_scaled=sd.transform(real_train_x3)\n",
    "X_test_3_scaled=sd.transform(X_test)\n",
    "test_f_scaled_3 =sd.transform(test_f)\n",
    "\n",
    "\n",
    "sd.fit(real_train_x4)\n",
    "real_train_x4_scaled=sd.transform(real_train_x4)\n",
    "X_test_4_scaled=sd.transform(X_test)\n",
    "test_f_scaled_4 =sd.transform(test_f)\n",
    "\n",
    "\n",
    "sd.fit(real_train_x5)\n",
    "real_train_x5_scaled=sd.transform(real_train_x5)\n",
    "X_test_5_scaled=sd.transform(X_test)\n",
    "test_f_scaled_5 =sd.transform(test_f)"
   ]
  },
  {
   "cell_type": "code",
   "execution_count": 161,
   "id": "mE423wJhskwf",
   "metadata": {
    "id": "mE423wJhskwf"
   },
   "outputs": [],
   "source": [
    "del real_train_x1\n",
    "del real_train_x2\n",
    "del real_train_x3\n",
    "del real_train_x4\n",
    "del real_train_x5"
   ]
  },
  {
   "cell_type": "code",
   "execution_count": 26,
   "id": "NxY63gn4sraQ",
   "metadata": {
    "id": "NxY63gn4sraQ"
   },
   "outputs": [],
   "source": [
    "del X_test"
   ]
  },
  {
   "cell_type": "code",
   "execution_count": null,
   "id": "UbxmFppInPYm",
   "metadata": {
    "id": "UbxmFppInPYm"
   },
   "outputs": [],
   "source": [
    "'''\n",
    "여기부터 모델 5개\n",
    "'''"
   ]
  },
  {
   "cell_type": "code",
   "execution_count": 77,
   "id": "970d8319",
   "metadata": {},
   "outputs": [
    {
     "data": {
      "text/plain": [
       "(3056141,)"
      ]
     },
     "execution_count": 77,
     "metadata": {},
     "output_type": "execute_result"
    }
   ],
   "source": [
    "y_test.shape"
   ]
  },
  {
   "cell_type": "code",
   "execution_count": 55,
   "id": "Kh8u0afQozsv",
   "metadata": {
    "id": "Kh8u0afQozsv",
    "scrolled": true
   },
   "outputs": [
    {
     "data": {
      "text/plain": [
       "3981732   1.00000\n",
       "4289014   1.00000\n",
       "4370456   1.00000\n",
       "1334121   1.00000\n",
       "7603089   1.00000\n",
       "Name: is_applied, dtype: float64"
      ]
     },
     "execution_count": 55,
     "metadata": {},
     "output_type": "execute_result"
    }
   ],
   "source": [
    "y_test.head()"
   ]
  },
  {
   "cell_type": "code",
   "execution_count": 58,
   "id": "ba37c3e8",
   "metadata": {},
   "outputs": [
    {
     "data": {
      "text/plain": [
       "3981732   1.00000\n",
       "4289014   1.00000\n",
       "4370456   1.00000\n",
       "1334121   1.00000\n",
       "7603089   1.00000\n",
       "            ...  \n",
       "580560    0.00000\n",
       "2807703   0.00000\n",
       "9373655   0.00000\n",
       "9704783   0.00000\n",
       "7697471   0.00000\n",
       "Name: y_test, Length: 3056141, dtype: float64"
      ]
     },
     "execution_count": 58,
     "metadata": {},
     "output_type": "execute_result"
    }
   ],
   "source": [
    "y_test_df = pd.Series(y_test, name='y_test')\n",
    "y_test_df"
   ]
  },
  {
   "cell_type": "code",
   "execution_count": 89,
   "id": "3d3dd2ed",
   "metadata": {
    "scrolled": true
   },
   "outputs": [],
   "source": [
    "# y_test_df.csv에 345월 중 30%에 해당하는 테스트용 y값 저장\n",
    "y_test_df.to_csv('custom_pred/y_test_df.csv', index=False)"
   ]
  },
  {
   "cell_type": "markdown",
   "id": "4af836de",
   "metadata": {},
   "source": [
    "## LogisticRegression\n",
    "5개의 데이터셋에 대하여 각각 훈련"
   ]
  },
  {
   "cell_type": "markdown",
   "id": "A0PSpl58paL2",
   "metadata": {
    "id": "A0PSpl58paL2"
   },
   "source": [
    "#### 모델 1(real_train_x1_scaled 사용)"
   ]
  },
  {
   "cell_type": "code",
   "execution_count": 166,
   "id": "hU3fN6qyUlxu",
   "metadata": {
    "colab": {
     "base_uri": "https://localhost:8080/"
    },
    "id": "hU3fN6qyUlxu",
    "outputId": "d2b40eac-84b3-4e73-af71-244525eff0e5",
    "scrolled": true
   },
   "outputs": [
    {
     "name": "stdout",
     "output_type": "stream",
     "text": [
      "[[2089541  801310]\n",
      " [  41845  123445]]\n",
      "**************************************************\n",
      "\n",
      "정확도 : 0.72, 정밀도 : 0.13, 재현율 : 0.75\n",
      "f1-score : 0.23, auc : 0.73\n"
     ]
    }
   ],
   "source": [
    "# 로지스틱\n",
    "from sklearn.linear_model import LogisticRegression\n",
    "\n",
    "lr_clf_1 = LogisticRegression(random_state=42)\n",
    "lr_clf_1.fit(real_train_x1_scaled, real_train_y1)\n",
    "lr_preds_1 = lr_clf_1.predict(X_test_1_scaled)\n",
    "lr_preds_final_1 = lr_clf_1.predict(test_f_scaled_1)\n",
    "\n",
    "display_eval(y_test, lr_preds_1)"
   ]
  },
  {
   "cell_type": "code",
   "execution_count": 167,
   "id": "BJdkWM74nXiu",
   "metadata": {
    "colab": {
     "base_uri": "https://localhost:8080/",
     "height": 279
    },
    "id": "BJdkWM74nXiu",
    "outputId": "63a41efc-47d9-42ad-f63e-004d6920060d",
    "scrolled": false
   },
   "outputs": [
    {
     "data": {
      "image/png": "[encoded data removed]",
      "text/plain": [
       "<Figure size 432x288 with 1 Axes>"
      ]
     },
     "metadata": {
      "needs_background": "light"
     },
     "output_type": "display_data"
    }
   ],
   "source": [
    "# 예측 확률\n",
    "proba_lr_1 = lr_clf_1.predict_proba(X_test_1_scaled)\n",
    "proba_lr_6월_1 = lr_clf_1.predict_proba(test_f_scaled_1)\n",
    "\n",
    "# precision,recall은 trade off관계, precision_recall_curve( )\n",
    "precision,recall,th = precision_recall_curve(y_test,proba_lr_1[:,1])\n",
    "\n",
    "plt.xlabel('threadhold') #임계값\n",
    "plt.ylabel('score')\n",
    "plt.plot(th,precision[:len(th)],'red',linestyle = '--',label = 'precision')\n",
    "plt.plot(th,recall[:len(th)],'blue',label = 'recall')\n",
    "plt.legend()\n",
    "plt.show()"
   ]
  },
  {
   "cell_type": "code",
   "execution_count": 43,
   "id": "24b154fb",
   "metadata": {},
   "outputs": [
    {
     "name": "stdout",
     "output_type": "stream",
     "text": [
      "임계값 0.0, 정확도:0.0541, 재현율:1.0, 정밀도: 0.054084546491801264, f1:0.1026189913737094\n",
      "임계값 0.05, 정확도:0.1144, 재현율:0.9990804041381813, 정밀도: 0.05751043725735205, f1:0.1087602667866201\n",
      "임계값 0.1, 정확도:0.1979, 재현율:0.9947062738217678, 정밀도: 0.06287693078432198, f1:0.11827736533149172\n",
      "임계값 0.15000000000000002, 정확도:0.2799, 재현율:0.9859459132433904, 정밀도: 0.0690158840671038, f1:0.1290016927974378\n",
      "임계값 0.2, 정확도:0.3569, 재현율:0.971062980216589, 정밀도: 0.0756680894475669, f1:0.14039610091983862\n",
      "임계값 0.25, 정확도:0.4296, 재현율:0.9501603242785407, 정밀도: 0.08300525402561107, f1:0.15267310630161035\n",
      "임계값 0.30000000000000004, 정확도:0.4982, 재현율:0.9230685461915421, 정밀도: 0.09117452319430534, f1:0.16595693303703993\n",
      "임계값 0.35000000000000003, 정확도:0.5623, 재현율:0.8898420957105693, 정밀도: 0.10028144968405091, f1:0.18024953706597252\n",
      "임계값 0.4, 정확도:0.6215, 재현율:0.8492286284711719, 정밀도: 0.11032349843595265, f1:0.19527834004576977\n",
      "임계값 0.45, 정확도:0.6754, 재현율:0.8010708451811966, 정밀도: 0.12131432016374488, f1:0.21071753674574933\n",
      "임계값 0.5, 정확도:0.7241, 재현율:0.7468388892249985, 정밀도: 0.1334894107087823, f1:0.22649523643519304\n",
      "임계값 0.55, 정확도:0.7678, 재현율:0.6843789702946337, 정밀도: 0.14678076503866716, f1:0.24171928587454727\n",
      "임계값 0.6000000000000001, 정확도:0.8059, 재현율:0.6137636880634038, 정밀도: 0.16080069868552652, f1:0.2548364772685882\n",
      "임계값 0.65, 정확도:0.8386, 재현율:0.5346542440559018, 정밀도: 0.17512157229538797, f1:0.26382835170346663\n",
      "임계값 0.7000000000000001, 정확도:0.8665, 재현율:0.45152761812571846, 정밀도: 0.19044909270463586, f1:0.26790076260524187\n",
      "임계값 0.75, 정확도:0.8904, 재현율:0.3643596103817533, 정밀도: 0.20751927887696664, f1:0.26443236502862766\n",
      "임계값 0.8, 정확도:0.9099, 재현율:0.2730715711779297, 정밀도: 0.2252362845194966, f1:0.24685794292339833\n",
      "임계값 0.8500000000000001, 정확도:0.9256, 재현율:0.18131768407042168, 정밀도: 0.24588549956516745, f1:0.20872217734072485\n",
      "임계값 0.9, 정확도:0.9373, 재현율:0.09143323855042652, 정밀도: 0.26691510217057274, f1:0.1362077589664325\n",
      "임계값 0.9500000000000001, 정확도:0.9444, 재현율:0.020896605965273155, 정밀도: 0.2962264150943396, f1:0.039039276631816895\n"
     ]
    }
   ],
   "source": [
    "# 임계값의 변화에 따른 수치 변화\n",
    "from sklearn.preprocessing import Binarizer\n",
    "\n",
    "for i in np.arange(0,1,0.05):\n",
    "    custom_threshold = i\n",
    "\n",
    "    proba_lr_1_final = proba_lr_1[:,1].reshape(-1,1)\n",
    "\n",
    "    binarizer = Binarizer(threshold=custom_threshold).fit(proba_lr_1_final)\n",
    "    custom_pred = binarizer.transform(proba_lr_1_final)\n",
    "\n",
    "    recall = recall_score(y_test, custom_pred)\n",
    "    acc = accuracy_score(y_test, custom_pred)\n",
    "    f1 = f1_score(y_test, custom_pred)\n",
    "    precision = precision_score(y_test, custom_pred)\n",
    "    print(f\"임계값 {i}, 정확도:{acc:.4f}, 재현율:{recall}, 정밀도: {precision}, f1:{f1}\")"
   ]
  },
  {
   "cell_type": "code",
   "execution_count": 168,
   "id": "db8e2a9c",
   "metadata": {
    "scrolled": false
   },
   "outputs": [
    {
     "name": "stdout",
     "output_type": "stream",
     "text": [
      "[[2573605  317246]\n",
      " [  90657   74633]]\n",
      "**************************************************\n",
      "\n",
      "정확도 : 0.87, 정밀도 : 0.19, 재현율 : 0.45\n",
      "f1-score : 0.27, auc : 0.67\n"
     ]
    }
   ],
   "source": [
    "from sklearn.preprocessing import Binarizer\n",
    "\n",
    "# Binarizer의 threshold 값을 0.7로 설정\n",
    "custom_threshold = 0.7\n",
    "\n",
    "#즉 Positive 클래스의 컬럼 하나만 추출하여 Binarizer를 적용\n",
    "proba_lr_1_final = proba_lr_1[:,1].reshape(-1,1)\n",
    "proba_lr_6월_1_final = proba_lr_6월_1[:,1].reshape(-1,1)\n",
    "\n",
    "binarizer=Binarizer(threshold=custom_threshold).fit(proba_lr_1_final)\n",
    "lr_custom_pred_1 = binarizer.transform(proba_lr_1_final)\n",
    "\n",
    "proba_lr_6월_custom_1 = binarizer.transform(proba_lr_6월_1_final)\n",
    "\n",
    "display_eval(y_test, lr_custom_pred_1)"
   ]
  },
  {
   "cell_type": "code",
   "execution_count": 94,
   "id": "158c799e",
   "metadata": {},
   "outputs": [],
   "source": [
    "lr_custom_pred_1_list = pd.DataFrame(lr_custom_pred_1).T.values.tolist()\n",
    "lr_custom_pred_1_df = pd.DataFrame(lr_custom_pred_1_list)\n",
    "lr_custom_pred_1_df = lr_custom_pred_1_df.transpose()\n",
    "lr_custom_pred_1_df.columns = ['lr_custom_1']"
   ]
  },
  {
   "cell_type": "code",
   "execution_count": 95,
   "id": "35a750a3",
   "metadata": {},
   "outputs": [],
   "source": [
    "# test data에 대한 예측값을 담은 csv 파일 저장\n",
    "lr_custom_pred_1_df.to_csv('custom_pred/lr_custom_pred_1_df.csv', index=False)"
   ]
  },
  {
   "cell_type": "code",
   "execution_count": 171,
   "id": "e18e7872",
   "metadata": {},
   "outputs": [],
   "source": [
    "proba_lr_6월_custom_1_list = pd.DataFrame(proba_lr_6월_custom_1).T.values.tolist()\n",
    "proba_lr_6월_custom_1_df = pd.DataFrame(proba_lr_6월_custom_1_list)\n",
    "proba_lr_6월_custom_1_df = proba_lr_6월_custom_1_df.transpose()\n",
    "proba_lr_6월_custom_1_df.columns = ['june_lr_1']"
   ]
  },
  {
   "cell_type": "code",
   "execution_count": 172,
   "id": "14305853",
   "metadata": {},
   "outputs": [],
   "source": [
    "# 실제 6월 data에 대한 예측값을 담은 csv 파일 저장\n",
    "proba_lr_6월_custom_1_df.to_csv('custom_pred/lr_6월_custom_1_df.csv', index=False)"
   ]
  },
  {
   "cell_type": "markdown",
   "id": "TJQTWwkXpdbc",
   "metadata": {
    "id": "TJQTWwkXpdbc"
   },
   "source": [
    "#### 모델 2(real_train_x2_scaled 사용)"
   ]
  },
  {
   "cell_type": "code",
   "execution_count": 174,
   "id": "UgDgkoeAol7m",
   "metadata": {
    "colab": {
     "base_uri": "https://localhost:8080/"
    },
    "id": "UgDgkoeAol7m",
    "outputId": "092c12aa-8ff4-4313-b1a2-0dde1a6dfe0b"
   },
   "outputs": [
    {
     "name": "stdout",
     "output_type": "stream",
     "text": [
      "[[2088294  802557]\n",
      " [  41777  123513]]\n",
      "**************************************************\n",
      "\n",
      "정확도 : 0.72, 정밀도 : 0.13, 재현율 : 0.75\n",
      "f1-score : 0.23, auc : 0.73\n"
     ]
    }
   ],
   "source": [
    "# 로지스틱\n",
    "from sklearn.linear_model import LogisticRegression\n",
    "\n",
    "lr_clf_2 = LogisticRegression(random_state=42)\n",
    "lr_clf_2.fit(real_train_x2_scaled, real_train_y2)\n",
    "lr_preds_2 = lr_clf_2.predict(X_test_2_scaled)\n",
    "lr_preds_final_2 = lr_clf_2.predict(test_f_scaled_2)\n",
    "\n",
    "display_eval(y_test, lr_preds_2)"
   ]
  },
  {
   "cell_type": "code",
   "execution_count": 175,
   "id": "45bQwJycpoZo",
   "metadata": {
    "colab": {
     "base_uri": "https://localhost:8080/",
     "height": 279
    },
    "id": "45bQwJycpoZo",
    "outputId": "a18ba6ca-dcd3-4d7b-f997-56b312f32690",
    "scrolled": true
   },
   "outputs": [
    {
     "data": {
      "image/png": "[encoded data removed]",
      "text/plain": [
       "<Figure size 432x288 with 1 Axes>"
      ]
     },
     "metadata": {
      "needs_background": "light"
     },
     "output_type": "display_data"
    }
   ],
   "source": [
    "# 예측 확률\n",
    "proba_lr_2 = lr_clf_2.predict_proba(X_test_2_scaled)\n",
    "proba_lr_6월_2 = lr_clf_2.predict_proba(test_f_scaled_2)\n",
    "\n",
    "# precision,recall은 trade off관계, precision_recall_curve( )\n",
    "precision,recall,th = precision_recall_curve(y_test,proba_lr_2[:,1])\n",
    "\n",
    "plt.xlabel('threadhold') #임계값\n",
    "plt.ylabel('score')\n",
    "plt.plot(th,precision[:len(th)],'red',linestyle = '--',label = 'precision')\n",
    "plt.plot(th,recall[:len(th)],'blue',label = 'recall')\n",
    "plt.legend()\n",
    "plt.show()"
   ]
  },
  {
   "cell_type": "code",
   "execution_count": 47,
   "id": "f6af9393",
   "metadata": {},
   "outputs": [
    {
     "name": "stdout",
     "output_type": "stream",
     "text": [
      "임계값 0.0, 정확도:0.0541, 재현율:1.0, 정밀도: 0.054084546491801264, f1:0.1026189913737094\n",
      "임계값 0.05, 정확도:0.1147, 재현율:0.9990562042470809, 정밀도: 0.0575247704446958, f1:0.1087857536473768\n",
      "임계값 0.1, 정확도:0.1982, 재현율:0.9947062738217678, 정밀도: 0.0628994939424591, f1:0.11831728447745447\n",
      "임계값 0.15000000000000002, 정확도:0.2802, 재현율:0.9859640631617158, 정밀도: 0.06904481579222752, f1:0.12905238709697853\n",
      "임계값 0.2, 정확도:0.3572, 재현율:0.9710690301893642, 정밀도: 0.07570574995424866, f1:0.14046098660830314\n",
      "임계값 0.25, 정확도:0.4299, 재현율:0.9500937745780144, 정밀도: 0.08303744645615208, f1:0.152726699820131\n",
      "임계값 0.30000000000000004, 정확도:0.4983, 재현율:0.9232137455381451, 정밀도: 0.09120532464381045, f1:0.16601030452302418\n",
      "임계값 0.35000000000000003, 정확도:0.5623, 재현율:0.8897029463367415, 정밀도: 0.10027308338759772, f1:0.18023316736882422\n",
      "임계값 0.4, 정확도:0.6213, 재현율:0.8492649283078226, 정밀도: 0.11029613973332496, f1:0.19523643949930458\n",
      "임계값 0.45, 정확도:0.6752, 재현율:0.8011192449633977, 정밀도: 0.12122934948296461, f1:0.21059101842832437\n",
      "임계값 0.5, 정확도:0.7237, 재현율:0.7472502873737068, 정밀도: 0.13337328711652466, f1:0.22634694326345112\n",
      "임계값 0.55, 정확도:0.7673, 재현율:0.6849718676265957, 정밀도: 0.14661172671084136, f1:0.24152691069163876\n",
      "임계값 0.6000000000000001, 정확도:0.8053, 재현율:0.6148829330268014, 정밀도: 0.1605929839918972, f1:0.25467169992871075\n",
      "임계값 0.65, 정확도:0.8381, 재현율:0.5357674390465242, 정밀도: 0.17476274206821424, f1:0.2635558326649475\n",
      "임계값 0.7000000000000001, 정확도:0.8660, 재현율:0.45300381148284835, 정밀도: 0.19010876850892694, f1:0.26782246035975776\n",
      "임계값 0.75, 정확도:0.8899, 재현율:0.36604150281323733, 정밀도: 0.20709921443119, f1:0.26453157279176276\n",
      "임계값 0.8, 정확도:0.9096, 재현율:0.2752858612136245, 정밀도: 0.22512368889768455, f1:0.24769059089300782\n",
      "임계값 0.8500000000000001, 정확도:0.9254, 재현율:0.18324762538568576, 정밀도: 0.24572063667191277, f1:0.20993498662304716\n",
      "임계값 0.9, 정확도:0.9371, 재현율:0.0930122814447335, 정밀도: 0.26695143338368843, f1:0.1379570263952513\n",
      "임계값 0.9500000000000001, 정확도:0.9443, 재현율:0.021598402807187368, 정밀도: 0.2968074492850017, f1:0.040266639596656856\n"
     ]
    }
   ],
   "source": [
    "from sklearn.preprocessing import Binarizer\n",
    "\n",
    "for i in np.arange(0,1,0.05):\n",
    "    custom_threshold = i\n",
    "\n",
    "    proba_lr_2_final = proba_lr_2[:,1].reshape(-1,1)\n",
    "\n",
    "    binarizer = Binarizer(threshold=custom_threshold).fit(proba_lr_2_final)\n",
    "    custom_pred = binarizer.transform(proba_lr_2_final)\n",
    "\n",
    "    recall = recall_score(y_test, custom_pred)\n",
    "    acc = accuracy_score(y_test, custom_pred)\n",
    "    f1 = f1_score(y_test, custom_pred)\n",
    "    precision = precision_score(y_test, custom_pred)\n",
    "    print(f\"임계값 {i}, 정확도:{acc:.4f}, 재현율:{recall}, 정밀도: {precision}, f1:{f1}\")"
   ]
  },
  {
   "cell_type": "code",
   "execution_count": 176,
   "id": "71940d8d",
   "metadata": {},
   "outputs": [
    {
     "name": "stdout",
     "output_type": "stream",
     "text": [
      "[[2571864  318987]\n",
      " [  90413   74877]]\n",
      "**************************************************\n",
      "\n",
      "정확도 : 0.87, 정밀도 : 0.19, 재현율 : 0.45\n",
      "f1-score : 0.27, auc : 0.67\n"
     ]
    }
   ],
   "source": [
    "from sklearn.preprocessing import Binarizer\n",
    "\n",
    "# Binarizer의 threshold 값을 0.7로 설정\n",
    "custom_threshold = 0.7\n",
    "\n",
    "#즉 Positive 클래스의 컬럼 하나만 추출하여 Binarizer를 적용\n",
    "proba_lr_2_final = proba_lr_2[:,1].reshape(-1,1)\n",
    "proba_lr_6월_2_final = proba_lr_6월_2[:,1].reshape(-1,1)\n",
    "\n",
    "binarizer=Binarizer(threshold=custom_threshold).fit(proba_lr_2_final)\n",
    "lr_custom_pred_2 = binarizer.transform(proba_lr_2_final)\n",
    "\n",
    "proba_lr_6월_custom_2 = binarizer.transform(proba_lr_6월_2_final)\n",
    "\n",
    "display_eval(y_test, lr_custom_pred_2)"
   ]
  },
  {
   "cell_type": "code",
   "execution_count": 96,
   "id": "a8567074",
   "metadata": {},
   "outputs": [],
   "source": [
    "lr_custom_pred_2_list = pd.DataFrame(lr_custom_pred_2).T.values.tolist()\n",
    "lr_custom_pred_2_df = pd.DataFrame(lr_custom_pred_2_list)\n",
    "lr_custom_pred_2_df = lr_custom_pred_2_df.transpose()\n",
    "lr_custom_pred_2_df.columns = ['lr_custom_2']"
   ]
  },
  {
   "cell_type": "code",
   "execution_count": 97,
   "id": "182e23dd",
   "metadata": {},
   "outputs": [],
   "source": [
    "lr_custom_pred_2_df.to_csv('custom_pred/lr_custom_pred_2_df.csv', index=False)"
   ]
  },
  {
   "cell_type": "code",
   "execution_count": 177,
   "id": "004123f1",
   "metadata": {},
   "outputs": [],
   "source": [
    "proba_lr_6월_custom_2_list = pd.DataFrame(proba_lr_6월_custom_2).T.values.tolist()\n",
    "proba_lr_6월_custom_2_df = pd.DataFrame(proba_lr_6월_custom_2_list)\n",
    "proba_lr_6월_custom_2_df = proba_lr_6월_custom_2_df.transpose()\n",
    "proba_lr_6월_custom_2_df.columns = ['june_lr_2']"
   ]
  },
  {
   "cell_type": "code",
   "execution_count": 178,
   "id": "76d7dd66",
   "metadata": {},
   "outputs": [],
   "source": [
    "proba_lr_6월_custom_2_df.to_csv('custom_pred/lr_6월_custom_2_df.csv', index=False)"
   ]
  },
  {
   "cell_type": "markdown",
   "id": "ZKhab0N4pfkM",
   "metadata": {
    "id": "ZKhab0N4pfkM"
   },
   "source": [
    "#### 모델 3(real_train_x3_scaled 사용)"
   ]
  },
  {
   "cell_type": "code",
   "execution_count": 179,
   "id": "Qx74F1d_ol-L",
   "metadata": {
    "colab": {
     "base_uri": "https://localhost:8080/"
    },
    "id": "Qx74F1d_ol-L",
    "outputId": "a830e26d-38d0-4faf-bddd-3ede3b7499a6"
   },
   "outputs": [
    {
     "name": "stdout",
     "output_type": "stream",
     "text": [
      "[[2088665  802186]\n",
      " [  41788  123502]]\n",
      "**************************************************\n",
      "\n",
      "정확도 : 0.72, 정밀도 : 0.13, 재현율 : 0.75\n",
      "f1-score : 0.23, auc : 0.73\n"
     ]
    }
   ],
   "source": [
    "# 로지스틱\n",
    "from sklearn.linear_model import LogisticRegression\n",
    "\n",
    "lr_clf_3 = LogisticRegression(random_state=42)\n",
    "lr_clf_3.fit(real_train_x3_scaled, real_train_y3)\n",
    "lr_preds_3 = lr_clf_3.predict(X_test_3_scaled)\n",
    "lr_preds_final_3 = lr_clf_3.predict(test_f_scaled_3)\n",
    "\n",
    "display_eval(y_test, lr_preds_3)"
   ]
  },
  {
   "cell_type": "code",
   "execution_count": 180,
   "id": "UaL3o8x4po4W",
   "metadata": {
    "colab": {
     "base_uri": "https://localhost:8080/",
     "height": 279
    },
    "id": "UaL3o8x4po4W",
    "outputId": "aff81a1a-2d9e-4434-a636-f31999db3179"
   },
   "outputs": [
    {
     "data": {
      "image/png": "[encoded data removed]",
      "text/plain": [
       "<Figure size 432x288 with 1 Axes>"
      ]
     },
     "metadata": {
      "needs_background": "light"
     },
     "output_type": "display_data"
    }
   ],
   "source": [
    "# 예측 확률\n",
    "proba_lr_3 = lr_clf_3.predict_proba(X_test_3_scaled)\n",
    "proba_lr_6월_3 = lr_clf_3.predict_proba(test_f_scaled_3)\n",
    "\n",
    "# precision,recall은 trade off관계, precision_recall_curve( )\n",
    "precision,recall,th = precision_recall_curve(y_test,proba_lr_3[:,1])\n",
    "\n",
    "plt.xlabel('threadhold') #임계값\n",
    "plt.ylabel('score')\n",
    "plt.plot(th,precision[:len(th)],'red',linestyle = '--',label = 'precision')\n",
    "plt.plot(th,recall[:len(th)],'blue',label = 'recall')\n",
    "plt.legend()\n",
    "plt.show()"
   ]
  },
  {
   "cell_type": "code",
   "execution_count": 51,
   "id": "4doK369Wpo7d",
   "metadata": {
    "colab": {
     "base_uri": "https://localhost:8080/"
    },
    "id": "4doK369Wpo7d",
    "outputId": "28e953a4-4ebd-451c-d4c4-eb638661f249",
    "scrolled": true
   },
   "outputs": [
    {
     "name": "stdout",
     "output_type": "stream",
     "text": [
      "임계값 0.0, 정확도:0.0541, 재현율:1.0, 정밀도: 0.054084546491801264, f1:0.1026189913737094\n",
      "임계값 0.05, 정확도:0.1144, 재현율:0.9990864541109565, 정밀도: 0.05751030483362517, f1:0.10876006583336571\n",
      "임계값 0.1, 정확도:0.1978, 재현율:0.9947304737128683, 정밀도: 0.06287069443823075, f1:0.11826650261842994\n",
      "임계값 0.15000000000000002, 정확도:0.2798, 재현율:0.9859459132433904, 정밀도: 0.06900550970253026, f1:0.12898356986428655\n",
      "임계값 0.2, 정확도:0.3567, 재현율:0.9710569302438139, 정밀도: 0.07565263869367624, f1:0.14036944205888474\n",
      "임계값 0.25, 정확도:0.4295, 재현율:0.9502631738157178, 정밀도: 0.08299660497496665, f1:0.15265980323311942\n",
      "임계값 0.30000000000000004, 정확도:0.4980, 재현율:0.9232379454292455, 정밀도: 0.09115759065163084, f1:0.16593161880156754\n",
      "임계값 0.35000000000000003, 정확도:0.5621, 재현율:0.8898118458466937, 정밀도: 0.10024605360015268, f1:0.18019173634720817\n",
      "임계값 0.4, 정확도:0.6212, 재현율:0.8493859277633251, 정밀도: 0.11028334560056684, f1:0.19521959162333513\n",
      "임계값 0.45, 정확도:0.6752, 재현율:0.8010103454534454, 정밀도: 0.12121719832345461, f1:0.21056892208254874\n",
      "임계값 0.5, 정확도:0.7238, 재현율:0.7471837376731805, 정밀도: 0.1334164426891134, f1:0.2264060320189775\n",
      "임계값 0.55, 정확도:0.7675, 재현율:0.6844031701857342, 정밀도: 0.1466474291166283, f1:0.24153996272010828\n",
      "임계값 0.6000000000000001, 정확도:0.8056, 재현율:0.6143565853953658, 정밀도: 0.1606868199684788, f1:0.2547444577959626\n",
      "임계값 0.65, 정확도:0.8384, 재현율:0.535307641115615, 정밀도: 0.17503798249639957, f1:0.2638129000903418\n",
      "임계값 0.7000000000000001, 정확도:0.8663, 재현율:0.4518119668461492, 정밀도: 0.19022777407013058, f1:0.2677316660452577\n",
      "임계값 0.75, 정확도:0.8902, 재현율:0.3650069574686914, 정밀도: 0.20737420643240884, f1:0.264484692792779\n",
      "임계값 0.8, 정확도:0.9098, 재현율:0.2738459676931454, 정밀도: 0.22536445471202102, f1:0.24725103649443653\n",
      "임계값 0.8500000000000001, 정확도:0.9256, 재현율:0.18207998064008712, 정밀도: 0.24630896651062298, f1:0.2093795003443742\n",
      "임계값 0.9, 정확도:0.9373, 재현율:0.09175388710750802, 정밀도: 0.2671481416240972, f1:0.13659371341078988\n",
      "임계값 0.9500000000000001, 정확도:0.9444, 재현율:0.020993405529675116, 정밀도: 0.2973690976090496, f1:0.039218123972219555\n"
     ]
    }
   ],
   "source": [
    "from sklearn.preprocessing import Binarizer\n",
    "\n",
    "for i in np.arange(0,1,0.05):\n",
    "    custom_threshold = i\n",
    "\n",
    "    proba_lr_3_final = proba_lr_3[:,1].reshape(-1,1)\n",
    "\n",
    "    binarizer = Binarizer(threshold=custom_threshold).fit(proba_lr_3_final)\n",
    "    custom_pred = binarizer.transform(proba_lr_3_final)\n",
    "\n",
    "    recall = recall_score(y_test, custom_pred)\n",
    "    acc = accuracy_score(y_test, custom_pred)\n",
    "    f1 = f1_score(y_test, custom_pred)\n",
    "    precision = precision_score(y_test, custom_pred)\n",
    "    print(f\"임계값 {i}, 정확도:{acc:.4f}, 재현율:{recall}, 정밀도: {precision}, f1:{f1}\")"
   ]
  },
  {
   "cell_type": "code",
   "execution_count": 181,
   "id": "d6ddc23b",
   "metadata": {},
   "outputs": [
    {
     "name": "stdout",
     "output_type": "stream",
     "text": [
      "[[2572949  317902]\n",
      " [  90610   74680]]\n",
      "**************************************************\n",
      "\n",
      "정확도 : 0.87, 정밀도 : 0.19, 재현율 : 0.45\n",
      "f1-score : 0.27, auc : 0.67\n"
     ]
    }
   ],
   "source": [
    "from sklearn.preprocessing import Binarizer\n",
    "\n",
    "# Binarizer의 threshold 값을 0.7로 설정\n",
    "custom_threshold = 0.7\n",
    "\n",
    "#즉 Positive 클래스의 컬럼 하나만 추출하여 Binarizer를 적용\n",
    "proba_lr_3_final = proba_lr_3[:,1].reshape(-1,1)\n",
    "proba_lr_6월_3_final = proba_lr_6월_3[:,1].reshape(-1,1)\n",
    "\n",
    "binarizer=Binarizer(threshold=custom_threshold).fit(proba_lr_3_final)\n",
    "lr_custom_pred_3 = binarizer.transform(proba_lr_3_final)\n",
    "\n",
    "proba_lr_6월_custom_3 = binarizer.transform(proba_lr_6월_3_final)\n",
    "\n",
    "display_eval(y_test, lr_custom_pred_3)"
   ]
  },
  {
   "cell_type": "code",
   "execution_count": 99,
   "id": "3b0a7e2d",
   "metadata": {},
   "outputs": [],
   "source": [
    "lr_custom_pred_3_list = pd.DataFrame(lr_custom_pred_3).T.values.tolist()\n",
    "lr_custom_pred_3_df = pd.DataFrame(lr_custom_pred_3_list)\n",
    "lr_custom_pred_3_df = lr_custom_pred_3_df.transpose()\n",
    "lr_custom_pred_3_df.columns = ['lr_custom_3']"
   ]
  },
  {
   "cell_type": "code",
   "execution_count": 100,
   "id": "ff624e0a",
   "metadata": {},
   "outputs": [],
   "source": [
    "lr_custom_pred_3_df.to_csv('custom_pred/lr_custom_pred_3_df.csv', index=False)"
   ]
  },
  {
   "cell_type": "code",
   "execution_count": 182,
   "id": "5f27a1df",
   "metadata": {},
   "outputs": [],
   "source": [
    "proba_lr_6월_custom_3_list = pd.DataFrame(proba_lr_6월_custom_3).T.values.tolist()\n",
    "proba_lr_6월_custom_3_df = pd.DataFrame(proba_lr_6월_custom_3_list)\n",
    "proba_lr_6월_custom_3_df = proba_lr_6월_custom_3_df.transpose()\n",
    "proba_lr_6월_custom_3_df.columns = ['june_lr_3']"
   ]
  },
  {
   "cell_type": "code",
   "execution_count": 183,
   "id": "5e2c7638",
   "metadata": {},
   "outputs": [],
   "source": [
    "proba_lr_6월_custom_3_df.to_csv('custom_pred/lr_6월_custom_3_df.csv', index=False)"
   ]
  },
  {
   "cell_type": "markdown",
   "id": "XWJ9OCq-pg2o",
   "metadata": {
    "id": "XWJ9OCq-pg2o"
   },
   "source": [
    "#### 모델 4(real_train_x4_scaled 사용)"
   ]
  },
  {
   "cell_type": "code",
   "execution_count": 184,
   "id": "X64cZ9PWomAk",
   "metadata": {
    "id": "X64cZ9PWomAk"
   },
   "outputs": [
    {
     "name": "stdout",
     "output_type": "stream",
     "text": [
      "[[2089612  801239]\n",
      " [  41815  123475]]\n",
      "**************************************************\n",
      "\n",
      "정확도 : 0.72, 정밀도 : 0.13, 재현율 : 0.75\n",
      "f1-score : 0.23, auc : 0.73\n"
     ]
    }
   ],
   "source": [
    "# 로지스틱\n",
    "from sklearn.linear_model import LogisticRegression\n",
    "\n",
    "lr_clf_4 = LogisticRegression(random_state=42)\n",
    "lr_clf_4.fit(real_train_x4_scaled, real_train_y4)\n",
    "lr_preds_4 = lr_clf_4.predict(X_test_4_scaled)\n",
    "lr_preds_final_4 = lr_clf_4.predict(test_f_scaled_4)\n",
    "\n",
    "display_eval(y_test, lr_preds_4)"
   ]
  },
  {
   "cell_type": "code",
   "execution_count": 185,
   "id": "zPdAlSkZpp-7",
   "metadata": {
    "id": "zPdAlSkZpp-7"
   },
   "outputs": [
    {
     "data": {
      "image/png": "[encoded data removed]",
      "text/plain": [
       "<Figure size 432x288 with 1 Axes>"
      ]
     },
     "metadata": {
      "needs_background": "light"
     },
     "output_type": "display_data"
    }
   ],
   "source": [
    "# 예측 확률\n",
    "proba_lr_4 = lr_clf_4.predict_proba(X_test_4_scaled)\n",
    "proba_lr_6월_4 = lr_clf_4.predict_proba(test_f_scaled_4)\n",
    "\n",
    "# precision,recall은 trade off관계, precision_recall_curve( )\n",
    "precision,recall,th = precision_recall_curve(y_test,proba_lr_4[:,1])\n",
    "\n",
    "plt.xlabel('threadhold') #임계값\n",
    "plt.ylabel('score')\n",
    "plt.plot(th,precision[:len(th)],'red',linestyle = '--',label = 'precision')\n",
    "plt.plot(th,recall[:len(th)],'blue',label = 'recall')\n",
    "plt.legend()\n",
    "plt.show()"
   ]
  },
  {
   "cell_type": "code",
   "execution_count": 103,
   "id": "u15gKRcppqA_",
   "metadata": {
    "id": "u15gKRcppqA_"
   },
   "outputs": [
    {
     "name": "stdout",
     "output_type": "stream",
     "text": [
      "임계값 0.0, 정확도:0.0541, 재현율:1.0, 정밀도: 0.054084546491801264, f1:0.1026189913737094\n",
      "임계값 0.05, 정확도:0.1146, 재현율:0.9990622542198561, 정밀도: 0.05751880720619553, f1:0.10877512627360468\n",
      "임계값 0.1, 정확도:0.1982, 재현율:0.9946881239034424, 정밀도: 0.0629014264267711, f1:0.11832057497875206\n",
      "임계값 0.15000000000000002, 정확도:0.2803, 재현율:0.9858672635973138, 정밀도: 0.0690470470241432, f1:0.12905545526075177\n",
      "임계값 0.2, 정확도:0.3573, 재현율:0.9708935809788856, 정밀도: 0.07570835495588998, f1:0.140463634414155\n",
      "임계값 0.25, 정확도:0.4301, 재현율:0.9499122753947608, 정밀도: 0.08305122579252824, f1:0.15274766006006357\n",
      "임계값 0.30000000000000004, 정확도:0.4986, 재현율:0.922862847117188, 정밀도: 0.09122681951275524, f1:0.16604023324440265\n",
      "임계값 0.35000000000000003, 정확도:0.5626, 재현율:0.8896182467178898, 정밀도: 0.10032880035970855, f1:0.18032142574655668\n",
      "임계값 0.4, 정확도:0.6216, 재현율:0.8491620787706455, 정밀도: 0.11036672532636337, f1:0.19534429295937739\n",
      "임계값 0.45, 정확도:0.6755, 재현율:0.8007441466513401, 정밀도: 0.12131208244693771, f1:0.21070285492776916\n",
      "임계값 0.5, 정확도:0.7241, 재현율:0.7470203884082521, 정밀도: 0.13352777182999284, f1:0.22655880161907663\n",
      "임계값 0.55, 정확도:0.7677, 재현율:0.6844636699134854, 정밀도: 0.1467739822083494, f1:0.24171537045682037\n",
      "임계값 0.6000000000000001, 정확도:0.8057, 재현율:0.6142113860487628, 정밀도: 0.16075542683959926, f1:0.25481817257698347\n",
      "임계값 0.65, 정확도:0.8384, 재현율:0.5353378909794906, 정밀도: 0.17501394399458856, f1:0.26378926908377603\n",
      "임계값 0.7000000000000001, 정확도:0.8663, 재현율:0.4524048641781112, 정밀도: 0.1903222686573242, f1:0.26792931464442343\n",
      "임계값 0.75, 정확도:0.8901, 재현율:0.3656482545828544, 정밀도: 0.2074077632920037, f1:0.2646801857727503\n",
      "임계값 0.8, 정확도:0.9097, 재현율:0.2745719644261601, 정밀도: 0.22529673700984407, f1:0.24750566491515583\n",
      "임계값 0.8500000000000001, 정확도:0.9255, 재현율:0.18275152761812571, 정밀도: 0.2460073785111044, f1:0.20971330780792768\n",
      "임계값 0.9, 정확도:0.9372, 재현율:0.09264928307822615, 정밀도: 0.26755420444817163, f1:0.1376372305383167\n",
      "임계값 0.9500000000000001, 정확도:0.9443, 재현율:0.021465303406134673, 정밀도: 0.2982013783829215, f1:0.04004785877147437\n"
     ]
    }
   ],
   "source": [
    "from sklearn.preprocessing import Binarizer\n",
    "\n",
    "for i in np.arange(0,1,0.05):\n",
    "    custom_threshold = i\n",
    "\n",
    "    proba_lr_4_final = proba_lr_4[:,1].reshape(-1,1)\n",
    "\n",
    "    binarizer = Binarizer(threshold=custom_threshold).fit(proba_lr_4_final)\n",
    "    custom_pred = binarizer.transform(proba_lr_4_final)\n",
    "\n",
    "    recall = recall_score(y_test, custom_pred)\n",
    "    acc = accuracy_score(y_test, custom_pred)\n",
    "    f1 = f1_score(y_test, custom_pred)\n",
    "    precision = precision_score(y_test, custom_pred)\n",
    "    print(f\"임계값 {i}, 정확도:{acc:.4f}, 재현율:{recall}, 정밀도: {precision}, f1:{f1}\")"
   ]
  },
  {
   "cell_type": "code",
   "execution_count": 186,
   "id": "dfd5f0a2",
   "metadata": {},
   "outputs": [
    {
     "name": "stdout",
     "output_type": "stream",
     "text": [
      "[[2572727  318124]\n",
      " [  90512   74778]]\n",
      "**************************************************\n",
      "\n",
      "정확도 : 0.87, 정밀도 : 0.19, 재현율 : 0.45\n",
      "f1-score : 0.27, auc : 0.67\n"
     ]
    }
   ],
   "source": [
    "from sklearn.preprocessing import Binarizer\n",
    "\n",
    "# Binarizer의 threshold 값을 0.7로 설정\n",
    "custom_threshold = 0.7\n",
    "\n",
    "#즉 Positive 클래스의 컬럼 하나만 추출하여 Binarizer를 적용\n",
    "proba_lr_4_final = proba_lr_4[:,1].reshape(-1,1)\n",
    "proba_lr_6월_4_final = proba_lr_6월_4[:,1].reshape(-1,1)\n",
    "\n",
    "binarizer=Binarizer(threshold=custom_threshold).fit(proba_lr_4_final)\n",
    "lr_custom_pred_4 = binarizer.transform(proba_lr_4_final)\n",
    "\n",
    "proba_lr_6월_custom_4 = binarizer.transform(proba_lr_6월_4_final)\n",
    "\n",
    "display_eval(y_test, lr_custom_pred_4)"
   ]
  },
  {
   "cell_type": "code",
   "execution_count": 105,
   "id": "b4cea29f",
   "metadata": {},
   "outputs": [],
   "source": [
    "lr_custom_pred_4_list = pd.DataFrame(lr_custom_pred_4).T.values.tolist()\n",
    "lr_custom_pred_4_df = pd.DataFrame(lr_custom_pred_4_list)\n",
    "lr_custom_pred_4_df = lr_custom_pred_4_df.transpose()\n",
    "lr_custom_pred_4_df.columns = ['lr_custom_4']"
   ]
  },
  {
   "cell_type": "code",
   "execution_count": 106,
   "id": "ad4987c1",
   "metadata": {},
   "outputs": [],
   "source": [
    "lr_custom_pred_4_df.to_csv('custom_pred/lr_custom_pred_4_df.csv', index=False)"
   ]
  },
  {
   "cell_type": "code",
   "execution_count": 187,
   "id": "b7635397",
   "metadata": {},
   "outputs": [],
   "source": [
    "proba_lr_6월_custom_4_list = pd.DataFrame(proba_lr_6월_custom_4).T.values.tolist()\n",
    "proba_lr_6월_custom_4_df = pd.DataFrame(proba_lr_6월_custom_4_list)\n",
    "proba_lr_6월_custom_4_df = proba_lr_6월_custom_4_df.transpose()\n",
    "proba_lr_6월_custom_4_df.columns = ['june_lr_4']"
   ]
  },
  {
   "cell_type": "code",
   "execution_count": 188,
   "id": "a65a6a78",
   "metadata": {},
   "outputs": [],
   "source": [
    "proba_lr_6월_custom_4_df.to_csv('custom_pred/lr_6월_custom_4_df.csv', index=False)"
   ]
  },
  {
   "cell_type": "markdown",
   "id": "IotPjpx2pjmo",
   "metadata": {
    "id": "IotPjpx2pjmo"
   },
   "source": [
    "#### 모델 5(real_train_x5_scaled 사용)"
   ]
  },
  {
   "cell_type": "code",
   "execution_count": 189,
   "id": "PiawSIMiomGC",
   "metadata": {
    "id": "PiawSIMiomGC"
   },
   "outputs": [
    {
     "name": "stdout",
     "output_type": "stream",
     "text": [
      "[[2089072  801779]\n",
      " [  41765  123525]]\n",
      "**************************************************\n",
      "\n",
      "정확도 : 0.72, 정밀도 : 0.13, 재현율 : 0.75\n",
      "f1-score : 0.23, auc : 0.73\n"
     ]
    }
   ],
   "source": [
    "# 로지스틱\n",
    "from sklearn.linear_model import LogisticRegression\n",
    "\n",
    "lr_clf_5 = LogisticRegression(random_state=42)\n",
    "lr_clf_5.fit(real_train_x5_scaled, real_train_y5)\n",
    "lr_preds_5 = lr_clf_5.predict(X_test_5_scaled)\n",
    "lr_preds_final_5 = lr_clf_5.predict(test_f_scaled_5)\n",
    "\n",
    "display_eval(y_test, lr_preds_5)"
   ]
  },
  {
   "cell_type": "code",
   "execution_count": 191,
   "id": "ytLKgl5vomIo",
   "metadata": {
    "id": "ytLKgl5vomIo"
   },
   "outputs": [
    {
     "data": {
      "image/png": "[encoded data removed]",
      "text/plain": [
       "<Figure size 432x288 with 1 Axes>"
      ]
     },
     "metadata": {
      "needs_background": "light"
     },
     "output_type": "display_data"
    }
   ],
   "source": [
    "# 예측 확률\n",
    "proba_lr_5 = lr_clf_5.predict_proba(X_test_5_scaled)\n",
    "proba_lr_6월_5 = lr_clf_5.predict_proba(test_f_scaled_5)\n",
    "\n",
    "# precision,recall은 trade off관계, precision_recall_curve( )\n",
    "precision,recall,th = precision_recall_curve(y_test,proba_lr_5[:,1])\n",
    "\n",
    "plt.xlabel('threadhold') #임계값\n",
    "plt.ylabel('score')\n",
    "plt.plot(th,precision[:len(th)],'red',linestyle = '--',label = 'precision')\n",
    "plt.plot(th,recall[:len(th)],'blue',label = 'recall')\n",
    "plt.legend()\n",
    "plt.show()"
   ]
  },
  {
   "cell_type": "code",
   "execution_count": 109,
   "id": "nvvUujxyomLc",
   "metadata": {
    "id": "nvvUujxyomLc"
   },
   "outputs": [
    {
     "name": "stdout",
     "output_type": "stream",
     "text": [
      "임계값 0.0, 정확도:0.0541, 재현율:1.0, 정밀도: 0.054084546491801264, f1:0.1026189913737094\n",
      "임계값 0.05, 정확도:0.1150, 재현율:0.9990501542743058, 정밀도: 0.057541680633967966, f1:0.1088159552540157\n",
      "임계값 0.1, 정확도:0.1986, 재현율:0.9946881239034424, 정밀도: 0.06292759606187735, f1:0.11836687236569238\n",
      "임계값 0.15000000000000002, 정확도:0.2805, 재현율:0.985824913787888, 정밀도: 0.06906078987163229, f1:0.12907909735650328\n",
      "임계값 0.2, 정확도:0.3573, 재현율:0.9709359307883114, 정밀도: 0.07570094339622642, f1:0.14045132127651197\n",
      "임계값 0.25, 정확도:0.4299, 재현율:0.9500393248230383, 정밀도: 0.08303352178630576, f1:0.15271935804808026\n",
      "임계값 0.30000000000000004, 정확도:0.4983, 재현율:0.9231532458103938, 정밀도: 0.09120338160439723, f1:0.16600610767746155\n",
      "임계값 0.35000000000000003, 정확도:0.5623, 재현율:0.8895940468267893, 정밀도: 0.10026224562992136, f1:0.1802134259559985\n",
      "임계값 0.4, 정확도:0.6214, 재현율:0.8491620787706455, 정밀도: 0.11029136161796496, f1:0.19522623602042144\n",
      "임계값 0.45, 정확도:0.6753, 재현율:0.8010647952084216, 정밀도: 0.12126140878194597, f1:0.2106375058462694\n",
      "임계값 0.5, 정확도:0.7240, 재현율:0.7473228870470083, 정밀도: 0.13349666704131832, f1:0.22652792881677325\n",
      "임계값 0.55, 정확도:0.7675, 재현율:0.684294270675782, 정밀도: 0.146636260864154, f1:0.24151803158971377\n",
      "임계값 0.6000000000000001, 정확도:0.8057, 재현율:0.6142476858854136, 정밀도: 0.16072802454399523, f1:0.25478686829650227\n",
      "임계값 0.65, 정확도:0.8384, 재현율:0.5351805916873374, 정밀도: 0.17500647915689846, f1:0.2637616901500841\n",
      "임계값 0.7000000000000001, 정확도:0.8664, 재현율:0.4518724665739004, 정밀도: 0.1902808738296924, f1:0.2677948782302376\n",
      "임계값 0.75, 정확도:0.8902, 재현율:0.36492225784983967, 정밀도: 0.20738810229468516, f1:0.2644737534419559\n",
      "임계값 0.8, 정확도:0.9098, 재현율:0.27340431968056145, 정밀도: 0.2250615058218871, f1:0.2468886922127162\n",
      "임계값 0.8500000000000001, 정확도:0.9256, 재현율:0.18171698227357977, 정밀도: 0.2457877466183318, f1:0.20895117446337824\n",
      "임계값 0.9, 정확도:0.9372, 재현율:0.0913727388226753, 정밀도: 0.266287003896539, f1:0.13605877292157453\n",
      "임계값 0.9500000000000001, 정확도:0.9444, 재현율:0.020963155665799503, 정밀도: 0.2967371756444292, f1:0.03915984336062656\n"
     ]
    }
   ],
   "source": [
    "from sklearn.preprocessing import Binarizer\n",
    "\n",
    "for i in np.arange(0,1,0.05):\n",
    "    custom_threshold = i\n",
    "\n",
    "    proba_lr_5_final = proba_lr_5[:,1].reshape(-1,1)\n",
    "\n",
    "    binarizer = Binarizer(threshold=custom_threshold).fit(proba_lr_5_final)\n",
    "    custom_pred = binarizer.transform(proba_lr_5_final)\n",
    "\n",
    "    recall = recall_score(y_test, custom_pred)\n",
    "    acc = accuracy_score(y_test, custom_pred)\n",
    "    f1 = f1_score(y_test, custom_pred)\n",
    "    precision = precision_score(y_test, custom_pred)\n",
    "    print(f\"임계값 {i}, 정확도:{acc:.4f}, 재현율:{recall}, 정밀도: {precision}, f1:{f1}\")"
   ]
  },
  {
   "cell_type": "code",
   "execution_count": 192,
   "id": "f93e680b",
   "metadata": {},
   "outputs": [
    {
     "name": "stdout",
     "output_type": "stream",
     "text": [
      "[[2573016  317835]\n",
      " [  90600   74690]]\n",
      "**************************************************\n",
      "\n",
      "정확도 : 0.87, 정밀도 : 0.19, 재현율 : 0.45\n",
      "f1-score : 0.27, auc : 0.67\n"
     ]
    }
   ],
   "source": [
    "from sklearn.preprocessing import Binarizer\n",
    "\n",
    "# Binarizer의 threshold 값을 0.7로 설정\n",
    "custom_threshold = 0.7\n",
    "\n",
    "#즉 Positive 클래스의 컬럼 하나만 추출하여 Binarizer를 적용\n",
    "proba_lr_5_final = proba_lr_5[:,1].reshape(-1,1)\n",
    "proba_lr_6월_5_final = proba_lr_6월_5[:,1].reshape(-1,1)\n",
    "\n",
    "binarizer=Binarizer(threshold=custom_threshold).fit(proba_lr_5_final)\n",
    "lr_custom_pred_5 = binarizer.transform(proba_lr_5_final)\n",
    "\n",
    "proba_lr_6월_custom_5 = binarizer.transform(proba_lr_6월_5_final)\n",
    "\n",
    "display_eval(y_test, lr_custom_pred_5)"
   ]
  },
  {
   "cell_type": "code",
   "execution_count": 111,
   "id": "940960af",
   "metadata": {},
   "outputs": [],
   "source": [
    "lr_custom_pred_5_list = pd.DataFrame(lr_custom_pred_5).T.values.tolist()\n",
    "lr_custom_pred_5_df = pd.DataFrame(lr_custom_pred_5_list)\n",
    "lr_custom_pred_5_df = lr_custom_pred_5_df.transpose()\n",
    "lr_custom_pred_5_df.columns = ['lr_custom_5']"
   ]
  },
  {
   "cell_type": "code",
   "execution_count": 112,
   "id": "6fd7eade",
   "metadata": {},
   "outputs": [],
   "source": [
    "lr_custom_pred_5_df.to_csv('custom_pred/lr_custom_pred_5_df.csv', index=False)"
   ]
  },
  {
   "cell_type": "code",
   "execution_count": 193,
   "id": "345ab2da",
   "metadata": {},
   "outputs": [],
   "source": [
    "proba_lr_6월_custom_5_list = pd.DataFrame(proba_lr_6월_custom_5).T.values.tolist()\n",
    "proba_lr_6월_custom_5_df = pd.DataFrame(proba_lr_6월_custom_5_list)\n",
    "proba_lr_6월_custom_5_df = proba_lr_6월_custom_5_df.transpose()\n",
    "proba_lr_6월_custom_5_df.columns = ['june_lr_5']"
   ]
  },
  {
   "cell_type": "code",
   "execution_count": 194,
   "id": "68b362ca",
   "metadata": {},
   "outputs": [],
   "source": [
    "proba_lr_6월_custom_5_df.to_csv('custom_pred/lr_6월_custom_5_df.csv', index=False)"
   ]
  },
  {
   "cell_type": "markdown",
   "id": "Kovg_-VCpyVf",
   "metadata": {
    "id": "Kovg_-VCpyVf"
   },
   "source": [
    "## LightGBM\n",
    "5개의 데이터셋에 대하여 각각 훈련"
   ]
  },
  {
   "cell_type": "markdown",
   "id": "e0b702c3",
   "metadata": {},
   "source": [
    "#### 모델 1(real_train_x1_scaled 사용)"
   ]
  },
  {
   "cell_type": "code",
   "execution_count": 195,
   "id": "aba8700f",
   "metadata": {},
   "outputs": [
    {
     "name": "stdout",
     "output_type": "stream",
     "text": [
      "[[2182282  708569]\n",
      " [  29510  135780]]\n",
      "**************************************************\n",
      "\n",
      "정확도 : 0.76, 정밀도 : 0.16, 재현율 : 0.82\n",
      "f1-score : 0.27, auc : 0.79\n"
     ]
    }
   ],
   "source": [
    "# LightGBM\n",
    "from lightgbm import LGBMClassifier\n",
    "\n",
    "lgbm_clf_1 = LGBMClassifier(random_state=42)\n",
    "lgbm_clf_1.fit(real_train_x1_scaled, real_train_y1)\n",
    "lgbm_preds_1 = lgbm_clf_1.predict(X_test_1_scaled)\n",
    "lgbm_preds_final_1 = lgbm_clf_1.predict(test_f_scaled_1)\n",
    "\n",
    "display_eval(y_test, lgbm_preds_1)"
   ]
  },
  {
   "cell_type": "code",
   "execution_count": 196,
   "id": "e3fada51",
   "metadata": {},
   "outputs": [
    {
     "data": {
      "image/png": "[encoded data removed]",
      "text/plain": [
       "<Figure size 432x288 with 1 Axes>"
      ]
     },
     "metadata": {
      "needs_background": "light"
     },
     "output_type": "display_data"
    }
   ],
   "source": [
    "# 예측 확률\n",
    "proba_lgbm_1 = lgbm_clf_1.predict_proba(X_test_1_scaled)\n",
    "proba_lgbm_6월_1 = lgbm_clf_1.predict_proba(test_f_scaled_1)\n",
    "\n",
    "# precision,recall은 trade off관계, precision_recall_curve( )\n",
    "precision,recall,th = precision_recall_curve(y_test,proba_lgbm_1[:,1])\n",
    "\n",
    "plt.xlabel('threadhold') #임계값\n",
    "plt.ylabel('score')\n",
    "plt.plot(th,precision[:len(th)],'red',linestyle = '--',label = 'precision')\n",
    "plt.plot(th,recall[:len(th)],'blue',label = 'recall')\n",
    "plt.legend()\n",
    "plt.show()"
   ]
  },
  {
   "cell_type": "code",
   "execution_count": 197,
   "id": "d8829b4f",
   "metadata": {},
   "outputs": [
    {
     "name": "stdout",
     "output_type": "stream",
     "text": [
      "임계값 0.0, 정확도:0.0541, 재현율:1.0, 정밀도: 0.054084546491801264, f1:0.1026189913737094\n",
      "임계값 0.05, 정확도:0.2265, 재현율:0.9981003085486115, 정밀도: 0.06524111879881932, f1:0.12247652377392443\n",
      "임계값 0.1, 정확도:0.3504, 재현율:0.9913485389315748, 정밀도: 0.07629688642957484, f1:0.14168900103028467\n",
      "임계값 0.15000000000000002, 정확도:0.4387, 재현율:0.9809183858672635, 정밀도: 0.08649799834404583, f1:0.15897728041542591\n",
      "임계값 0.2, 정확도:0.5076, 재현율:0.9667372496823764, 정밀도: 0.09630694403008688, f1:0.17516395037503735\n",
      "임계값 0.25, 정확도:0.5636, 재현율:0.9507592715832779, 정밀도: 0.10599503853298134, f1:0.1907269545292357\n",
      "임계값 0.30000000000000004, 정확도:0.6118, 재현율:0.9318773065521205, 정밀도: 0.11589202171122624, f1:0.20614679611234688\n",
      "임계값 0.35000000000000003, 정확도:0.6544, 재현율:0.9096436566035453, 정밀도: 0.12616691071271235, f1:0.22159829919565513\n",
      "임계값 0.4, 정확도:0.6921, 재현율:0.8839675721459254, 정밀도: 0.1368329078503024, f1:0.236982359848706\n",
      "임계값 0.45, 정확도:0.7265, 재현율:0.8549337527981125, 정밀도: 0.14826410382851926, f1:0.2527038626609442\n",
      "임계값 0.5, 정확도:0.7585, 재현율:0.8214653034061347, 정밀도: 0.1608102810567668, f1:0.2689674230096104\n",
      "임계값 0.55, 정확도:0.7885, 재현율:0.7833928247322887, 정밀도: 0.17495051578428258, f1:0.28602479498578015\n",
      "임계값 0.6000000000000001, 정확도:0.8167, 재현율:0.7393369229838466, 정밀도: 0.1911391395336834, f1:0.30375036817661544\n",
      "임계값 0.65, 정확도:0.8435, 재현율:0.685480065339706, 정밀도: 0.21001638566365646, f1:0.32152454787694423\n",
      "임계값 0.7000000000000001, 정확도:0.8691, 재현율:0.6197713110291003, 정밀도: 0.23293495957142987, f1:0.33860758447671213\n",
      "임계값 0.75, 정확도:0.8936, 재현율:0.5345392945731744, 정밀도: 0.26255824457968807, f1:0.3521468627068047\n",
      "임계값 0.8, 정확도:0.9162, 재현율:0.42529493617278724, 정밀도: 0.30383067740276354, f1:0.35444550608961345\n",
      "임계값 0.8500000000000001, 정확도:0.9344, 재현율:0.2813660838526227, 정밀도: 0.3624100929656269, f1:0.3167868345497707\n",
      "임계값 0.9, 정확도:0.9448, 재현율:0.10391433238550427, 정밀도: 0.45525869380831213, f1:0.1692066713296358\n",
      "임계값 0.9500000000000001, 정확도:0.9460, 재현율:0.003654183556173997, 정밀도: 0.6550976138828634, f1:0.007267826631049503\n"
     ]
    }
   ],
   "source": [
    "from sklearn.preprocessing import Binarizer\n",
    "\n",
    "for i in np.arange(0,1,0.05):\n",
    "    custom_threshold = i\n",
    "\n",
    "    proba_lgbm_1_final = proba_lgbm_1[:,1].reshape(-1,1)\n",
    "\n",
    "    binarizer = Binarizer(threshold=custom_threshold).fit(proba_lgbm_1_final)\n",
    "    custom_pred = binarizer.transform(proba_lgbm_1_final)\n",
    "\n",
    "    recall = recall_score(y_test, custom_pred)\n",
    "    acc = accuracy_score(y_test, custom_pred)\n",
    "    f1 = f1_score(y_test, custom_pred)\n",
    "    precision = precision_score(y_test, custom_pred)\n",
    "    print(f\"임계값 {i}, 정확도:{acc:.4f}, 재현율:{recall}, 정밀도: {precision}, f1:{f1}\")"
   ]
  },
  {
   "cell_type": "code",
   "execution_count": 198,
   "id": "76347352",
   "metadata": {},
   "outputs": [
    {
     "name": "stdout",
     "output_type": "stream",
     "text": [
      "[[2729779  161072]\n",
      " [  94993   70297]]\n",
      "**************************************************\n",
      "\n",
      "정확도 : 0.92, 정밀도 : 0.30, 재현율 : 0.43\n",
      "f1-score : 0.35, auc : 0.68\n"
     ]
    }
   ],
   "source": [
    "from sklearn.preprocessing import Binarizer\n",
    "\n",
    "# Binarizer의 threshold 값을 0.8로 설정\n",
    "custom_threshold = 0.8\n",
    "\n",
    "#즉 Positive 클래스의 컬럼 하나만 추출하여 Binarizer를 적용\n",
    "proba_lgbm_1_final = proba_lgbm_1[:,1].reshape(-1,1)\n",
    "proba_lgbm_6월_1_final = proba_lgbm_6월_1[:,1].reshape(-1,1)\n",
    "\n",
    "binarizer=Binarizer(threshold=custom_threshold).fit(proba_lgbm_1_final)\n",
    "lgbm_custom_pred_1 = binarizer.transform(proba_lgbm_1_final)\n",
    "\n",
    "proba_lgbm_6월_custom_1 = binarizer.transform(proba_lgbm_6월_1_final)\n",
    "\n",
    "display_eval(y_test, lgbm_custom_pred_1)"
   ]
  },
  {
   "cell_type": "code",
   "execution_count": 199,
   "id": "09745146",
   "metadata": {},
   "outputs": [],
   "source": [
    "lgbm_custom_pred_1_list = pd.DataFrame(lgbm_custom_pred_1).T.values.tolist()\n",
    "lgbm_custom_pred_1_df = pd.DataFrame(lgbm_custom_pred_1_list)\n",
    "lgbm_custom_pred_1_df = lgbm_custom_pred_1_df.transpose()\n",
    "lgbm_custom_pred_1_df.columns = ['lgbm_custom_1']"
   ]
  },
  {
   "cell_type": "code",
   "execution_count": 200,
   "id": "ded05bd3",
   "metadata": {},
   "outputs": [],
   "source": [
    "lgbm_custom_pred_1_df.to_csv('custom_pred/lgbm_custom_pred_1_df.csv', index=False)"
   ]
  },
  {
   "cell_type": "code",
   "execution_count": 201,
   "id": "8bfc5e86",
   "metadata": {},
   "outputs": [],
   "source": [
    "proba_lgbm_6월_custom_1_list = pd.DataFrame(proba_lgbm_6월_custom_1).T.values.tolist()\n",
    "proba_lgbm_6월_custom_1_df = pd.DataFrame(proba_lgbm_6월_custom_1_list)\n",
    "proba_lgbm_6월_custom_1_df = proba_lgbm_6월_custom_1_df.transpose()\n",
    "proba_lgbm_6월_custom_1_df.columns = ['june_lgbm_1']"
   ]
  },
  {
   "cell_type": "code",
   "execution_count": 202,
   "id": "f06eff7e",
   "metadata": {},
   "outputs": [],
   "source": [
    "proba_lgbm_6월_custom_1_df.to_csv('custom_pred/lgbm_6월_custom_1_df.csv', index=False)"
   ]
  },
  {
   "cell_type": "markdown",
   "id": "785f102f",
   "metadata": {},
   "source": [
    "#### 모델 2(real_train_x2_scaled 사용)"
   ]
  },
  {
   "cell_type": "code",
   "execution_count": 203,
   "id": "35cbdad8",
   "metadata": {},
   "outputs": [
    {
     "name": "stdout",
     "output_type": "stream",
     "text": [
      "[[2183825  707026]\n",
      " [  29447  135843]]\n",
      "**************************************************\n",
      "\n",
      "정확도 : 0.76, 정밀도 : 0.16, 재현율 : 0.82\n",
      "f1-score : 0.27, auc : 0.79\n"
     ]
    }
   ],
   "source": [
    "# LightGBM\n",
    "from lightgbm import LGBMClassifier\n",
    "\n",
    "lgbm_clf_2 = LGBMClassifier(random_state=42)\n",
    "lgbm_clf_2.fit(real_train_x2_scaled, real_train_y2)\n",
    "lgbm_preds_2 = lgbm_clf_2.predict(X_test_2_scaled)\n",
    "lgbm_preds_final_2 = lgbm_clf_2.predict(test_f_scaled_2)\n",
    "\n",
    "display_eval(y_test, lgbm_preds_2)"
   ]
  },
  {
   "cell_type": "code",
   "execution_count": 204,
   "id": "07ec10db",
   "metadata": {},
   "outputs": [
    {
     "data": {
      "image/png": "[encoded data removed]",
      "text/plain": [
       "<Figure size 432x288 with 1 Axes>"
      ]
     },
     "metadata": {
      "needs_background": "light"
     },
     "output_type": "display_data"
    }
   ],
   "source": [
    "# 예측 확률\n",
    "proba_lgbm_2 = lgbm_clf_2.predict_proba(X_test_2_scaled)\n",
    "proba_lgbm_6월_2 = lgbm_clf_2.predict_proba(test_f_scaled_2)\n",
    "\n",
    "# precision,recall은 trade off관계, precision_recall_curve( )\n",
    "precision,recall,th = precision_recall_curve(y_test,proba_lgbm_2[:,1])\n",
    "\n",
    "plt.xlabel('threadhold') #임계값\n",
    "plt.ylabel('score')\n",
    "plt.plot(th,precision[:len(th)],'red',linestyle = '--',label = 'precision')\n",
    "plt.plot(th,recall[:len(th)],'blue',label = 'recall')\n",
    "plt.legend()\n",
    "plt.show()"
   ]
  },
  {
   "cell_type": "code",
   "execution_count": 205,
   "id": "cea8ae16",
   "metadata": {},
   "outputs": [
    {
     "name": "stdout",
     "output_type": "stream",
     "text": [
      "임계값 0.0, 정확도:0.0541, 재현율:1.0, 정밀도: 0.054084546491801264, f1:0.1026189913737094\n",
      "임계값 0.05, 정확도:0.2261, 재현율:0.9981366083852623, 정밀도: 0.06521321514091939, f1:0.12242762624778492\n",
      "임계값 0.1, 정확도:0.3493, 재현율:0.9914029886865509, 정밀도: 0.07617718101337141, f1:0.14148311680911188\n",
      "임계값 0.15000000000000002, 정확도:0.4372, 재현율:0.9810575352410914, 정밀도: 0.08630096743257296, f1:0.1586462546299829\n",
      "임계값 0.2, 정확도:0.5063, 재현율:0.9675176961703672, 정밀도: 0.09613600827659008, f1:0.17489393184625573\n",
      "임계값 0.25, 정확도:0.5633, 재현율:0.9514792183435175, 정밀도: 0.10597608917436088, f1:0.19071074829140047\n",
      "임계값 0.30000000000000004, 정확도:0.6117, 재현율:0.9325730534212596, 정밀도: 0.11591392237914369, f1:0.20619846125343033\n",
      "임계값 0.35000000000000003, 정확도:0.6545, 재현율:0.9099461552423014, 정밀도: 0.12625611847534016, f1:0.2217448706617257\n",
      "임계값 0.4, 정확도:0.6925, 재현율:0.8835198741605663, 정밀도: 0.13694340981466685, f1:0.23713194998108295\n",
      "임계값 0.45, 정확도:0.7271, 재현율:0.8545647044588299, 정밀도: 0.1485106459037111, f1:0.2530457082408118\n",
      "임계값 0.5, 정확도:0.7590, 재현율:0.8218464516909674, 정밀도: 0.16116739374683373, f1:0.26948725349870406\n",
      "임계값 0.55, 정확도:0.7890, 재현율:0.7826849779175994, 정밀도: 0.1752273472229371, f1:0.2863473175827922\n",
      "임계값 0.6000000000000001, 정확도:0.8173, 재현율:0.7381329784015972, 정밀도: 0.1914642528710379, f1:0.3040587352775521\n",
      "임계값 0.65, 정확도:0.8439, 재현율:0.6845544195051122, 정밀도: 0.21031403053874964, f1:0.3217710917893629\n",
      "임계값 0.7000000000000001, 정확도:0.8694, 재현율:0.6185310666102003, 정밀도: 0.23324527062173186, f1:0.33874959825318834\n",
      "임계값 0.75, 정확도:0.8938, 재현율:0.5353983907072418, 정밀도: 0.26321565921400547, f1:0.3529245205891912\n",
      "임계값 0.8, 정확도:0.9162, 재현율:0.42721277754250103, 정밀도: 0.30431953249238275, f1:0.35544347379627456\n",
      "임계값 0.8500000000000001, 정확도:0.9343, 재현율:0.28592171335228994, 정밀도: 0.36345179226492147, f1:0.32005851260154206\n",
      "임계값 0.9, 정확도:0.9446, 재현율:0.11222094500574747, 정밀도: 0.4521058789119626, f1:0.1798098081602187\n",
      "임계값 0.9500000000000001, 정확도:0.9460, 재현율:0.005644624599189304, 정밀도: 0.6372950819672131, f1:0.011190136368542884\n"
     ]
    }
   ],
   "source": [
    "from sklearn.preprocessing import Binarizer\n",
    "\n",
    "for i in np.arange(0,1,0.05):\n",
    "    custom_threshold = i\n",
    "\n",
    "    proba_lgbm_2_final = proba_lgbm_2[:,1].reshape(-1,1)\n",
    "\n",
    "    binarizer = Binarizer(threshold=custom_threshold).fit(proba_lgbm_2_final)\n",
    "    custom_pred = binarizer.transform(proba_lgbm_2_final)\n",
    "\n",
    "    recall = recall_score(y_test, custom_pred)\n",
    "    acc = accuracy_score(y_test, custom_pred)\n",
    "    f1 = f1_score(y_test, custom_pred)\n",
    "    precision = precision_score(y_test, custom_pred)\n",
    "    print(f\"임계값 {i}, 정확도:{acc:.4f}, 재현율:{recall}, 정밀도: {precision}, f1:{f1}\")"
   ]
  },
  {
   "cell_type": "code",
   "execution_count": 206,
   "id": "02de6a23",
   "metadata": {},
   "outputs": [
    {
     "name": "stdout",
     "output_type": "stream",
     "text": [
      "[[2729426  161425]\n",
      " [  94676   70614]]\n",
      "**************************************************\n",
      "\n",
      "정확도 : 0.92, 정밀도 : 0.30, 재현율 : 0.43\n",
      "f1-score : 0.36, auc : 0.69\n"
     ]
    }
   ],
   "source": [
    "from sklearn.preprocessing import Binarizer\n",
    "\n",
    "# Binarizer의 threshold 값을 0.8로 설정\n",
    "custom_threshold = 0.8\n",
    "\n",
    "#즉 Positive 클래스의 컬럼 하나만 추출하여 Binarizer를 적용\n",
    "proba_lgbm_2_final = proba_lgbm_2[:,1].reshape(-1,1)\n",
    "proba_lgbm_6월_2_final = proba_lgbm_6월_2[:,1].reshape(-1,1)\n",
    "\n",
    "binarizer=Binarizer(threshold=custom_threshold).fit(proba_lgbm_2_final)\n",
    "lgbm_custom_pred_2 = binarizer.transform(proba_lgbm_2_final)\n",
    "\n",
    "proba_lgbm_6월_custom_2 = binarizer.transform(proba_lgbm_6월_2_final)\n",
    "\n",
    "display_eval(y_test, lgbm_custom_pred_2)"
   ]
  },
  {
   "cell_type": "code",
   "execution_count": 207,
   "id": "f3129c3c",
   "metadata": {},
   "outputs": [],
   "source": [
    "lgbm_custom_pred_2_list = pd.DataFrame(lgbm_custom_pred_2).T.values.tolist()\n",
    "lgbm_custom_pred_2_df = pd.DataFrame(lgbm_custom_pred_2_list)\n",
    "lgbm_custom_pred_2_df = lgbm_custom_pred_2_df.transpose()\n",
    "lgbm_custom_pred_2_df.columns = ['lgbm_custom_2']"
   ]
  },
  {
   "cell_type": "code",
   "execution_count": 208,
   "id": "5c17dc06",
   "metadata": {},
   "outputs": [],
   "source": [
    "lgbm_custom_pred_2_df.to_csv('custom_pred/lgbm_custom_pred_2_df.csv', index=False)"
   ]
  },
  {
   "cell_type": "code",
   "execution_count": 209,
   "id": "c177202a",
   "metadata": {},
   "outputs": [],
   "source": [
    "proba_lgbm_6월_custom_2_list = pd.DataFrame(proba_lgbm_6월_custom_2).T.values.tolist()\n",
    "proba_lgbm_6월_custom_2_df = pd.DataFrame(proba_lgbm_6월_custom_2_list)\n",
    "proba_lgbm_6월_custom_2_df = proba_lgbm_6월_custom_2_df.transpose()\n",
    "proba_lgbm_6월_custom_2_df.columns = ['june_lgbm_2']"
   ]
  },
  {
   "cell_type": "code",
   "execution_count": 210,
   "id": "1b04e476",
   "metadata": {},
   "outputs": [],
   "source": [
    "proba_lgbm_6월_custom_2_df.to_csv('custom_pred/lgbm_6월_custom_2_df.csv', index=False)"
   ]
  },
  {
   "cell_type": "markdown",
   "id": "1fd8e05a",
   "metadata": {},
   "source": [
    "#### 모델 3(real_train_x3_scaled 사용)"
   ]
  },
  {
   "cell_type": "code",
   "execution_count": 211,
   "id": "8111690d",
   "metadata": {},
   "outputs": [
    {
     "name": "stdout",
     "output_type": "stream",
     "text": [
      "[[2181852  708999]\n",
      " [  29494  135796]]\n",
      "**************************************************\n",
      "\n",
      "정확도 : 0.76, 정밀도 : 0.16, 재현율 : 0.82\n",
      "f1-score : 0.27, auc : 0.79\n"
     ]
    }
   ],
   "source": [
    "# LightGBM\n",
    "from lightgbm import LGBMClassifier\n",
    "\n",
    "lgbm_clf_3 = LGBMClassifier(random_state=42)\n",
    "lgbm_clf_3.fit(real_train_x3_scaled, real_train_y3)\n",
    "lgbm_preds_3 = lgbm_clf_3.predict(X_test_3_scaled)\n",
    "lgbm_preds_final_3 = lgbm_clf_3.predict(test_f_scaled_3)\n",
    "\n",
    "display_eval(y_test, lgbm_preds_3)"
   ]
  },
  {
   "cell_type": "code",
   "execution_count": 212,
   "id": "e4278c04",
   "metadata": {},
   "outputs": [
    {
     "data": {
      "image/png": "[encoded data removed]",
      "text/plain": [
       "<Figure size 432x288 with 1 Axes>"
      ]
     },
     "metadata": {
      "needs_background": "light"
     },
     "output_type": "display_data"
    }
   ],
   "source": [
    "# 예측 확률\n",
    "proba_lgbm_3 = lgbm_clf_3.predict_proba(X_test_3_scaled)\n",
    "proba_lgbm_6월_3 = lgbm_clf_3.predict_proba(test_f_scaled_3)\n",
    "\n",
    "# precision,recall은 trade off관계, precision_recall_curve( )\n",
    "precision,recall,th = precision_recall_curve(y_test,proba_lgbm_3[:,1])\n",
    "\n",
    "plt.xlabel('threadhold') #임계값\n",
    "plt.ylabel('score')\n",
    "plt.plot(th,precision[:len(th)],'red',linestyle = '--',label = 'precision')\n",
    "plt.plot(th,recall[:len(th)],'blue',label = 'recall')\n",
    "plt.legend()\n",
    "plt.show()"
   ]
  },
  {
   "cell_type": "code",
   "execution_count": 213,
   "id": "2e61bcd0",
   "metadata": {},
   "outputs": [
    {
     "name": "stdout",
     "output_type": "stream",
     "text": [
      "임계값 0.0, 정확도:0.0541, 재현율:1.0, 정밀도: 0.054084546491801264, f1:0.1026189913737094\n",
      "임계값 0.05, 정확도:0.2274, 재현율:0.9980761086575111, 정밀도: 0.06531167468157134, f1:0.12260066014939754\n",
      "임계값 0.1, 정확도:0.3508, 재현율:0.9913243390404743, 정밀도: 0.07633255644838575, f1:0.14175025963526922\n",
      "임계값 0.15000000000000002, 정확도:0.4378, 재현율:0.9807308367112348, 정밀도: 0.08635670130772297, f1:0.15873614284049617\n",
      "임계값 0.2, 정확도:0.5065, 재현율:0.9671002480488837, 정밀도: 0.09614330917701515, f1:0.1748991894123034\n",
      "임계값 0.25, 정확도:0.5621, 재현율:0.951158569786436, 정밀도: 0.10569757224407583, f1:0.19025323816052758\n",
      "임계값 0.30000000000000004, 정확도:0.6102, 재현율:0.9324520539657571, 정밀도: 0.1155076679104897, f1:0.20555248440101706\n",
      "임계값 0.35000000000000003, 정확도:0.6530, 재현율:0.91036965333656, 정밀도: 0.12580543486167045, f1:0.22106196419376473\n",
      "임계값 0.4, 정확도:0.6913, 재현율:0.8842821707302317, 정밀도: 0.1365580527983736, f1:0.2365812956347633\n",
      "임계값 0.45, 정확도:0.7261, 재현율:0.8552241514913183, 정밀도: 0.14811415351441065, f1:0.2524986849026828\n",
      "임계값 0.5, 정확도:0.7584, 재현율:0.8215621029705367, 정밀도: 0.16074432258713653, f1:0.26888034175341674\n",
      "임계값 0.55, 정확도:0.7886, 재현율:0.7827212777542502, 정밀도: 0.1749163450033462, f1:0.2859343488758861\n",
      "임계값 0.6000000000000001, 정확도:0.8171, 재현율:0.7372557323492044, 정밀도: 0.19117100298849313, f1:0.303614517867042\n",
      "임계값 0.65, 정확도:0.8440, 재현율:0.6833020751406619, 정밀도: 0.21022037747087072, f1:0.3215230232723649\n",
      "임계값 0.7000000000000001, 정확도:0.8696, 재현율:0.6162018270917781, 정밀도: 0.23309547458084834, f1:0.3382416429221379\n",
      "임계값 0.75, 정확도:0.8940, 재현율:0.5325670034484845, 정밀도: 0.2628776544437576, f1:0.35200428668827344\n",
      "임계값 0.8, 정확도:0.9163, 재현율:0.42462943916752377, 정밀도: 0.3038345656352271, f1:0.35421681882642686\n",
      "임계값 0.8500000000000001, 정확도:0.9344, 재현율:0.283011676447456, 정밀도: 0.36324175738845493, f1:0.31814657634864935\n",
      "임계값 0.9, 정확도:0.9446, 재현율:0.11026075382660779, 정밀도: 0.4510468742266, f1:0.17720325140012447\n",
      "임계값 0.9500000000000001, 정확도:0.9460, 재현율:0.0072357674390465246, 정밀도: 0.6022155085599195, f1:0.014299720222865204\n"
     ]
    }
   ],
   "source": [
    "from sklearn.preprocessing import Binarizer\n",
    "\n",
    "for i in np.arange(0,1,0.05):\n",
    "    custom_threshold = i\n",
    "\n",
    "    proba_lgbm_3_final = proba_lgbm_3[:,1].reshape(-1,1)\n",
    "\n",
    "    binarizer = Binarizer(threshold=custom_threshold).fit(proba_lgbm_3_final)\n",
    "    custom_pred = binarizer.transform(proba_lgbm_3_final)\n",
    "\n",
    "    recall = recall_score(y_test, custom_pred)\n",
    "    acc = accuracy_score(y_test, custom_pred)\n",
    "    f1 = f1_score(y_test, custom_pred)\n",
    "    precision = precision_score(y_test, custom_pred)\n",
    "    print(f\"임계값 {i}, 정확도:{acc:.4f}, 재현율:{recall}, 정밀도: {precision}, f1:{f1}\")"
   ]
  },
  {
   "cell_type": "code",
   "execution_count": 214,
   "id": "532a3187",
   "metadata": {},
   "outputs": [
    {
     "name": "stdout",
     "output_type": "stream",
     "text": [
      "[[2730034  160817]\n",
      " [  95103   70187]]\n",
      "**************************************************\n",
      "\n",
      "정확도 : 0.92, 정밀도 : 0.30, 재현율 : 0.42\n",
      "f1-score : 0.35, auc : 0.68\n"
     ]
    }
   ],
   "source": [
    "from sklearn.preprocessing import Binarizer\n",
    "\n",
    "# Binarizer의 threshold 값을 0.8로 설정\n",
    "custom_threshold = 0.8\n",
    "\n",
    "#즉 Positive 클래스의 컬럼 하나만 추출하여 Binarizer를 적용\n",
    "proba_lgbm_3_final = proba_lgbm_3[:,1].reshape(-1,1)\n",
    "proba_lgbm_6월_3_final = proba_lgbm_6월_3[:,1].reshape(-1,1)\n",
    "\n",
    "binarizer=Binarizer(threshold=custom_threshold).fit(proba_lgbm_3_final)\n",
    "lgbm_custom_pred_3 = binarizer.transform(proba_lgbm_3_final)\n",
    "\n",
    "proba_lgbm_6월_custom_3 = binarizer.transform(proba_lgbm_6월_3_final)\n",
    "\n",
    "display_eval(y_test, lgbm_custom_pred_3)"
   ]
  },
  {
   "cell_type": "code",
   "execution_count": 215,
   "id": "fd752641",
   "metadata": {},
   "outputs": [],
   "source": [
    "lgbm_custom_pred_3_list = pd.DataFrame(lgbm_custom_pred_3).T.values.tolist()\n",
    "lgbm_custom_pred_3_df = pd.DataFrame(lgbm_custom_pred_3_list)\n",
    "lgbm_custom_pred_3_df = lgbm_custom_pred_3_df.transpose()\n",
    "lgbm_custom_pred_3_df.columns = ['lgbm_custom_3']"
   ]
  },
  {
   "cell_type": "code",
   "execution_count": 216,
   "id": "9d0662b8",
   "metadata": {},
   "outputs": [],
   "source": [
    "lgbm_custom_pred_3_df.to_csv('custom_pred/lgbm_custom_pred_3_df.csv', index=False)"
   ]
  },
  {
   "cell_type": "code",
   "execution_count": 217,
   "id": "5c7625e7",
   "metadata": {},
   "outputs": [],
   "source": [
    "proba_lgbm_6월_custom_3_list = pd.DataFrame(proba_lgbm_6월_custom_3).T.values.tolist()\n",
    "proba_lgbm_6월_custom_3_df = pd.DataFrame(proba_lgbm_6월_custom_3_list)\n",
    "proba_lgbm_6월_custom_3_df = proba_lgbm_6월_custom_3_df.transpose()\n",
    "proba_lgbm_6월_custom_3_df.columns = ['june_lgbm_3']"
   ]
  },
  {
   "cell_type": "code",
   "execution_count": 218,
   "id": "fe34d216",
   "metadata": {},
   "outputs": [],
   "source": [
    "proba_lgbm_6월_custom_3_df.to_csv('custom_pred/lgbm_6월_custom_3_df.csv', index=False)"
   ]
  },
  {
   "cell_type": "markdown",
   "id": "3c889290",
   "metadata": {},
   "source": [
    "#### 모델 4(real_train_x4_scaled 사용)"
   ]
  },
  {
   "cell_type": "code",
   "execution_count": 219,
   "id": "980ee9be",
   "metadata": {},
   "outputs": [
    {
     "name": "stdout",
     "output_type": "stream",
     "text": [
      "[[2184093  706758]\n",
      " [  29599  135691]]\n",
      "**************************************************\n",
      "\n",
      "정확도 : 0.76, 정밀도 : 0.16, 재현율 : 0.82\n",
      "f1-score : 0.27, auc : 0.79\n"
     ]
    }
   ],
   "source": [
    "# LightGBM\n",
    "from lightgbm import LGBMClassifier\n",
    "\n",
    "lgbm_clf_4 = LGBMClassifier(random_state=42)\n",
    "lgbm_clf_4.fit(real_train_x4_scaled, real_train_y4)\n",
    "lgbm_preds_4 = lgbm_clf_4.predict(X_test_4_scaled)\n",
    "lgbm_preds_final_4 = lgbm_clf_4.predict(test_f_scaled_4)\n",
    "\n",
    "display_eval(y_test, lgbm_preds_4)"
   ]
  },
  {
   "cell_type": "code",
   "execution_count": 220,
   "id": "a107667c",
   "metadata": {},
   "outputs": [
    {
     "data": {
      "image/png": "[encoded data removed]",
      "text/plain": [
       "<Figure size 432x288 with 1 Axes>"
      ]
     },
     "metadata": {
      "needs_background": "light"
     },
     "output_type": "display_data"
    }
   ],
   "source": [
    "# 예측 확률\n",
    "proba_lgbm_4 = lgbm_clf_4.predict_proba(X_test_4_scaled)\n",
    "proba_lgbm_6월_4 = lgbm_clf_4.predict_proba(test_f_scaled_4)\n",
    "\n",
    "# precision,recall은 trade off관계, precision_recall_curve( )\n",
    "precision,recall,th = precision_recall_curve(y_test,proba_lgbm_4[:,1])\n",
    "\n",
    "plt.xlabel('threadhold') #임계값\n",
    "plt.ylabel('score')\n",
    "plt.plot(th,precision[:len(th)],'red',linestyle = '--',label = 'precision')\n",
    "plt.plot(th,recall[:len(th)],'blue',label = 'recall')\n",
    "plt.legend()\n",
    "plt.show()"
   ]
  },
  {
   "cell_type": "code",
   "execution_count": 221,
   "id": "68a2ff8a",
   "metadata": {},
   "outputs": [
    {
     "name": "stdout",
     "output_type": "stream",
     "text": [
      "임계값 0.0, 정확도:0.0541, 재현율:1.0, 정밀도: 0.054084546491801264, f1:0.1026189913737094\n",
      "임계값 0.05, 정확도:0.2244, 재현율:0.9981366083852623, 정밀도: 0.06508201623204231, f1:0.12219639770156829\n",
      "임계값 0.1, 정확도:0.3494, 재현율:0.9912275394760723, 정밀도: 0.07617988384241589, f1:0.14148599151377664\n",
      "임계값 0.15000000000000002, 정확도:0.4377, 재현율:0.9809062859217134, 정밀도: 0.08636308675033412, f1:0.1587492283282003\n",
      "임계값 0.2, 정확도:0.5068, 재현율:0.9671788976949603, 정밀도: 0.0962126409802718, f1:0.1750151899149912\n",
      "임계값 0.25, 정확도:0.5633, 재현율:0.9507350716921774, 정밀도: 0.10592611116690809, f1:0.19061487358105048\n",
      "임계값 0.30000000000000004, 정확도:0.6117, 재현율:0.9322524048641782, 정밀도: 0.11589489644881407, f1:0.20616051921432843\n",
      "임계값 0.35000000000000003, 정확도:0.6542, 재현율:0.9096134067396696, 정밀도: 0.12612472044520726, f1:0.2215323229435877\n",
      "임계값 0.4, 정확도:0.6923, 재현율:0.8834533244600399, 정밀도: 0.13683519074334194, f1:0.23696729378793743\n",
      "임계값 0.45, 정확도:0.7271, 재현율:0.8547704035331841, 정밀도: 0.14850876326262039, f1:0.2530519913168698\n",
      "임계값 0.5, 정확도:0.7591, 재현율:0.8209268558291488, 정밀도: 0.16106731683460956, f1:0.2692979035246229\n",
      "임계값 0.55, 정확도:0.7892, 재현율:0.7818561316474076, 정밀도: 0.17526469467382916, f1:0.2863416455344215\n",
      "임계값 0.6000000000000001, 정확도:0.8177, 재현율:0.7369834835743239, 정밀도: 0.19167292118053753, f1:0.3042239873331577\n",
      "임계값 0.65, 정확도:0.8446, 재현율:0.6833444249500877, 정밀도: 0.2109204309910179, f1:0.3223458904109589\n",
      "임계값 0.7000000000000001, 정확도:0.8702, 재현율:0.6166676749954625, 정밀도: 0.23424738126646044, f1:0.3395234034615538\n",
      "임계값 0.75, 정확도:0.8947, 재현율:0.532149555327001, 정밀도: 0.26456778649052676, f1:0.353424288753659\n",
      "임계값 0.8, 정확도:0.9168, 재현율:0.4241817411821647, 정밀도: 0.30593918131717085, f1:0.35548581235755955\n",
      "임계값 0.8500000000000001, 정확도:0.9346, 재현율:0.2838163228265473, 정밀도: 0.3650682479650122, f1:0.31935519006644153\n",
      "임계값 0.9, 정확도:0.9446, 재현율:0.11353378909794906, 정밀도: 0.4518443609746701, f1:0.1814700563769812\n",
      "임계값 0.9500000000000001, 정확도:0.9460, 재현율:0.005336075987658055, 정밀도: 0.605353466026081, f1:0.010578900969732588\n"
     ]
    }
   ],
   "source": [
    "from sklearn.preprocessing import Binarizer\n",
    "\n",
    "for i in np.arange(0,1,0.05):\n",
    "    custom_threshold = i\n",
    "\n",
    "    proba_lgbm_4_final = proba_lgbm_4[:,1].reshape(-1,1)\n",
    "\n",
    "    binarizer = Binarizer(threshold=custom_threshold).fit(proba_lgbm_4_final)\n",
    "    custom_pred = binarizer.transform(proba_lgbm_4_final)\n",
    "\n",
    "    recall = recall_score(y_test, custom_pred)\n",
    "    acc = accuracy_score(y_test, custom_pred)\n",
    "    f1 = f1_score(y_test, custom_pred)\n",
    "    precision = precision_score(y_test, custom_pred)\n",
    "    print(f\"임계값 {i}, 정확도:{acc:.4f}, 재현율:{recall}, 정밀도: {precision}, f1:{f1}\")"
   ]
  },
  {
   "cell_type": "code",
   "execution_count": 222,
   "id": "9b05c894",
   "metadata": {},
   "outputs": [
    {
     "name": "stdout",
     "output_type": "stream",
     "text": [
      "[[2731791  159060]\n",
      " [  95177   70113]]\n",
      "**************************************************\n",
      "\n",
      "정확도 : 0.92, 정밀도 : 0.31, 재현율 : 0.42\n",
      "f1-score : 0.36, auc : 0.68\n"
     ]
    }
   ],
   "source": [
    "from sklearn.preprocessing import Binarizer\n",
    "\n",
    "# Binarizer의 threshold 값을 0.8로 설정\n",
    "custom_threshold = 0.8\n",
    "\n",
    "#즉 Positive 클래스의 컬럼 하나만 추출하여 Binarizer를 적용\n",
    "proba_lgbm_4_final = proba_lgbm_4[:,1].reshape(-1,1)\n",
    "proba_lgbm_6월_4_final = proba_lgbm_6월_4[:,1].reshape(-1,1)\n",
    "\n",
    "binarizer=Binarizer(threshold=custom_threshold).fit(proba_lgbm_4_final)\n",
    "lgbm_custom_pred_4 = binarizer.transform(proba_lgbm_4_final)\n",
    "\n",
    "proba_lgbm_6월_custom_4 = binarizer.transform(proba_lgbm_6월_4_final)\n",
    "\n",
    "display_eval(y_test, lgbm_custom_pred_4)"
   ]
  },
  {
   "cell_type": "code",
   "execution_count": 223,
   "id": "f2ebf97d",
   "metadata": {},
   "outputs": [],
   "source": [
    "lgbm_custom_pred_4_list = pd.DataFrame(lgbm_custom_pred_4).T.values.tolist()\n",
    "lgbm_custom_pred_4_df = pd.DataFrame(lgbm_custom_pred_4_list)\n",
    "lgbm_custom_pred_4_df = lgbm_custom_pred_4_df.transpose()\n",
    "lgbm_custom_pred_4_df.columns = ['lgbm_custom_4']"
   ]
  },
  {
   "cell_type": "code",
   "execution_count": 224,
   "id": "a4b23b49",
   "metadata": {},
   "outputs": [],
   "source": [
    "lgbm_custom_pred_4_df.to_csv('custom_pred/lgbm_custom_pred_4_df.csv', index=False)"
   ]
  },
  {
   "cell_type": "code",
   "execution_count": 225,
   "id": "7fbe842d",
   "metadata": {},
   "outputs": [],
   "source": [
    "proba_lgbm_6월_custom_4_list = pd.DataFrame(proba_lgbm_6월_custom_4).T.values.tolist()\n",
    "proba_lgbm_6월_custom_4_df = pd.DataFrame(proba_lgbm_6월_custom_4_list)\n",
    "proba_lgbm_6월_custom_4_df = proba_lgbm_6월_custom_4_df.transpose()\n",
    "proba_lgbm_6월_custom_4_df.columns = ['june_lgbm_4']"
   ]
  },
  {
   "cell_type": "code",
   "execution_count": 226,
   "id": "828dad3e",
   "metadata": {},
   "outputs": [],
   "source": [
    "proba_lgbm_6월_custom_4_df.to_csv('custom_pred/lgbm_6월_custom_4_df.csv', index=False)"
   ]
  },
  {
   "cell_type": "markdown",
   "id": "cdaba3bf",
   "metadata": {},
   "source": [
    "#### 모델 5(real_train_x5_scaled 사용)"
   ]
  },
  {
   "cell_type": "code",
   "execution_count": 227,
   "id": "6ed3ba86",
   "metadata": {},
   "outputs": [
    {
     "name": "stdout",
     "output_type": "stream",
     "text": [
      "[[2180934  709917]\n",
      " [  29379  135911]]\n",
      "**************************************************\n",
      "\n",
      "정확도 : 0.76, 정밀도 : 0.16, 재현율 : 0.82\n",
      "f1-score : 0.27, auc : 0.79\n"
     ]
    }
   ],
   "source": [
    "# LightGBM\n",
    "from lightgbm import LGBMClassifier\n",
    "\n",
    "lgbm_clf_5 = LGBMClassifier(random_state=42)\n",
    "lgbm_clf_5.fit(real_train_x5_scaled, real_train_y5)\n",
    "lgbm_preds_5 = lgbm_clf_5.predict(X_test_5_scaled)\n",
    "lgbm_preds_final_5 = lgbm_clf_5.predict(test_f_scaled_5)\n",
    "\n",
    "display_eval(y_test, lgbm_preds_5)"
   ]
  },
  {
   "cell_type": "code",
   "execution_count": 228,
   "id": "98877cce",
   "metadata": {},
   "outputs": [
    {
     "data": {
      "image/png": "[encoded data removed]",
      "text/plain": [
       "<Figure size 432x288 with 1 Axes>"
      ]
     },
     "metadata": {
      "needs_background": "light"
     },
     "output_type": "display_data"
    }
   ],
   "source": [
    "# 예측 확률\n",
    "proba_lgbm_5 = lgbm_clf_5.predict_proba(X_test_5_scaled)\n",
    "proba_lgbm_6월_5 = lgbm_clf_5.predict_proba(test_f_scaled_5)\n",
    "\n",
    "# precision,recall은 trade off관계, precision_recall_curve( )\n",
    "precision,recall,th = precision_recall_curve(y_test,proba_lgbm_5[:,1])\n",
    "\n",
    "plt.xlabel('threadhold') #임계값\n",
    "plt.ylabel('score')\n",
    "plt.plot(th,precision[:len(th)],'red',linestyle = '--',label = 'precision')\n",
    "plt.plot(th,recall[:len(th)],'blue',label = 'recall')\n",
    "plt.legend()\n",
    "plt.show()"
   ]
  },
  {
   "cell_type": "code",
   "execution_count": 229,
   "id": "766b10ba",
   "metadata": {},
   "outputs": [
    {
     "name": "stdout",
     "output_type": "stream",
     "text": [
      "임계값 0.0, 정확도:0.0541, 재현율:1.0, 정밀도: 0.054084546491801264, f1:0.1026189913737094\n",
      "임계값 0.05, 정확도:0.2265, 재현율:0.9982092080585637, 정밀도: 0.06525156579791923, f1:0.12249575239812716\n",
      "임계값 0.1, 정확도:0.3505, 재현율:0.9914755883598524, 정밀도: 0.07630954254598893, f1:0.14171212241749653\n",
      "임계값 0.15000000000000002, 정확도:0.4379, 재현율:0.9808639361122875, 정밀도: 0.08637955708146458, f1:0.15877649833219407\n",
      "임계값 0.2, 정확도:0.5067, 재현율:0.9673361969871136, 정밀도: 0.09619465262390346, f1:0.17498800241429185\n",
      "임계값 0.25, 정확도:0.5627, 재현율:0.9513037691330389, 정밀도: 0.1058472777012627, f1:0.190498632208166\n",
      "임계값 0.30000000000000004, 정확도:0.6106, 재현율:0.9325609534757093, 정밀도: 0.11562843891143051, f1:0.2057463432149009\n",
      "임계값 0.35000000000000003, 정확도:0.6533, 재현율:0.9106782019480912, 정밀도: 0.12593145994188912, f1:0.2212656117819389\n",
      "임계값 0.4, 정확도:0.6915, 재현율:0.8847298687155908, 정밀도: 0.13665157525382074, f1:0.23673766729937226\n",
      "임계값 0.45, 정확도:0.7261, 재현율:0.8557444491499788, 정밀도: 0.14814636373919637, f1:0.25256816140535077\n",
      "임계값 0.5, 정확도:0.7581, 재현율:0.8222578498396758, 정밀도: 0.16068396884472966, f1:0.26883311344472155\n",
      "임계값 0.55, 정확도:0.7884, 재현율:0.783410974650614, 정밀도: 0.1749304614603161, f1:0.28599920267424384\n",
      "임계값 0.6000000000000001, 정확도:0.8170, 재현율:0.7386109262508319, 정밀도: 0.19132790988147497, f1:0.3039272675672749\n",
      "임계값 0.65, 정확도:0.8441, 재현율:0.6847238187428156, 정밀도: 0.21057782474733192, f1:0.3220984868104628\n",
      "임계값 0.7000000000000001, 정확도:0.8699, 재현율:0.6178111198499606, 정밀도: 0.2338412358197198, f1:0.33926922131338166\n",
      "임계값 0.75, 정확도:0.8945, 재현율:0.5329179018694415, 정밀도: 0.2643161495529016, f1:0.3533687694313509\n",
      "임계값 0.8, 정확도:0.9170, 재현율:0.42269344787948454, 정밀도: 0.3061683275050614, f1:0.3551162932541781\n",
      "임계값 0.8500000000000001, 정확도:0.9349, 재현율:0.2792667432996552, 정밀도: 0.3667421443610217, f1:0.3170819666500661\n",
      "임계값 0.9, 정확도:0.9447, 재현율:0.10648557081493133, 정밀도: 0.4538328649150401, f1:0.17249709662718735\n",
      "임계값 0.9500000000000001, 정확도:0.9460, 재현율:0.003164135761389074, 정밀도: 0.6354799513973268, f1:0.006296918362801226\n"
     ]
    }
   ],
   "source": [
    "from sklearn.preprocessing import Binarizer\n",
    "\n",
    "for i in np.arange(0,1,0.05):\n",
    "    custom_threshold = i\n",
    "\n",
    "    proba_lgbm_5_final = proba_lgbm_5[:,1].reshape(-1,1)\n",
    "\n",
    "    binarizer = Binarizer(threshold=custom_threshold).fit(proba_lgbm_5_final)\n",
    "    custom_pred = binarizer.transform(proba_lgbm_5_final)\n",
    "\n",
    "    recall = recall_score(y_test, custom_pred)\n",
    "    acc = accuracy_score(y_test, custom_pred)\n",
    "    f1 = f1_score(y_test, custom_pred)\n",
    "    precision = precision_score(y_test, custom_pred)\n",
    "    print(f\"임계값 {i}, 정확도:{acc:.4f}, 재현율:{recall}, 정밀도: {precision}, f1:{f1}\")"
   ]
  },
  {
   "cell_type": "code",
   "execution_count": 230,
   "id": "f67afce5",
   "metadata": {},
   "outputs": [
    {
     "name": "stdout",
     "output_type": "stream",
     "text": [
      "[[2732520  158331]\n",
      " [  95423   69867]]\n",
      "**************************************************\n",
      "\n",
      "정확도 : 0.92, 정밀도 : 0.31, 재현율 : 0.42\n",
      "f1-score : 0.36, auc : 0.68\n"
     ]
    }
   ],
   "source": [
    "from sklearn.preprocessing import Binarizer\n",
    "\n",
    "# Binarizer의 threshold 값을 0.8로 설정\n",
    "custom_threshold = 0.8\n",
    "\n",
    "#즉 Positive 클래스의 컬럼 하나만 추출하여 Binarizer를 적용\n",
    "proba_lgbm_5_final = proba_lgbm_5[:,1].reshape(-1,1)\n",
    "proba_lgbm_6월_5_final = proba_lgbm_6월_5[:,1].reshape(-1,1)\n",
    "\n",
    "binarizer=Binarizer(threshold=custom_threshold).fit(proba_lgbm_5_final)\n",
    "lgbm_custom_pred_5 = binarizer.transform(proba_lgbm_5_final)\n",
    "\n",
    "proba_lgbm_6월_custom_5 = binarizer.transform(proba_lgbm_6월_5_final)\n",
    "\n",
    "display_eval(y_test, lgbm_custom_pred_5)"
   ]
  },
  {
   "cell_type": "code",
   "execution_count": 231,
   "id": "d555c302",
   "metadata": {},
   "outputs": [],
   "source": [
    "lgbm_custom_pred_5_list = pd.DataFrame(lgbm_custom_pred_5).T.values.tolist()\n",
    "lgbm_custom_pred_5_df = pd.DataFrame(lgbm_custom_pred_5_list)\n",
    "lgbm_custom_pred_5_df = lgbm_custom_pred_5_df.transpose()\n",
    "lgbm_custom_pred_5_df.columns = ['lgbm_custom_5']"
   ]
  },
  {
   "cell_type": "code",
   "execution_count": 232,
   "id": "214b89b6",
   "metadata": {},
   "outputs": [],
   "source": [
    "lgbm_custom_pred_5_df.to_csv('custom_pred/lgbm_custom_pred_5_df.csv', index=False)"
   ]
  },
  {
   "cell_type": "code",
   "execution_count": 233,
   "id": "4e335f14",
   "metadata": {},
   "outputs": [],
   "source": [
    "proba_lgbm_6월_custom_5_list = pd.DataFrame(proba_lgbm_6월_custom_5).T.values.tolist()\n",
    "proba_lgbm_6월_custom_5_df = pd.DataFrame(proba_lgbm_6월_custom_5_list)\n",
    "proba_lgbm_6월_custom_5_df = proba_lgbm_6월_custom_5_df.transpose()\n",
    "proba_lgbm_6월_custom_5_df.columns = ['june_lgbm_5']"
   ]
  },
  {
   "cell_type": "code",
   "execution_count": 234,
   "id": "204ade02",
   "metadata": {},
   "outputs": [],
   "source": [
    "proba_lgbm_6월_custom_5_df.to_csv('custom_pred/lgbm_6월_custom_5_df.csv', index=False)"
   ]
  },
  {
   "cell_type": "markdown",
   "id": "33f18963",
   "metadata": {},
   "source": [
    "## RandomForest\n",
    "5개의 데이터셋에 대하여 각각 훈련"
   ]
  },
  {
   "cell_type": "markdown",
   "id": "14f60ce7",
   "metadata": {},
   "source": [
    "#### 모델 1(real_train_x1_scaled 사용)"
   ]
  },
  {
   "cell_type": "code",
   "execution_count": 235,
   "id": "fbc7c044",
   "metadata": {},
   "outputs": [
    {
     "name": "stdout",
     "output_type": "stream",
     "text": [
      "[[2248749  642102]\n",
      " [  26499  138791]]\n",
      "**************************************************\n",
      "\n",
      "정확도 : 0.78, 정밀도 : 0.18, 재현율 : 0.84\n",
      "f1-score : 0.29, auc : 0.81\n"
     ]
    }
   ],
   "source": [
    "# RandomForest\n",
    "from sklearn.ensemble import RandomForestClassifier\n",
    "\n",
    "rf_clf_1 = RandomForestClassifier(random_state=42)\n",
    "rf_clf_1.fit(real_train_x1_scaled, real_train_y1)\n",
    "rf_preds_1 = rf_clf_1.predict(X_test_1_scaled)\n",
    "rf_preds_final_1 = rf_clf_1.predict(test_f_scaled_1)\n",
    "\n",
    "display_eval(y_test, rf_preds_1)"
   ]
  },
  {
   "cell_type": "code",
   "execution_count": 236,
   "id": "f736fb2b",
   "metadata": {},
   "outputs": [
    {
     "data": {
      "image/png": "[encoded data removed]",
      "text/plain": [
       "<Figure size 432x288 with 1 Axes>"
      ]
     },
     "metadata": {
      "needs_background": "light"
     },
     "output_type": "display_data"
    }
   ],
   "source": [
    "# 예측 확률\n",
    "proba_rf_1 = rf_clf_1.predict_proba(X_test_1_scaled)\n",
    "proba_rf_6월_1 = rf_clf_1.predict_proba(test_f_scaled_1)\n",
    "\n",
    "# precision,recall은 trade off관계, precision_recall_curve( )\n",
    "precision,recall,th = precision_recall_curve(y_test,proba_rf_1[:,1])\n",
    "\n",
    "plt.xlabel('threadhold') #임계값\n",
    "plt.ylabel('score')\n",
    "plt.plot(th,precision[:len(th)],'red',linestyle = '--',label = 'precision')\n",
    "plt.plot(th,recall[:len(th)],'blue',label = 'recall')\n",
    "plt.legend()\n",
    "plt.show()"
   ]
  },
  {
   "cell_type": "code",
   "execution_count": 237,
   "id": "5c3a5efe",
   "metadata": {},
   "outputs": [
    {
     "name": "stdout",
     "output_type": "stream",
     "text": [
      "임계값 0.0, 정확도:0.0728, 재현율:0.9999818500816746, 정밀도: 0.055114901767383484, f1:0.10447174885114702\n",
      "임계값 0.05, 정확도:0.1968, 재현율:0.9993829027769375, 정밀도: 0.06305183909467471, f1:0.1186198596421183\n",
      "임계값 0.1, 정확도:0.3058, 재현율:0.9970234133946397, 정밀도: 0.07209380357612354, f1:0.13446460123377665\n",
      "임계값 0.15000000000000002, 정확도:0.3955, 재현율:0.9924072841672212, 정밀도: 0.08160445903061654, f1:0.15080814539583978\n",
      "임계값 0.2, 정확도:0.4717, 재현율:0.9854437655030552, 정밀도: 0.09176992501621202, f1:0.16790373398302347\n",
      "임계값 0.25, 정확도:0.5385, 재현율:0.9744388650251073, 정밀도: 0.10276419838629615, f1:0.18592117353181545\n",
      "임계값 0.30000000000000004, 정확도:0.5974, 재현율:0.9588541351563918, 정밀도: 0.11468073128693013, f1:0.20485984545903424\n",
      "임계값 0.35000000000000003, 정확도:0.6503, 재현율:0.9385262266319802, 정밀도: 0.12781536727483653, f1:0.2249899563882447\n",
      "임계값 0.4, 정확도:0.6984, 재현율:0.9131768407042168, 정밀도: 0.14262914098777052, f1:0.2467226566586463\n",
      "임계값 0.45, 정확도:0.7418, 재현율:0.8805311876096558, 정밀도: 0.15908390371654488, f1:0.26948115670467304\n",
      "임계값 0.5, 정확도:0.7812, 재현율:0.8396817714320286, 정밀도: 0.17773369719026808, f1:0.2933703099717497\n",
      "임계값 0.55, 정확도:0.8167, 재현율:0.7884808518361668, 정밀도: 0.19879801092162666, f1:0.3175362724913811\n",
      "임계값 0.6000000000000001, 정확도:0.8481, 재현율:0.7263113315990078, 정밀도: 0.22269462499629003, f1:0.34087379219680347\n",
      "임계값 0.65, 정확도:0.8758, 재현율:0.6500877246052392, 정밀도: 0.25043466506318374, f1:0.3615779095356991\n",
      "임계값 0.7000000000000001, 정확도:0.8993, 재현율:0.5607780264988808, 정밀도: 0.28280230291159053, f1:0.3759910272609821\n",
      "임계값 0.75, 정확도:0.9183, 재현율:0.4534878093048581, 정밀도: 0.32010061195642425, f1:0.37529446223248053\n",
      "임계값 0.8, 정확도:0.9322, 재현율:0.3329179018694416, 정밀도: 0.36236484083815146, f1:0.3470177961078109\n",
      "임계값 0.8500000000000001, 정확도:0.9410, 재현율:0.2068788190453143, 정밀도: 0.41048941814820594, f1:0.2751083095662388\n",
      "임계값 0.9, 정확도:0.9452, 재현율:0.09411942646258092, 정밀도: 0.4661133748801534, f1:0.156614619512146\n",
      "임계값 0.9500000000000001, 정확도:0.9461, 재현율:0.01958376187307157, 정밀도: 0.534070285431447, f1:0.03778209639862038\n"
     ]
    }
   ],
   "source": [
    "from sklearn.preprocessing import Binarizer\n",
    "\n",
    "for i in np.arange(0,1,0.05):\n",
    "    custom_threshold = i\n",
    "\n",
    "    proba_rf_1_final = proba_rf_1[:,1].reshape(-1,1)\n",
    "\n",
    "    binarizer = Binarizer(threshold=custom_threshold).fit(proba_rf_1_final)\n",
    "    custom_pred = binarizer.transform(proba_rf_1_final)\n",
    "\n",
    "    recall = recall_score(y_test, custom_pred)\n",
    "    acc = accuracy_score(y_test, custom_pred)\n",
    "    f1 = f1_score(y_test, custom_pred)\n",
    "    precision = precision_score(y_test, custom_pred)\n",
    "    print(f\"임계값 {i}, 정확도:{acc:.4f}, 재현율:{recall}, 정밀도: {precision}, f1:{f1}\")"
   ]
  },
  {
   "cell_type": "code",
   "execution_count": 238,
   "id": "0333147a",
   "metadata": {},
   "outputs": [
    {
     "name": "stdout",
     "output_type": "stream",
     "text": [
      "[[2655783  235068]\n",
      " [  72599   92691]]\n",
      "**************************************************\n",
      "\n",
      "정확도 : 0.90, 정밀도 : 0.28, 재현율 : 0.56\n",
      "f1-score : 0.38, auc : 0.74\n"
     ]
    }
   ],
   "source": [
    "from sklearn.preprocessing import Binarizer\n",
    "\n",
    "# Binarizer의 threshold 값을 0.7로 설정\n",
    "custom_threshold = 0.7\n",
    "\n",
    "#즉 Positive 클래스의 컬럼 하나만 추출하여 Binarizer를 적용\n",
    "proba_rf_1_final = proba_rf_1[:,1].reshape(-1,1)\n",
    "proba_rf_6월_1_final = proba_rf_6월_1[:,1].reshape(-1,1)\n",
    "\n",
    "binarizer=Binarizer(threshold=custom_threshold).fit(proba_rf_1_final)\n",
    "rf_custom_pred_1 = binarizer.transform(proba_rf_1_final)\n",
    "\n",
    "proba_rf_6월_custom_1 = binarizer.transform(proba_rf_6월_1_final)\n",
    "\n",
    "display_eval(y_test, rf_custom_pred_1)"
   ]
  },
  {
   "cell_type": "code",
   "execution_count": 239,
   "id": "762b14e5",
   "metadata": {},
   "outputs": [],
   "source": [
    "rf_custom_pred_1_list = pd.DataFrame(rf_custom_pred_1).T.values.tolist()\n",
    "rf_custom_pred_1_df = pd.DataFrame(rf_custom_pred_1_list)\n",
    "rf_custom_pred_1_df = rf_custom_pred_1_df.transpose()\n",
    "rf_custom_pred_1_df.columns = ['rf_custom_1']"
   ]
  },
  {
   "cell_type": "code",
   "execution_count": 240,
   "id": "0e43a7cc",
   "metadata": {},
   "outputs": [],
   "source": [
    "rf_custom_pred_1_df.to_csv('custom_pred/rf_custom_pred_1_df.csv', index=False)"
   ]
  },
  {
   "cell_type": "code",
   "execution_count": 241,
   "id": "3faeb656",
   "metadata": {},
   "outputs": [],
   "source": [
    "proba_rf_6월_custom_1_list = pd.DataFrame(proba_rf_6월_custom_1).T.values.tolist()\n",
    "proba_rf_6월_custom_1_df = pd.DataFrame(proba_rf_6월_custom_1_list)\n",
    "proba_rf_6월_custom_1_df = proba_rf_6월_custom_1_df.transpose()\n",
    "proba_rf_6월_custom_1_df.columns = ['june_rf_1']"
   ]
  },
  {
   "cell_type": "code",
   "execution_count": 242,
   "id": "0b5d7400",
   "metadata": {},
   "outputs": [],
   "source": [
    "proba_rf_6월_custom_1_df.to_csv('custom_pred/rf_6월_custom_1_df.csv', index=False)"
   ]
  },
  {
   "cell_type": "markdown",
   "id": "b65c5de6",
   "metadata": {},
   "source": [
    "#### 모델 2(real_train_x2_scaled 사용)"
   ]
  },
  {
   "cell_type": "code",
   "execution_count": 243,
   "id": "233237d9",
   "metadata": {},
   "outputs": [
    {
     "name": "stdout",
     "output_type": "stream",
     "text": [
      "[[2247478  643373]\n",
      " [  26487  138803]]\n",
      "**************************************************\n",
      "\n",
      "정확도 : 0.78, 정밀도 : 0.18, 재현율 : 0.84\n",
      "f1-score : 0.29, auc : 0.81\n"
     ]
    }
   ],
   "source": [
    "# RandomForest\n",
    "from sklearn.ensemble import RandomForestClassifier\n",
    "\n",
    "rf_clf_2 = RandomForestClassifier(random_state=42)\n",
    "rf_clf_2.fit(real_train_x2_scaled, real_train_y2)\n",
    "rf_preds_2 = rf_clf_2.predict(X_test_2_scaled)\n",
    "rf_preds_final_2 = rf_clf_2.predict(test_f_scaled_2)\n",
    "\n",
    "display_eval(y_test, rf_preds_2)"
   ]
  },
  {
   "cell_type": "code",
   "execution_count": 244,
   "id": "a0b9458b",
   "metadata": {},
   "outputs": [
    {
     "data": {
      "image/png": "[encoded data removed]",
      "text/plain": [
       "<Figure size 432x288 with 1 Axes>"
      ]
     },
     "metadata": {
      "needs_background": "light"
     },
     "output_type": "display_data"
    }
   ],
   "source": [
    "# 예측 확률\n",
    "proba_rf_2 = rf_clf_2.predict_proba(X_test_2_scaled)\n",
    "proba_rf_6월_2 = rf_clf_2.predict_proba(test_f_scaled_2)\n",
    "\n",
    "# precision,recall은 trade off관계, precision_recall_curve( )\n",
    "precision,recall,th = precision_recall_curve(y_test,proba_rf_2[:,1])\n",
    "\n",
    "plt.xlabel('threadhold') #임계값\n",
    "plt.ylabel('score')\n",
    "plt.plot(th,precision[:len(th)],'red',linestyle = '--',label = 'precision')\n",
    "plt.plot(th,recall[:len(th)],'blue',label = 'recall')\n",
    "plt.legend()\n",
    "plt.show()"
   ]
  },
  {
   "cell_type": "code",
   "execution_count": 245,
   "id": "7900b889",
   "metadata": {},
   "outputs": [
    {
     "name": "stdout",
     "output_type": "stream",
     "text": [
      "임계값 0.0, 정확도:0.0746, 재현율:0.9999879000544497, 정밀도: 0.055214969855047674, f1:0.10465153826136674\n",
      "임계값 0.05, 정확도:0.1996, 재현율:0.9991469538387078, 정밀도: 0.06324669077829709, f1:0.11896294514129054\n",
      "임계값 0.1, 정확도:0.3076, 재현율:0.9968661141024865, 정밀도: 0.07225748735388723, f1:0.13474782622917975\n",
      "임계값 0.15000000000000002, 정확도:0.3966, 재현율:0.9920261358823885, 정밀도: 0.08171552162342646, f1:0.15099336528677526\n",
      "임계값 0.2, 정확도:0.4722, 재현율:0.9849174178716196, 정밀도: 0.09179486514420461, f1:0.1679378288477736\n",
      "임계값 0.25, 정확도:0.5384, 재현율:0.9743602153790308, 정밀도: 0.10274587410740431, f1:0.18588975218277798\n",
      "임계값 0.30000000000000004, 정확도:0.5972, 재현율:0.9593683828422772, 정밀도: 0.1146623378031982, f1:0.20484222560237172\n",
      "임계값 0.35000000000000003, 정확도:0.6500, 재현율:0.9394397725210236, 정밀도: 0.12781982738396572, f1:0.22502309573408202\n",
      "임계값 0.4, 정확도:0.6978, 재현율:0.9133885897513461, 정밀도: 0.1424029111790445, f1:0.24639181903565868\n",
      "임계값 0.45, 정확도:0.7413, 재현율:0.8809667856494646, 정밀도: 0.15889028315783732, f1:0.2692236581803391\n",
      "임계값 0.5, 정확도:0.7808, 재현율:0.83975437110533, 정밀도: 0.1774575031706419, f1:0.2929983767227531\n",
      "임계값 0.55, 정확도:0.8164, 재현율:0.7882267529796116, 정밀도: 0.19849747318929675, f1:0.3171322130685656\n",
      "임계값 0.6000000000000001, 정확도:0.8481, 재현율:0.726371831326759, 정밀도: 0.2227354860732347, f1:0.3409283227605477\n",
      "임계값 0.65, 정확도:0.8760, 재현율:0.6513461189424647, 정밀도: 0.2509808583997147, f1:0.36234183871798287\n",
      "임계값 0.7000000000000001, 정확도:0.8994, 재현율:0.5605239276423256, 정밀도: 0.2829988117892499, f1:0.37610747899722535\n",
      "임계값 0.75, 정확도:0.9183, 재현율:0.4544981547583036, 정밀도: 0.32029947600226827, f1:0.37577688685026\n",
      "임계값 0.8, 정확도:0.9321, 재현율:0.33531974106116524, 정밀도: 0.36222649203984003, f1:0.3482541737092447\n",
      "임계값 0.8500000000000001, 정확도:0.9408, 재현율:0.21071450178474196, 정밀도: 0.40882946755563904, f1:0.2780958312373743\n",
      "임계값 0.9, 정확도:0.9450, 재현율:0.097580010889951, 정밀도: 0.46205632108173145, f1:0.1611312856836017\n",
      "임계값 0.9500000000000001, 정확도:0.9460, 재현율:0.021326154032306855, 정밀도: 0.5252570406794814, f1:0.04098813378991983\n"
     ]
    }
   ],
   "source": [
    "from sklearn.preprocessing import Binarizer\n",
    "\n",
    "for i in np.arange(0,1,0.05):\n",
    "    custom_threshold = i\n",
    "\n",
    "    proba_rf_2_final = proba_rf_2[:,1].reshape(-1,1)\n",
    "\n",
    "    binarizer = Binarizer(threshold=custom_threshold).fit(proba_rf_2_final)\n",
    "    custom_pred = binarizer.transform(proba_rf_2_final)\n",
    "\n",
    "    recall = recall_score(y_test, custom_pred)\n",
    "    acc = accuracy_score(y_test, custom_pred)\n",
    "    f1 = f1_score(y_test, custom_pred)\n",
    "    precision = precision_score(y_test, custom_pred)\n",
    "    print(f\"임계값 {i}, 정확도:{acc:.4f}, 재현율:{recall}, 정밀도: {precision}, f1:{f1}\")"
   ]
  },
  {
   "cell_type": "code",
   "execution_count": 246,
   "id": "d4f6fc8f",
   "metadata": {},
   "outputs": [
    {
     "name": "stdout",
     "output_type": "stream",
     "text": [
      "[[2656117  234734]\n",
      " [  72641   92649]]\n",
      "**************************************************\n",
      "\n",
      "정확도 : 0.90, 정밀도 : 0.28, 재현율 : 0.56\n",
      "f1-score : 0.38, auc : 0.74\n"
     ]
    }
   ],
   "source": [
    "from sklearn.preprocessing import Binarizer\n",
    "\n",
    "# Binarizer의 threshold 값을 0.7로 설정\n",
    "custom_threshold = 0.7\n",
    "\n",
    "#즉 Positive 클래스의 컬럼 하나만 추출하여 Binarizer를 적용\n",
    "proba_rf_2_final = proba_rf_2[:,1].reshape(-1,1)\n",
    "proba_rf_6월_2_final = proba_rf_6월_2[:,1].reshape(-1,1)\n",
    "\n",
    "binarizer=Binarizer(threshold=custom_threshold).fit(proba_rf_2_final)\n",
    "rf_custom_pred_2 = binarizer.transform(proba_rf_2_final)\n",
    "\n",
    "proba_rf_6월_custom_2 = binarizer.transform(proba_rf_6월_2_final)\n",
    "\n",
    "display_eval(y_test, rf_custom_pred_2)"
   ]
  },
  {
   "cell_type": "code",
   "execution_count": 247,
   "id": "ee2cd905",
   "metadata": {},
   "outputs": [],
   "source": [
    "rf_custom_pred_2_list = pd.DataFrame(rf_custom_pred_2).T.values.tolist()\n",
    "rf_custom_pred_2_df = pd.DataFrame(rf_custom_pred_2_list)\n",
    "rf_custom_pred_2_df = rf_custom_pred_2_df.transpose()\n",
    "rf_custom_pred_2_df.columns = ['rf_custom_2']"
   ]
  },
  {
   "cell_type": "code",
   "execution_count": 248,
   "id": "b4872e09",
   "metadata": {},
   "outputs": [],
   "source": [
    "rf_custom_pred_2_df.to_csv('custom_pred/rf_custom_pred_2_df.csv', index=False)"
   ]
  },
  {
   "cell_type": "code",
   "execution_count": 249,
   "id": "b35e3d56",
   "metadata": {},
   "outputs": [],
   "source": [
    "proba_rf_6월_custom_2_list = pd.DataFrame(proba_rf_6월_custom_2).T.values.tolist()\n",
    "proba_rf_6월_custom_2_df = pd.DataFrame(proba_rf_6월_custom_2_list)\n",
    "proba_rf_6월_custom_2_df = proba_rf_6월_custom_2_df.transpose()\n",
    "proba_rf_6월_custom_2_df.columns = ['june_rf_2']"
   ]
  },
  {
   "cell_type": "code",
   "execution_count": 250,
   "id": "2cd02c65",
   "metadata": {},
   "outputs": [],
   "source": [
    "proba_rf_6월_custom_2_df.to_csv('custom_pred/rf_6월_custom_2_df.csv', index=False)"
   ]
  },
  {
   "cell_type": "markdown",
   "id": "2d32216a",
   "metadata": {},
   "source": [
    "#### 모델 3(real_train_x3_scaled 사용)"
   ]
  },
  {
   "cell_type": "code",
   "execution_count": 251,
   "id": "0fa7a49a",
   "metadata": {},
   "outputs": [
    {
     "name": "stdout",
     "output_type": "stream",
     "text": [
      "[[2248105  642746]\n",
      " [  26574  138716]]\n",
      "**************************************************\n",
      "\n",
      "정확도 : 0.78, 정밀도 : 0.18, 재현율 : 0.84\n",
      "f1-score : 0.29, auc : 0.81\n"
     ]
    }
   ],
   "source": [
    "# RandomForest\n",
    "from sklearn.ensemble import RandomForestClassifier\n",
    "\n",
    "rf_clf_3 = RandomForestClassifier(random_state=42)\n",
    "rf_clf_3.fit(real_train_x3_scaled, real_train_y3)\n",
    "rf_preds_3 = rf_clf_3.predict(X_test_3_scaled)\n",
    "rf_preds_final_3 = rf_clf_3.predict(test_f_scaled_3)\n",
    "\n",
    "display_eval(y_test, rf_preds_3)"
   ]
  },
  {
   "cell_type": "code",
   "execution_count": 252,
   "id": "df85688b",
   "metadata": {},
   "outputs": [
    {
     "data": {
      "image/png": "[encoded data removed]",
      "text/plain": [
       "<Figure size 432x288 with 1 Axes>"
      ]
     },
     "metadata": {
      "needs_background": "light"
     },
     "output_type": "display_data"
    }
   ],
   "source": [
    "# 예측 확률\n",
    "proba_rf_3 = rf_clf_3.predict_proba(X_test_3_scaled)\n",
    "proba_rf_6월_3 = rf_clf_3.predict_proba(test_f_scaled_3)\n",
    "\n",
    "# precision,recall은 trade off관계, precision_recall_curve( )\n",
    "precision,recall,th = precision_recall_curve(y_test,proba_rf_3[:,1])\n",
    "\n",
    "plt.xlabel('threadhold') #임계값\n",
    "plt.ylabel('score')\n",
    "plt.plot(th,precision[:len(th)],'red',linestyle = '--',label = 'precision')\n",
    "plt.plot(th,recall[:len(th)],'blue',label = 'recall')\n",
    "plt.legend()\n",
    "plt.show()"
   ]
  },
  {
   "cell_type": "code",
   "execution_count": 253,
   "id": "ffd2c24b",
   "metadata": {},
   "outputs": [
    {
     "name": "stdout",
     "output_type": "stream",
     "text": [
      "임계값 0.0, 정확도:0.0746, 재현율:0.9999818500816746, 정밀도: 0.055215262926164736, f1:0.10465203153610621\n",
      "임계값 0.05, 정확도:0.2009, 재현율:0.9991348538931575, 정밀도: 0.06334052854920515, f1:0.11912883965753171\n",
      "임계값 0.1, 정확도:0.3076, 재현율:0.9969145138846875, 정밀도: 0.07225668619909571, f1:0.13474687532070664\n",
      "임계값 0.15000000000000002, 정확도:0.3960, 재현율:0.9921531853106661, 정밀도: 0.08164887989385193, f1:0.15088105878862182\n",
      "임계값 0.2, 정확도:0.4719, 재현율:0.9850505172726722, 정밀도: 0.09176178984493616, f1:0.1678844083693191\n",
      "임계값 0.25, 정확도:0.5383, 재현율:0.9740758666586, 정밀도: 0.10269125652563535, f1:0.18579518736170375\n",
      "임계값 0.30000000000000004, 정확도:0.5970, 재현율:0.9590598342307459, 정밀도: 0.1146006007525673, f1:0.20473667386692754\n",
      "임계값 0.35000000000000003, 정확도:0.6499, 재현율:0.9394337225482485, 정밀도: 0.12777808864867712, f1:0.22495824019169675\n",
      "임계값 0.4, 정확도:0.6980, 재현율:0.9127170427733076, 정밀도: 0.14241360104972012, f1:0.2463833679018798\n",
      "임계값 0.45, 정확도:0.7415, 재현율:0.8799685401415693, 정밀도: 0.1588693786781893, f1:0.26914700107880857\n",
      "임계값 0.5, 정확도:0.7810, 재현율:0.8392280234738944, 정밀도: 0.17750831134463352, f1:0.29303555735820996\n",
      "임계값 0.55, 정확도:0.8164, 재현율:0.7886926008832961, 정밀도: 0.1985548899641921, f1:0.31724319187587985\n",
      "임계값 0.6000000000000001, 정확도:0.8481, 재현율:0.726371831326759, 정밀도: 0.22274746987504754, f1:0.3409423608005168\n",
      "임계값 0.65, 정확도:0.8758, 재현율:0.6505596224816989, 정밀도: 0.2504635150747214, f1:0.3616809447409934\n",
      "임계값 0.7000000000000001, 정확도:0.8993, 재현율:0.5588480851836167, 정밀도: 0.28243308526316435, f1:0.37523052800052\n",
      "임계값 0.75, 정확도:0.9182, 재현율:0.4518724665739004, 정밀도: 0.31908031049346586, f1:0.37404004817599756\n",
      "임계값 0.8, 정확도:0.9322, 재현율:0.3310424103091536, 정밀도: 0.36126553194860755, f1:0.34549426680810225\n",
      "임계값 0.8500000000000001, 정확도:0.9409, 재현율:0.20679411942646259, 정밀도: 0.4087218548589604, f1:0.27463552400580105\n",
      "임계값 0.9, 정확도:0.9451, 재현율:0.09442797507411217, 정밀도: 0.4630217449345872, f1:0.156865109874924\n",
      "임계값 0.9500000000000001, 정확도:0.9460, 재현율:0.021035755339100973, 정밀도: 0.530596673279414, f1:0.04046717061503814\n"
     ]
    }
   ],
   "source": [
    "from sklearn.preprocessing import Binarizer\n",
    "\n",
    "for i in np.arange(0,1,0.05):\n",
    "    custom_threshold = i\n",
    "\n",
    "    proba_rf_3_final = proba_rf_3[:,1].reshape(-1,1)\n",
    "\n",
    "    binarizer = Binarizer(threshold=custom_threshold).fit(proba_rf_3_final)\n",
    "    custom_pred = binarizer.transform(proba_rf_3_final)\n",
    "\n",
    "    recall = recall_score(y_test, custom_pred)\n",
    "    acc = accuracy_score(y_test, custom_pred)\n",
    "    f1 = f1_score(y_test, custom_pred)\n",
    "    precision = precision_score(y_test, custom_pred)\n",
    "    print(f\"임계값 {i}, 정확도:{acc:.4f}, 재현율:{recall}, 정밀도: {precision}, f1:{f1}\")"
   ]
  },
  {
   "cell_type": "code",
   "execution_count": 254,
   "id": "827522f5",
   "metadata": {},
   "outputs": [
    {
     "name": "stdout",
     "output_type": "stream",
     "text": [
      "[[2656165  234686]\n",
      " [  72918   92372]]\n",
      "**************************************************\n",
      "\n",
      "정확도 : 0.90, 정밀도 : 0.28, 재현율 : 0.56\n",
      "f1-score : 0.38, auc : 0.74\n"
     ]
    }
   ],
   "source": [
    "from sklearn.preprocessing import Binarizer\n",
    "\n",
    "# Binarizer의 threshold 값을 0.7로 설정\n",
    "custom_threshold = 0.7\n",
    "\n",
    "#즉 Positive 클래스의 컬럼 하나만 추출하여 Binarizer를 적용\n",
    "proba_rf_3_final = proba_rf_3[:,1].reshape(-1,1)\n",
    "proba_rf_6월_3_final = proba_rf_6월_3[:,1].reshape(-1,1)\n",
    "\n",
    "binarizer=Binarizer(threshold=custom_threshold).fit(proba_rf_3_final)\n",
    "rf_custom_pred_3 = binarizer.transform(proba_rf_3_final)\n",
    "\n",
    "proba_rf_6월_custom_3 = binarizer.transform(proba_rf_6월_3_final)\n",
    "\n",
    "display_eval(y_test, rf_custom_pred_3)"
   ]
  },
  {
   "cell_type": "code",
   "execution_count": 255,
   "id": "a3c09c83",
   "metadata": {},
   "outputs": [],
   "source": [
    "rf_custom_pred_3_list = pd.DataFrame(rf_custom_pred_3).T.values.tolist()\n",
    "rf_custom_pred_3_df = pd.DataFrame(rf_custom_pred_3_list)\n",
    "rf_custom_pred_3_df = rf_custom_pred_3_df.transpose()\n",
    "rf_custom_pred_3_df.columns = ['rf_custom_3']"
   ]
  },
  {
   "cell_type": "code",
   "execution_count": 256,
   "id": "500a1dab",
   "metadata": {},
   "outputs": [],
   "source": [
    "rf_custom_pred_3_df.to_csv('custom_pred/rf_custom_pred_3_df.csv', index=False)"
   ]
  },
  {
   "cell_type": "code",
   "execution_count": 257,
   "id": "452a48f6",
   "metadata": {},
   "outputs": [],
   "source": [
    "proba_rf_6월_custom_3_list = pd.DataFrame(proba_rf_6월_custom_3).T.values.tolist()\n",
    "proba_rf_6월_custom_3_df = pd.DataFrame(proba_rf_6월_custom_3_list)\n",
    "proba_rf_6월_custom_3_df = proba_rf_6월_custom_3_df.transpose()\n",
    "proba_rf_6월_custom_3_df.columns = ['june_rf_3']"
   ]
  },
  {
   "cell_type": "code",
   "execution_count": 258,
   "id": "12f9c008",
   "metadata": {},
   "outputs": [],
   "source": [
    "proba_rf_6월_custom_3_df.to_csv('custom_pred/rf_6월_custom_3_df.csv', index=False)"
   ]
  },
  {
   "cell_type": "markdown",
   "id": "9d89ee3a",
   "metadata": {},
   "source": [
    "#### 모델 4(real_train_x4_scaled 사용)"
   ]
  },
  {
   "cell_type": "code",
   "execution_count": 259,
   "id": "e07a3781",
   "metadata": {},
   "outputs": [
    {
     "name": "stdout",
     "output_type": "stream",
     "text": [
      "[[2248048  642803]\n",
      " [  26852  138438]]\n",
      "**************************************************\n",
      "\n",
      "정확도 : 0.78, 정밀도 : 0.18, 재현율 : 0.84\n",
      "f1-score : 0.29, auc : 0.81\n"
     ]
    }
   ],
   "source": [
    "# RandomForest\n",
    "from sklearn.ensemble import RandomForestClassifier\n",
    "\n",
    "rf_clf_4 = RandomForestClassifier(random_state=42)\n",
    "rf_clf_4.fit(real_train_x4_scaled, real_train_y4)\n",
    "rf_preds_4 = rf_clf_4.predict(X_test_4_scaled)\n",
    "rf_preds_final_4 = rf_clf_4.predict(test_f_scaled_4)\n",
    "\n",
    "display_eval(y_test, rf_preds_4)"
   ]
  },
  {
   "cell_type": "code",
   "execution_count": 260,
   "id": "ec4e20f9",
   "metadata": {},
   "outputs": [
    {
     "data": {
      "image/png": "[encoded data removed]",
      "text/plain": [
       "<Figure size 432x288 with 1 Axes>"
      ]
     },
     "metadata": {
      "needs_background": "light"
     },
     "output_type": "display_data"
    }
   ],
   "source": [
    "# 예측 확률\n",
    "proba_rf_4 = rf_clf_4.predict_proba(X_test_4_scaled)\n",
    "proba_rf_6월_4 = rf_clf_4.predict_proba(test_f_scaled_4)\n",
    "\n",
    "# precision,recall은 trade off관계, precision_recall_curve( )\n",
    "precision,recall,th = precision_recall_curve(y_test,proba_rf_4[:,1])\n",
    "\n",
    "plt.xlabel('threadhold') #임계값\n",
    "plt.ylabel('score')\n",
    "plt.plot(th,precision[:len(th)],'red',linestyle = '--',label = 'precision')\n",
    "plt.plot(th,recall[:len(th)],'blue',label = 'recall')\n",
    "plt.legend()\n",
    "plt.show()"
   ]
  },
  {
   "cell_type": "code",
   "execution_count": 261,
   "id": "c7e3c8b9",
   "metadata": {},
   "outputs": [
    {
     "name": "stdout",
     "output_type": "stream",
     "text": [
      "임계값 0.0, 정확도:0.0735, 재현율:0.9999758001088995, 정밀도: 0.055151624758336674, f1:0.10453768671961668\n",
      "임계값 0.05, 정확도:0.1981, 재현율:0.9992921531853106, 정밀도: 0.06314626062947845, f1:0.11878629750116054\n",
      "임계값 0.1, 정확도:0.3062, 재현율:0.9968963639663622, 정밀도: 0.07212156280529013, f1:0.13451172692920252\n",
      "임계값 0.15000000000000002, 정확도:0.3955, 재현율:0.9923044346300441, 정밀도: 0.08159778794763788, f1:0.15079556617750828\n",
      "임계값 0.2, 정확도:0.4715, 재현율:0.984838768225543, 정밀도: 0.09168811711097719, f1:0.16775802545473284\n",
      "임계값 0.25, 정확도:0.5379, 재현율:0.9735374190816142, 정밀도: 0.10258312933496531, f1:0.18560841556464217\n",
      "임계값 0.30000000000000004, 정확도:0.5971, 재현율:0.9583580373888317, 정밀도: 0.11454398468186525, f1:0.2046303317474322\n",
      "임계값 0.35000000000000003, 정확도:0.6499, 재현율:0.9376852804162381, 정밀도: 0.12761367612852761, f1:0.22465330497204336\n",
      "임계값 0.4, 정확도:0.6978, 재현율:0.9116764474559864, 정밀도: 0.14220773950742413, f1:0.24603736987160227\n",
      "임계값 0.45, 정확도:0.7414, 재현율:0.8789097949059229, 정밀도: 0.15869574003939127, f1:0.2688482966464055\n",
      "임계값 0.5, 정확도:0.7809, 재현율:0.8375461310424103, 정밀도: 0.17720268137488943, f1:0.2925165683955412\n",
      "임계값 0.55, 정확도:0.8166, 재현율:0.7875794058926735, 정밀도: 0.19854044655929723, f1:0.31713460906001434\n",
      "임계값 0.6000000000000001, 정확도:0.8483, 재현율:0.7246596890313993, 정밀도: 0.2226226497855162, f1:0.34060734282537536\n",
      "임계값 0.65, 정확도:0.8760, 재현율:0.6486478310847601, 정밀도: 0.25044323652596, f1:0.3613637550957126\n",
      "임계값 0.7000000000000001, 정확도:0.8996, 재현율:0.5574202916086878, 정밀도: 0.28267605893073, f1:0.3751221418800078\n",
      "임계값 0.75, 정확도:0.9184, 재현율:0.451406618670216, 정밀도: 0.3198787587779845, f1:0.3744279176201373\n",
      "임계값 0.8, 정확도:0.9322, 재현율:0.3321919051364269, 정밀도: 0.3617556759035986, f1:0.346344048039562\n",
      "임계값 0.8500000000000001, 정확도:0.9408, 재현율:0.2086575110412003, 정밀도: 0.40745947734039034, f1:0.2759848600030408\n",
      "임계값 0.9, 정확도:0.9451, 재현율:0.09695081372133825, 정밀도: 0.464425445587596, f1:0.16041442478540502\n",
      "임계값 0.9500000000000001, 정확도:0.9461, 재현율:0.020981305584124872, 정밀도: 0.531738730450782, f1:0.04036970642329988\n"
     ]
    }
   ],
   "source": [
    "from sklearn.preprocessing import Binarizer\n",
    "\n",
    "for i in np.arange(0,1,0.05):\n",
    "    custom_threshold = i\n",
    "\n",
    "    proba_rf_4_final = proba_rf_4[:,1].reshape(-1,1)\n",
    "\n",
    "    binarizer = Binarizer(threshold=custom_threshold).fit(proba_rf_4_final)\n",
    "    custom_pred = binarizer.transform(proba_rf_4_final)\n",
    "\n",
    "    recall = recall_score(y_test, custom_pred)\n",
    "    acc = accuracy_score(y_test, custom_pred)\n",
    "    f1 = f1_score(y_test, custom_pred)\n",
    "    precision = precision_score(y_test, custom_pred)\n",
    "    print(f\"임계값 {i}, 정확도:{acc:.4f}, 재현율:{recall}, 정밀도: {precision}, f1:{f1}\")"
   ]
  },
  {
   "cell_type": "code",
   "execution_count": 262,
   "id": "01731de6",
   "metadata": {},
   "outputs": [
    {
     "name": "stdout",
     "output_type": "stream",
     "text": [
      "[[2657045  233806]\n",
      " [  73154   92136]]\n",
      "**************************************************\n",
      "\n",
      "정확도 : 0.90, 정밀도 : 0.28, 재현율 : 0.56\n",
      "f1-score : 0.38, auc : 0.74\n"
     ]
    }
   ],
   "source": [
    "from sklearn.preprocessing import Binarizer\n",
    "\n",
    "# Binarizer의 threshold 값을 0.7로 설정\n",
    "custom_threshold = 0.7\n",
    "\n",
    "#즉 Positive 클래스의 컬럼 하나만 추출하여 Binarizer를 적용\n",
    "proba_rf_4_final = proba_rf_4[:,1].reshape(-1,1)\n",
    "proba_rf_6월_4_final = proba_rf_6월_4[:,1].reshape(-1,1)\n",
    "\n",
    "binarizer=Binarizer(threshold=custom_threshold).fit(proba_rf_4_final)\n",
    "rf_custom_pred_4 = binarizer.transform(proba_rf_4_final)\n",
    "\n",
    "proba_rf_6월_custom_4 = binarizer.transform(proba_rf_6월_4_final)\n",
    "\n",
    "display_eval(y_test, rf_custom_pred_4)"
   ]
  },
  {
   "cell_type": "code",
   "execution_count": 263,
   "id": "5953f2e2",
   "metadata": {},
   "outputs": [],
   "source": [
    "rf_custom_pred_4_list = pd.DataFrame(rf_custom_pred_4).T.values.tolist()\n",
    "rf_custom_pred_4_df = pd.DataFrame(rf_custom_pred_4_list)\n",
    "rf_custom_pred_4_df = rf_custom_pred_4_df.transpose()\n",
    "rf_custom_pred_4_df.columns = ['rf_custom_4']"
   ]
  },
  {
   "cell_type": "code",
   "execution_count": 264,
   "id": "cc8daf64",
   "metadata": {},
   "outputs": [],
   "source": [
    "rf_custom_pred_4_df.to_csv('custom_pred/rf_custom_pred_4_df.csv', index=False)"
   ]
  },
  {
   "cell_type": "code",
   "execution_count": 265,
   "id": "340a1dcc",
   "metadata": {},
   "outputs": [],
   "source": [
    "proba_rf_6월_custom_4_list = pd.DataFrame(proba_rf_6월_custom_4).T.values.tolist()\n",
    "proba_rf_6월_custom_4_df = pd.DataFrame(proba_rf_6월_custom_4_list)\n",
    "proba_rf_6월_custom_4_df = proba_rf_6월_custom_4_df.transpose()\n",
    "proba_rf_6월_custom_4_df.columns = ['june_rf_4']"
   ]
  },
  {
   "cell_type": "code",
   "execution_count": 266,
   "id": "e51dc1c4",
   "metadata": {},
   "outputs": [],
   "source": [
    "proba_rf_6월_custom_4_df.to_csv('custom_pred/rf_6월_custom_4_df.csv', index=False)"
   ]
  },
  {
   "cell_type": "markdown",
   "id": "25cc2ca1",
   "metadata": {},
   "source": [
    "#### 모델 5(real_train_x5_scaled 사용)"
   ]
  },
  {
   "cell_type": "code",
   "execution_count": 267,
   "id": "5bc89bde",
   "metadata": {},
   "outputs": [
    {
     "name": "stdout",
     "output_type": "stream",
     "text": [
      "[[2247098  643753]\n",
      " [  26738  138552]]\n",
      "**************************************************\n",
      "\n",
      "정확도 : 0.78, 정밀도 : 0.18, 재현율 : 0.84\n",
      "f1-score : 0.29, auc : 0.81\n"
     ]
    }
   ],
   "source": [
    "# RandomForest\n",
    "from sklearn.ensemble import RandomForestClassifier\n",
    "\n",
    "rf_clf_5 = RandomForestClassifier(random_state=42)\n",
    "rf_clf_5.fit(real_train_x5_scaled, real_train_y5)\n",
    "rf_preds_5 = rf_clf_5.predict(X_test_5_scaled)\n",
    "rf_preds_final_5 = rf_clf_5.predict(test_f_scaled_5)\n",
    "\n",
    "display_eval(y_test, rf_preds_5)"
   ]
  },
  {
   "cell_type": "code",
   "execution_count": 268,
   "id": "62116de9",
   "metadata": {},
   "outputs": [
    {
     "data": {
      "image/png": "[encoded data removed]",
      "text/plain": [
       "<Figure size 432x288 with 1 Axes>"
      ]
     },
     "metadata": {
      "needs_background": "light"
     },
     "output_type": "display_data"
    }
   ],
   "source": [
    "# 예측 확률\n",
    "proba_rf_5 = rf_clf_5.predict_proba(X_test_5_scaled)\n",
    "proba_rf_6월_5 = rf_clf_5.predict_proba(test_f_scaled_5)\n",
    "\n",
    "# precision,recall은 trade off관계, precision_recall_curve( )\n",
    "precision,recall,th = precision_recall_curve(y_test,proba_rf_5[:,1])\n",
    "\n",
    "plt.xlabel('threadhold') #임계값\n",
    "plt.ylabel('score')\n",
    "plt.plot(th,precision[:len(th)],'red',linestyle = '--',label = 'precision')\n",
    "plt.plot(th,recall[:len(th)],'blue',label = 'recall')\n",
    "plt.legend()\n",
    "plt.show()"
   ]
  },
  {
   "cell_type": "code",
   "execution_count": 269,
   "id": "274666a4",
   "metadata": {},
   "outputs": [
    {
     "name": "stdout",
     "output_type": "stream",
     "text": [
      "임계값 0.0, 정확도:0.0745, 재현율:0.9999818500816746, 정밀도: 0.055213418483819825, f1:0.10464871860133236\n",
      "임계값 0.05, 정확도:0.2009, 재현율:0.9992316534575595, 정밀도: 0.06335162196538355, f1:0.11914914798652708\n",
      "임계값 0.1, 정확도:0.3089, 재현율:0.9968600641297114, 정밀도: 0.07238179330218787, f1:0.1349638879389607\n",
      "임계값 0.15000000000000002, 정확도:0.3976, 재현율:0.9922318349567427, 정밀도: 0.08185357629647079, f1:0.15123140740112342\n",
      "임계값 0.2, 정확도:0.4729, 재현율:0.9848690180894186, 정밀도: 0.09191588112237552, f1:0.16813962315794367\n",
      "임계값 0.25, 정확도:0.5390, 재현율:0.9741787161957771, 정밀도: 0.1028427997521891, f1:0.18604506065857887\n",
      "임계값 0.30000000000000004, 정확도:0.5974, 재현율:0.9589025349385928, 정밀도: 0.11468336661746403, f1:0.2048651548150685\n",
      "임계값 0.35000000000000003, 정확도:0.6503, 재현율:0.9385806763869563, 정밀도: 0.1278095140803182, f1:0.22498245247666612\n",
      "임계값 0.4, 정확도:0.6980, 재현율:0.9124508439712021, 정밀도: 0.14235567066747715, f1:0.24628697309310857\n",
      "임계값 0.45, 정확도:0.7412, 재현율:0.8793695928368322, 정밀도: 0.1586190038118498, f1:0.26875965545008845\n",
      "임계값 0.5, 정확도:0.7806, 재현율:0.8382358279387743, 정밀도: 0.1771073941749062, f1:0.29242872746268184\n",
      "임계값 0.55, 정확도:0.8164, 재현율:0.7888075503660233, 정밀도: 0.19859774292359786, f1:0.3173071891925437\n",
      "임계값 0.6000000000000001, 정확도:0.8482, 재현율:0.7264504809728356, 정밀도: 0.22287620277975767, f1:0.3411018092670608\n",
      "임계값 0.65, 정확도:0.8758, 재현율:0.650269223788493, 정밀도: 0.25044037877234515, f1:0.3616119340719234\n",
      "임계값 0.7000000000000001, 정확도:0.8996, 재현율:0.560148829330268, 정밀도: 0.2832740801478372, f1:0.3762659102361949\n",
      "임계값 0.75, 정확도:0.9183, 재현율:0.4516425676084458, 정밀도: 0.3194761843625626, f1:0.3742330058151193\n",
      "임계값 0.8, 정확도:0.9322, 재현율:0.33245205396575717, 정밀도: 0.3617648801490484, f1:0.34648961022992747\n",
      "임계값 0.8500000000000001, 정확도:0.9408, 재현율:0.20808276362756367, 정밀도: 0.40783076813622027, f1:0.27556645194372337\n",
      "임계값 0.9, 정확도:0.9450, 재현율:0.09597071813176841, 정밀도: 0.45925132451289774, f1:0.1587641557115763\n",
      "임계값 0.9500000000000001, 정확도:0.9460, 재현율:0.021072055175751708, 정밀도: 0.5242323901264299, f1:0.0405155466632545\n"
     ]
    }
   ],
   "source": [
    "from sklearn.preprocessing import Binarizer\n",
    "\n",
    "for i in np.arange(0,1,0.05):\n",
    "    custom_threshold = i\n",
    "\n",
    "    proba_rf_5_final = proba_rf_5[:,1].reshape(-1,1)\n",
    "\n",
    "    binarizer = Binarizer(threshold=custom_threshold).fit(proba_rf_5_final)\n",
    "    custom_pred = binarizer.transform(proba_rf_5_final)\n",
    "\n",
    "    recall = recall_score(y_test, custom_pred)\n",
    "    acc = accuracy_score(y_test, custom_pred)\n",
    "    f1 = f1_score(y_test, custom_pred)\n",
    "    precision = precision_score(y_test, custom_pred)\n",
    "    print(f\"임계값 {i}, 정확도:{acc:.4f}, 재현율:{recall}, 정밀도: {precision}, f1:{f1}\")"
   ]
  },
  {
   "cell_type": "code",
   "execution_count": 270,
   "id": "aedb7ce3",
   "metadata": {},
   "outputs": [
    {
     "name": "stdout",
     "output_type": "stream",
     "text": [
      "[[2656592  234259]\n",
      " [  72703   92587]]\n",
      "**************************************************\n",
      "\n",
      "정확도 : 0.90, 정밀도 : 0.28, 재현율 : 0.56\n",
      "f1-score : 0.38, auc : 0.74\n"
     ]
    }
   ],
   "source": [
    "from sklearn.preprocessing import Binarizer\n",
    "\n",
    "# Binarizer의 threshold 값을 0.7로 설정\n",
    "custom_threshold = 0.7\n",
    "\n",
    "#즉 Positive 클래스의 컬럼 하나만 추출하여 Binarizer를 적용\n",
    "proba_rf_5_final = proba_rf_5[:,1].reshape(-1,1)\n",
    "proba_rf_6월_5_final = proba_rf_6월_5[:,1].reshape(-1,1)\n",
    "\n",
    "binarizer=Binarizer(threshold=custom_threshold).fit(proba_rf_5_final)\n",
    "rf_custom_pred_5 = binarizer.transform(proba_rf_5_final)\n",
    "\n",
    "proba_rf_6월_custom_5 = binarizer.transform(proba_rf_6월_5_final)\n",
    "\n",
    "display_eval(y_test, rf_custom_pred_5)"
   ]
  },
  {
   "cell_type": "code",
   "execution_count": 271,
   "id": "b2398934",
   "metadata": {},
   "outputs": [],
   "source": [
    "rf_custom_pred_5_list = pd.DataFrame(rf_custom_pred_5).T.values.tolist()\n",
    "rf_custom_pred_5_df = pd.DataFrame(rf_custom_pred_5_list)\n",
    "rf_custom_pred_5_df = rf_custom_pred_5_df.transpose()\n",
    "rf_custom_pred_5_df.columns = ['rf_custom_5']"
   ]
  },
  {
   "cell_type": "code",
   "execution_count": 272,
   "id": "18041da8",
   "metadata": {},
   "outputs": [],
   "source": [
    "rf_custom_pred_5_df.to_csv('custom_pred/rf_custom_pred_5_df.csv', index=False)"
   ]
  },
  {
   "cell_type": "code",
   "execution_count": 273,
   "id": "d1fe8957",
   "metadata": {},
   "outputs": [],
   "source": [
    "proba_rf_6월_custom_5_list = pd.DataFrame(proba_rf_6월_custom_5).T.values.tolist()\n",
    "proba_rf_6월_custom_5_df = pd.DataFrame(proba_rf_6월_custom_5_list)\n",
    "proba_rf_6월_custom_5_df = proba_rf_6월_custom_5_df.transpose()\n",
    "proba_rf_6월_custom_5_df.columns = ['june_rf_5']"
   ]
  },
  {
   "cell_type": "code",
   "execution_count": 274,
   "id": "1ce478c4",
   "metadata": {},
   "outputs": [],
   "source": [
    "proba_rf_6월_custom_5_df.to_csv('custom_pred/rf_6월_custom_5_df.csv', index=False)"
   ]
  },
  {
   "cell_type": "markdown",
   "id": "3e296638",
   "metadata": {},
   "source": [
    "## 모델 기반 데이터 해석"
   ]
  },
  {
   "cell_type": "code",
   "execution_count": 290,
   "id": "7fe62ecf",
   "metadata": {
    "scrolled": true
   },
   "outputs": [
    {
     "name": "stdout",
     "output_type": "stream",
     "text": [
      "<class 'pandas.core.frame.DataFrame'>\n",
      "Int64Index: 3255482 entries, 10187132 to 13442613\n",
      "Data columns (total 50 columns):\n",
      " #   Column                       Dtype  \n",
      "---  ------                       -----  \n",
      " 0   콜금리(%)                       float64\n",
      " 1   loanapply_day                int64  \n",
      " 2   application_id               int64  \n",
      " 3   bank_id                      int64  \n",
      " 4   product_id                   int64  \n",
      " 5   loan_limit                   float64\n",
      " 6   loan_rate                    float64\n",
      " 7   user_id                      int64  \n",
      " 8   birth_year                   float64\n",
      " 9   credit_score                 float64\n",
      " 10  yearly_income                float64\n",
      " 11  desired_amount               float64\n",
      " 12  existing_loan_cnt            float64\n",
      " 13  existing_loan_amt            float64\n",
      " 14  gender                       float64\n",
      " 15  time_at_work                 float64\n",
      " 16  생활물가지수                       float64\n",
      " 17  소비자심리지수                      float64\n",
      " 18  핀다                           float64\n",
      " 19  대출                           float64\n",
      " 20  금리                           float64\n",
      " 21  income_type_EARNEDINCOME     uint8  \n",
      " 22  income_type_EARNEDINCOME2    uint8  \n",
      " 23  income_type_FREELANCER       uint8  \n",
      " 24  income_type_OTHERINCOME      uint8  \n",
      " 25  income_type_PRACTITIONER     uint8  \n",
      " 26  income_type_PRIVATEBUSINESS  uint8  \n",
      " 27  employment_type_계약직          uint8  \n",
      " 28  employment_type_기타           uint8  \n",
      " 29  employment_type_일용직          uint8  \n",
      " 30  employment_type_정규직          uint8  \n",
      " 31  houseown_type_기타가족소유         uint8  \n",
      " 32  houseown_type_배우자            uint8  \n",
      " 33  houseown_type_자가             uint8  \n",
      " 34  houseown_type_전월세            uint8  \n",
      " 35  purpose_기타                   uint8  \n",
      " 36  purpose_대환대출                 uint8  \n",
      " 37  purpose_사업자금                 uint8  \n",
      " 38  purpose_생활비                  uint8  \n",
      " 39  purpose_자동차구입                uint8  \n",
      " 40  purpose_전월세보증금               uint8  \n",
      " 41  purpose_주택구입                 uint8  \n",
      " 42  purpose_투자                   uint8  \n",
      " 43  loanapply_week_Friday        uint8  \n",
      " 44  loanapply_week_Monday        uint8  \n",
      " 45  loanapply_week_Saturday      uint8  \n",
      " 46  loanapply_week_Sunday        uint8  \n",
      " 47  loanapply_week_Thursday      uint8  \n",
      " 48  loanapply_week_Tuesday       uint8  \n",
      " 49  loanapply_week_Wednesday     uint8  \n",
      "dtypes: float64(16), int64(5), uint8(29)\n",
      "memory usage: 636.5 MB\n"
     ]
    }
   ],
   "source": [
    "# 컬럼들의 순서 보여줌\n",
    "test_f.info()"
   ]
  },
  {
   "cell_type": "code",
   "execution_count": 305,
   "id": "9448942b",
   "metadata": {
    "scrolled": true
   },
   "outputs": [
    {
     "data": {
      "text/html": [
       "<div>\n",
       "<style scoped>\n",
       "    .dataframe tbody tr th:only-of-type {\n",
       "        vertical-align: middle;\n",
       "    }\n",
       "\n",
       "    .dataframe tbody tr th {\n",
       "        vertical-align: top;\n",
       "    }\n",
       "\n",
       "    .dataframe thead th {\n",
       "        text-align: right;\n",
       "    }\n",
       "</style>\n",
       "<table border=\"1\" class=\"dataframe\">\n",
       "  <thead>\n",
       "    <tr style=\"text-align: right;\">\n",
       "      <th></th>\n",
       "      <th>콜금리(%)</th>\n",
       "      <th>loanapply_day</th>\n",
       "      <th>application_id</th>\n",
       "      <th>bank_id</th>\n",
       "      <th>product_id</th>\n",
       "      <th>loan_limit</th>\n",
       "      <th>loan_rate</th>\n",
       "      <th>user_id</th>\n",
       "      <th>birth_year</th>\n",
       "      <th>credit_score</th>\n",
       "      <th>...</th>\n",
       "      <th>purpose_전월세보증금</th>\n",
       "      <th>purpose_주택구입</th>\n",
       "      <th>purpose_투자</th>\n",
       "      <th>loanapply_week_Friday</th>\n",
       "      <th>loanapply_week_Monday</th>\n",
       "      <th>loanapply_week_Saturday</th>\n",
       "      <th>loanapply_week_Sunday</th>\n",
       "      <th>loanapply_week_Thursday</th>\n",
       "      <th>loanapply_week_Tuesday</th>\n",
       "      <th>loanapply_week_Wednesday</th>\n",
       "    </tr>\n",
       "  </thead>\n",
       "  <tbody>\n",
       "    <tr>\n",
       "      <th>0</th>\n",
       "      <td>-0.20143</td>\n",
       "      <td>-0.08987</td>\n",
       "      <td>-0.94741</td>\n",
       "      <td>1.41829</td>\n",
       "      <td>-0.00799</td>\n",
       "      <td>1.04680</td>\n",
       "      <td>0.38594</td>\n",
       "      <td>-1.30113</td>\n",
       "      <td>0.19788</td>\n",
       "      <td>-0.66547</td>\n",
       "      <td>...</td>\n",
       "      <td>-0.17269</td>\n",
       "      <td>-0.16288</td>\n",
       "      <td>-0.12862</td>\n",
       "      <td>2.34742</td>\n",
       "      <td>-0.49296</td>\n",
       "      <td>-0.27483</td>\n",
       "      <td>-0.27900</td>\n",
       "      <td>-0.43296</td>\n",
       "      <td>-0.47502</td>\n",
       "      <td>-0.44693</td>\n",
       "    </tr>\n",
       "    <tr>\n",
       "      <th>1</th>\n",
       "      <td>-0.81019</td>\n",
       "      <td>-1.35566</td>\n",
       "      <td>-0.38711</td>\n",
       "      <td>-0.47047</td>\n",
       "      <td>0.19074</td>\n",
       "      <td>0.72763</td>\n",
       "      <td>1.07115</td>\n",
       "      <td>0.73361</td>\n",
       "      <td>0.59016</td>\n",
       "      <td>0.60554</td>\n",
       "      <td>...</td>\n",
       "      <td>-0.17269</td>\n",
       "      <td>-0.16288</td>\n",
       "      <td>-0.12862</td>\n",
       "      <td>2.34742</td>\n",
       "      <td>-0.49296</td>\n",
       "      <td>-0.27483</td>\n",
       "      <td>-0.27900</td>\n",
       "      <td>-0.43296</td>\n",
       "      <td>-0.47502</td>\n",
       "      <td>-0.44693</td>\n",
       "    </tr>\n",
       "    <tr>\n",
       "      <th>2</th>\n",
       "      <td>0.20441</td>\n",
       "      <td>-1.58581</td>\n",
       "      <td>1.42352</td>\n",
       "      <td>1.53276</td>\n",
       "      <td>-0.76317</td>\n",
       "      <td>0.86579</td>\n",
       "      <td>0.05515</td>\n",
       "      <td>-0.05290</td>\n",
       "      <td>0.39402</td>\n",
       "      <td>0.26660</td>\n",
       "      <td>...</td>\n",
       "      <td>5.79058</td>\n",
       "      <td>-0.16288</td>\n",
       "      <td>-0.12862</td>\n",
       "      <td>-0.42600</td>\n",
       "      <td>-0.49296</td>\n",
       "      <td>-0.27483</td>\n",
       "      <td>-0.27900</td>\n",
       "      <td>-0.43296</td>\n",
       "      <td>-0.47502</td>\n",
       "      <td>2.23750</td>\n",
       "    </tr>\n",
       "    <tr>\n",
       "      <th>3</th>\n",
       "      <td>0.88080</td>\n",
       "      <td>1.06084</td>\n",
       "      <td>0.44815</td>\n",
       "      <td>-1.27176</td>\n",
       "      <td>0.21062</td>\n",
       "      <td>-0.34163</td>\n",
       "      <td>-0.01573</td>\n",
       "      <td>1.39823</td>\n",
       "      <td>-0.58667</td>\n",
       "      <td>1.87654</td>\n",
       "      <td>...</td>\n",
       "      <td>-0.17269</td>\n",
       "      <td>-0.16288</td>\n",
       "      <td>-0.12862</td>\n",
       "      <td>-0.42600</td>\n",
       "      <td>-0.49296</td>\n",
       "      <td>-0.27483</td>\n",
       "      <td>-0.27900</td>\n",
       "      <td>-0.43296</td>\n",
       "      <td>-0.47502</td>\n",
       "      <td>2.23750</td>\n",
       "    </tr>\n",
       "    <tr>\n",
       "      <th>4</th>\n",
       "      <td>-0.81019</td>\n",
       "      <td>0.02520</td>\n",
       "      <td>1.60914</td>\n",
       "      <td>0.10188</td>\n",
       "      <td>-1.53822</td>\n",
       "      <td>-1.63033</td>\n",
       "      <td>1.30743</td>\n",
       "      <td>-1.14270</td>\n",
       "      <td>-0.19439</td>\n",
       "      <td>0.69027</td>\n",
       "      <td>...</td>\n",
       "      <td>-0.17269</td>\n",
       "      <td>-0.16288</td>\n",
       "      <td>-0.12862</td>\n",
       "      <td>-0.42600</td>\n",
       "      <td>-0.49296</td>\n",
       "      <td>-0.27483</td>\n",
       "      <td>-0.27900</td>\n",
       "      <td>-0.43296</td>\n",
       "      <td>-0.47502</td>\n",
       "      <td>2.23750</td>\n",
       "    </tr>\n",
       "  </tbody>\n",
       "</table>\n",
       "<p>5 rows × 50 columns</p>\n",
       "</div>"
      ],
      "text/plain": [
       "    콜금리(%)  loanapply_day  application_id  bank_id  product_id  loan_limit  \\\n",
       "0 -0.20143       -0.08987        -0.94741  1.41829    -0.00799     1.04680   \n",
       "1 -0.81019       -1.35566        -0.38711 -0.47047     0.19074     0.72763   \n",
       "2  0.20441       -1.58581         1.42352  1.53276    -0.76317     0.86579   \n",
       "3  0.88080        1.06084         0.44815 -1.27176     0.21062    -0.34163   \n",
       "4 -0.81019        0.02520         1.60914  0.10188    -1.53822    -1.63033   \n",
       "\n",
       "   loan_rate  user_id  birth_year  credit_score  ...  purpose_전월세보증금  \\\n",
       "0    0.38594 -1.30113     0.19788      -0.66547  ...        -0.17269   \n",
       "1    1.07115  0.73361     0.59016       0.60554  ...        -0.17269   \n",
       "2    0.05515 -0.05290     0.39402       0.26660  ...         5.79058   \n",
       "3   -0.01573  1.39823    -0.58667       1.87654  ...        -0.17269   \n",
       "4    1.30743 -1.14270    -0.19439       0.69027  ...        -0.17269   \n",
       "\n",
       "   purpose_주택구입  purpose_투자  loanapply_week_Friday  loanapply_week_Monday  \\\n",
       "0      -0.16288    -0.12862                2.34742               -0.49296   \n",
       "1      -0.16288    -0.12862                2.34742               -0.49296   \n",
       "2      -0.16288    -0.12862               -0.42600               -0.49296   \n",
       "3      -0.16288    -0.12862               -0.42600               -0.49296   \n",
       "4      -0.16288    -0.12862               -0.42600               -0.49296   \n",
       "\n",
       "   loanapply_week_Saturday  loanapply_week_Sunday  loanapply_week_Thursday  \\\n",
       "0                 -0.27483               -0.27900                 -0.43296   \n",
       "1                 -0.27483               -0.27900                 -0.43296   \n",
       "2                 -0.27483               -0.27900                 -0.43296   \n",
       "3                 -0.27483               -0.27900                 -0.43296   \n",
       "4                 -0.27483               -0.27900                 -0.43296   \n",
       "\n",
       "   loanapply_week_Tuesday  loanapply_week_Wednesday  \n",
       "0                -0.47502                  -0.44693  \n",
       "1                -0.47502                  -0.44693  \n",
       "2                -0.47502                   2.23750  \n",
       "3                -0.47502                   2.23750  \n",
       "4                -0.47502                   2.23750  \n",
       "\n",
       "[5 rows x 50 columns]"
      ]
     },
     "execution_count": 305,
     "metadata": {},
     "output_type": "execute_result"
    }
   ],
   "source": [
    "import pandas as pd\n",
    "real_train_x1_scaled_df = pd.DataFrame(real_train_x1_scaled, columns=test_f.columns)\n",
    "real_train_x1_scaled_df.head()"
   ]
  },
  {
   "cell_type": "code",
   "execution_count": 322,
   "id": "642df3fb",
   "metadata": {
    "scrolled": true
   },
   "outputs": [
    {
     "data": {
      "text/html": [
       "<div>\n",
       "<style scoped>\n",
       "    .dataframe tbody tr th:only-of-type {\n",
       "        vertical-align: middle;\n",
       "    }\n",
       "\n",
       "    .dataframe tbody tr th {\n",
       "        vertical-align: top;\n",
       "    }\n",
       "\n",
       "    .dataframe thead th {\n",
       "        text-align: right;\n",
       "    }\n",
       "</style>\n",
       "<table border=\"1\" class=\"dataframe\">\n",
       "  <thead>\n",
       "    <tr style=\"text-align: right;\">\n",
       "      <th></th>\n",
       "      <th>is_applied</th>\n",
       "    </tr>\n",
       "  </thead>\n",
       "  <tbody>\n",
       "    <tr>\n",
       "      <th>0</th>\n",
       "      <td>0.00000</td>\n",
       "    </tr>\n",
       "    <tr>\n",
       "      <th>1</th>\n",
       "      <td>0.00000</td>\n",
       "    </tr>\n",
       "    <tr>\n",
       "      <th>2</th>\n",
       "      <td>0.00000</td>\n",
       "    </tr>\n",
       "    <tr>\n",
       "      <th>3</th>\n",
       "      <td>0.00000</td>\n",
       "    </tr>\n",
       "    <tr>\n",
       "      <th>4</th>\n",
       "      <td>0.00000</td>\n",
       "    </tr>\n",
       "  </tbody>\n",
       "</table>\n",
       "</div>"
      ],
      "text/plain": [
       "   is_applied\n",
       "0     0.00000\n",
       "1     0.00000\n",
       "2     0.00000\n",
       "3     0.00000\n",
       "4     0.00000"
      ]
     },
     "execution_count": 322,
     "metadata": {},
     "output_type": "execute_result"
    }
   ],
   "source": [
    "real_train_y1_df = pd.DataFrame(real_train_y1)\n",
    "real_train_y1_df.head()"
   ]
  },
  {
   "cell_type": "markdown",
   "id": "747cfa28",
   "metadata": {},
   "source": [
    "# 로지스틱 summary"
   ]
  },
  {
   "cell_type": "code",
   "execution_count": 324,
   "id": "32e7446f",
   "metadata": {
    "scrolled": false
   },
   "outputs": [
    {
     "name": "stdout",
     "output_type": "stream",
     "text": [
      "Warning: Maximum number of iterations has been exceeded.\n",
      "         Current function value: 0.534465\n",
      "         Iterations: 35\n"
     ]
    },
    {
     "name": "stderr",
     "output_type": "stream",
     "text": [
      "C:\\Users\\jwshi\\anaconda3\\lib\\site-packages\\statsmodels\\base\\model.py:604: ConvergenceWarning:\n",
      "\n",
      "Maximum Likelihood optimization failed to converge. Check mle_retvals\n",
      "\n"
     ]
    },
    {
     "name": "stdout",
     "output_type": "stream",
     "text": [
      "                           Logit Regression Results                           \n",
      "==============================================================================\n",
      "Dep. Variable:             is_applied   No. Observations:               771350\n",
      "Model:                          Logit   Df Residuals:                   771305\n",
      "Method:                           MLE   Df Model:                           44\n",
      "Date:                Fri, 14 Oct 2022   Pseudo R-squ.:                  0.2289\n",
      "Time:                        12:02:17   Log-Likelihood:            -4.1226e+05\n",
      "converged:                      False   LL-Null:                   -5.3466e+05\n",
      "Covariance Type:            nonrobust   LLR p-value:                     0.000\n",
      "==============================================================================\n",
      "                 coef    std err          z      P>|z|      [0.025      0.975]\n",
      "------------------------------------------------------------------------------\n",
      "x1             0.0200      0.005      4.280      0.000       0.011       0.029\n",
      "x2             0.0068      0.003      2.228      0.026       0.001       0.013\n",
      "x3             0.0035      0.003      1.289      0.197      -0.002       0.009\n",
      "x4             0.0339      0.003     12.239      0.000       0.029       0.039\n",
      "x5             0.1347      0.003     48.141      0.000       0.129       0.140\n",
      "x6             0.2417      0.003     78.918      0.000       0.236       0.248\n",
      "x7            -0.5954      0.003   -196.764      0.000      -0.601      -0.589\n",
      "x8             0.0077      0.003      2.880      0.004       0.002       0.013\n",
      "x9             0.0630      0.003     18.471      0.000       0.056       0.070\n",
      "x10           -0.9795      0.004   -272.326      0.000      -0.987      -0.972\n",
      "x11            0.0583      0.003     17.978      0.000       0.052       0.065\n",
      "x12           -0.4112      0.004   -114.756      0.000      -0.418      -0.404\n",
      "x13            0.2203      0.003     63.419      0.000       0.213       0.227\n",
      "x14            0.0156      0.004      4.057      0.000       0.008       0.023\n",
      "x15            0.0502      0.003     16.175      0.000       0.044       0.056\n",
      "x16            0.0004      0.003      0.133      0.894      -0.006       0.007\n",
      "x17            0.0093      0.005      2.033      0.042       0.000       0.018\n",
      "x18            0.0105      0.005      2.053      0.040       0.000       0.021\n",
      "x19           -0.0200      0.004     -5.377      0.000      -0.027      -0.013\n",
      "x20            0.0544      0.005     11.081      0.000       0.045       0.064\n",
      "x21            0.0324      0.004      8.545      0.000       0.025       0.040\n",
      "x22           -0.2759        nan        nan        nan         nan         nan\n",
      "x23           -0.0181        nan        nan        nan         nan         nan\n",
      "x24            0.1471        nan        nan        nan         nan         nan\n",
      "x25            0.2476        nan        nan        nan         nan         nan\n",
      "x26           -0.0413        nan        nan        nan         nan         nan\n",
      "x27            0.1871        nan        nan        nan         nan         nan\n",
      "x28           -0.0044        nan        nan        nan         nan         nan\n",
      "x29            0.0251        nan        nan        nan         nan         nan\n",
      "x30            0.0205        nan        nan        nan         nan         nan\n",
      "x31           -0.0230        nan        nan        nan         nan         nan\n",
      "x32            0.0317   9.99e+04   3.17e-07      1.000   -1.96e+05    1.96e+05\n",
      "x33           -0.0160   6787.543  -2.36e-06      1.000   -1.33e+04    1.33e+04\n",
      "x34           -0.0414   9.46e+04  -4.37e-07      1.000   -1.85e+05    1.85e+05\n",
      "x35            0.0078   1.09e+05   7.22e-08      1.000   -2.13e+05    2.13e+05\n",
      "x36           -0.0041        nan        nan        nan         nan         nan\n",
      "x37           -0.0657        nan        nan        nan         nan         nan\n",
      "x38            0.0292        nan        nan        nan         nan         nan\n",
      "x39            0.1194        nan        nan        nan         nan         nan\n",
      "x40           -0.0386        nan        nan        nan         nan         nan\n",
      "x41           -0.0894        nan        nan        nan         nan         nan\n",
      "x42           -0.1082        nan        nan        nan         nan         nan\n",
      "x43           -0.0014        nan        nan        nan         nan         nan\n",
      "x44            0.0102        nan        nan        nan         nan         nan\n",
      "x45            0.0081        nan        nan        nan         nan         nan\n",
      "x46           -0.0084        nan        nan        nan         nan         nan\n",
      "x47           -0.0127        nan        nan        nan         nan         nan\n",
      "x48            0.0011        nan        nan        nan         nan         nan\n",
      "x49           -0.0033        nan        nan        nan         nan         nan\n",
      "x50           -0.0016        nan        nan        nan         nan         nan\n",
      "==============================================================================\n"
     ]
    }
   ],
   "source": [
    "# 로지스틱 회귀를 이용해 summary 시도\n",
    "\n",
    "import statsmodels.api as sm\n",
    "\n",
    "# real_train_y1 는 목적 변수\n",
    "logit = sm.Logit(real_train_y1, real_train_x1_scaled)\n",
    "result = logit.fit()\n",
    "\n",
    "# 분석결과 출력\n",
    "print(result.summary())"
   ]
  },
  {
   "cell_type": "markdown",
   "id": "bfe4ff64",
   "metadata": {},
   "source": [
    "scaled를 한 값이므로 바로 위의 test_f.info()를 참고하여 칼럼을 비교\n",
    "+ coef : 절댓값으로 미뤄보아 x10, test_f.info()의 9번인 즉 credit_score가 상당히 영향이 큰 것을 알 수 있음"
   ]
  },
  {
   "cell_type": "code",
   "execution_count": 284,
   "id": "5242fafa",
   "metadata": {
    "scrolled": true
   },
   "outputs": [
    {
     "name": "stdout",
     "output_type": "stream",
     "text": [
      "x1    1.02021\n",
      "x2    1.00680\n",
      "x3    1.00347\n",
      "x4    1.03452\n",
      "x5    1.14416\n",
      "x6    1.27343\n",
      "x7    0.55134\n",
      "x8    1.00777\n",
      "x9    1.06499\n",
      "x10   0.37551\n",
      "x11   1.06003\n",
      "x12   0.66284\n",
      "x13   1.24645\n",
      "x14   1.01577\n",
      "x15   1.05152\n",
      "x16   1.00044\n",
      "x17   1.00932\n",
      "x18   1.01055\n",
      "x19   0.98022\n",
      "x20   1.05592\n",
      "x21   1.03298\n",
      "x22   0.75888\n",
      "x23   0.98211\n",
      "x24   1.15849\n",
      "x25   1.28094\n",
      "x26   0.95957\n",
      "x27   1.20577\n",
      "x28   0.99564\n",
      "x29   1.02542\n",
      "x30   1.02070\n",
      "x31   0.97730\n",
      "x32   1.03223\n",
      "x33   0.98413\n",
      "x34   0.95948\n",
      "x35   1.00788\n",
      "x36   0.99589\n",
      "x37   0.93640\n",
      "x38   1.02959\n",
      "x39   1.12680\n",
      "x40   0.96212\n",
      "x41   0.91446\n",
      "x42   0.89740\n",
      "x43   0.99858\n",
      "x44   1.01027\n",
      "x45   1.00809\n",
      "x46   0.99168\n",
      "x47   0.98735\n",
      "x48   1.00109\n",
      "x49   0.99674\n",
      "x50   0.99844\n",
      "dtype: float64\n"
     ]
    }
   ],
   "source": [
    "# 오즈 비(Odds Ratio) 출력\n",
    "print(np.exp(result.params))"
   ]
  },
  {
   "cell_type": "markdown",
   "id": "ccc5804f",
   "metadata": {},
   "source": [
    "#### randomforest 변수 중요도"
   ]
  },
  {
   "cell_type": "code",
   "execution_count": 301,
   "id": "1f1f438f",
   "metadata": {},
   "outputs": [],
   "source": [
    "import pandas as pd\n",
    "real_train_x2_scaled_df = pd.DataFrame(real_train_x2_scaled_df, columns=test_f.columns)"
   ]
  },
  {
   "cell_type": "code",
   "execution_count": 302,
   "id": "f62549f1",
   "metadata": {},
   "outputs": [
    {
     "data": {
      "text/html": [
       "<div>\n",
       "<style scoped>\n",
       "    .dataframe tbody tr th:only-of-type {\n",
       "        vertical-align: middle;\n",
       "    }\n",
       "\n",
       "    .dataframe tbody tr th {\n",
       "        vertical-align: top;\n",
       "    }\n",
       "\n",
       "    .dataframe thead th {\n",
       "        text-align: right;\n",
       "    }\n",
       "</style>\n",
       "<table border=\"1\" class=\"dataframe\">\n",
       "  <thead>\n",
       "    <tr style=\"text-align: right;\">\n",
       "      <th></th>\n",
       "      <th>콜금리(%)</th>\n",
       "      <th>loanapply_day</th>\n",
       "      <th>application_id</th>\n",
       "      <th>bank_id</th>\n",
       "      <th>product_id</th>\n",
       "      <th>loan_limit</th>\n",
       "      <th>loan_rate</th>\n",
       "      <th>user_id</th>\n",
       "      <th>birth_year</th>\n",
       "      <th>credit_score</th>\n",
       "      <th>...</th>\n",
       "      <th>purpose_전월세보증금</th>\n",
       "      <th>purpose_주택구입</th>\n",
       "      <th>purpose_투자</th>\n",
       "      <th>loanapply_week_Friday</th>\n",
       "      <th>loanapply_week_Monday</th>\n",
       "      <th>loanapply_week_Saturday</th>\n",
       "      <th>loanapply_week_Sunday</th>\n",
       "      <th>loanapply_week_Thursday</th>\n",
       "      <th>loanapply_week_Tuesday</th>\n",
       "      <th>loanapply_week_Wednesday</th>\n",
       "    </tr>\n",
       "  </thead>\n",
       "  <tbody>\n",
       "    <tr>\n",
       "      <th>0</th>\n",
       "      <td>-0.87704</td>\n",
       "      <td>0.60171</td>\n",
       "      <td>1.52248</td>\n",
       "      <td>-1.26962</td>\n",
       "      <td>0.21181</td>\n",
       "      <td>1.20769</td>\n",
       "      <td>-0.01502</td>\n",
       "      <td>-1.60407</td>\n",
       "      <td>-1.37169</td>\n",
       "      <td>-0.58079</td>\n",
       "      <td>...</td>\n",
       "      <td>-0.17387</td>\n",
       "      <td>-0.16323</td>\n",
       "      <td>-0.12823</td>\n",
       "      <td>-0.42647</td>\n",
       "      <td>2.02366</td>\n",
       "      <td>-0.27403</td>\n",
       "      <td>-0.27884</td>\n",
       "      <td>-0.43301</td>\n",
       "      <td>-0.47445</td>\n",
       "      <td>-0.44651</td>\n",
       "    </tr>\n",
       "    <tr>\n",
       "      <th>1</th>\n",
       "      <td>0.47581</td>\n",
       "      <td>0.14133</td>\n",
       "      <td>0.17081</td>\n",
       "      <td>0.56096</td>\n",
       "      <td>1.20503</td>\n",
       "      <td>-1.63289</td>\n",
       "      <td>-1.52741</td>\n",
       "      <td>-1.30901</td>\n",
       "      <td>0.68581</td>\n",
       "      <td>1.11148</td>\n",
       "      <td>...</td>\n",
       "      <td>-0.17387</td>\n",
       "      <td>-0.16323</td>\n",
       "      <td>-0.12823</td>\n",
       "      <td>-0.42647</td>\n",
       "      <td>-0.49415</td>\n",
       "      <td>-0.27403</td>\n",
       "      <td>3.58626</td>\n",
       "      <td>-0.43301</td>\n",
       "      <td>-0.47445</td>\n",
       "      <td>-0.44651</td>\n",
       "    </tr>\n",
       "    <tr>\n",
       "      <th>2</th>\n",
       "      <td>0.61109</td>\n",
       "      <td>-1.70016</td>\n",
       "      <td>-1.03694</td>\n",
       "      <td>-1.15521</td>\n",
       "      <td>-0.40398</td>\n",
       "      <td>-0.95692</td>\n",
       "      <td>1.23742</td>\n",
       "      <td>-0.19936</td>\n",
       "      <td>-0.29395</td>\n",
       "      <td>1.61916</td>\n",
       "      <td>...</td>\n",
       "      <td>-0.17387</td>\n",
       "      <td>-0.16323</td>\n",
       "      <td>-0.12823</td>\n",
       "      <td>2.34483</td>\n",
       "      <td>-0.49415</td>\n",
       "      <td>-0.27403</td>\n",
       "      <td>-0.27884</td>\n",
       "      <td>-0.43301</td>\n",
       "      <td>-0.47445</td>\n",
       "      <td>-0.44651</td>\n",
       "    </tr>\n",
       "    <tr>\n",
       "      <th>3</th>\n",
       "      <td>0.88166</td>\n",
       "      <td>1.06208</td>\n",
       "      <td>-1.22743</td>\n",
       "      <td>0.56096</td>\n",
       "      <td>1.20503</td>\n",
       "      <td>0.28913</td>\n",
       "      <td>-0.58217</td>\n",
       "      <td>0.93823</td>\n",
       "      <td>-0.48990</td>\n",
       "      <td>0.77303</td>\n",
       "      <td>...</td>\n",
       "      <td>-0.17387</td>\n",
       "      <td>-0.16323</td>\n",
       "      <td>-0.12823</td>\n",
       "      <td>-0.42647</td>\n",
       "      <td>-0.49415</td>\n",
       "      <td>-0.27403</td>\n",
       "      <td>-0.27884</td>\n",
       "      <td>-0.43301</td>\n",
       "      <td>-0.47445</td>\n",
       "      <td>2.23962</td>\n",
       "    </tr>\n",
       "    <tr>\n",
       "      <th>4</th>\n",
       "      <td>0.61109</td>\n",
       "      <td>0.14133</td>\n",
       "      <td>1.14401</td>\n",
       "      <td>0.10331</td>\n",
       "      <td>-1.53625</td>\n",
       "      <td>-2.01494</td>\n",
       "      <td>1.04837</td>\n",
       "      <td>-1.55115</td>\n",
       "      <td>0.39188</td>\n",
       "      <td>0.01151</td>\n",
       "      <td>...</td>\n",
       "      <td>-0.17387</td>\n",
       "      <td>-0.16323</td>\n",
       "      <td>-0.12823</td>\n",
       "      <td>-0.42647</td>\n",
       "      <td>-0.49415</td>\n",
       "      <td>-0.27403</td>\n",
       "      <td>-0.27884</td>\n",
       "      <td>-0.43301</td>\n",
       "      <td>2.10773</td>\n",
       "      <td>-0.44651</td>\n",
       "    </tr>\n",
       "  </tbody>\n",
       "</table>\n",
       "<p>5 rows × 50 columns</p>\n",
       "</div>"
      ],
      "text/plain": [
       "    콜금리(%)  loanapply_day  application_id  bank_id  product_id  loan_limit  \\\n",
       "0 -0.87704        0.60171         1.52248 -1.26962     0.21181     1.20769   \n",
       "1  0.47581        0.14133         0.17081  0.56096     1.20503    -1.63289   \n",
       "2  0.61109       -1.70016        -1.03694 -1.15521    -0.40398    -0.95692   \n",
       "3  0.88166        1.06208        -1.22743  0.56096     1.20503     0.28913   \n",
       "4  0.61109        0.14133         1.14401  0.10331    -1.53625    -2.01494   \n",
       "\n",
       "   loan_rate  user_id  birth_year  credit_score  ...  purpose_전월세보증금  \\\n",
       "0   -0.01502 -1.60407    -1.37169      -0.58079  ...        -0.17387   \n",
       "1   -1.52741 -1.30901     0.68581       1.11148  ...        -0.17387   \n",
       "2    1.23742 -0.19936    -0.29395       1.61916  ...        -0.17387   \n",
       "3   -0.58217  0.93823    -0.48990       0.77303  ...        -0.17387   \n",
       "4    1.04837 -1.55115     0.39188       0.01151  ...        -0.17387   \n",
       "\n",
       "   purpose_주택구입  purpose_투자  loanapply_week_Friday  loanapply_week_Monday  \\\n",
       "0      -0.16323    -0.12823               -0.42647                2.02366   \n",
       "1      -0.16323    -0.12823               -0.42647               -0.49415   \n",
       "2      -0.16323    -0.12823                2.34483               -0.49415   \n",
       "3      -0.16323    -0.12823               -0.42647               -0.49415   \n",
       "4      -0.16323    -0.12823               -0.42647               -0.49415   \n",
       "\n",
       "   loanapply_week_Saturday  loanapply_week_Sunday  loanapply_week_Thursday  \\\n",
       "0                 -0.27403               -0.27884                 -0.43301   \n",
       "1                 -0.27403                3.58626                 -0.43301   \n",
       "2                 -0.27403               -0.27884                 -0.43301   \n",
       "3                 -0.27403               -0.27884                 -0.43301   \n",
       "4                 -0.27403               -0.27884                 -0.43301   \n",
       "\n",
       "   loanapply_week_Tuesday  loanapply_week_Wednesday  \n",
       "0                -0.47445                  -0.44651  \n",
       "1                -0.47445                  -0.44651  \n",
       "2                -0.47445                  -0.44651  \n",
       "3                -0.47445                   2.23962  \n",
       "4                 2.10773                  -0.44651  \n",
       "\n",
       "[5 rows x 50 columns]"
      ]
     },
     "execution_count": 302,
     "metadata": {},
     "output_type": "execute_result"
    }
   ],
   "source": [
    "real_train_x2_scaled_df.head()"
   ]
  },
  {
   "cell_type": "code",
   "execution_count": 309,
   "id": "faf88108",
   "metadata": {
    "scrolled": true
   },
   "outputs": [
    {
     "data": {
      "text/html": [
       "<div>\n",
       "<style scoped>\n",
       "    .dataframe tbody tr th:only-of-type {\n",
       "        vertical-align: middle;\n",
       "    }\n",
       "\n",
       "    .dataframe tbody tr th {\n",
       "        vertical-align: top;\n",
       "    }\n",
       "\n",
       "    .dataframe thead th {\n",
       "        text-align: right;\n",
       "    }\n",
       "</style>\n",
       "<table border=\"1\" class=\"dataframe\">\n",
       "  <thead>\n",
       "    <tr style=\"text-align: right;\">\n",
       "      <th></th>\n",
       "      <th>feature</th>\n",
       "      <th>importance</th>\n",
       "    </tr>\n",
       "  </thead>\n",
       "  <tbody>\n",
       "    <tr>\n",
       "      <th>0</th>\n",
       "      <td>콜금리(%)</td>\n",
       "      <td>0.02725</td>\n",
       "    </tr>\n",
       "    <tr>\n",
       "      <th>1</th>\n",
       "      <td>loanapply_day</td>\n",
       "      <td>0.02915</td>\n",
       "    </tr>\n",
       "    <tr>\n",
       "      <th>2</th>\n",
       "      <td>application_id</td>\n",
       "      <td>0.04191</td>\n",
       "    </tr>\n",
       "    <tr>\n",
       "      <th>3</th>\n",
       "      <td>bank_id</td>\n",
       "      <td>0.04556</td>\n",
       "    </tr>\n",
       "    <tr>\n",
       "      <th>4</th>\n",
       "      <td>product_id</td>\n",
       "      <td>0.04950</td>\n",
       "    </tr>\n",
       "    <tr>\n",
       "      <th>5</th>\n",
       "      <td>loan_limit</td>\n",
       "      <td>0.05487</td>\n",
       "    </tr>\n",
       "    <tr>\n",
       "      <th>6</th>\n",
       "      <td>loan_rate</td>\n",
       "      <td>0.09046</td>\n",
       "    </tr>\n",
       "    <tr>\n",
       "      <th>7</th>\n",
       "      <td>user_id</td>\n",
       "      <td>0.04152</td>\n",
       "    </tr>\n",
       "    <tr>\n",
       "      <th>8</th>\n",
       "      <td>birth_year</td>\n",
       "      <td>0.03751</td>\n",
       "    </tr>\n",
       "    <tr>\n",
       "      <th>9</th>\n",
       "      <td>credit_score</td>\n",
       "      <td>0.13841</td>\n",
       "    </tr>\n",
       "    <tr>\n",
       "      <th>10</th>\n",
       "      <td>yearly_income</td>\n",
       "      <td>0.03835</td>\n",
       "    </tr>\n",
       "    <tr>\n",
       "      <th>11</th>\n",
       "      <td>desired_amount</td>\n",
       "      <td>0.06741</td>\n",
       "    </tr>\n",
       "    <tr>\n",
       "      <th>12</th>\n",
       "      <td>existing_loan_cnt</td>\n",
       "      <td>0.03167</td>\n",
       "    </tr>\n",
       "    <tr>\n",
       "      <th>13</th>\n",
       "      <td>existing_loan_amt</td>\n",
       "      <td>0.03877</td>\n",
       "    </tr>\n",
       "    <tr>\n",
       "      <th>14</th>\n",
       "      <td>gender</td>\n",
       "      <td>0.00575</td>\n",
       "    </tr>\n",
       "    <tr>\n",
       "      <th>15</th>\n",
       "      <td>time_at_work</td>\n",
       "      <td>0.03013</td>\n",
       "    </tr>\n",
       "    <tr>\n",
       "      <th>16</th>\n",
       "      <td>생활물가지수</td>\n",
       "      <td>0.00793</td>\n",
       "    </tr>\n",
       "    <tr>\n",
       "      <th>17</th>\n",
       "      <td>소비자심리지수</td>\n",
       "      <td>0.00782</td>\n",
       "    </tr>\n",
       "    <tr>\n",
       "      <th>18</th>\n",
       "      <td>핀다</td>\n",
       "      <td>0.03287</td>\n",
       "    </tr>\n",
       "    <tr>\n",
       "      <th>19</th>\n",
       "      <td>대출</td>\n",
       "      <td>0.03284</td>\n",
       "    </tr>\n",
       "    <tr>\n",
       "      <th>20</th>\n",
       "      <td>금리</td>\n",
       "      <td>0.02748</td>\n",
       "    </tr>\n",
       "    <tr>\n",
       "      <th>21</th>\n",
       "      <td>income_type_EARNEDINCOME</td>\n",
       "      <td>0.02305</td>\n",
       "    </tr>\n",
       "    <tr>\n",
       "      <th>22</th>\n",
       "      <td>income_type_EARNEDINCOME2</td>\n",
       "      <td>0.00290</td>\n",
       "    </tr>\n",
       "    <tr>\n",
       "      <th>23</th>\n",
       "      <td>income_type_FREELANCER</td>\n",
       "      <td>0.00129</td>\n",
       "    </tr>\n",
       "    <tr>\n",
       "      <th>24</th>\n",
       "      <td>income_type_OTHERINCOME</td>\n",
       "      <td>0.00302</td>\n",
       "    </tr>\n",
       "    <tr>\n",
       "      <th>25</th>\n",
       "      <td>income_type_PRACTITIONER</td>\n",
       "      <td>0.00118</td>\n",
       "    </tr>\n",
       "    <tr>\n",
       "      <th>26</th>\n",
       "      <td>income_type_PRIVATEBUSINESS</td>\n",
       "      <td>0.00340</td>\n",
       "    </tr>\n",
       "    <tr>\n",
       "      <th>27</th>\n",
       "      <td>employment_type_계약직</td>\n",
       "      <td>0.00273</td>\n",
       "    </tr>\n",
       "    <tr>\n",
       "      <th>28</th>\n",
       "      <td>employment_type_기타</td>\n",
       "      <td>0.00749</td>\n",
       "    </tr>\n",
       "    <tr>\n",
       "      <th>29</th>\n",
       "      <td>employment_type_일용직</td>\n",
       "      <td>0.00106</td>\n",
       "    </tr>\n",
       "    <tr>\n",
       "      <th>30</th>\n",
       "      <td>employment_type_정규직</td>\n",
       "      <td>0.00734</td>\n",
       "    </tr>\n",
       "    <tr>\n",
       "      <th>31</th>\n",
       "      <td>houseown_type_기타가족소유</td>\n",
       "      <td>0.00541</td>\n",
       "    </tr>\n",
       "    <tr>\n",
       "      <th>32</th>\n",
       "      <td>houseown_type_배우자</td>\n",
       "      <td>0.00016</td>\n",
       "    </tr>\n",
       "    <tr>\n",
       "      <th>33</th>\n",
       "      <td>houseown_type_자가</td>\n",
       "      <td>0.00485</td>\n",
       "    </tr>\n",
       "    <tr>\n",
       "      <th>34</th>\n",
       "      <td>houseown_type_전월세</td>\n",
       "      <td>0.00558</td>\n",
       "    </tr>\n",
       "    <tr>\n",
       "      <th>35</th>\n",
       "      <td>purpose_기타</td>\n",
       "      <td>0.00129</td>\n",
       "    </tr>\n",
       "    <tr>\n",
       "      <th>36</th>\n",
       "      <td>purpose_대환대출</td>\n",
       "      <td>0.00493</td>\n",
       "    </tr>\n",
       "    <tr>\n",
       "      <th>37</th>\n",
       "      <td>purpose_사업자금</td>\n",
       "      <td>0.00176</td>\n",
       "    </tr>\n",
       "    <tr>\n",
       "      <th>38</th>\n",
       "      <td>purpose_생활비</td>\n",
       "      <td>0.01096</td>\n",
       "    </tr>\n",
       "    <tr>\n",
       "      <th>39</th>\n",
       "      <td>purpose_자동차구입</td>\n",
       "      <td>0.00035</td>\n",
       "    </tr>\n",
       "    <tr>\n",
       "      <th>40</th>\n",
       "      <td>purpose_전월세보증금</td>\n",
       "      <td>0.00232</td>\n",
       "    </tr>\n",
       "    <tr>\n",
       "      <th>41</th>\n",
       "      <td>purpose_주택구입</td>\n",
       "      <td>0.00360</td>\n",
       "    </tr>\n",
       "    <tr>\n",
       "      <th>42</th>\n",
       "      <td>purpose_투자</td>\n",
       "      <td>0.00086</td>\n",
       "    </tr>\n",
       "    <tr>\n",
       "      <th>43</th>\n",
       "      <td>loanapply_week_Friday</td>\n",
       "      <td>0.00437</td>\n",
       "    </tr>\n",
       "    <tr>\n",
       "      <th>44</th>\n",
       "      <td>loanapply_week_Monday</td>\n",
       "      <td>0.00450</td>\n",
       "    </tr>\n",
       "    <tr>\n",
       "      <th>45</th>\n",
       "      <td>loanapply_week_Saturday</td>\n",
       "      <td>0.00220</td>\n",
       "    </tr>\n",
       "    <tr>\n",
       "      <th>46</th>\n",
       "      <td>loanapply_week_Sunday</td>\n",
       "      <td>0.00241</td>\n",
       "    </tr>\n",
       "    <tr>\n",
       "      <th>47</th>\n",
       "      <td>loanapply_week_Thursday</td>\n",
       "      <td>0.00436</td>\n",
       "    </tr>\n",
       "    <tr>\n",
       "      <th>48</th>\n",
       "      <td>loanapply_week_Tuesday</td>\n",
       "      <td>0.00482</td>\n",
       "    </tr>\n",
       "    <tr>\n",
       "      <th>49</th>\n",
       "      <td>loanapply_week_Wednesday</td>\n",
       "      <td>0.00465</td>\n",
       "    </tr>\n",
       "  </tbody>\n",
       "</table>\n",
       "</div>"
      ],
      "text/plain": [
       "                        feature  importance\n",
       "0                        콜금리(%)     0.02725\n",
       "1                 loanapply_day     0.02915\n",
       "2                application_id     0.04191\n",
       "3                       bank_id     0.04556\n",
       "4                    product_id     0.04950\n",
       "5                    loan_limit     0.05487\n",
       "6                     loan_rate     0.09046\n",
       "7                       user_id     0.04152\n",
       "8                    birth_year     0.03751\n",
       "9                  credit_score     0.13841\n",
       "10                yearly_income     0.03835\n",
       "11               desired_amount     0.06741\n",
       "12            existing_loan_cnt     0.03167\n",
       "13            existing_loan_amt     0.03877\n",
       "14                       gender     0.00575\n",
       "15                 time_at_work     0.03013\n",
       "16                       생활물가지수     0.00793\n",
       "17                      소비자심리지수     0.00782\n",
       "18                           핀다     0.03287\n",
       "19                           대출     0.03284\n",
       "20                           금리     0.02748\n",
       "21     income_type_EARNEDINCOME     0.02305\n",
       "22    income_type_EARNEDINCOME2     0.00290\n",
       "23       income_type_FREELANCER     0.00129\n",
       "24      income_type_OTHERINCOME     0.00302\n",
       "25     income_type_PRACTITIONER     0.00118\n",
       "26  income_type_PRIVATEBUSINESS     0.00340\n",
       "27          employment_type_계약직     0.00273\n",
       "28           employment_type_기타     0.00749\n",
       "29          employment_type_일용직     0.00106\n",
       "30          employment_type_정규직     0.00734\n",
       "31         houseown_type_기타가족소유     0.00541\n",
       "32            houseown_type_배우자     0.00016\n",
       "33             houseown_type_자가     0.00485\n",
       "34            houseown_type_전월세     0.00558\n",
       "35                   purpose_기타     0.00129\n",
       "36                 purpose_대환대출     0.00493\n",
       "37                 purpose_사업자금     0.00176\n",
       "38                  purpose_생활비     0.01096\n",
       "39                purpose_자동차구입     0.00035\n",
       "40               purpose_전월세보증금     0.00232\n",
       "41                 purpose_주택구입     0.00360\n",
       "42                   purpose_투자     0.00086\n",
       "43        loanapply_week_Friday     0.00437\n",
       "44        loanapply_week_Monday     0.00450\n",
       "45      loanapply_week_Saturday     0.00220\n",
       "46        loanapply_week_Sunday     0.00241\n",
       "47      loanapply_week_Thursday     0.00436\n",
       "48       loanapply_week_Tuesday     0.00482\n",
       "49     loanapply_week_Wednesday     0.00465"
      ]
     },
     "execution_count": 309,
     "metadata": {},
     "output_type": "execute_result"
    }
   ],
   "source": [
    "feature_importance = pd.DataFrame({\n",
    "    'feature': real_train_x2_scaled_df.columns,\n",
    "    'importance': rf_clf_1.feature_importances_\n",
    "})\n",
    "    feature_importance"
   ]
  },
  {
   "cell_type": "code",
   "execution_count": 313,
   "id": "b00d9b34",
   "metadata": {},
   "outputs": [],
   "source": [
    "feature_importance.sort_values('importance', inplace=True, ascending=False)"
   ]
  },
  {
   "cell_type": "code",
   "execution_count": 314,
   "id": "0586fcbc",
   "metadata": {
    "scrolled": false
   },
   "outputs": [
    {
     "data": {
      "application/vnd.plotly.v1+json": {
       "config": {
        "plotlyServerURL": "https://plot.ly"
       },
       "data": [
        {
         "alignmentgroup": "True",
         "hovertemplate": "feature=%{x}<br>importance=%{y}<extra></extra>",
         "legendgroup": "",
         "marker": {
          "color": "#636efa",
          "pattern": {
           "shape": ""
          }
         },
         "name": "",
         "offsetgroup": "",
         "orientation": "v",
         "showlegend": false,
         "textposition": "auto",
         "type": "bar",
         "x": [
          "credit_score",
          "loan_rate",
          "desired_amount",
          "loan_limit",
          "product_id",
          "bank_id",
          "application_id",
          "user_id",
          "existing_loan_amt",
          "yearly_income",
          "birth_year",
          "핀다",
          "대출",
          "existing_loan_cnt",
          "time_at_work",
          "loanapply_day",
          "금리",
          "콜금리(%)",
          "income_type_EARNEDINCOME",
          "purpose_생활비",
          "생활물가지수",
          "소비자심리지수",
          "employment_type_기타",
          "employment_type_정규직",
          "gender",
          "houseown_type_전월세",
          "houseown_type_기타가족소유",
          "purpose_대환대출",
          "houseown_type_자가",
          "loanapply_week_Tuesday",
          "loanapply_week_Wednesday",
          "loanapply_week_Monday",
          "loanapply_week_Friday",
          "loanapply_week_Thursday",
          "purpose_주택구입",
          "income_type_PRIVATEBUSINESS",
          "income_type_OTHERINCOME",
          "income_type_EARNEDINCOME2",
          "employment_type_계약직",
          "loanapply_week_Sunday",
          "purpose_전월세보증금",
          "loanapply_week_Saturday",
          "purpose_사업자금",
          "purpose_기타",
          "income_type_FREELANCER",
          "income_type_PRACTITIONER",
          "employment_type_일용직",
          "purpose_투자",
          "purpose_자동차구입",
          "houseown_type_배우자"
         ],
         "xaxis": "x",
         "y": [
          0.13841026062441264,
          0.09045839061116805,
          0.06741181921591065,
          0.054866493509041714,
          0.04950130825549307,
          0.04556078655486522,
          0.04190733537055145,
          0.04152332670722387,
          0.03876992288141525,
          0.0383477649600363,
          0.03751320922905335,
          0.03287352779506541,
          0.03283627131940189,
          0.03166840136174943,
          0.030132241933391528,
          0.029150594345828076,
          0.027482539229925832,
          0.02725379545936675,
          0.023046507246356016,
          0.010964698466566438,
          0.007929581287961503,
          0.007815034449485874,
          0.0074864297947969905,
          0.007344307751080355,
          0.005752640696156273,
          0.005583630113577512,
          0.005409092886303116,
          0.004928540757873874,
          0.004852310595156093,
          0.004816678391136781,
          0.004654735388500402,
          0.004496012807900733,
          0.0043664617839215885,
          0.0043606528737135004,
          0.0035989972403724494,
          0.0033966038484109146,
          0.0030206440933192133,
          0.0028982998298801065,
          0.002729925037931097,
          0.002405992532722664,
          0.002320256779820683,
          0.0022032879539721755,
          0.001762217770451741,
          0.001293029809023651,
          0.0012888562264922827,
          0.0011750804485979654,
          0.0010587095163866606,
          0.0008596930366687576,
          0.00034887895034992175,
          0.00016422227121243494
         ],
         "yaxis": "y"
        }
       ],
       "layout": {
        "barmode": "relative",
        "legend": {
         "tracegroupgap": 0
        },
        "margin": {
         "t": 60
        },
        "template": {
         "data": {
          "bar": [
           {
            "error_x": {
             "color": "#2a3f5f"
            },
            "error_y": {
             "color": "#2a3f5f"
            },
            "marker": {
             "line": {
              "color": "#E5ECF6",
              "width": 0.5
             },
             "pattern": {
              "fillmode": "overlay",
              "size": 10,
              "solidity": 0.2
             }
            },
            "type": "bar"
           }
          ],
          "barpolar": [
           {
            "marker": {
             "line": {
              "color": "#E5ECF6",
              "width": 0.5
             },
             "pattern": {
              "fillmode": "overlay",
              "size": 10,
              "solidity": 0.2
             }
            },
            "type": "barpolar"
           }
          ],
          "carpet": [
           {
            "aaxis": {
             "endlinecolor": "#2a3f5f",
             "gridcolor": "white",
             "linecolor": "white",
             "minorgridcolor": "white",
             "startlinecolor": "#2a3f5f"
            },
            "baxis": {
             "endlinecolor": "#2a3f5f",
             "gridcolor": "white",
             "linecolor": "white",
             "minorgridcolor": "white",
             "startlinecolor": "#2a3f5f"
            },
            "type": "carpet"
           }
          ],
          "choropleth": [
           {
            "colorbar": {
             "outlinewidth": 0,
             "ticks": ""
            },
            "type": "choropleth"
           }
          ],
          "contour": [
           {
            "colorbar": {
             "outlinewidth": 0,
             "ticks": ""
            },
            "colorscale": [
             [
              0,
              "#0d0887"
             ],
             [
              0.1111111111111111,
              "#46039f"
             ],
             [
              0.2222222222222222,
              "#7201a8"
             ],
             [
              0.3333333333333333,
              "#9c179e"
             ],
             [
              0.4444444444444444,
              "#bd3786"
             ],
             [
              0.5555555555555556,
              "#d8576b"
             ],
             [
              0.6666666666666666,
              "#ed7953"
             ],
             [
              0.7777777777777778,
              "#fb9f3a"
             ],
             [
              0.8888888888888888,
              "#fdca26"
             ],
             [
              1,
              "#f0f921"
             ]
            ],
            "type": "contour"
           }
          ],
          "contourcarpet": [
           {
            "colorbar": {
             "outlinewidth": 0,
             "ticks": ""
            },
            "type": "contourcarpet"
           }
          ],
          "heatmap": [
           {
            "colorbar": {
             "outlinewidth": 0,
             "ticks": ""
            },
            "colorscale": [
             [
              0,
              "#0d0887"
             ],
             [
              0.1111111111111111,
              "#46039f"
             ],
             [
              0.2222222222222222,
              "#7201a8"
             ],
             [
              0.3333333333333333,
              "#9c179e"
             ],
             [
              0.4444444444444444,
              "#bd3786"
             ],
             [
              0.5555555555555556,
              "#d8576b"
             ],
             [
              0.6666666666666666,
              "#ed7953"
             ],
             [
              0.7777777777777778,
              "#fb9f3a"
             ],
             [
              0.8888888888888888,
              "#fdca26"
             ],
             [
              1,
              "#f0f921"
             ]
            ],
            "type": "heatmap"
           }
          ],
          "heatmapgl": [
           {
            "colorbar": {
             "outlinewidth": 0,
             "ticks": ""
            },
            "colorscale": [
             [
              0,
              "#0d0887"
             ],
             [
              0.1111111111111111,
              "#46039f"
             ],
             [
              0.2222222222222222,
              "#7201a8"
             ],
             [
              0.3333333333333333,
              "#9c179e"
             ],
             [
              0.4444444444444444,
              "#bd3786"
             ],
             [
              0.5555555555555556,
              "#d8576b"
             ],
             [
              0.6666666666666666,
              "#ed7953"
             ],
             [
              0.7777777777777778,
              "#fb9f3a"
             ],
             [
              0.8888888888888888,
              "#fdca26"
             ],
             [
              1,
              "#f0f921"
             ]
            ],
            "type": "heatmapgl"
           }
          ],
          "histogram": [
           {
            "marker": {
             "pattern": {
              "fillmode": "overlay",
              "size": 10,
              "solidity": 0.2
             }
            },
            "type": "histogram"
           }
          ],
          "histogram2d": [
           {
            "colorbar": {
             "outlinewidth": 0,
             "ticks": ""
            },
            "colorscale": [
             [
              0,
              "#0d0887"
             ],
             [
              0.1111111111111111,
              "#46039f"
             ],
             [
              0.2222222222222222,
              "#7201a8"
             ],
             [
              0.3333333333333333,
              "#9c179e"
             ],
             [
              0.4444444444444444,
              "#bd3786"
             ],
             [
              0.5555555555555556,
              "#d8576b"
             ],
             [
              0.6666666666666666,
              "#ed7953"
             ],
             [
              0.7777777777777778,
              "#fb9f3a"
             ],
             [
              0.8888888888888888,
              "#fdca26"
             ],
             [
              1,
              "#f0f921"
             ]
            ],
            "type": "histogram2d"
           }
          ],
          "histogram2dcontour": [
           {
            "colorbar": {
             "outlinewidth": 0,
             "ticks": ""
            },
            "colorscale": [
             [
              0,
              "#0d0887"
             ],
             [
              0.1111111111111111,
              "#46039f"
             ],
             [
              0.2222222222222222,
              "#7201a8"
             ],
             [
              0.3333333333333333,
              "#9c179e"
             ],
             [
              0.4444444444444444,
              "#bd3786"
             ],
             [
              0.5555555555555556,
              "#d8576b"
             ],
             [
              0.6666666666666666,
              "#ed7953"
             ],
             [
              0.7777777777777778,
              "#fb9f3a"
             ],
             [
              0.8888888888888888,
              "#fdca26"
             ],
             [
              1,
              "#f0f921"
             ]
            ],
            "type": "histogram2dcontour"
           }
          ],
          "mesh3d": [
           {
            "colorbar": {
             "outlinewidth": 0,
             "ticks": ""
            },
            "type": "mesh3d"
           }
          ],
          "parcoords": [
           {
            "line": {
             "colorbar": {
              "outlinewidth": 0,
              "ticks": ""
             }
            },
            "type": "parcoords"
           }
          ],
          "pie": [
           {
            "automargin": true,
            "type": "pie"
           }
          ],
          "scatter": [
           {
            "marker": {
             "colorbar": {
              "outlinewidth": 0,
              "ticks": ""
             }
            },
            "type": "scatter"
           }
          ],
          "scatter3d": [
           {
            "line": {
             "colorbar": {
              "outlinewidth": 0,
              "ticks": ""
             }
            },
            "marker": {
             "colorbar": {
              "outlinewidth": 0,
              "ticks": ""
             }
            },
            "type": "scatter3d"
           }
          ],
          "scattercarpet": [
           {
            "marker": {
             "colorbar": {
              "outlinewidth": 0,
              "ticks": ""
             }
            },
            "type": "scattercarpet"
           }
          ],
          "scattergeo": [
           {
            "marker": {
             "colorbar": {
              "outlinewidth": 0,
              "ticks": ""
             }
            },
            "type": "scattergeo"
           }
          ],
          "scattergl": [
           {
            "marker": {
             "colorbar": {
              "outlinewidth": 0,
              "ticks": ""
             }
            },
            "type": "scattergl"
           }
          ],
          "scattermapbox": [
           {
            "marker": {
             "colorbar": {
              "outlinewidth": 0,
              "ticks": ""
             }
            },
            "type": "scattermapbox"
           }
          ],
          "scatterpolar": [
           {
            "marker": {
             "colorbar": {
              "outlinewidth": 0,
              "ticks": ""
             }
            },
            "type": "scatterpolar"
           }
          ],
          "scatterpolargl": [
           {
            "marker": {
             "colorbar": {
              "outlinewidth": 0,
              "ticks": ""
             }
            },
            "type": "scatterpolargl"
           }
          ],
          "scatterternary": [
           {
            "marker": {
             "colorbar": {
              "outlinewidth": 0,
              "ticks": ""
             }
            },
            "type": "scatterternary"
           }
          ],
          "surface": [
           {
            "colorbar": {
             "outlinewidth": 0,
             "ticks": ""
            },
            "colorscale": [
             [
              0,
              "#0d0887"
             ],
             [
              0.1111111111111111,
              "#46039f"
             ],
             [
              0.2222222222222222,
              "#7201a8"
             ],
             [
              0.3333333333333333,
              "#9c179e"
             ],
             [
              0.4444444444444444,
              "#bd3786"
             ],
             [
              0.5555555555555556,
              "#d8576b"
             ],
             [
              0.6666666666666666,
              "#ed7953"
             ],
             [
              0.7777777777777778,
              "#fb9f3a"
             ],
             [
              0.8888888888888888,
              "#fdca26"
             ],
             [
              1,
              "#f0f921"
             ]
            ],
            "type": "surface"
           }
          ],
          "table": [
           {
            "cells": {
             "fill": {
              "color": "#EBF0F8"
             },
             "line": {
              "color": "white"
             }
            },
            "header": {
             "fill": {
              "color": "#C8D4E3"
             },
             "line": {
              "color": "white"
             }
            },
            "type": "table"
           }
          ]
         },
         "layout": {
          "annotationdefaults": {
           "arrowcolor": "#2a3f5f",
           "arrowhead": 0,
           "arrowwidth": 1
          },
          "autotypenumbers": "strict",
          "coloraxis": {
           "colorbar": {
            "outlinewidth": 0,
            "ticks": ""
           }
          },
          "colorscale": {
           "diverging": [
            [
             0,
             "#8e0152"
            ],
            [
             0.1,
             "#c51b7d"
            ],
            [
             0.2,
             "#de77ae"
            ],
            [
             0.3,
             "#f1b6da"
            ],
            [
             0.4,
             "#fde0ef"
            ],
            [
             0.5,
             "#f7f7f7"
            ],
            [
             0.6,
             "#e6f5d0"
            ],
            [
             0.7,
             "#b8e186"
            ],
            [
             0.8,
             "#7fbc41"
            ],
            [
             0.9,
             "#4d9221"
            ],
            [
             1,
             "#276419"
            ]
           ],
           "sequential": [
            [
             0,
             "#0d0887"
            ],
            [
             0.1111111111111111,
             "#46039f"
            ],
            [
             0.2222222222222222,
             "#7201a8"
            ],
            [
             0.3333333333333333,
             "#9c179e"
            ],
            [
             0.4444444444444444,
             "#bd3786"
            ],
            [
             0.5555555555555556,
             "#d8576b"
            ],
            [
             0.6666666666666666,
             "#ed7953"
            ],
            [
             0.7777777777777778,
             "#fb9f3a"
            ],
            [
             0.8888888888888888,
             "#fdca26"
            ],
            [
             1,
             "#f0f921"
            ]
           ],
           "sequentialminus": [
            [
             0,
             "#0d0887"
            ],
            [
             0.1111111111111111,
             "#46039f"
            ],
            [
             0.2222222222222222,
             "#7201a8"
            ],
            [
             0.3333333333333333,
             "#9c179e"
            ],
            [
             0.4444444444444444,
             "#bd3786"
            ],
            [
             0.5555555555555556,
             "#d8576b"
            ],
            [
             0.6666666666666666,
             "#ed7953"
            ],
            [
             0.7777777777777778,
             "#fb9f3a"
            ],
            [
             0.8888888888888888,
             "#fdca26"
            ],
            [
             1,
             "#f0f921"
            ]
           ]
          },
          "colorway": [
           "#636efa",
           "#EF553B",
           "#00cc96",
           "#ab63fa",
           "#FFA15A",
           "#19d3f3",
           "#FF6692",
           "#B6E880",
           "#FF97FF",
           "#FECB52"
          ],
          "font": {
           "color": "#2a3f5f"
          },
          "geo": {
           "bgcolor": "white",
           "lakecolor": "white",
           "landcolor": "#E5ECF6",
           "showlakes": true,
           "showland": true,
           "subunitcolor": "white"
          },
          "hoverlabel": {
           "align": "left"
          },
          "hovermode": "closest",
          "mapbox": {
           "style": "light"
          },
          "paper_bgcolor": "white",
          "plot_bgcolor": "#E5ECF6",
          "polar": {
           "angularaxis": {
            "gridcolor": "white",
            "linecolor": "white",
            "ticks": ""
           },
           "bgcolor": "#E5ECF6",
           "radialaxis": {
            "gridcolor": "white",
            "linecolor": "white",
            "ticks": ""
           }
          },
          "scene": {
           "xaxis": {
            "backgroundcolor": "#E5ECF6",
            "gridcolor": "white",
            "gridwidth": 2,
            "linecolor": "white",
            "showbackground": true,
            "ticks": "",
            "zerolinecolor": "white"
           },
           "yaxis": {
            "backgroundcolor": "#E5ECF6",
            "gridcolor": "white",
            "gridwidth": 2,
            "linecolor": "white",
            "showbackground": true,
            "ticks": "",
            "zerolinecolor": "white"
           },
           "zaxis": {
            "backgroundcolor": "#E5ECF6",
            "gridcolor": "white",
            "gridwidth": 2,
            "linecolor": "white",
            "showbackground": true,
            "ticks": "",
            "zerolinecolor": "white"
           }
          },
          "shapedefaults": {
           "line": {
            "color": "#2a3f5f"
           }
          },
          "ternary": {
           "aaxis": {
            "gridcolor": "white",
            "linecolor": "white",
            "ticks": ""
           },
           "baxis": {
            "gridcolor": "white",
            "linecolor": "white",
            "ticks": ""
           },
           "bgcolor": "#E5ECF6",
           "caxis": {
            "gridcolor": "white",
            "linecolor": "white",
            "ticks": ""
           }
          },
          "title": {
           "x": 0.05
          },
          "xaxis": {
           "automargin": true,
           "gridcolor": "white",
           "linecolor": "white",
           "ticks": "",
           "title": {
            "standoff": 15
           },
           "zerolinecolor": "white",
           "zerolinewidth": 2
          },
          "yaxis": {
           "automargin": true,
           "gridcolor": "white",
           "linecolor": "white",
           "ticks": "",
           "title": {
            "standoff": 15
           },
           "zerolinecolor": "white",
           "zerolinewidth": 2
          }
         }
        },
        "xaxis": {
         "anchor": "y",
         "domain": [
          0,
          1
         ],
         "title": {
          "text": "feature"
         }
        },
        "yaxis": {
         "anchor": "x",
         "domain": [
          0,
          1
         ],
         "title": {
          "text": "importance"
         }
        }
       }
      },
      "text/html": [
       "<div>                            <div id=\"acc74ef2-486b-4177-8b13-8288e58a9fb0\" class=\"plotly-graph-div\" style=\"height:525px; width:100%;\"></div>            <script type=\"text/javascript\">                require([\"plotly\"], function(Plotly) {                    window.PLOTLYENV=window.PLOTLYENV || {};                                    if (document.getElementById(\"acc74ef2-486b-4177-8b13-8288e58a9fb0\")) {                    Plotly.newPlot(                        \"acc74ef2-486b-4177-8b13-8288e58a9fb0\",                        [{\"alignmentgroup\":\"True\",\"hovertemplate\":\"feature=%{x}<br>importance=%{y}<extra></extra>\",\"legendgroup\":\"\",\"marker\":{\"color\":\"#636efa\",\"pattern\":{\"shape\":\"\"}},\"name\":\"\",\"offsetgroup\":\"\",\"orientation\":\"v\",\"showlegend\":false,\"textposition\":\"auto\",\"x\":[\"credit_score\",\"loan_rate\",\"desired_amount\",\"loan_limit\",\"product_id\",\"bank_id\",\"application_id\",\"user_id\",\"existing_loan_amt\",\"yearly_income\",\"birth_year\",\"\\ud540\\ub2e4\",\"\\ub300\\ucd9c\",\"existing_loan_cnt\",\"time_at_work\",\"loanapply_day\",\"\\uae08\\ub9ac\",\"\\ucf5c\\uae08\\ub9ac(%)\",\"income_type_EARNEDINCOME\",\"purpose_\\uc0dd\\ud65c\\ube44\",\"\\uc0dd\\ud65c\\ubb3c\\uac00\\uc9c0\\uc218\",\"\\uc18c\\ube44\\uc790\\uc2ec\\ub9ac\\uc9c0\\uc218\",\"employment_type_\\uae30\\ud0c0\",\"employment_type_\\uc815\\uaddc\\uc9c1\",\"gender\",\"houseown_type_\\uc804\\uc6d4\\uc138\",\"houseown_type_\\uae30\\ud0c0\\uac00\\uc871\\uc18c\\uc720\",\"purpose_\\ub300\\ud658\\ub300\\ucd9c\",\"houseown_type_\\uc790\\uac00\",\"loanapply_week_Tuesday\",\"loanapply_week_Wednesday\",\"loanapply_week_Monday\",\"loanapply_week_Friday\",\"loanapply_week_Thursday\",\"purpose_\\uc8fc\\ud0dd\\uad6c\\uc785\",\"income_type_PRIVATEBUSINESS\",\"income_type_OTHERINCOME\",\"income_type_EARNEDINCOME2\",\"employment_type_\\uacc4\\uc57d\\uc9c1\",\"loanapply_week_Sunday\",\"purpose_\\uc804\\uc6d4\\uc138\\ubcf4\\uc99d\\uae08\",\"loanapply_week_Saturday\",\"purpose_\\uc0ac\\uc5c5\\uc790\\uae08\",\"purpose_\\uae30\\ud0c0\",\"income_type_FREELANCER\",\"income_type_PRACTITIONER\",\"employment_type_\\uc77c\\uc6a9\\uc9c1\",\"purpose_\\ud22c\\uc790\",\"purpose_\\uc790\\ub3d9\\ucc28\\uad6c\\uc785\",\"houseown_type_\\ubc30\\uc6b0\\uc790\"],\"xaxis\":\"x\",\"y\":[0.13841026062441264,0.09045839061116805,0.06741181921591065,0.054866493509041714,0.04950130825549307,0.04556078655486522,0.04190733537055145,0.04152332670722387,0.03876992288141525,0.0383477649600363,0.03751320922905335,0.03287352779506541,0.03283627131940189,0.03166840136174943,0.030132241933391528,0.029150594345828076,0.027482539229925832,0.02725379545936675,0.023046507246356016,0.010964698466566438,0.007929581287961503,0.007815034449485874,0.0074864297947969905,0.007344307751080355,0.005752640696156273,0.005583630113577512,0.005409092886303116,0.004928540757873874,0.004852310595156093,0.004816678391136781,0.004654735388500402,0.004496012807900733,0.0043664617839215885,0.0043606528737135004,0.0035989972403724494,0.0033966038484109146,0.0030206440933192133,0.0028982998298801065,0.002729925037931097,0.002405992532722664,0.002320256779820683,0.0022032879539721755,0.001762217770451741,0.001293029809023651,0.0012888562264922827,0.0011750804485979654,0.0010587095163866606,0.0008596930366687576,0.00034887895034992175,0.00016422227121243494],\"yaxis\":\"y\",\"type\":\"bar\"}],                        {\"template\":{\"data\":{\"bar\":[{\"error_x\":{\"color\":\"#2a3f5f\"},\"error_y\":{\"color\":\"#2a3f5f\"},\"marker\":{\"line\":{\"color\":\"#E5ECF6\",\"width\":0.5},\"pattern\":{\"fillmode\":\"overlay\",\"size\":10,\"solidity\":0.2}},\"type\":\"bar\"}],\"barpolar\":[{\"marker\":{\"line\":{\"color\":\"#E5ECF6\",\"width\":0.5},\"pattern\":{\"fillmode\":\"overlay\",\"size\":10,\"solidity\":0.2}},\"type\":\"barpolar\"}],\"carpet\":[{\"aaxis\":{\"endlinecolor\":\"#2a3f5f\",\"gridcolor\":\"white\",\"linecolor\":\"white\",\"minorgridcolor\":\"white\",\"startlinecolor\":\"#2a3f5f\"},\"baxis\":{\"endlinecolor\":\"#2a3f5f\",\"gridcolor\":\"white\",\"linecolor\":\"white\",\"minorgridcolor\":\"white\",\"startlinecolor\":\"#2a3f5f\"},\"type\":\"carpet\"}],\"choropleth\":[{\"colorbar\":{\"outlinewidth\":0,\"ticks\":\"\"},\"type\":\"choropleth\"}],\"contour\":[{\"colorbar\":{\"outlinewidth\":0,\"ticks\":\"\"},\"colorscale\":[[0.0,\"#0d0887\"],[0.1111111111111111,\"#46039f\"],[0.2222222222222222,\"#7201a8\"],[0.3333333333333333,\"#9c179e\"],[0.4444444444444444,\"#bd3786\"],[0.5555555555555556,\"#d8576b\"],[0.6666666666666666,\"#ed7953\"],[0.7777777777777778,\"#fb9f3a\"],[0.8888888888888888,\"#fdca26\"],[1.0,\"#f0f921\"]],\"type\":\"contour\"}],\"contourcarpet\":[{\"colorbar\":{\"outlinewidth\":0,\"ticks\":\"\"},\"type\":\"contourcarpet\"}],\"heatmap\":[{\"colorbar\":{\"outlinewidth\":0,\"ticks\":\"\"},\"colorscale\":[[0.0,\"#0d0887\"],[0.1111111111111111,\"#46039f\"],[0.2222222222222222,\"#7201a8\"],[0.3333333333333333,\"#9c179e\"],[0.4444444444444444,\"#bd3786\"],[0.5555555555555556,\"#d8576b\"],[0.6666666666666666,\"#ed7953\"],[0.7777777777777778,\"#fb9f3a\"],[0.8888888888888888,\"#fdca26\"],[1.0,\"#f0f921\"]],\"type\":\"heatmap\"}],\"heatmapgl\":[{\"colorbar\":{\"outlinewidth\":0,\"ticks\":\"\"},\"colorscale\":[[0.0,\"#0d0887\"],[0.1111111111111111,\"#46039f\"],[0.2222222222222222,\"#7201a8\"],[0.3333333333333333,\"#9c179e\"],[0.4444444444444444,\"#bd3786\"],[0.5555555555555556,\"#d8576b\"],[0.6666666666666666,\"#ed7953\"],[0.7777777777777778,\"#fb9f3a\"],[0.8888888888888888,\"#fdca26\"],[1.0,\"#f0f921\"]],\"type\":\"heatmapgl\"}],\"histogram\":[{\"marker\":{\"pattern\":{\"fillmode\":\"overlay\",\"size\":10,\"solidity\":0.2}},\"type\":\"histogram\"}],\"histogram2d\":[{\"colorbar\":{\"outlinewidth\":0,\"ticks\":\"\"},\"colorscale\":[[0.0,\"#0d0887\"],[0.1111111111111111,\"#46039f\"],[0.2222222222222222,\"#7201a8\"],[0.3333333333333333,\"#9c179e\"],[0.4444444444444444,\"#bd3786\"],[0.5555555555555556,\"#d8576b\"],[0.6666666666666666,\"#ed7953\"],[0.7777777777777778,\"#fb9f3a\"],[0.8888888888888888,\"#fdca26\"],[1.0,\"#f0f921\"]],\"type\":\"histogram2d\"}],\"histogram2dcontour\":[{\"colorbar\":{\"outlinewidth\":0,\"ticks\":\"\"},\"colorscale\":[[0.0,\"#0d0887\"],[0.1111111111111111,\"#46039f\"],[0.2222222222222222,\"#7201a8\"],[0.3333333333333333,\"#9c179e\"],[0.4444444444444444,\"#bd3786\"],[0.5555555555555556,\"#d8576b\"],[0.6666666666666666,\"#ed7953\"],[0.7777777777777778,\"#fb9f3a\"],[0.8888888888888888,\"#fdca26\"],[1.0,\"#f0f921\"]],\"type\":\"histogram2dcontour\"}],\"mesh3d\":[{\"colorbar\":{\"outlinewidth\":0,\"ticks\":\"\"},\"type\":\"mesh3d\"}],\"parcoords\":[{\"line\":{\"colorbar\":{\"outlinewidth\":0,\"ticks\":\"\"}},\"type\":\"parcoords\"}],\"pie\":[{\"automargin\":true,\"type\":\"pie\"}],\"scatter\":[{\"marker\":{\"colorbar\":{\"outlinewidth\":0,\"ticks\":\"\"}},\"type\":\"scatter\"}],\"scatter3d\":[{\"line\":{\"colorbar\":{\"outlinewidth\":0,\"ticks\":\"\"}},\"marker\":{\"colorbar\":{\"outlinewidth\":0,\"ticks\":\"\"}},\"type\":\"scatter3d\"}],\"scattercarpet\":[{\"marker\":{\"colorbar\":{\"outlinewidth\":0,\"ticks\":\"\"}},\"type\":\"scattercarpet\"}],\"scattergeo\":[{\"marker\":{\"colorbar\":{\"outlinewidth\":0,\"ticks\":\"\"}},\"type\":\"scattergeo\"}],\"scattergl\":[{\"marker\":{\"colorbar\":{\"outlinewidth\":0,\"ticks\":\"\"}},\"type\":\"scattergl\"}],\"scattermapbox\":[{\"marker\":{\"colorbar\":{\"outlinewidth\":0,\"ticks\":\"\"}},\"type\":\"scattermapbox\"}],\"scatterpolar\":[{\"marker\":{\"colorbar\":{\"outlinewidth\":0,\"ticks\":\"\"}},\"type\":\"scatterpolar\"}],\"scatterpolargl\":[{\"marker\":{\"colorbar\":{\"outlinewidth\":0,\"ticks\":\"\"}},\"type\":\"scatterpolargl\"}],\"scatterternary\":[{\"marker\":{\"colorbar\":{\"outlinewidth\":0,\"ticks\":\"\"}},\"type\":\"scatterternary\"}],\"surface\":[{\"colorbar\":{\"outlinewidth\":0,\"ticks\":\"\"},\"colorscale\":[[0.0,\"#0d0887\"],[0.1111111111111111,\"#46039f\"],[0.2222222222222222,\"#7201a8\"],[0.3333333333333333,\"#9c179e\"],[0.4444444444444444,\"#bd3786\"],[0.5555555555555556,\"#d8576b\"],[0.6666666666666666,\"#ed7953\"],[0.7777777777777778,\"#fb9f3a\"],[0.8888888888888888,\"#fdca26\"],[1.0,\"#f0f921\"]],\"type\":\"surface\"}],\"table\":[{\"cells\":{\"fill\":{\"color\":\"#EBF0F8\"},\"line\":{\"color\":\"white\"}},\"header\":{\"fill\":{\"color\":\"#C8D4E3\"},\"line\":{\"color\":\"white\"}},\"type\":\"table\"}]},\"layout\":{\"annotationdefaults\":{\"arrowcolor\":\"#2a3f5f\",\"arrowhead\":0,\"arrowwidth\":1},\"autotypenumbers\":\"strict\",\"coloraxis\":{\"colorbar\":{\"outlinewidth\":0,\"ticks\":\"\"}},\"colorscale\":{\"diverging\":[[0,\"#8e0152\"],[0.1,\"#c51b7d\"],[0.2,\"#de77ae\"],[0.3,\"#f1b6da\"],[0.4,\"#fde0ef\"],[0.5,\"#f7f7f7\"],[0.6,\"#e6f5d0\"],[0.7,\"#b8e186\"],[0.8,\"#7fbc41\"],[0.9,\"#4d9221\"],[1,\"#276419\"]],\"sequential\":[[0.0,\"#0d0887\"],[0.1111111111111111,\"#46039f\"],[0.2222222222222222,\"#7201a8\"],[0.3333333333333333,\"#9c179e\"],[0.4444444444444444,\"#bd3786\"],[0.5555555555555556,\"#d8576b\"],[0.6666666666666666,\"#ed7953\"],[0.7777777777777778,\"#fb9f3a\"],[0.8888888888888888,\"#fdca26\"],[1.0,\"#f0f921\"]],\"sequentialminus\":[[0.0,\"#0d0887\"],[0.1111111111111111,\"#46039f\"],[0.2222222222222222,\"#7201a8\"],[0.3333333333333333,\"#9c179e\"],[0.4444444444444444,\"#bd3786\"],[0.5555555555555556,\"#d8576b\"],[0.6666666666666666,\"#ed7953\"],[0.7777777777777778,\"#fb9f3a\"],[0.8888888888888888,\"#fdca26\"],[1.0,\"#f0f921\"]]},\"colorway\":[\"#636efa\",\"#EF553B\",\"#00cc96\",\"#ab63fa\",\"#FFA15A\",\"#19d3f3\",\"#FF6692\",\"#B6E880\",\"#FF97FF\",\"#FECB52\"],\"font\":{\"color\":\"#2a3f5f\"},\"geo\":{\"bgcolor\":\"white\",\"lakecolor\":\"white\",\"landcolor\":\"#E5ECF6\",\"showlakes\":true,\"showland\":true,\"subunitcolor\":\"white\"},\"hoverlabel\":{\"align\":\"left\"},\"hovermode\":\"closest\",\"mapbox\":{\"style\":\"light\"},\"paper_bgcolor\":\"white\",\"plot_bgcolor\":\"#E5ECF6\",\"polar\":{\"angularaxis\":{\"gridcolor\":\"white\",\"linecolor\":\"white\",\"ticks\":\"\"},\"bgcolor\":\"#E5ECF6\",\"radialaxis\":{\"gridcolor\":\"white\",\"linecolor\":\"white\",\"ticks\":\"\"}},\"scene\":{\"xaxis\":{\"backgroundcolor\":\"#E5ECF6\",\"gridcolor\":\"white\",\"gridwidth\":2,\"linecolor\":\"white\",\"showbackground\":true,\"ticks\":\"\",\"zerolinecolor\":\"white\"},\"yaxis\":{\"backgroundcolor\":\"#E5ECF6\",\"gridcolor\":\"white\",\"gridwidth\":2,\"linecolor\":\"white\",\"showbackground\":true,\"ticks\":\"\",\"zerolinecolor\":\"white\"},\"zaxis\":{\"backgroundcolor\":\"#E5ECF6\",\"gridcolor\":\"white\",\"gridwidth\":2,\"linecolor\":\"white\",\"showbackground\":true,\"ticks\":\"\",\"zerolinecolor\":\"white\"}},\"shapedefaults\":{\"line\":{\"color\":\"#2a3f5f\"}},\"ternary\":{\"aaxis\":{\"gridcolor\":\"white\",\"linecolor\":\"white\",\"ticks\":\"\"},\"baxis\":{\"gridcolor\":\"white\",\"linecolor\":\"white\",\"ticks\":\"\"},\"bgcolor\":\"#E5ECF6\",\"caxis\":{\"gridcolor\":\"white\",\"linecolor\":\"white\",\"ticks\":\"\"}},\"title\":{\"x\":0.05},\"xaxis\":{\"automargin\":true,\"gridcolor\":\"white\",\"linecolor\":\"white\",\"ticks\":\"\",\"title\":{\"standoff\":15},\"zerolinecolor\":\"white\",\"zerolinewidth\":2},\"yaxis\":{\"automargin\":true,\"gridcolor\":\"white\",\"linecolor\":\"white\",\"ticks\":\"\",\"title\":{\"standoff\":15},\"zerolinecolor\":\"white\",\"zerolinewidth\":2}}},\"xaxis\":{\"anchor\":\"y\",\"domain\":[0.0,1.0],\"title\":{\"text\":\"feature\"}},\"yaxis\":{\"anchor\":\"x\",\"domain\":[0.0,1.0],\"title\":{\"text\":\"importance\"}},\"legend\":{\"tracegroupgap\":0},\"margin\":{\"t\":60},\"barmode\":\"relative\"},                        {\"responsive\": true}                    ).then(function(){\n",
       "                            \n",
       "var gd = document.getElementById('acc74ef2-486b-4177-8b13-8288e58a9fb0');\n",
       "var x = new MutationObserver(function (mutations, observer) {{\n",
       "        var display = window.getComputedStyle(gd).display;\n",
       "        if (!display || display === 'none') {{\n",
       "            console.log([gd, 'removed!']);\n",
       "            Plotly.purge(gd);\n",
       "            observer.disconnect();\n",
       "        }}\n",
       "}});\n",
       "\n",
       "// Listen for the removal of the full notebook cells\n",
       "var notebookContainer = gd.closest('#notebook-container');\n",
       "if (notebookContainer) {{\n",
       "    x.observe(notebookContainer, {childList: true});\n",
       "}}\n",
       "\n",
       "// Listen for the clearing of the current output cell\n",
       "var outputEl = gd.closest('.output');\n",
       "if (outputEl) {{\n",
       "    x.observe(outputEl, {childList: true});\n",
       "}}\n",
       "\n",
       "                        })                };                });            </script>        </div>"
      ]
     },
     "metadata": {},
     "output_type": "display_data"
    }
   ],
   "source": [
    "import plotly.express as px\n",
    "# 중요도별 순서 확인하기.\n",
    "fig = px.bar(feature_importance, x='feature', y='importance')\n",
    "fig.show()"
   ]
  },
  {
   "cell_type": "markdown",
   "id": "d1345326",
   "metadata": {},
   "source": [
    "### confusion_matrix 파악"
   ]
  },
  {
   "cell_type": "code",
   "execution_count": 326,
   "id": "c760b4c4",
   "metadata": {},
   "outputs": [
    {
     "name": "stdout",
     "output_type": "stream",
     "text": [
      "[[2573605  317246]\n",
      " [  90657   74633]]\n",
      "**************************************************\n",
      "\n",
      "정확도 : 0.87, 정밀도 : 0.19, 재현율 : 0.45\n",
      "f1-score : 0.27, auc : 0.67\n"
     ]
    }
   ],
   "source": [
    "# logisticregression confusion_matrix\n",
    "display_eval(y_test, lr_custom_pred_1)"
   ]
  },
  {
   "cell_type": "code",
   "execution_count": 325,
   "id": "15ecac1f",
   "metadata": {},
   "outputs": [
    {
     "name": "stdout",
     "output_type": "stream",
     "text": [
      "[[2729779  161072]\n",
      " [  94993   70297]]\n",
      "**************************************************\n",
      "\n",
      "정확도 : 0.92, 정밀도 : 0.30, 재현율 : 0.43\n",
      "f1-score : 0.35, auc : 0.68\n"
     ]
    }
   ],
   "source": [
    "# lightGBM confusion_matrix\n",
    "display_eval(y_test, lgbm_custom_pred_1)"
   ]
  },
  {
   "cell_type": "code",
   "execution_count": 327,
   "id": "0438e7c0",
   "metadata": {},
   "outputs": [
    {
     "name": "stdout",
     "output_type": "stream",
     "text": [
      "[[2655783  235068]\n",
      " [  72599   92691]]\n",
      "**************************************************\n",
      "\n",
      "정확도 : 0.90, 정밀도 : 0.28, 재현율 : 0.56\n",
      "f1-score : 0.38, auc : 0.74\n"
     ]
    }
   ],
   "source": [
    "# randomforest confusion_matrix\n",
    "display_eval(y_test, rf_custom_pred_1)"
   ]
  }
 ],
 "metadata": {
  "colab": {
   "collapsed_sections": [
    "66517ecf",
    "d0d66aec",
    "b5744972",
    "7d6bc4f2",
    "68036487",
    "e1b3cbdb",
    "f5RgecRACRAN"
   ],
   "machine_shape": "hm",
   "provenance": []
  },
  "kernelspec": {
   "display_name": "Python 3 (ipykernel)",
   "language": "python",
   "name": "python3"
  },
  "language_info": {
   "codemirror_mode": {
    "name": "ipython",
    "version": 3
   },
   "file_extension": ".py",
   "mimetype": "text/x-python",
   "name": "python",
   "nbconvert_exporter": "python",
   "pygments_lexer": "ipython3",
   "version": "3.9.12"
  }
 },
 "nbformat": 4,
 "nbformat_minor": 5
}
